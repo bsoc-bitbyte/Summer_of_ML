{
  "cells": [
    {
      "cell_type": "markdown",
      "metadata": {
        "id": "utQ_VDVOxEqY"
      },
      "source": [
        "# WEEK-2 Graded Assignment: Linear Regression\n",
        "\n",
        "## Introduction\n",
        "\n",
        "In this exercise, you will implement linear regression and get to see it work on data. Before starting on this programming exercise, we strongly recommend watching the video lectures and work out ungraded assisgnment ,completing the review questions for the associated topics.\n",
        "\n",
        "All the information you need for solving this assignment is in this notebook, and all the code you will be implementing will take place within this notebook.\n",
        "\n",
        "Before we begin with the exercises, we need to import all libraries required for this programming exercise. Throughout the course, we will be using [`numpy`](http://www.numpy.org/) for all arrays and matrix operations, and [`matplotlib`](https://matplotlib.org/) for plotting."
      ]
    },
    {
      "cell_type": "code",
      "execution_count": 2,
      "metadata": {
        "id": "CKEU93spxNnZ"
      },
      "outputs": [],
      "source": [
        "# used for manipulating directory paths\n",
        "import os\n",
        "\n",
        "# Scientific and vector computation for python\n",
        "import numpy as np\n",
        "\n",
        "# Plotting library\n",
        "from matplotlib import pyplot as plt\n",
        "from mpl_toolkits.mplot3d import Axes3D  # needed to plot 3-D surfaces\n",
        "\n",
        "# tells matplotlib to embed plots within the notebook\n",
        "%matplotlib inline"
      ]
    },
    {
      "cell_type": "markdown",
      "metadata": {
        "id": "12exMQYTxSAg"
      },
      "source": [
        "Iris species of a flower is one of the most popular datasets for machine learning. This dataset is primarily for classification, but here we will use same dataset with some changes so that we can use it for Linear Regression. Let's load the dataset first."
      ]
    },
    {
      "cell_type": "code",
      "execution_count": 3,
      "metadata": {
        "id": "SXs7mf_Yxve_"
      },
      "outputs": [],
      "source": [
        "import pandas as pd\n",
        "from sklearn import datasets\n",
        "iris = datasets.load_iris()"
      ]
    },
    {
      "cell_type": "markdown",
      "metadata": {
        "id": "Acrcr0EOxwwn"
      },
      "source": [
        "It includes three iris species named as 'setosa' , 'versicolor', 'virginica' with  some properties about each flower. One flower species is linearly separable from the other two, but the other two are not linearly separable from each other.\n",
        "\n",
        "The columns in this dataset are:\n",
        "\n",
        "Id,\n",
        "Sepal Length Cm,\n",
        "Sepal Width Cm,,\n",
        "Petal Length Cm,\n",
        "Petal Width Cm,\n",
        "Species. Let's see some of the first rows of the datasets after loading it from sklearn."
      ]
    },
    {
      "cell_type": "code",
      "execution_count": 4,
      "metadata": {
        "id": "mqolDMFjxg8g"
      },
      "outputs": [
        {
          "data": {
            "text/html": [
              "<div>\n",
              "<style scoped>\n",
              "    .dataframe tbody tr th:only-of-type {\n",
              "        vertical-align: middle;\n",
              "    }\n",
              "\n",
              "    .dataframe tbody tr th {\n",
              "        vertical-align: top;\n",
              "    }\n",
              "\n",
              "    .dataframe thead th {\n",
              "        text-align: right;\n",
              "    }\n",
              "</style>\n",
              "<table border=\"1\" class=\"dataframe\">\n",
              "  <thead>\n",
              "    <tr style=\"text-align: right;\">\n",
              "      <th></th>\n",
              "      <th>sepal length (cm)</th>\n",
              "      <th>sepal width (cm)</th>\n",
              "      <th>petal length (cm)</th>\n",
              "      <th>petal width (cm)</th>\n",
              "      <th>target</th>\n",
              "    </tr>\n",
              "  </thead>\n",
              "  <tbody>\n",
              "    <tr>\n",
              "      <th>0</th>\n",
              "      <td>5.1</td>\n",
              "      <td>3.5</td>\n",
              "      <td>1.4</td>\n",
              "      <td>0.2</td>\n",
              "      <td>0</td>\n",
              "    </tr>\n",
              "    <tr>\n",
              "      <th>1</th>\n",
              "      <td>4.9</td>\n",
              "      <td>3.0</td>\n",
              "      <td>1.4</td>\n",
              "      <td>0.2</td>\n",
              "      <td>0</td>\n",
              "    </tr>\n",
              "    <tr>\n",
              "      <th>2</th>\n",
              "      <td>4.7</td>\n",
              "      <td>3.2</td>\n",
              "      <td>1.3</td>\n",
              "      <td>0.2</td>\n",
              "      <td>0</td>\n",
              "    </tr>\n",
              "    <tr>\n",
              "      <th>3</th>\n",
              "      <td>4.6</td>\n",
              "      <td>3.1</td>\n",
              "      <td>1.5</td>\n",
              "      <td>0.2</td>\n",
              "      <td>0</td>\n",
              "    </tr>\n",
              "    <tr>\n",
              "      <th>4</th>\n",
              "      <td>5.0</td>\n",
              "      <td>3.6</td>\n",
              "      <td>1.4</td>\n",
              "      <td>0.2</td>\n",
              "      <td>0</td>\n",
              "    </tr>\n",
              "    <tr>\n",
              "      <th>5</th>\n",
              "      <td>5.4</td>\n",
              "      <td>3.9</td>\n",
              "      <td>1.7</td>\n",
              "      <td>0.4</td>\n",
              "      <td>0</td>\n",
              "    </tr>\n",
              "    <tr>\n",
              "      <th>6</th>\n",
              "      <td>4.6</td>\n",
              "      <td>3.4</td>\n",
              "      <td>1.4</td>\n",
              "      <td>0.3</td>\n",
              "      <td>0</td>\n",
              "    </tr>\n",
              "    <tr>\n",
              "      <th>7</th>\n",
              "      <td>5.0</td>\n",
              "      <td>3.4</td>\n",
              "      <td>1.5</td>\n",
              "      <td>0.2</td>\n",
              "      <td>0</td>\n",
              "    </tr>\n",
              "    <tr>\n",
              "      <th>8</th>\n",
              "      <td>4.4</td>\n",
              "      <td>2.9</td>\n",
              "      <td>1.4</td>\n",
              "      <td>0.2</td>\n",
              "      <td>0</td>\n",
              "    </tr>\n",
              "    <tr>\n",
              "      <th>9</th>\n",
              "      <td>4.9</td>\n",
              "      <td>3.1</td>\n",
              "      <td>1.5</td>\n",
              "      <td>0.1</td>\n",
              "      <td>0</td>\n",
              "    </tr>\n",
              "    <tr>\n",
              "      <th>10</th>\n",
              "      <td>5.4</td>\n",
              "      <td>3.7</td>\n",
              "      <td>1.5</td>\n",
              "      <td>0.2</td>\n",
              "      <td>0</td>\n",
              "    </tr>\n",
              "    <tr>\n",
              "      <th>11</th>\n",
              "      <td>4.8</td>\n",
              "      <td>3.4</td>\n",
              "      <td>1.6</td>\n",
              "      <td>0.2</td>\n",
              "      <td>0</td>\n",
              "    </tr>\n",
              "    <tr>\n",
              "      <th>12</th>\n",
              "      <td>4.8</td>\n",
              "      <td>3.0</td>\n",
              "      <td>1.4</td>\n",
              "      <td>0.1</td>\n",
              "      <td>0</td>\n",
              "    </tr>\n",
              "    <tr>\n",
              "      <th>13</th>\n",
              "      <td>4.3</td>\n",
              "      <td>3.0</td>\n",
              "      <td>1.1</td>\n",
              "      <td>0.1</td>\n",
              "      <td>0</td>\n",
              "    </tr>\n",
              "    <tr>\n",
              "      <th>14</th>\n",
              "      <td>5.8</td>\n",
              "      <td>4.0</td>\n",
              "      <td>1.2</td>\n",
              "      <td>0.2</td>\n",
              "      <td>0</td>\n",
              "    </tr>\n",
              "    <tr>\n",
              "      <th>15</th>\n",
              "      <td>5.7</td>\n",
              "      <td>4.4</td>\n",
              "      <td>1.5</td>\n",
              "      <td>0.4</td>\n",
              "      <td>0</td>\n",
              "    </tr>\n",
              "    <tr>\n",
              "      <th>16</th>\n",
              "      <td>5.4</td>\n",
              "      <td>3.9</td>\n",
              "      <td>1.3</td>\n",
              "      <td>0.4</td>\n",
              "      <td>0</td>\n",
              "    </tr>\n",
              "    <tr>\n",
              "      <th>17</th>\n",
              "      <td>5.1</td>\n",
              "      <td>3.5</td>\n",
              "      <td>1.4</td>\n",
              "      <td>0.3</td>\n",
              "      <td>0</td>\n",
              "    </tr>\n",
              "    <tr>\n",
              "      <th>18</th>\n",
              "      <td>5.7</td>\n",
              "      <td>3.8</td>\n",
              "      <td>1.7</td>\n",
              "      <td>0.3</td>\n",
              "      <td>0</td>\n",
              "    </tr>\n",
              "    <tr>\n",
              "      <th>19</th>\n",
              "      <td>5.1</td>\n",
              "      <td>3.8</td>\n",
              "      <td>1.5</td>\n",
              "      <td>0.3</td>\n",
              "      <td>0</td>\n",
              "    </tr>\n",
              "  </tbody>\n",
              "</table>\n",
              "</div>"
            ],
            "text/plain": [
              "    sepal length (cm)  sepal width (cm)  petal length (cm)  petal width (cm)  \\\n",
              "0                 5.1               3.5                1.4               0.2   \n",
              "1                 4.9               3.0                1.4               0.2   \n",
              "2                 4.7               3.2                1.3               0.2   \n",
              "3                 4.6               3.1                1.5               0.2   \n",
              "4                 5.0               3.6                1.4               0.2   \n",
              "5                 5.4               3.9                1.7               0.4   \n",
              "6                 4.6               3.4                1.4               0.3   \n",
              "7                 5.0               3.4                1.5               0.2   \n",
              "8                 4.4               2.9                1.4               0.2   \n",
              "9                 4.9               3.1                1.5               0.1   \n",
              "10                5.4               3.7                1.5               0.2   \n",
              "11                4.8               3.4                1.6               0.2   \n",
              "12                4.8               3.0                1.4               0.1   \n",
              "13                4.3               3.0                1.1               0.1   \n",
              "14                5.8               4.0                1.2               0.2   \n",
              "15                5.7               4.4                1.5               0.4   \n",
              "16                5.4               3.9                1.3               0.4   \n",
              "17                5.1               3.5                1.4               0.3   \n",
              "18                5.7               3.8                1.7               0.3   \n",
              "19                5.1               3.8                1.5               0.3   \n",
              "\n",
              "    target  \n",
              "0        0  \n",
              "1        0  \n",
              "2        0  \n",
              "3        0  \n",
              "4        0  \n",
              "5        0  \n",
              "6        0  \n",
              "7        0  \n",
              "8        0  \n",
              "9        0  \n",
              "10       0  \n",
              "11       0  \n",
              "12       0  \n",
              "13       0  \n",
              "14       0  \n",
              "15       0  \n",
              "16       0  \n",
              "17       0  \n",
              "18       0  \n",
              "19       0  "
            ]
          },
          "execution_count": 4,
          "metadata": {},
          "output_type": "execute_result"
        }
      ],
      "source": [
        "iris_data =pd.DataFrame(iris.data, columns=iris.feature_names)\n",
        "iris_data[\"target\"]=iris.target\n",
        "iris_data.head(20)"
      ]
    },
    {
      "cell_type": "markdown",
      "metadata": {
        "id": "5xP2X_-tyRVK"
      },
      "source": [
        "We can now rename column name to make it more standard for ease of coding and readability."
      ]
    },
    {
      "cell_type": "code",
      "execution_count": 5,
      "metadata": {
        "id": "23oV8rH5yf6Q"
      },
      "outputs": [],
      "source": [
        "iris_data.rename(columns={'sepal length (cm)':'sepal_length',\n",
        "                          'sepal width (cm)':'sepal_width',\n",
        "                          'petal length (cm)':'petal_length',\n",
        "                          'petal width (cm)':'petal_width'},inplace=True)"
      ]
    },
    {
      "cell_type": "markdown",
      "metadata": {
        "id": "VDQgzIYHymuP"
      },
      "source": [
        "Add a new column named \"species\" having value {if target == 0 : 'setosa' ,\n",
        "if target ==1 : 'versicolor',\n",
        "if target == 2 : 'virginica' }"
      ]
    },
    {
      "cell_type": "code",
      "execution_count": 6,
      "metadata": {
        "id": "jksDy5WL1M_C"
      },
      "outputs": [
        {
          "data": {
            "text/html": [
              "<div>\n",
              "<style scoped>\n",
              "    .dataframe tbody tr th:only-of-type {\n",
              "        vertical-align: middle;\n",
              "    }\n",
              "\n",
              "    .dataframe tbody tr th {\n",
              "        vertical-align: top;\n",
              "    }\n",
              "\n",
              "    .dataframe thead th {\n",
              "        text-align: right;\n",
              "    }\n",
              "</style>\n",
              "<table border=\"1\" class=\"dataframe\">\n",
              "  <thead>\n",
              "    <tr style=\"text-align: right;\">\n",
              "      <th></th>\n",
              "      <th>sepal_length</th>\n",
              "      <th>sepal_width</th>\n",
              "      <th>petal_length</th>\n",
              "      <th>petal_width</th>\n",
              "      <th>target</th>\n",
              "      <th>species</th>\n",
              "    </tr>\n",
              "  </thead>\n",
              "  <tbody>\n",
              "    <tr>\n",
              "      <th>0</th>\n",
              "      <td>5.1</td>\n",
              "      <td>3.5</td>\n",
              "      <td>1.4</td>\n",
              "      <td>0.2</td>\n",
              "      <td>0</td>\n",
              "      <td>setosa</td>\n",
              "    </tr>\n",
              "    <tr>\n",
              "      <th>1</th>\n",
              "      <td>4.9</td>\n",
              "      <td>3.0</td>\n",
              "      <td>1.4</td>\n",
              "      <td>0.2</td>\n",
              "      <td>0</td>\n",
              "      <td>setosa</td>\n",
              "    </tr>\n",
              "    <tr>\n",
              "      <th>2</th>\n",
              "      <td>4.7</td>\n",
              "      <td>3.2</td>\n",
              "      <td>1.3</td>\n",
              "      <td>0.2</td>\n",
              "      <td>0</td>\n",
              "      <td>setosa</td>\n",
              "    </tr>\n",
              "    <tr>\n",
              "      <th>3</th>\n",
              "      <td>4.6</td>\n",
              "      <td>3.1</td>\n",
              "      <td>1.5</td>\n",
              "      <td>0.2</td>\n",
              "      <td>0</td>\n",
              "      <td>setosa</td>\n",
              "    </tr>\n",
              "    <tr>\n",
              "      <th>4</th>\n",
              "      <td>5.0</td>\n",
              "      <td>3.6</td>\n",
              "      <td>1.4</td>\n",
              "      <td>0.2</td>\n",
              "      <td>0</td>\n",
              "      <td>setosa</td>\n",
              "    </tr>\n",
              "    <tr>\n",
              "      <th>5</th>\n",
              "      <td>5.4</td>\n",
              "      <td>3.9</td>\n",
              "      <td>1.7</td>\n",
              "      <td>0.4</td>\n",
              "      <td>0</td>\n",
              "      <td>setosa</td>\n",
              "    </tr>\n",
              "    <tr>\n",
              "      <th>6</th>\n",
              "      <td>4.6</td>\n",
              "      <td>3.4</td>\n",
              "      <td>1.4</td>\n",
              "      <td>0.3</td>\n",
              "      <td>0</td>\n",
              "      <td>setosa</td>\n",
              "    </tr>\n",
              "    <tr>\n",
              "      <th>7</th>\n",
              "      <td>5.0</td>\n",
              "      <td>3.4</td>\n",
              "      <td>1.5</td>\n",
              "      <td>0.2</td>\n",
              "      <td>0</td>\n",
              "      <td>setosa</td>\n",
              "    </tr>\n",
              "    <tr>\n",
              "      <th>8</th>\n",
              "      <td>4.4</td>\n",
              "      <td>2.9</td>\n",
              "      <td>1.4</td>\n",
              "      <td>0.2</td>\n",
              "      <td>0</td>\n",
              "      <td>setosa</td>\n",
              "    </tr>\n",
              "    <tr>\n",
              "      <th>9</th>\n",
              "      <td>4.9</td>\n",
              "      <td>3.1</td>\n",
              "      <td>1.5</td>\n",
              "      <td>0.1</td>\n",
              "      <td>0</td>\n",
              "      <td>setosa</td>\n",
              "    </tr>\n",
              "    <tr>\n",
              "      <th>10</th>\n",
              "      <td>5.4</td>\n",
              "      <td>3.7</td>\n",
              "      <td>1.5</td>\n",
              "      <td>0.2</td>\n",
              "      <td>0</td>\n",
              "      <td>setosa</td>\n",
              "    </tr>\n",
              "    <tr>\n",
              "      <th>11</th>\n",
              "      <td>4.8</td>\n",
              "      <td>3.4</td>\n",
              "      <td>1.6</td>\n",
              "      <td>0.2</td>\n",
              "      <td>0</td>\n",
              "      <td>setosa</td>\n",
              "    </tr>\n",
              "    <tr>\n",
              "      <th>12</th>\n",
              "      <td>4.8</td>\n",
              "      <td>3.0</td>\n",
              "      <td>1.4</td>\n",
              "      <td>0.1</td>\n",
              "      <td>0</td>\n",
              "      <td>setosa</td>\n",
              "    </tr>\n",
              "    <tr>\n",
              "      <th>13</th>\n",
              "      <td>4.3</td>\n",
              "      <td>3.0</td>\n",
              "      <td>1.1</td>\n",
              "      <td>0.1</td>\n",
              "      <td>0</td>\n",
              "      <td>setosa</td>\n",
              "    </tr>\n",
              "    <tr>\n",
              "      <th>14</th>\n",
              "      <td>5.8</td>\n",
              "      <td>4.0</td>\n",
              "      <td>1.2</td>\n",
              "      <td>0.2</td>\n",
              "      <td>0</td>\n",
              "      <td>setosa</td>\n",
              "    </tr>\n",
              "    <tr>\n",
              "      <th>15</th>\n",
              "      <td>5.7</td>\n",
              "      <td>4.4</td>\n",
              "      <td>1.5</td>\n",
              "      <td>0.4</td>\n",
              "      <td>0</td>\n",
              "      <td>setosa</td>\n",
              "    </tr>\n",
              "    <tr>\n",
              "      <th>16</th>\n",
              "      <td>5.4</td>\n",
              "      <td>3.9</td>\n",
              "      <td>1.3</td>\n",
              "      <td>0.4</td>\n",
              "      <td>0</td>\n",
              "      <td>setosa</td>\n",
              "    </tr>\n",
              "    <tr>\n",
              "      <th>17</th>\n",
              "      <td>5.1</td>\n",
              "      <td>3.5</td>\n",
              "      <td>1.4</td>\n",
              "      <td>0.3</td>\n",
              "      <td>0</td>\n",
              "      <td>setosa</td>\n",
              "    </tr>\n",
              "    <tr>\n",
              "      <th>18</th>\n",
              "      <td>5.7</td>\n",
              "      <td>3.8</td>\n",
              "      <td>1.7</td>\n",
              "      <td>0.3</td>\n",
              "      <td>0</td>\n",
              "      <td>setosa</td>\n",
              "    </tr>\n",
              "    <tr>\n",
              "      <th>19</th>\n",
              "      <td>5.1</td>\n",
              "      <td>3.8</td>\n",
              "      <td>1.5</td>\n",
              "      <td>0.3</td>\n",
              "      <td>0</td>\n",
              "      <td>setosa</td>\n",
              "    </tr>\n",
              "  </tbody>\n",
              "</table>\n",
              "</div>"
            ],
            "text/plain": [
              "    sepal_length  sepal_width  petal_length  petal_width  target species\n",
              "0            5.1          3.5           1.4          0.2       0  setosa\n",
              "1            4.9          3.0           1.4          0.2       0  setosa\n",
              "2            4.7          3.2           1.3          0.2       0  setosa\n",
              "3            4.6          3.1           1.5          0.2       0  setosa\n",
              "4            5.0          3.6           1.4          0.2       0  setosa\n",
              "5            5.4          3.9           1.7          0.4       0  setosa\n",
              "6            4.6          3.4           1.4          0.3       0  setosa\n",
              "7            5.0          3.4           1.5          0.2       0  setosa\n",
              "8            4.4          2.9           1.4          0.2       0  setosa\n",
              "9            4.9          3.1           1.5          0.1       0  setosa\n",
              "10           5.4          3.7           1.5          0.2       0  setosa\n",
              "11           4.8          3.4           1.6          0.2       0  setosa\n",
              "12           4.8          3.0           1.4          0.1       0  setosa\n",
              "13           4.3          3.0           1.1          0.1       0  setosa\n",
              "14           5.8          4.0           1.2          0.2       0  setosa\n",
              "15           5.7          4.4           1.5          0.4       0  setosa\n",
              "16           5.4          3.9           1.3          0.4       0  setosa\n",
              "17           5.1          3.5           1.4          0.3       0  setosa\n",
              "18           5.7          3.8           1.7          0.3       0  setosa\n",
              "19           5.1          3.8           1.5          0.3       0  setosa"
            ]
          },
          "execution_count": 6,
          "metadata": {},
          "output_type": "execute_result"
        }
      ],
      "source": [
        "def solveSpecies(columns):\n",
        "    target = columns.iloc[0]\n",
        "    if(target == 0):\n",
        "        return \"setosa\"\n",
        "    elif(target == 1):\n",
        "        return \"versicolor\"\n",
        "    elif(target == 2):\n",
        "        return \"virginia\"\n",
        "\n",
        "\n",
        "iris_data[\"species\"] = iris_data[[\"target\"]].apply(solveSpecies,axis=1)     #Uses the function to fill in the values of the new pandas series\n",
        "iris_data.head(20)"
      ]
    },
    {
      "cell_type": "markdown",
      "metadata": {
        "id": "tCJScLDL1SKd"
      },
      "source": [
        "we will now select \"versicolor\" to predict its \"petal_width\" using \"petal_length \" as one of the parameter.So your next task is to make a new DataFrame named \"data\" having only rows whose species values are 'versicolor'.\n"
      ]
    },
    {
      "cell_type": "code",
      "execution_count": 7,
      "metadata": {
        "id": "MyE_ximC2oqi"
      },
      "outputs": [
        {
          "data": {
            "text/html": [
              "<div>\n",
              "<style scoped>\n",
              "    .dataframe tbody tr th:only-of-type {\n",
              "        vertical-align: middle;\n",
              "    }\n",
              "\n",
              "    .dataframe tbody tr th {\n",
              "        vertical-align: top;\n",
              "    }\n",
              "\n",
              "    .dataframe thead th {\n",
              "        text-align: right;\n",
              "    }\n",
              "</style>\n",
              "<table border=\"1\" class=\"dataframe\">\n",
              "  <thead>\n",
              "    <tr style=\"text-align: right;\">\n",
              "      <th></th>\n",
              "      <th>sepal_length</th>\n",
              "      <th>sepal_width</th>\n",
              "      <th>petal_length</th>\n",
              "      <th>petal_width</th>\n",
              "      <th>target</th>\n",
              "      <th>species</th>\n",
              "    </tr>\n",
              "  </thead>\n",
              "  <tbody>\n",
              "    <tr>\n",
              "      <th>50</th>\n",
              "      <td>7.0</td>\n",
              "      <td>3.2</td>\n",
              "      <td>4.7</td>\n",
              "      <td>1.4</td>\n",
              "      <td>1</td>\n",
              "      <td>versicolor</td>\n",
              "    </tr>\n",
              "    <tr>\n",
              "      <th>51</th>\n",
              "      <td>6.4</td>\n",
              "      <td>3.2</td>\n",
              "      <td>4.5</td>\n",
              "      <td>1.5</td>\n",
              "      <td>1</td>\n",
              "      <td>versicolor</td>\n",
              "    </tr>\n",
              "    <tr>\n",
              "      <th>52</th>\n",
              "      <td>6.9</td>\n",
              "      <td>3.1</td>\n",
              "      <td>4.9</td>\n",
              "      <td>1.5</td>\n",
              "      <td>1</td>\n",
              "      <td>versicolor</td>\n",
              "    </tr>\n",
              "    <tr>\n",
              "      <th>53</th>\n",
              "      <td>5.5</td>\n",
              "      <td>2.3</td>\n",
              "      <td>4.0</td>\n",
              "      <td>1.3</td>\n",
              "      <td>1</td>\n",
              "      <td>versicolor</td>\n",
              "    </tr>\n",
              "    <tr>\n",
              "      <th>54</th>\n",
              "      <td>6.5</td>\n",
              "      <td>2.8</td>\n",
              "      <td>4.6</td>\n",
              "      <td>1.5</td>\n",
              "      <td>1</td>\n",
              "      <td>versicolor</td>\n",
              "    </tr>\n",
              "    <tr>\n",
              "      <th>55</th>\n",
              "      <td>5.7</td>\n",
              "      <td>2.8</td>\n",
              "      <td>4.5</td>\n",
              "      <td>1.3</td>\n",
              "      <td>1</td>\n",
              "      <td>versicolor</td>\n",
              "    </tr>\n",
              "    <tr>\n",
              "      <th>56</th>\n",
              "      <td>6.3</td>\n",
              "      <td>3.3</td>\n",
              "      <td>4.7</td>\n",
              "      <td>1.6</td>\n",
              "      <td>1</td>\n",
              "      <td>versicolor</td>\n",
              "    </tr>\n",
              "    <tr>\n",
              "      <th>57</th>\n",
              "      <td>4.9</td>\n",
              "      <td>2.4</td>\n",
              "      <td>3.3</td>\n",
              "      <td>1.0</td>\n",
              "      <td>1</td>\n",
              "      <td>versicolor</td>\n",
              "    </tr>\n",
              "    <tr>\n",
              "      <th>58</th>\n",
              "      <td>6.6</td>\n",
              "      <td>2.9</td>\n",
              "      <td>4.6</td>\n",
              "      <td>1.3</td>\n",
              "      <td>1</td>\n",
              "      <td>versicolor</td>\n",
              "    </tr>\n",
              "    <tr>\n",
              "      <th>59</th>\n",
              "      <td>5.2</td>\n",
              "      <td>2.7</td>\n",
              "      <td>3.9</td>\n",
              "      <td>1.4</td>\n",
              "      <td>1</td>\n",
              "      <td>versicolor</td>\n",
              "    </tr>\n",
              "  </tbody>\n",
              "</table>\n",
              "</div>"
            ],
            "text/plain": [
              "    sepal_length  sepal_width  petal_length  petal_width  target     species\n",
              "50           7.0          3.2           4.7          1.4       1  versicolor\n",
              "51           6.4          3.2           4.5          1.5       1  versicolor\n",
              "52           6.9          3.1           4.9          1.5       1  versicolor\n",
              "53           5.5          2.3           4.0          1.3       1  versicolor\n",
              "54           6.5          2.8           4.6          1.5       1  versicolor\n",
              "55           5.7          2.8           4.5          1.3       1  versicolor\n",
              "56           6.3          3.3           4.7          1.6       1  versicolor\n",
              "57           4.9          2.4           3.3          1.0       1  versicolor\n",
              "58           6.6          2.9           4.6          1.3       1  versicolor\n",
              "59           5.2          2.7           3.9          1.4       1  versicolor"
            ]
          },
          "execution_count": 7,
          "metadata": {},
          "output_type": "execute_result"
        }
      ],
      "source": [
        "data = pd.DataFrame(data = iris_data.loc[iris_data.species == \"versicolor\",:])\n",
        "data.head(10)"
      ]
    },
    {
      "cell_type": "markdown",
      "metadata": {
        "id": "ZYeNuLhH2roP"
      },
      "source": [
        "Now we are droping  all the columns except petal_length and petal_width"
      ]
    },
    {
      "cell_type": "code",
      "execution_count": 8,
      "metadata": {
        "id": "fdhkRRNX3MGx"
      },
      "outputs": [
        {
          "data": {
            "text/html": [
              "<div>\n",
              "<style scoped>\n",
              "    .dataframe tbody tr th:only-of-type {\n",
              "        vertical-align: middle;\n",
              "    }\n",
              "\n",
              "    .dataframe tbody tr th {\n",
              "        vertical-align: top;\n",
              "    }\n",
              "\n",
              "    .dataframe thead th {\n",
              "        text-align: right;\n",
              "    }\n",
              "</style>\n",
              "<table border=\"1\" class=\"dataframe\">\n",
              "  <thead>\n",
              "    <tr style=\"text-align: right;\">\n",
              "      <th></th>\n",
              "      <th>petal_length</th>\n",
              "      <th>petal_width</th>\n",
              "    </tr>\n",
              "  </thead>\n",
              "  <tbody>\n",
              "    <tr>\n",
              "      <th>50</th>\n",
              "      <td>4.7</td>\n",
              "      <td>1.4</td>\n",
              "    </tr>\n",
              "    <tr>\n",
              "      <th>51</th>\n",
              "      <td>4.5</td>\n",
              "      <td>1.5</td>\n",
              "    </tr>\n",
              "    <tr>\n",
              "      <th>52</th>\n",
              "      <td>4.9</td>\n",
              "      <td>1.5</td>\n",
              "    </tr>\n",
              "    <tr>\n",
              "      <th>53</th>\n",
              "      <td>4.0</td>\n",
              "      <td>1.3</td>\n",
              "    </tr>\n",
              "    <tr>\n",
              "      <th>54</th>\n",
              "      <td>4.6</td>\n",
              "      <td>1.5</td>\n",
              "    </tr>\n",
              "    <tr>\n",
              "      <th>55</th>\n",
              "      <td>4.5</td>\n",
              "      <td>1.3</td>\n",
              "    </tr>\n",
              "    <tr>\n",
              "      <th>56</th>\n",
              "      <td>4.7</td>\n",
              "      <td>1.6</td>\n",
              "    </tr>\n",
              "    <tr>\n",
              "      <th>57</th>\n",
              "      <td>3.3</td>\n",
              "      <td>1.0</td>\n",
              "    </tr>\n",
              "    <tr>\n",
              "      <th>58</th>\n",
              "      <td>4.6</td>\n",
              "      <td>1.3</td>\n",
              "    </tr>\n",
              "    <tr>\n",
              "      <th>59</th>\n",
              "      <td>3.9</td>\n",
              "      <td>1.4</td>\n",
              "    </tr>\n",
              "  </tbody>\n",
              "</table>\n",
              "</div>"
            ],
            "text/plain": [
              "    petal_length  petal_width\n",
              "50           4.7          1.4\n",
              "51           4.5          1.5\n",
              "52           4.9          1.5\n",
              "53           4.0          1.3\n",
              "54           4.6          1.5\n",
              "55           4.5          1.3\n",
              "56           4.7          1.6\n",
              "57           3.3          1.0\n",
              "58           4.6          1.3\n",
              "59           3.9          1.4"
            ]
          },
          "execution_count": 8,
          "metadata": {},
          "output_type": "execute_result"
        }
      ],
      "source": [
        "data.drop(columns=[\"target\",\"species\",\"sepal_length\",\"sepal_width\"],inplace=True)\n",
        "data.head(10)"
      ]
    },
    {
      "cell_type": "markdown",
      "metadata": {
        "id": "efLdoEU23T16"
      },
      "source": [
        "Now write code to print the shape of DataFrame named as data."
      ]
    },
    {
      "cell_type": "code",
      "execution_count": 9,
      "metadata": {
        "id": "mVj5R8oq3Smi"
      },
      "outputs": [
        {
          "name": "stdout",
          "output_type": "stream",
          "text": [
            "(50, 2)\n"
          ]
        }
      ],
      "source": [
        "print(data.shape)"
      ]
    },
    {
      "cell_type": "markdown",
      "metadata": {
        "id": "dadtXxV_3sVn"
      },
      "source": [
        "Now  plot the Dataframe named data having x axis as 'petal_length', y axis as 'petal_width' and kind='scatter'"
      ]
    },
    {
      "cell_type": "code",
      "execution_count": 10,
      "metadata": {
        "id": "pF_MxtFw3d--"
      },
      "outputs": [
        {
          "data": {
            "text/plain": [
              "Text(0.5, 1.0, 'Relation between petal length and petal width of iris species versicolor')"
            ]
          },
          "execution_count": 10,
          "metadata": {},
          "output_type": "execute_result"
        },
        {
          "data": {
            "image/png": "[encoded data removed]",
            "text/plain": [
              "<Figure size 640x480 with 1 Axes>"
            ]
          },
          "metadata": {},
          "output_type": "display_data"
        }
      ],
      "source": [
        "plt.scatter(data=data, x=\"petal_length\", y=\"petal_width\", s=70, color=\"black\")\n",
        "plt.xlabel(\"petal length\")\n",
        "plt.ylabel(\"petal width\")\n",
        "plt.title(\"Relation between petal length and petal width of iris species versicolor\")"
      ]
    },
    {
      "cell_type": "markdown",
      "metadata": {
        "id": "9sGVWADy3-t3"
      },
      "source": [
        "Now let's start with Linear Regression"
      ]
    },
    {
      "cell_type": "markdown",
      "metadata": {
        "id": "aS1Aobxj5OHE"
      },
      "source": [
        "We will now split the dataset into training and test datasets into (X_train,Y_train) and (X_test,Y_test)"
      ]
    },
    {
      "cell_type": "code",
      "execution_count": 11,
      "metadata": {
        "id": "7mlk5wXS3-I-"
      },
      "outputs": [],
      "source": [
        "from sklearn.model_selection import train_test_split\n",
        "X=data['petal_length'].values.reshape(-1,1)\n",
        "Y=data['petal_width'].values.reshape(-1,1)\n",
        "X_train,X_test,Y_train,Y_test=train_test_split(X,Y, test_size=0.33,random_state=1)\n"
      ]
    },
    {
      "cell_type": "markdown",
      "metadata": {
        "id": "nbYJCUet6Ac8"
      },
      "source": [
        "Now let's plot the training  datasets of  kind scatter with x axis as X_train and y axis as Y_train."
      ]
    },
    {
      "cell_type": "code",
      "execution_count": 12,
      "metadata": {
        "id": "yJOhoeN15_7j"
      },
      "outputs": [
        {
          "data": {
            "text/plain": [
              "Text(0.5, 1.0, 'Relation between petal length and petal width of iris species versicolor')"
            ]
          },
          "execution_count": 12,
          "metadata": {},
          "output_type": "execute_result"
        },
        {
          "data": {
            "image/png": "[encoded data removed]",
            "text/plain": [
              "<Figure size 640x480 with 1 Axes>"
            ]
          },
          "metadata": {},
          "output_type": "display_data"
        }
      ],
      "source": [
        "#plot of the training data\n",
        "plt.scatter(x=X_train, y=Y_train, s=70, color=\"blue\")\n",
        "plt.xlabel(\"petal length\")\n",
        "plt.ylabel(\"petal width\")\n",
        "plt.title(\"Relation between petal length and petal width of iris species versicolor\")"
      ]
    },
    {
      "cell_type": "markdown",
      "metadata": {
        "id": "-deWY8bd3QOR"
      },
      "source": [
        "Now let's plot the test datasets of kind scatter with x axis as X_test and y axis as Y_test"
      ]
    },
    {
      "cell_type": "code",
      "execution_count": 13,
      "metadata": {
        "id": "ScUhnUQZ6ji8"
      },
      "outputs": [
        {
          "data": {
            "text/plain": [
              "Text(0.5, 1.0, 'Relation between petal length and petal width of iris species versicolor')"
            ]
          },
          "execution_count": 13,
          "metadata": {},
          "output_type": "execute_result"
        },
        {
          "data": {
            "image/png": "[encoded data removed]",
            "text/plain": [
              "<Figure size 640x480 with 1 Axes>"
            ]
          },
          "metadata": {},
          "output_type": "display_data"
        }
      ],
      "source": [
        "#plot of the testing data\n",
        "plt.scatter(x=X_test, y=Y_test, s=70, color=\"red\")\n",
        "plt.xlabel(\"petal length\")\n",
        "plt.ylabel(\"petal width\")\n",
        "plt.title(\"Relation between petal length and petal width of iris species versicolor\")"
      ]
    },
    {
      "cell_type": "markdown",
      "metadata": {
        "id": "wOqRiAEX6kPc"
      },
      "source": [
        "Now write the code for LinearRegession using any preffered method."
      ]
    },
    {
      "cell_type": "code",
      "execution_count": 14,
      "metadata": {
        "id": "JhyeUNQ47A49"
      },
      "outputs": [],
      "source": [
        "#linear regression using gradient descent algorithm implemented using python classes\n",
        "\n",
        "#The definition of all the functions\n",
        "\n",
        "class LinearReg():\n",
        "    def __init__(self,iterations,learning_rate): #The constructor that initialises variables\n",
        "        self.iterations = iterations\n",
        "        self.learning_rate = learning_rate\n",
        "\n",
        "\n",
        "\n",
        "    def calcY(self,X): #Calculates the predicted values of petal width\n",
        "        return X.dot(self.W) + self.b\n",
        "    \n",
        "\n",
        "\n",
        "    def gradientDescent(self): #implementation of gradient descent\n",
        "        Y_cap = self.calcY(self.X)\n",
        "\n",
        "        dW = -((self.X.T).dot(self.Y - Y_cap))/self.m #Calculating the gradients\n",
        "        db = -(np.sum(self.Y - Y_cap))/self.m\n",
        "\n",
        "        self.W = self.W - self.learning_rate*dW #Changing the weights to minimise loss function\n",
        "        self.b = self.b - self.learning_rate*db\n",
        "\n",
        "    \n",
        "    def train(self,X,Y):\n",
        "        self.m, self.n = X.shape #initialising all the variables\n",
        "        self.X = X\n",
        "        self.Y = Y  \n",
        "        self.W = np.zeros((self.n,1)) #Setting the weights to 0 initially\n",
        "        self.b = 0\n",
        "\n",
        "        for x in range(self.iterations): #running the gradient descent until we reach minimum\n",
        "            self.gradientDescent()"
      ]
    },
    {
      "cell_type": "code",
      "execution_count": 15,
      "metadata": {},
      "outputs": [],
      "source": [
        "#Creating a new instance of the class using the train dataset with appropriate number of iterations and learning rate\n",
        "model = LinearReg(iterations=20000,learning_rate=0.05)\n",
        "model.train(X_train,Y_train)"
      ]
    },
    {
      "cell_type": "markdown",
      "metadata": {
        "id": "rlE9pmx97R-d"
      },
      "source": [
        "Now print the Intercept and Coefficient."
      ]
    },
    {
      "cell_type": "code",
      "execution_count": 16,
      "metadata": {
        "id": "sh1laxMd7n-G"
      },
      "outputs": [
        {
          "name": "stdout",
          "output_type": "stream",
          "text": [
            "coefficient: 0.3338567971346768\n",
            "Intercept  : -0.10226982001530473\n"
          ]
        }
      ],
      "source": [
        "coefficient = model.W[0][0]\n",
        "intercept = model.b\n",
        "\n",
        "print(\"coefficient:\",coefficient)\n",
        "print(\"Intercept  :\",intercept)"
      ]
    },
    {
      "cell_type": "markdown",
      "metadata": {
        "id": "-XtAd6b07rhr"
      },
      "source": [
        "Now we can overlay the predicted line and test data points to see where the predicted point lies."
      ]
    },
    {
      "cell_type": "code",
      "execution_count": 17,
      "metadata": {
        "id": "wGg0reYm9Ngg"
      },
      "outputs": [
        {
          "data": {
            "text/plain": [
              "Text(0.5, 1.0, 'Relation between petal length and petal width of iris species versicolor')"
            ]
          },
          "execution_count": 17,
          "metadata": {},
          "output_type": "execute_result"
        },
        {
          "data": {
            "image/png": "[encoded data removed]",
            "text/plain": [
              "<Figure size 640x480 with 1 Axes>"
            ]
          },
          "metadata": {},
          "output_type": "display_data"
        }
      ],
      "source": [
        "#Test data with the line plot\n",
        "\n",
        "Y_prediction = model.calcY(X_test)\n",
        "# print(Y_prediction)\n",
        "plt.scatter(x=X_test, y=Y_test, s=70, color=\"red\")\n",
        "plt.plot(X_test, Y_prediction)\n",
        "plt.xlabel(\"petal length\")\n",
        "plt.ylabel(\"petal width\")\n",
        "plt.title(\"Relation between petal length and petal width of iris species versicolor\")"
      ]
    },
    {
      "cell_type": "markdown",
      "metadata": {
        "id": "wnrieQBL-O2A"
      },
      "source": [
        "This is end of assisgnment , but for futhur reading you can search articles on\n",
        "Lasso Regression, Multivariate Regression , ElasticNet regression, Ridge Regression, Stepwise Regression."
      ]
    }
  ],
  "metadata": {
    "colab": {
      "provenance": []
    },
    "kernelspec": {
      "display_name": "Python 3",
      "name": "python3"
    },
    "language_info": {
      "codemirror_mode": {
        "name": "ipython",
        "version": 3
      },
      "file_extension": ".py",
      "mimetype": "text/x-python",
      "name": "python",
      "nbconvert_exporter": "python",
      "pygments_lexer": "ipython3",
      "version": "3.11.7"
    }
  },
  "nbformat": 4,
  "nbformat_minor": 0
}
