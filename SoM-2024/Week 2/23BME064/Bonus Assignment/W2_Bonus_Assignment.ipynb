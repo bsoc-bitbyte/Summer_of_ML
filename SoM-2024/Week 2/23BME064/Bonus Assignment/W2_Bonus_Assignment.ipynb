{
  "nbformat": 4,
  "nbformat_minor": 0,
  "metadata": {
    "colab": {
      "provenance": []
    },
    "kernelspec": {
      "name": "python3",
      "display_name": "Python 3"
    },
    "language_info": {
      "name": "python"
    }
  },
  "cells": [
    {
      "cell_type": "markdown",
      "source": [
        "Importing the necessary libraries\n"
      ],
      "metadata": {
        "id": "jfYml-sgmpWE"
      }
    },
    {
      "cell_type": "code",
      "execution_count": 13,
      "metadata": {
        "id": "PAaPpF8DufNE"
      },
      "outputs": [],
      "source": [
        "import pandas as pd\n",
        "import numpy as np\n",
        "import seaborn as sns\n",
        "import matplotlib.pyplot as plt"
      ]
    },
    {
      "cell_type": "markdown",
      "source": [
        "Reading the Dataset from URL"
      ],
      "metadata": {
        "id": "fGmN-2hAmcJ3"
      }
    },
    {
      "cell_type": "code",
      "source": [
        "url='https://drive.google.com/uc?export=download&id=1VfCaU5vFVWsSYrvKQF2x9iS6I7KoWEVH'\n",
        "df = pd.read_csv(url)\n",
        "df.shape\n"
      ],
      "metadata": {
        "colab": {
          "base_uri": "https://localhost:8080/"
        },
        "id": "WoBPLTltlWzi",
        "outputId": "b6795106-dadb-4857-f3a9-aa6d0221c475"
      },
      "execution_count": 14,
      "outputs": [
        {
          "output_type": "execute_result",
          "data": {
            "text/plain": [
              "(11275, 5)"
            ]
          },
          "metadata": {},
          "execution_count": 14
        }
      ]
    },
    {
      "cell_type": "code",
      "source": [
        "df.head(10)"
      ],
      "metadata": {
        "colab": {
          "base_uri": "https://localhost:8080/",
          "height": 363
        },
        "id": "XwmfWGkwlnz_",
        "outputId": "fa036b80-cef8-4fa2-9495-5dd6152cf94c"
      },
      "execution_count": 15,
      "outputs": [
        {
          "output_type": "execute_result",
          "data": {
            "text/plain": [
              "  ss_username  cf_username  cf_rating     cc_username  cc_rating\n",
              "0    eldnahon        slime     3449.0  peehs_moorhsum     3007.0\n",
              "1        jora          NaN        NaN             uwi     2906.0\n",
              "2        lala          NaN        NaN          kal013     2756.0\n",
              "3     wesnerm          NaN        NaN          wmoise     2696.0\n",
              "4  grebnesieh   grebnesieh     1703.0      grebnesieh     2673.0\n",
              "5   aurinegro    aurinegro     2202.0       aurinegro     2628.0\n",
              "6   retrograd    retrograd     2262.0       retrograd     2628.0\n",
              "7     chris19  anudeep2011     2023.0     anudeep2011     2565.0\n",
              "8     adkroxx      adkroxx     1765.0         adkroxx     2561.0\n",
              "9        ania         ania     2566.0           ania7     2526.0"
            ],
            "text/html": [
              "\n",
              "  <div id=\"df-bd91e7ee-aa37-45a0-b48e-c03720f2bc07\" class=\"colab-df-container\">\n",
              "    <div>\n",
              "<style scoped>\n",
              "    .dataframe tbody tr th:only-of-type {\n",
              "        vertical-align: middle;\n",
              "    }\n",
              "\n",
              "    .dataframe tbody tr th {\n",
              "        vertical-align: top;\n",
              "    }\n",
              "\n",
              "    .dataframe thead th {\n",
              "        text-align: right;\n",
              "    }\n",
              "</style>\n",
              "<table border=\"1\" class=\"dataframe\">\n",
              "  <thead>\n",
              "    <tr style=\"text-align: right;\">\n",
              "      <th></th>\n",
              "      <th>ss_username</th>\n",
              "      <th>cf_username</th>\n",
              "      <th>cf_rating</th>\n",
              "      <th>cc_username</th>\n",
              "      <th>cc_rating</th>\n",
              "    </tr>\n",
              "  </thead>\n",
              "  <tbody>\n",
              "    <tr>\n",
              "      <th>0</th>\n",
              "      <td>eldnahon</td>\n",
              "      <td>slime</td>\n",
              "      <td>3449.0</td>\n",
              "      <td>peehs_moorhsum</td>\n",
              "      <td>3007.0</td>\n",
              "    </tr>\n",
              "    <tr>\n",
              "      <th>1</th>\n",
              "      <td>jora</td>\n",
              "      <td>NaN</td>\n",
              "      <td>NaN</td>\n",
              "      <td>uwi</td>\n",
              "      <td>2906.0</td>\n",
              "    </tr>\n",
              "    <tr>\n",
              "      <th>2</th>\n",
              "      <td>lala</td>\n",
              "      <td>NaN</td>\n",
              "      <td>NaN</td>\n",
              "      <td>kal013</td>\n",
              "      <td>2756.0</td>\n",
              "    </tr>\n",
              "    <tr>\n",
              "      <th>3</th>\n",
              "      <td>wesnerm</td>\n",
              "      <td>NaN</td>\n",
              "      <td>NaN</td>\n",
              "      <td>wmoise</td>\n",
              "      <td>2696.0</td>\n",
              "    </tr>\n",
              "    <tr>\n",
              "      <th>4</th>\n",
              "      <td>grebnesieh</td>\n",
              "      <td>grebnesieh</td>\n",
              "      <td>1703.0</td>\n",
              "      <td>grebnesieh</td>\n",
              "      <td>2673.0</td>\n",
              "    </tr>\n",
              "    <tr>\n",
              "      <th>5</th>\n",
              "      <td>aurinegro</td>\n",
              "      <td>aurinegro</td>\n",
              "      <td>2202.0</td>\n",
              "      <td>aurinegro</td>\n",
              "      <td>2628.0</td>\n",
              "    </tr>\n",
              "    <tr>\n",
              "      <th>6</th>\n",
              "      <td>retrograd</td>\n",
              "      <td>retrograd</td>\n",
              "      <td>2262.0</td>\n",
              "      <td>retrograd</td>\n",
              "      <td>2628.0</td>\n",
              "    </tr>\n",
              "    <tr>\n",
              "      <th>7</th>\n",
              "      <td>chris19</td>\n",
              "      <td>anudeep2011</td>\n",
              "      <td>2023.0</td>\n",
              "      <td>anudeep2011</td>\n",
              "      <td>2565.0</td>\n",
              "    </tr>\n",
              "    <tr>\n",
              "      <th>8</th>\n",
              "      <td>adkroxx</td>\n",
              "      <td>adkroxx</td>\n",
              "      <td>1765.0</td>\n",
              "      <td>adkroxx</td>\n",
              "      <td>2561.0</td>\n",
              "    </tr>\n",
              "    <tr>\n",
              "      <th>9</th>\n",
              "      <td>ania</td>\n",
              "      <td>ania</td>\n",
              "      <td>2566.0</td>\n",
              "      <td>ania7</td>\n",
              "      <td>2526.0</td>\n",
              "    </tr>\n",
              "  </tbody>\n",
              "</table>\n",
              "</div>\n",
              "    <div class=\"colab-df-buttons\">\n",
              "\n",
              "  <div class=\"colab-df-container\">\n",
              "    <button class=\"colab-df-convert\" onclick=\"convertToInteractive('df-bd91e7ee-aa37-45a0-b48e-c03720f2bc07')\"\n",
              "            title=\"Convert this dataframe to an interactive table.\"\n",
              "            style=\"display:none;\">\n",
              "\n",
              "  <svg xmlns=\"http://www.w3.org/2000/svg\" height=\"24px\" viewBox=\"0 -960 960 960\">\n",
              "    <path d=\"M120-120v-720h720v720H120Zm60-500h600v-160H180v160Zm220 220h160v-160H400v160Zm0 220h160v-160H400v160ZM180-400h160v-160H180v160Zm440 0h160v-160H620v160ZM180-180h160v-160H180v160Zm440 0h160v-160H620v160Z\"/>\n",
              "  </svg>\n",
              "    </button>\n",
              "\n",
              "  <style>\n",
              "    .colab-df-container {\n",
              "      display:flex;\n",
              "      gap: 12px;\n",
              "    }\n",
              "\n",
              "    .colab-df-convert {\n",
              "      background-color: #E8F0FE;\n",
              "      border: none;\n",
              "      border-radius: 50%;\n",
              "      cursor: pointer;\n",
              "      display: none;\n",
              "      fill: #1967D2;\n",
              "      height: 32px;\n",
              "      padding: 0 0 0 0;\n",
              "      width: 32px;\n",
              "    }\n",
              "\n",
              "    .colab-df-convert:hover {\n",
              "      background-color: #E2EBFA;\n",
              "      box-shadow: 0px 1px 2px rgba(60, 64, 67, 0.3), 0px 1px 3px 1px rgba(60, 64, 67, 0.15);\n",
              "      fill: #174EA6;\n",
              "    }\n",
              "\n",
              "    .colab-df-buttons div {\n",
              "      margin-bottom: 4px;\n",
              "    }\n",
              "\n",
              "    [theme=dark] .colab-df-convert {\n",
              "      background-color: #3B4455;\n",
              "      fill: #D2E3FC;\n",
              "    }\n",
              "\n",
              "    [theme=dark] .colab-df-convert:hover {\n",
              "      background-color: #434B5C;\n",
              "      box-shadow: 0px 1px 3px 1px rgba(0, 0, 0, 0.15);\n",
              "      filter: drop-shadow(0px 1px 2px rgba(0, 0, 0, 0.3));\n",
              "      fill: #FFFFFF;\n",
              "    }\n",
              "  </style>\n",
              "\n",
              "    <script>\n",
              "      const buttonEl =\n",
              "        document.querySelector('#df-bd91e7ee-aa37-45a0-b48e-c03720f2bc07 button.colab-df-convert');\n",
              "      buttonEl.style.display =\n",
              "        google.colab.kernel.accessAllowed ? 'block' : 'none';\n",
              "\n",
              "      async function convertToInteractive(key) {\n",
              "        const element = document.querySelector('#df-bd91e7ee-aa37-45a0-b48e-c03720f2bc07');\n",
              "        const dataTable =\n",
              "          await google.colab.kernel.invokeFunction('convertToInteractive',\n",
              "                                                    [key], {});\n",
              "        if (!dataTable) return;\n",
              "\n",
              "        const docLinkHtml = 'Like what you see? Visit the ' +\n",
              "          '<a target=\"_blank\" href=https://colab.research.google.com/notebooks/data_table.ipynb>data table notebook</a>'\n",
              "          + ' to learn more about interactive tables.';\n",
              "        element.innerHTML = '';\n",
              "        dataTable['output_type'] = 'display_data';\n",
              "        await google.colab.output.renderOutput(dataTable, element);\n",
              "        const docLink = document.createElement('div');\n",
              "        docLink.innerHTML = docLinkHtml;\n",
              "        element.appendChild(docLink);\n",
              "      }\n",
              "    </script>\n",
              "  </div>\n",
              "\n",
              "\n",
              "<div id=\"df-0afeee98-1a22-4bf7-9fb7-ed9584a214b3\">\n",
              "  <button class=\"colab-df-quickchart\" onclick=\"quickchart('df-0afeee98-1a22-4bf7-9fb7-ed9584a214b3')\"\n",
              "            title=\"Suggest charts\"\n",
              "            style=\"display:none;\">\n",
              "\n",
              "<svg xmlns=\"http://www.w3.org/2000/svg\" height=\"24px\"viewBox=\"0 0 24 24\"\n",
              "     width=\"24px\">\n",
              "    <g>\n",
              "        <path d=\"M19 3H5c-1.1 0-2 .9-2 2v14c0 1.1.9 2 2 2h14c1.1 0 2-.9 2-2V5c0-1.1-.9-2-2-2zM9 17H7v-7h2v7zm4 0h-2V7h2v10zm4 0h-2v-4h2v4z\"/>\n",
              "    </g>\n",
              "</svg>\n",
              "  </button>\n",
              "\n",
              "<style>\n",
              "  .colab-df-quickchart {\n",
              "      --bg-color: #E8F0FE;\n",
              "      --fill-color: #1967D2;\n",
              "      --hover-bg-color: #E2EBFA;\n",
              "      --hover-fill-color: #174EA6;\n",
              "      --disabled-fill-color: #AAA;\n",
              "      --disabled-bg-color: #DDD;\n",
              "  }\n",
              "\n",
              "  [theme=dark] .colab-df-quickchart {\n",
              "      --bg-color: #3B4455;\n",
              "      --fill-color: #D2E3FC;\n",
              "      --hover-bg-color: #434B5C;\n",
              "      --hover-fill-color: #FFFFFF;\n",
              "      --disabled-bg-color: #3B4455;\n",
              "      --disabled-fill-color: #666;\n",
              "  }\n",
              "\n",
              "  .colab-df-quickchart {\n",
              "    background-color: var(--bg-color);\n",
              "    border: none;\n",
              "    border-radius: 50%;\n",
              "    cursor: pointer;\n",
              "    display: none;\n",
              "    fill: var(--fill-color);\n",
              "    height: 32px;\n",
              "    padding: 0;\n",
              "    width: 32px;\n",
              "  }\n",
              "\n",
              "  .colab-df-quickchart:hover {\n",
              "    background-color: var(--hover-bg-color);\n",
              "    box-shadow: 0 1px 2px rgba(60, 64, 67, 0.3), 0 1px 3px 1px rgba(60, 64, 67, 0.15);\n",
              "    fill: var(--button-hover-fill-color);\n",
              "  }\n",
              "\n",
              "  .colab-df-quickchart-complete:disabled,\n",
              "  .colab-df-quickchart-complete:disabled:hover {\n",
              "    background-color: var(--disabled-bg-color);\n",
              "    fill: var(--disabled-fill-color);\n",
              "    box-shadow: none;\n",
              "  }\n",
              "\n",
              "  .colab-df-spinner {\n",
              "    border: 2px solid var(--fill-color);\n",
              "    border-color: transparent;\n",
              "    border-bottom-color: var(--fill-color);\n",
              "    animation:\n",
              "      spin 1s steps(1) infinite;\n",
              "  }\n",
              "\n",
              "  @keyframes spin {\n",
              "    0% {\n",
              "      border-color: transparent;\n",
              "      border-bottom-color: var(--fill-color);\n",
              "      border-left-color: var(--fill-color);\n",
              "    }\n",
              "    20% {\n",
              "      border-color: transparent;\n",
              "      border-left-color: var(--fill-color);\n",
              "      border-top-color: var(--fill-color);\n",
              "    }\n",
              "    30% {\n",
              "      border-color: transparent;\n",
              "      border-left-color: var(--fill-color);\n",
              "      border-top-color: var(--fill-color);\n",
              "      border-right-color: var(--fill-color);\n",
              "    }\n",
              "    40% {\n",
              "      border-color: transparent;\n",
              "      border-right-color: var(--fill-color);\n",
              "      border-top-color: var(--fill-color);\n",
              "    }\n",
              "    60% {\n",
              "      border-color: transparent;\n",
              "      border-right-color: var(--fill-color);\n",
              "    }\n",
              "    80% {\n",
              "      border-color: transparent;\n",
              "      border-right-color: var(--fill-color);\n",
              "      border-bottom-color: var(--fill-color);\n",
              "    }\n",
              "    90% {\n",
              "      border-color: transparent;\n",
              "      border-bottom-color: var(--fill-color);\n",
              "    }\n",
              "  }\n",
              "</style>\n",
              "\n",
              "  <script>\n",
              "    async function quickchart(key) {\n",
              "      const quickchartButtonEl =\n",
              "        document.querySelector('#' + key + ' button');\n",
              "      quickchartButtonEl.disabled = true;  // To prevent multiple clicks.\n",
              "      quickchartButtonEl.classList.add('colab-df-spinner');\n",
              "      try {\n",
              "        const charts = await google.colab.kernel.invokeFunction(\n",
              "            'suggestCharts', [key], {});\n",
              "      } catch (error) {\n",
              "        console.error('Error during call to suggestCharts:', error);\n",
              "      }\n",
              "      quickchartButtonEl.classList.remove('colab-df-spinner');\n",
              "      quickchartButtonEl.classList.add('colab-df-quickchart-complete');\n",
              "    }\n",
              "    (() => {\n",
              "      let quickchartButtonEl =\n",
              "        document.querySelector('#df-0afeee98-1a22-4bf7-9fb7-ed9584a214b3 button');\n",
              "      quickchartButtonEl.style.display =\n",
              "        google.colab.kernel.accessAllowed ? 'block' : 'none';\n",
              "    })();\n",
              "  </script>\n",
              "</div>\n",
              "\n",
              "    </div>\n",
              "  </div>\n"
            ],
            "application/vnd.google.colaboratory.intrinsic+json": {
              "type": "dataframe",
              "variable_name": "df",
              "summary": "{\n  \"name\": \"df\",\n  \"rows\": 11275,\n  \"fields\": [\n    {\n      \"column\": \"ss_username\",\n      \"properties\": {\n        \"dtype\": \"string\",\n        \"num_unique_values\": 11268,\n        \"samples\": [\n          \"ritik_agarwal\",\n          \"vinith6763\",\n          \"hakim_lukka\"\n        ],\n        \"semantic_type\": \"\",\n        \"description\": \"\"\n      }\n    },\n    {\n      \"column\": \"cf_username\",\n      \"properties\": {\n        \"dtype\": \"string\",\n        \"num_unique_values\": 10926,\n        \"samples\": [\n          \"vaibhav_1207\",\n          \"__psyche__\",\n          \"abhishek\"\n        ],\n        \"semantic_type\": \"\",\n        \"description\": \"\"\n      }\n    },\n    {\n      \"column\": \"cf_rating\",\n      \"properties\": {\n        \"dtype\": \"number\",\n        \"std\": 344.7071692449459,\n        \"min\": 187.0,\n        \"max\": 3764.0,\n        \"num_unique_values\": 1523,\n        \"samples\": [\n          1439.0,\n          869.0,\n          1987.0\n        ],\n        \"semantic_type\": \"\",\n        \"description\": \"\"\n      }\n    },\n    {\n      \"column\": \"cc_username\",\n      \"properties\": {\n        \"dtype\": \"string\",\n        \"num_unique_values\": 10149,\n        \"samples\": [\n          \"shr_mandade\",\n          \"dsharma080\",\n          \"sid_dharth_11\"\n        ],\n        \"semantic_type\": \"\",\n        \"description\": \"\"\n      }\n    },\n    {\n      \"column\": \"cc_rating\",\n      \"properties\": {\n        \"dtype\": \"number\",\n        \"std\": 252.89179323219807,\n        \"min\": 179.0,\n        \"max\": 3007.0,\n        \"num_unique_values\": 1335,\n        \"samples\": [\n          1402.0,\n          1238.0,\n          974.0\n        ],\n        \"semantic_type\": \"\",\n        \"description\": \"\"\n      }\n    }\n  ]\n}"
            }
          },
          "metadata": {},
          "execution_count": 15
        }
      ]
    },
    {
      "cell_type": "code",
      "source": [
        "df.info()"
      ],
      "metadata": {
        "id": "f9UrGF3Yr9q2",
        "outputId": "ae51c61e-9443-4a0e-eae7-b0328dd0d3d1",
        "colab": {
          "base_uri": "https://localhost:8080/"
        }
      },
      "execution_count": 16,
      "outputs": [
        {
          "output_type": "stream",
          "name": "stdout",
          "text": [
            "<class 'pandas.core.frame.DataFrame'>\n",
            "RangeIndex: 11275 entries, 0 to 11274\n",
            "Data columns (total 5 columns):\n",
            " #   Column       Non-Null Count  Dtype  \n",
            "---  ------       --------------  -----  \n",
            " 0   ss_username  11275 non-null  object \n",
            " 1   cf_username  11068 non-null  object \n",
            " 2   cf_rating    7437 non-null   float64\n",
            " 3   cc_username  10280 non-null  object \n",
            " 4   cc_rating    10280 non-null  float64\n",
            "dtypes: float64(2), object(3)\n",
            "memory usage: 440.6+ KB\n"
          ]
        }
      ]
    },
    {
      "cell_type": "code",
      "source": [
        "df.isnull().sum()"
      ],
      "metadata": {
        "colab": {
          "base_uri": "https://localhost:8080/"
        },
        "id": "4qpyhpQ-OWeC",
        "outputId": "fc551c81-f55d-4bd3-a222-a73539e1a3cf"
      },
      "execution_count": 17,
      "outputs": [
        {
          "output_type": "execute_result",
          "data": {
            "text/plain": [
              "ss_username       0\n",
              "cf_username     207\n",
              "cf_rating      3838\n",
              "cc_username     995\n",
              "cc_rating       995\n",
              "dtype: int64"
            ]
          },
          "metadata": {},
          "execution_count": 17
        }
      ]
    },
    {
      "cell_type": "markdown",
      "source": [
        "Since there are many rows which have null values in their cc_rating/cf_rating colums.\n",
        "We will make a new dataset which will consist only those rows which have only non-null values in both cc_rating & cf_rating column.\n",
        "Then we will make a regression model out of it.\n",
        "And with the help of this we will predict and fill the null values cc_rating and cf_rating columns of our original data set \"df\"."
      ],
      "metadata": {
        "id": "YtG_t5jQ7bi0"
      }
    },
    {
      "cell_type": "code",
      "source": [
        "df_filtered = df[df['cc_rating'].notnull() & df['cf_rating'].notnull()]\n"
      ],
      "metadata": {
        "id": "r2qgOQgCOhrh"
      },
      "execution_count": 18,
      "outputs": []
    },
    {
      "cell_type": "code",
      "source": [
        "df_filtered.info()"
      ],
      "metadata": {
        "colab": {
          "base_uri": "https://localhost:8080/"
        },
        "id": "WYViVp-v0zxZ",
        "outputId": "34ce5b75-3bbe-49cf-b5e5-cbcbef1b4735"
      },
      "execution_count": 19,
      "outputs": [
        {
          "output_type": "stream",
          "name": "stdout",
          "text": [
            "<class 'pandas.core.frame.DataFrame'>\n",
            "Index: 6442 entries, 0 to 10278\n",
            "Data columns (total 5 columns):\n",
            " #   Column       Non-Null Count  Dtype  \n",
            "---  ------       --------------  -----  \n",
            " 0   ss_username  6442 non-null   object \n",
            " 1   cf_username  6442 non-null   object \n",
            " 2   cf_rating    6442 non-null   float64\n",
            " 3   cc_username  6442 non-null   object \n",
            " 4   cc_rating    6442 non-null   float64\n",
            "dtypes: float64(2), object(3)\n",
            "memory usage: 302.0+ KB\n"
          ]
        }
      ]
    },
    {
      "cell_type": "markdown",
      "source": [
        "Making a Regression model for this filtered dataset"
      ],
      "metadata": {
        "id": "F6f6XXHh8aAA"
      }
    },
    {
      "cell_type": "code",
      "source": [
        "import numpy as np\n",
        "\n",
        "# Extract the relevant columns\n",
        "X = df_filtered['cc_rating'].values\n",
        "y = df_filtered['cf_rating'].values\n",
        "\n",
        "# Calculate the means of X and y\n",
        "x_mean = np.mean(X)\n",
        "y_mean = np.mean(y)\n",
        "\n",
        "# Calculate the numerator and denominator of the slope\n",
        "num = 0\n",
        "den = 0\n",
        "for i in range(len(X)):\n",
        "  num += (X[i] - x_mean) * (y[i] - y_mean)\n",
        "  den += (X[i] - x_mean)**2\n",
        "\n",
        "# Calculate the slope and intercept\n",
        "slope = num / den\n",
        "intercept = y_mean - slope * x_mean\n",
        "\n",
        "# Print the results\n",
        "print(\"Slope:\", slope)\n",
        "print(\"Intercept:\", intercept)\n",
        "\n",
        "# Predict the cf_rating for a given cc_rating\n",
        "def predict_cf_rating(cc_rating):\n",
        "  return slope * cc_rating + intercept\n",
        "\n",
        "# Example usage\n",
        "predicted_cf_rating = predict_cf_rating(1000)\n",
        "print(\"Predicted cf_rating for cc_rating 1000\", predicted_cf_rating)\n"
      ],
      "metadata": {
        "colab": {
          "base_uri": "https://localhost:8080/"
        },
        "id": "5O5VAep8O70z",
        "outputId": "f4b4aedd-4faa-4354-fc8a-eafed8de7b4a"
      },
      "execution_count": 20,
      "outputs": [
        {
          "output_type": "stream",
          "name": "stdout",
          "text": [
            "Slope: 0.8315620555789317\n",
            "Intercept: -32.62926507315501\n",
            "Predicted cf_rating for cc_rating 1000 798.9327905057767\n"
          ]
        }
      ]
    },
    {
      "cell_type": "markdown",
      "source": [
        "Using this linear regression model improving our original dataset \"df\" by taking cc_rating as input and filling  the respective null values of cf_rating column of df dataset.\n"
      ],
      "metadata": {
        "id": "Z_NAzF-T1J3G"
      }
    },
    {
      "cell_type": "code",
      "source": [
        "\n",
        "\n",
        "import pandas as pd\n",
        "def predict_cf_rating(cc_rating):\n",
        "  return slope * cc_rating + intercept\n",
        "\n",
        "for i in range(len(df)):\n",
        "  if pd.isnull(df.loc[i, 'cf_rating']):\n",
        "    df.loc[i, 'cf_rating'] = predict_cf_rating(df.loc[i, 'cc_rating'])\n",
        "\n",
        "df.info()\n"
      ],
      "metadata": {
        "colab": {
          "base_uri": "https://localhost:8080/"
        },
        "collapsed": true,
        "id": "t5ivrJ8PK0cw",
        "outputId": "655fe0c1-592c-42fa-ec9f-898c25c8e050"
      },
      "execution_count": null,
      "outputs": [
        {
          "output_type": "stream",
          "name": "stdout",
          "text": [
            "<class 'pandas.core.frame.DataFrame'>\n",
            "RangeIndex: 11275 entries, 0 to 11274\n",
            "Data columns (total 5 columns):\n",
            " #   Column       Non-Null Count  Dtype  \n",
            "---  ------       --------------  -----  \n",
            " 0   ss_username  11275 non-null  object \n",
            " 1   cf_username  11068 non-null  object \n",
            " 2   cf_rating    11275 non-null  float64\n",
            " 3   cc_username  10280 non-null  object \n",
            " 4   cc_rating    10280 non-null  float64\n",
            "dtypes: float64(2), object(3)\n",
            "memory usage: 440.6+ KB\n"
          ]
        }
      ]
    },
    {
      "cell_type": "markdown",
      "source": [
        "Again, Using this linear regression model improving our original dataset \"df\" by taking cf_rating as input and filling  the respective null values of cc_rating column of df dataset.\n"
      ],
      "metadata": {
        "id": "FQuckMrO6ZoM"
      }
    },
    {
      "cell_type": "code",
      "source": [
        "\n",
        "\n",
        "import pandas as pd\n",
        "def predict_cc_rating(cf_rating):\n",
        "  return (cf_rating - intercept) / slope\n",
        "\n",
        "for i in range(len(df)):\n",
        "  if pd.isnull(df.loc[i, 'cc_rating']):\n",
        "    df.loc[i, 'cc_rating'] = predict_cc_rating(df.loc[i, 'cf_rating'])\n",
        "\n",
        "df.info()\n"
      ],
      "metadata": {
        "colab": {
          "base_uri": "https://localhost:8080/"
        },
        "id": "GKf_KxkZRMgy",
        "outputId": "95bf8e26-84d7-41fc-aa24-9fdb7574ecd6"
      },
      "execution_count": null,
      "outputs": [
        {
          "output_type": "stream",
          "name": "stdout",
          "text": [
            "<class 'pandas.core.frame.DataFrame'>\n",
            "RangeIndex: 11275 entries, 0 to 11274\n",
            "Data columns (total 5 columns):\n",
            " #   Column       Non-Null Count  Dtype  \n",
            "---  ------       --------------  -----  \n",
            " 0   ss_username  11275 non-null  object \n",
            " 1   cf_username  11068 non-null  object \n",
            " 2   cf_rating    11275 non-null  float64\n",
            " 3   cc_username  10280 non-null  object \n",
            " 4   cc_rating    11275 non-null  float64\n",
            "dtypes: float64(2), object(3)\n",
            "memory usage: 440.6+ KB\n"
          ]
        }
      ]
    },
    {
      "cell_type": "code",
      "source": [
        "df.info()"
      ],
      "metadata": {
        "colab": {
          "base_uri": "https://localhost:8080/"
        },
        "id": "h4QSNRauSC8h",
        "outputId": "39c9c71a-16c9-4d07-c919-0348ef3545c8"
      },
      "execution_count": null,
      "outputs": [
        {
          "output_type": "stream",
          "name": "stdout",
          "text": [
            "<class 'pandas.core.frame.DataFrame'>\n",
            "RangeIndex: 11275 entries, 0 to 11274\n",
            "Data columns (total 5 columns):\n",
            " #   Column       Non-Null Count  Dtype  \n",
            "---  ------       --------------  -----  \n",
            " 0   ss_username  11275 non-null  object \n",
            " 1   cf_username  11068 non-null  object \n",
            " 2   cf_rating    11275 non-null  float64\n",
            " 3   cc_username  10280 non-null  object \n",
            " 4   cc_rating    11275 non-null  float64\n",
            "dtypes: float64(2), object(3)\n",
            "memory usage: 440.6+ KB\n"
          ]
        }
      ]
    },
    {
      "cell_type": "markdown",
      "source": [
        "MAking a regression model for df data set for cc_rating as input and cf_rating as a target."
      ],
      "metadata": {
        "id": "69zU1Elw5PQf"
      }
    },
    {
      "cell_type": "code",
      "source": [
        "\n",
        "import numpy as np\n",
        "# Calculate the means of X and y\n",
        "x_mean = np.mean(X)\n",
        "y_mean = np.mean(y)\n",
        "\n",
        "# Calculate the numerator and denominator of the slope\n",
        "num = 0\n",
        "den = 0\n",
        "for i in range(len(X)):\n",
        "  num += (X[i] - x_mean) * (y[i] - y_mean)\n",
        "  den += (X[i] - x_mean)**2\n",
        "\n",
        "# Calculate the slope and intercept\n",
        "slope = num / den\n",
        "intercept = y_mean - slope * x_mean\n",
        "\n",
        "# Define the regression model\n",
        "def regression_model(cc_rating):\n",
        "  return slope * cc_rating + intercept\n",
        "\n",
        "# Print the model parameters\n",
        "print(\"Slope:\", slope)\n",
        "print(\"Intercept:\", intercept)\n",
        "\n",
        "# Use the model to predict cf_rating for a given cc_rating\n",
        "predicted_cf_rating = regression_model(1000)\n",
        "print(\"Predicted cf_rating for cc_rating 1000:\", predicted_cf_rating)\n"
      ],
      "metadata": {
        "colab": {
          "base_uri": "https://localhost:8080/"
        },
        "id": "E1Isg3UHDe6g",
        "outputId": "f7261b85-09bc-4b2b-c291-21a54ca23721"
      },
      "execution_count": null,
      "outputs": [
        {
          "output_type": "stream",
          "name": "stdout",
          "text": [
            "Slope: [0.83156206]\n",
            "Intercept: [-32.62926507]\n",
            "Predicted cf_rating for cc_rating 1000: [798.93279051]\n"
          ]
        }
      ]
    },
    {
      "cell_type": "markdown",
      "source": [
        "Now we know the value of slope and intercept we can use this values to predict the rating of other plateform using rating of one.\n"
      ],
      "metadata": {
        "id": "aUEPxvbB5Z5s"
      }
    },
    {
      "cell_type": "markdown",
      "source": [
        "Using these derived values of slope and intercept,\n",
        "this model has been implemented of the website which in this same folder.\n",
        "You can type your rating of one plateform there and predict the rating of another."
      ],
      "metadata": {
        "id": "aC2_Q-KM5x6i"
      }
    }
  ]
}