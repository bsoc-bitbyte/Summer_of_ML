{
 "cells": [
  {
   "cell_type": "markdown",
   "id": "5ea11571",
   "metadata": {},
   "source": [
    "# Created a Hugging Face `spaces`"
   ]
  },
  {
   "cell_type": "markdown",
   "id": "29874ba7",
   "metadata": {},
   "source": [
    "While I was experimenting with a python lib named `Gradio` which provides user a web-interface to showcase there trained model.\n",
    "So, I made a `Huggingface spaces` on the above bonus assignment,\n",
    "\n",
    "i.e to *`predict the Codeforces ranking with the help of users Codechef ranking or visa versa`*.\n",
    "\n",
    "by the way, `CodeChef` and `Codeforces` are popular online platforms that provide competitive programming(CP) contests and resources for programmers to improve their coding skills.\n",
    "\n",
    "and,\n",
    "\n",
    "`Hugging Face` is a company and an open-source community that specializes in developing natural language processing (NLP) and machine learning tools."
   ]
  },
  {
   "cell_type": "markdown",
   "id": "fd5ba6eb",
   "metadata": {},
   "source": [
    "`link:` https://huggingface.co/spaces/Vishalpainjane/CC_CF_rating_predictor"
   ]
  },
  {
   "cell_type": "markdown",
   "id": "d147f815",
   "metadata": {},
   "source": [
    "."
   ]
  },
  {
   "cell_type": "markdown",
   "id": "4e33f058",
   "metadata": {},
   "source": [
    "### Import all required libraries"
   ]
  },
  {
   "cell_type": "code",
   "execution_count": 24,
   "id": "285cc374",
   "metadata": {},
   "outputs": [],
   "source": [
    "import pandas as pd\n",
    "import numpy as np\n",
    "import seaborn as sns\n",
    "import matplotlib.pyplot as plt\n",
    "import warnings\n",
    "warnings.filterwarnings('ignore')"
   ]
  },
  {
   "cell_type": "markdown",
   "id": "86173d6c",
   "metadata": {},
   "source": [
    "### Load data"
   ]
  },
  {
   "cell_type": "code",
   "execution_count": 25,
   "id": "0a0c1ca3",
   "metadata": {},
   "outputs": [
    {
     "data": {
      "text/html": [
       "<div>\n",
       "<style scoped>\n",
       "    .dataframe tbody tr th:only-of-type {\n",
       "        vertical-align: middle;\n",
       "    }\n",
       "\n",
       "    .dataframe tbody tr th {\n",
       "        vertical-align: top;\n",
       "    }\n",
       "\n",
       "    .dataframe thead th {\n",
       "        text-align: right;\n",
       "    }\n",
       "</style>\n",
       "<table border=\"1\" class=\"dataframe\">\n",
       "  <thead>\n",
       "    <tr style=\"text-align: right;\">\n",
       "      <th></th>\n",
       "      <th>ss_username</th>\n",
       "      <th>cf_username</th>\n",
       "      <th>cf_rating</th>\n",
       "      <th>cc_username</th>\n",
       "      <th>cc_rating</th>\n",
       "    </tr>\n",
       "  </thead>\n",
       "  <tbody>\n",
       "    <tr>\n",
       "      <th>0</th>\n",
       "      <td>eldnahon</td>\n",
       "      <td>slime</td>\n",
       "      <td>3449.0</td>\n",
       "      <td>peehs_moorhsum</td>\n",
       "      <td>3007.0</td>\n",
       "    </tr>\n",
       "    <tr>\n",
       "      <th>1</th>\n",
       "      <td>jora</td>\n",
       "      <td>NaN</td>\n",
       "      <td>NaN</td>\n",
       "      <td>uwi</td>\n",
       "      <td>2906.0</td>\n",
       "    </tr>\n",
       "    <tr>\n",
       "      <th>2</th>\n",
       "      <td>lala</td>\n",
       "      <td>NaN</td>\n",
       "      <td>NaN</td>\n",
       "      <td>kal013</td>\n",
       "      <td>2756.0</td>\n",
       "    </tr>\n",
       "    <tr>\n",
       "      <th>3</th>\n",
       "      <td>wesnerm</td>\n",
       "      <td>NaN</td>\n",
       "      <td>NaN</td>\n",
       "      <td>wmoise</td>\n",
       "      <td>2696.0</td>\n",
       "    </tr>\n",
       "    <tr>\n",
       "      <th>4</th>\n",
       "      <td>grebnesieh</td>\n",
       "      <td>grebnesieh</td>\n",
       "      <td>1703.0</td>\n",
       "      <td>grebnesieh</td>\n",
       "      <td>2673.0</td>\n",
       "    </tr>\n",
       "    <tr>\n",
       "      <th>...</th>\n",
       "      <td>...</td>\n",
       "      <td>...</td>\n",
       "      <td>...</td>\n",
       "      <td>...</td>\n",
       "      <td>...</td>\n",
       "    </tr>\n",
       "    <tr>\n",
       "      <th>11270</th>\n",
       "      <td>TeaPot</td>\n",
       "      <td>teapot</td>\n",
       "      <td>2677.0</td>\n",
       "      <td>NaN</td>\n",
       "      <td>NaN</td>\n",
       "    </tr>\n",
       "    <tr>\n",
       "      <th>11271</th>\n",
       "      <td>luosiyuan</td>\n",
       "      <td>tianbu</td>\n",
       "      <td>2882.0</td>\n",
       "      <td>NaN</td>\n",
       "      <td>NaN</td>\n",
       "    </tr>\n",
       "    <tr>\n",
       "      <th>11272</th>\n",
       "      <td>dorijanko</td>\n",
       "      <td>dorijanlendvaj</td>\n",
       "      <td>3120.0</td>\n",
       "      <td>NaN</td>\n",
       "      <td>NaN</td>\n",
       "    </tr>\n",
       "    <tr>\n",
       "      <th>11273</th>\n",
       "      <td>gamegame</td>\n",
       "      <td>gamegame</td>\n",
       "      <td>3218.0</td>\n",
       "      <td>NaN</td>\n",
       "      <td>NaN</td>\n",
       "    </tr>\n",
       "    <tr>\n",
       "      <th>11274</th>\n",
       "      <td>0xrayhansec</td>\n",
       "      <td>tourist</td>\n",
       "      <td>3764.0</td>\n",
       "      <td>NaN</td>\n",
       "      <td>NaN</td>\n",
       "    </tr>\n",
       "  </tbody>\n",
       "</table>\n",
       "<p>11275 rows × 5 columns</p>\n",
       "</div>"
      ],
      "text/plain": [
       "       ss_username     cf_username  cf_rating     cc_username  cc_rating\n",
       "0         eldnahon           slime     3449.0  peehs_moorhsum     3007.0\n",
       "1             jora             NaN        NaN             uwi     2906.0\n",
       "2             lala             NaN        NaN          kal013     2756.0\n",
       "3          wesnerm             NaN        NaN          wmoise     2696.0\n",
       "4       grebnesieh      grebnesieh     1703.0      grebnesieh     2673.0\n",
       "...            ...             ...        ...             ...        ...\n",
       "11270       TeaPot          teapot     2677.0             NaN        NaN\n",
       "11271    luosiyuan          tianbu     2882.0             NaN        NaN\n",
       "11272    dorijanko  dorijanlendvaj     3120.0             NaN        NaN\n",
       "11273     gamegame        gamegame     3218.0             NaN        NaN\n",
       "11274  0xrayhansec         tourist     3764.0             NaN        NaN\n",
       "\n",
       "[11275 rows x 5 columns]"
      ]
     },
     "execution_count": 25,
     "metadata": {},
     "output_type": "execute_result"
    }
   ],
   "source": [
    "url='https://drive.google.com/file/d/1VfCaU5vFVWsSYrvKQF2x9iS6I7KoWEVH/view?usp=share_link'\n",
    "url='https://drive.google.com/uc?id=' + url.split('/')[-2]\n",
    "df = pd.read_csv(url)\n",
    "df"
   ]
  },
  {
   "cell_type": "markdown",
   "id": "ab493744",
   "metadata": {},
   "source": [
    "#### Converting datatype to `srt`"
   ]
  },
  {
   "cell_type": "code",
   "execution_count": 26,
   "id": "adbbf14f",
   "metadata": {},
   "outputs": [],
   "source": [
    "df['cf_rating']=df['cf_rating'].astype(str)\n",
    "df['cc_rating']=df['cc_rating'].astype(str)\n",
    "df['cf_username']=df['cf_username'].astype(str)\n",
    "df['cc_username']=df['cc_username'].astype(str)\n",
    "df['ss_username']=df['ss_username'].astype(str)"
   ]
  },
  {
   "cell_type": "markdown",
   "id": "c690b976",
   "metadata": {},
   "source": [
    "#### Classifying different dataframes"
   ]
  },
  {
   "cell_type": "code",
   "execution_count": 27,
   "id": "f0eebc78",
   "metadata": {
    "scrolled": false
   },
   "outputs": [],
   "source": [
    "only_cc = df[(df['cf_username'] == \"nan\")]\n",
    "only_cf = df[(df['cc_username'] == \"nan\")]\n",
    "both_cc_cf = df[(df['cf_username'] != \"nan\") & (df['cf_rating'] != \"nan\") & (df['cc_username'] != \"nan\") & (df['cc_rating'] != \"nan\")]"
   ]
  },
  {
   "cell_type": "markdown",
   "id": "c0cac897",
   "metadata": {},
   "source": [
    "### Droping unwanted columns  "
   ]
  },
  {
   "cell_type": "code",
   "execution_count": 28,
   "id": "1b525023",
   "metadata": {},
   "outputs": [
    {
     "data": {
      "text/html": [
       "<div>\n",
       "<style scoped>\n",
       "    .dataframe tbody tr th:only-of-type {\n",
       "        vertical-align: middle;\n",
       "    }\n",
       "\n",
       "    .dataframe tbody tr th {\n",
       "        vertical-align: top;\n",
       "    }\n",
       "\n",
       "    .dataframe thead th {\n",
       "        text-align: right;\n",
       "    }\n",
       "</style>\n",
       "<table border=\"1\" class=\"dataframe\">\n",
       "  <thead>\n",
       "    <tr style=\"text-align: right;\">\n",
       "      <th></th>\n",
       "      <th>cf_rating</th>\n",
       "      <th>cc_rating</th>\n",
       "    </tr>\n",
       "  </thead>\n",
       "  <tbody>\n",
       "    <tr>\n",
       "      <th>0</th>\n",
       "      <td>3449.0</td>\n",
       "      <td>3007.0</td>\n",
       "    </tr>\n",
       "    <tr>\n",
       "      <th>4</th>\n",
       "      <td>1703.0</td>\n",
       "      <td>2673.0</td>\n",
       "    </tr>\n",
       "    <tr>\n",
       "      <th>5</th>\n",
       "      <td>2202.0</td>\n",
       "      <td>2628.0</td>\n",
       "    </tr>\n",
       "    <tr>\n",
       "      <th>6</th>\n",
       "      <td>2262.0</td>\n",
       "      <td>2628.0</td>\n",
       "    </tr>\n",
       "    <tr>\n",
       "      <th>7</th>\n",
       "      <td>2023.0</td>\n",
       "      <td>2565.0</td>\n",
       "    </tr>\n",
       "  </tbody>\n",
       "</table>\n",
       "</div>"
      ],
      "text/plain": [
       "  cf_rating cc_rating\n",
       "0    3449.0    3007.0\n",
       "4    1703.0    2673.0\n",
       "5    2202.0    2628.0\n",
       "6    2262.0    2628.0\n",
       "7    2023.0    2565.0"
      ]
     },
     "execution_count": 28,
     "metadata": {},
     "output_type": "execute_result"
    }
   ],
   "source": [
    "both_cc_cf.drop(columns=['ss_username','cf_username','cc_username'],inplace=True)\n",
    "both_cc_cf.head()"
   ]
  },
  {
   "cell_type": "markdown",
   "id": "2ab4fb6c",
   "metadata": {},
   "source": [
    "#### Fearure Standardizing"
   ]
  },
  {
   "cell_type": "code",
   "execution_count": 29,
   "id": "1a131d35",
   "metadata": {},
   "outputs": [
    {
     "data": {
      "text/plain": [
       "array([[3007.],\n",
       "       [2673.],\n",
       "       [2628.],\n",
       "       ...,\n",
       "       [ 518.],\n",
       "       [ 460.],\n",
       "       [ 277.]])"
      ]
     },
     "execution_count": 29,
     "metadata": {},
     "output_type": "execute_result"
    }
   ],
   "source": [
    "X=both_cc_cf['cc_rating'].values.reshape(-1,1).astype(float)\n",
    "Y=both_cc_cf['cf_rating'].values.reshape(-1,1).astype(float)\n",
    "X"
   ]
  },
  {
   "cell_type": "markdown",
   "id": "ecc87241",
   "metadata": {},
   "source": [
    "### plot of `test data points` between CC & CF"
   ]
  },
  {
   "cell_type": "code",
   "execution_count": 31,
   "id": "0601b17d",
   "metadata": {},
   "outputs": [
    {
     "data": {
      "image/png": "[encoded data removed]",
      "text/plain": [
       "<Figure size 640x480 with 1 Axes>"
      ]
     },
     "metadata": {},
     "output_type": "display_data"
    }
   ],
   "source": [
    "plt.scatter(X, Y, color='orange', label='data')\n",
    "plt.legend()\n",
    "plt.xlabel(\"cc_rating\")\n",
    "plt.ylabel(\"cf_rating\")\n",
    "plt.title('cc_rating v/s cf_rating')\n",
    "\n",
    "plt.show()"
   ]
  },
  {
   "cell_type": "markdown",
   "id": "96ef48bb",
   "metadata": {},
   "source": [
    "### Linear Regression (Analytical Solution)"
   ]
  },
  {
   "cell_type": "code",
   "execution_count": 12,
   "id": "ec6f7b15",
   "metadata": {},
   "outputs": [],
   "source": [
    "def linear_regression(X, y):\n",
    "    #calculating mean\n",
    "    mean_x = np.mean(X)\n",
    "    mean_y = np.mean(y)\n",
    "    \n",
    "    n = 0\n",
    "    d = 0\n",
    "    for i in range(len(X)):\n",
    "        n += (X[i] - mean_x) * (y[i] - mean_y)\n",
    "        d += (X[i] - mean_x) ** 2\n",
    "    #calculating weights and bias\n",
    "    w = n/d\n",
    "    b = mean_y-(w * mean_x)\n",
    "  \n",
    "    return (b, w)"
   ]
  },
  {
   "cell_type": "code",
   "execution_count": 13,
   "id": "140b973a",
   "metadata": {},
   "outputs": [],
   "source": [
    "b,w = linear_regression(X,Y)"
   ]
  },
  {
   "cell_type": "markdown",
   "id": "4439eade",
   "metadata": {},
   "source": [
    "### `Intercept(b)` & `Coefficient(w)` through Analytical Solution method"
   ]
  },
  {
   "cell_type": "code",
   "execution_count": 14,
   "id": "bc86bf12",
   "metadata": {},
   "outputs": [
    {
     "name": "stdout",
     "output_type": "stream",
     "text": [
      "Intercept: -32.62927\n",
      "Coefficients: 0.83156\n"
     ]
    }
   ],
   "source": [
    "print(f\"Intercept: {b[0]:0.5f}\")\n",
    "print(f\"Coefficients: {w[0]:0.5f}\")"
   ]
  },
  {
   "cell_type": "markdown",
   "id": "ebfbb0b6",
   "metadata": {},
   "source": [
    "finding predictions of rating "
   ]
  },
  {
   "cell_type": "code",
   "execution_count": 15,
   "id": "923a9cdf",
   "metadata": {},
   "outputs": [
    {
     "name": "stdout",
     "output_type": "stream",
     "text": [
      "[2467.87783605 2190.13610949 2152.71581699 ...  398.11987972  349.88928049\n",
      "  197.71342432]\n"
     ]
    }
   ],
   "source": [
    "Y_pred = np.dot(X,w) + b\n",
    "print(Y_pred)"
   ]
  },
  {
   "cell_type": "markdown",
   "id": "038da63c",
   "metadata": {},
   "source": [
    "### plot of `predicted line` & `test data points`"
   ]
  },
  {
   "cell_type": "code",
   "execution_count": 32,
   "id": "ae1d8653",
   "metadata": {},
   "outputs": [
    {
     "data": {
      "image/png": "[encoded data removed]",
      "text/plain": [
       "<Figure size 640x480 with 1 Axes>"
      ]
     },
     "metadata": {},
     "output_type": "display_data"
    }
   ],
   "source": [
    "#pred line\n",
    "plt.plot(X, Y_pred, color = \"blue\", label='Predicted Line')\n",
    "\n",
    "#test data points\n",
    "plt.scatter(X, Y, color='orange', label='data')\n",
    "plt.legend()\n",
    "plt.xlabel(\"cc_rating\")\n",
    "plt.ylabel(\"cf_rating\")\n",
    "plt.title('cc_rating v/s cf_rating')\n",
    "\n",
    "plt.show()"
   ]
  },
  {
   "cell_type": "code",
   "execution_count": 17,
   "id": "efaf7f8f",
   "metadata": {},
   "outputs": [],
   "source": [
    "X_cf=only_cf['cf_rating'].values.reshape(-1,1).astype(float)\n",
    "X_cc=only_cc['cc_rating'].values.reshape(-1,1).astype(float)"
   ]
  },
  {
   "cell_type": "code",
   "execution_count": 18,
   "id": "93869843",
   "metadata": {},
   "outputs": [],
   "source": [
    "y_pred_cc = np.dot(X_cf, w) + b"
   ]
  },
  {
   "cell_type": "code",
   "execution_count": 20,
   "id": "94e39f2d",
   "metadata": {},
   "outputs": [
    {
     "name": "stdout",
     "output_type": "stream",
     "text": [
      "codechef 700 , codeforces 549.4642\n",
      "codechef 800 , codeforces 632.6204\n",
      "codechef 900 , codeforces 715.7766\n",
      "codechef 1000 , codeforces 798.9328\n",
      "codechef 1100 , codeforces 882.0890\n",
      "codechef 1200 , codeforces 965.2452\n",
      "codechef 1300 , codeforces 1048.4014\n",
      "codechef 1400 , codeforces 1131.5576\n",
      "codechef 1500 , codeforces 1214.7138\n",
      "codechef 1600 , codeforces 1297.8700\n",
      "codechef 1700 , codeforces 1381.0262\n",
      "codechef 1800 , codeforces 1464.1824\n",
      "codechef 1900 , codeforces 1547.3386\n",
      "codechef 2000 , codeforces 1630.4948\n"
     ]
    }
   ],
   "source": [
    "for z in range(700,2100,100):\n",
    "    print(f'codechef {z} , codeforces {(w[0] * z + b[0]):0.4f}')"
   ]
  }
 ],
 "metadata": {
  "kernelspec": {
   "display_name": "Python 3 (ipykernel)",
   "language": "python",
   "name": "python3"
  },
  "language_info": {
   "codemirror_mode": {
    "name": "ipython",
    "version": 3
   },
   "file_extension": ".py",
   "mimetype": "text/x-python",
   "name": "python",
   "nbconvert_exporter": "python",
   "pygments_lexer": "ipython3",
   "version": "3.11.7"
  }
 },
 "nbformat": 4,
 "nbformat_minor": 5
}
