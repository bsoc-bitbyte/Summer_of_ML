{
 "cells": [
  {
   "cell_type": "markdown",
   "metadata": {
    "id": "MHUO8e11uy6K"
   },
   "source": [
    "Form link : https://docs.google.com/forms/d/e/1FAIpQLSfmT0PMYiLtyLWwlSxgD5rn9ch_IscgZrfSuYeQDG8ydyG6qw/viewform\n",
    "\n",
    "Link to dataset : https://drive.google.com/file/d/1sbQ5WJ-KCPBrhT2YagtaARGoujCMpB8Q/view\n",
    "\n",
    "Resource-doc shared : https://docs.google.com/document/d/1E5cUtu6iaNxHblbw1TbX-7r8PC5uRcsnx9Z3ui-bFMg/"
   ]
  },
  {
   "cell_type": "markdown",
   "metadata": {
    "id": "8LmHV7W9GevP"
   },
   "source": [
    "# SA-2023 WEEK 3 GRADED ASSIGNMENT\n",
    "\n",
    "> Spaceship Titanic\n",
    "\n",
    "Predict which passengers are transported to an alternate dimension\n",
    "\n",
    "![](https://www.gannett-cdn.com/-mm-/682bf77435754aee88576469063388a7d8b07c2a/c=0-150-1280-873/local/-/media/2017/02/01/Reno/RGJ/636215634914521096-image001.jpg?width=660&height=373&fit=crop&format=pjpg&auto=webp)\n"
   ]
  },
  {
   "cell_type": "markdown",
   "metadata": {
    "id": "oLt5SCtVJpr3"
   },
   "source": [
    "### <b>Description</b>\n",
    "\n",
    "Welcome to the year 2912, where your data science skills are needed to solve a cosmic mystery. We've received a transmission from four lightyears away and things aren't looking good.\n",
    "\n",
    "The Spaceship Titanic was an interstellar passenger liner launched a month ago. With almost 13,000 passengers on board, the vessel set out on its maiden voyage transporting emigrants from our solar system to three newly habitable exoplanets orbiting nearby stars.\n",
    "\n",
    "While rounding Alpha Centauri en route to its first destination—the torrid 55 Cancri E—the unwary Spaceship Titanic collided with a spacetime anomaly hidden within a dust cloud. Sadly, it met a similar fate as its namesake from 1000 years before. Though the ship stayed intact, almost half of the passengers were transported to an alternate dimension!"
   ]
  },
  {
   "cell_type": "markdown",
   "metadata": {
    "id": "y9Gca7_uNwH0"
   },
   "source": [
    "### <b>Data description</b>\n",
    "\n",
    "- Personal records for about two-thirds (~8700) of the passengers, to be used as training data.\n",
    "- <code>PassengerId</code> - A unique Id for each passenger. Each Id takes the form gggg_pp where gggg indicates a group the passenger is travelling with and pp is their number within the group. People in a group are often family members, but not always.\n",
    "- <code>HomePlanet</code> - The planet the passenger departed from, typically their planet of permanent residence.\n",
    "- <code>CryoSleep</code> - Indicates whether the passenger elected to be put into suspended animation for the duration of the voyage. Passengers in cryosleep are confined to their cabins.\n",
    "- <code>Cabin</code> - The cabin number where the passenger is staying. Takes the form deck/num/side, where side can be either P for Port or S for Starboard.\n",
    "- <code>Destination</code> - The planet the passenger will be debarking to.\n",
    "- <code>Age</code> - The age of the passenger.\n",
    "- <code>VIP</code> - Whether the passenger has paid for special VIP service during the voyage.\n",
    "- <code>RoomService, FoodCourt, ShoppingMall, Spa, VRDeck</code> - Amount the passenger has billed at each of the Spaceship Titanic's many luxury amenities.\n",
    "- <code>Name</code> - The first and last names of the passenger.\n",
    "- <code>Transported</code> - Whether the passenger was transported to another dimension. This is the target, the column you are trying to predict.\n"
   ]
  },
  {
   "cell_type": "markdown",
   "metadata": {
    "id": "QFtglLAEN18g"
   },
   "source": [
    "### <b>Algorithm Documentation</b> (Highly recommended!)\n",
    "- <code>Logistic Regression</code> : https://scikit-learn.org/stable/modules/generated/sklearn.linear_model.LogisticRegression.html\n",
    "- <code>SVM</code> : https://scikit-learn.org/stable/modules/svm.html\n",
    "Confusion Matrix : https://scikit-learn.org/stable/modules/generated/sklearn.metrics.confusion_matrix.html\n",
    "- <code>Plot Confusion Matrix</code> : https://scikit-learn.org/stable/modules/generated/sklearn.metrics.plot_confusion_matrix.html\n",
    "- <code>ROC_AUC Score</code> : https://scikit-learn.org/stable/modules/generated/sklearn.metrics.roc_auc_score.html#sklearn.metrics.roc_auc_score\n",
    "- <code>Classification Report</code> : https://scikit-learn.org/stable/modules/generated/sklearn.metrics.classification_report.html\n",
    "- <code>Label Encoder</code> : https://scikit-learn.org/stable/modules/generated/sklearn.preprocessing.LabelEncoder.html\n",
    "- <code>Label Binarizer</code> : https://scikit-learn.org/stable/modules/generated/sklearn.preprocessing.LabelBinarizer.html\n",
    "- <code>Standard Scaler</code> : https://scikit-learn.org/stable/modules/generated/sklearn.preprocessing.StandardScaler.html\n",
    "- <code>Cross Val Score</code> : https://scikit-learn.org/stable/modules/generated/sklearn.model_selection.cross_val_score.html"
   ]
  },
  {
   "cell_type": "markdown",
   "metadata": {
    "id": "v7NbAQfaPzYu"
   },
   "source": [
    "# <span><h1 style = \"font-family: garamond; font-size: 40px; font-style: normal; letter-spcaing: 3px; background-color: #f6f5f5; color :#fe346e; border-radius: 100px 100px; text-align:center\">Install Required Libraries</h1></span>"
   ]
  },
  {
   "cell_type": "code",
   "execution_count": 1,
   "metadata": {
    "id": "xoIlRrQsOGUu"
   },
   "outputs": [],
   "source": [
    "## ======== YOUR CODE HERE ======== ##\n",
    "\n",
    "import numpy as np\n",
    "import pandas as pd\n",
    "import matplotlib.pyplot as plt\n",
    "import seaborn as sns\n",
    "\n",
    "import sklearn\n",
    "from sklearn.linear_model import LogisticRegression\n",
    "from sklearn.svm import SVC\n",
    "\n",
    "from sklearn.metrics import confusion_matrix, accuracy_score, roc_auc_score, ConfusionMatrixDisplay, classification_report\n",
    "from sklearn.preprocessing import LabelEncoder, LabelBinarizer, StandardScaler\n",
    "\n",
    "from sklearn.model_selection import train_test_split\n",
    "from sklearn.model_selection import cross_val_score\n",
    "import warnings\n",
    "warnings.filterwarnings(\"ignore\")"
   ]
  },
  {
   "cell_type": "markdown",
   "metadata": {
    "id": "UH9QQTGtQR-O"
   },
   "source": [
    "#### Read the data"
   ]
  },
  {
   "cell_type": "code",
   "execution_count": 2,
   "metadata": {
    "id": "-zjNPzaNJh0J",
    "scrolled": false
   },
   "outputs": [
    {
     "data": {
      "text/html": [
       "<div>\n",
       "<style scoped>\n",
       "    .dataframe tbody tr th:only-of-type {\n",
       "        vertical-align: middle;\n",
       "    }\n",
       "\n",
       "    .dataframe tbody tr th {\n",
       "        vertical-align: top;\n",
       "    }\n",
       "\n",
       "    .dataframe thead th {\n",
       "        text-align: right;\n",
       "    }\n",
       "</style>\n",
       "<table border=\"1\" class=\"dataframe\">\n",
       "  <thead>\n",
       "    <tr style=\"text-align: right;\">\n",
       "      <th></th>\n",
       "      <th>PassengerId</th>\n",
       "      <th>HomePlanet</th>\n",
       "      <th>CryoSleep</th>\n",
       "      <th>Cabin</th>\n",
       "      <th>Destination</th>\n",
       "      <th>Age</th>\n",
       "      <th>VIP</th>\n",
       "      <th>RoomService</th>\n",
       "      <th>FoodCourt</th>\n",
       "      <th>ShoppingMall</th>\n",
       "      <th>Spa</th>\n",
       "      <th>VRDeck</th>\n",
       "      <th>Name</th>\n",
       "      <th>Transported</th>\n",
       "    </tr>\n",
       "  </thead>\n",
       "  <tbody>\n",
       "    <tr>\n",
       "      <th>0</th>\n",
       "      <td>0001_01</td>\n",
       "      <td>Europa</td>\n",
       "      <td>False</td>\n",
       "      <td>B/0/P</td>\n",
       "      <td>Andromeda</td>\n",
       "      <td>39</td>\n",
       "      <td>False</td>\n",
       "      <td>0</td>\n",
       "      <td>0</td>\n",
       "      <td>0</td>\n",
       "      <td>0</td>\n",
       "      <td>0</td>\n",
       "      <td>Maham Ofracculy</td>\n",
       "      <td>False</td>\n",
       "    </tr>\n",
       "    <tr>\n",
       "      <th>1</th>\n",
       "      <td>0002_01</td>\n",
       "      <td>Earth</td>\n",
       "      <td>False</td>\n",
       "      <td>F/0/S</td>\n",
       "      <td>Andromeda</td>\n",
       "      <td>24</td>\n",
       "      <td>False</td>\n",
       "      <td>109</td>\n",
       "      <td>9</td>\n",
       "      <td>25</td>\n",
       "      <td>549</td>\n",
       "      <td>44</td>\n",
       "      <td>Juanna Vines</td>\n",
       "      <td>True</td>\n",
       "    </tr>\n",
       "    <tr>\n",
       "      <th>2</th>\n",
       "      <td>0003_01</td>\n",
       "      <td>Europa</td>\n",
       "      <td>False</td>\n",
       "      <td>A/0/S</td>\n",
       "      <td>Andromeda</td>\n",
       "      <td>58</td>\n",
       "      <td>True</td>\n",
       "      <td>43</td>\n",
       "      <td>3576</td>\n",
       "      <td>0</td>\n",
       "      <td>6715</td>\n",
       "      <td>49</td>\n",
       "      <td>Altark Susent</td>\n",
       "      <td>False</td>\n",
       "    </tr>\n",
       "    <tr>\n",
       "      <th>3</th>\n",
       "      <td>0003_02</td>\n",
       "      <td>Europa</td>\n",
       "      <td>False</td>\n",
       "      <td>A/0/S</td>\n",
       "      <td>Andromeda</td>\n",
       "      <td>33</td>\n",
       "      <td>False</td>\n",
       "      <td>0</td>\n",
       "      <td>1283</td>\n",
       "      <td>371</td>\n",
       "      <td>3329</td>\n",
       "      <td>193</td>\n",
       "      <td>Solam Susent</td>\n",
       "      <td>False</td>\n",
       "    </tr>\n",
       "    <tr>\n",
       "      <th>4</th>\n",
       "      <td>0004_01</td>\n",
       "      <td>Earth</td>\n",
       "      <td>False</td>\n",
       "      <td>F/1/S</td>\n",
       "      <td>Andromeda</td>\n",
       "      <td>16</td>\n",
       "      <td>False</td>\n",
       "      <td>303</td>\n",
       "      <td>70</td>\n",
       "      <td>151</td>\n",
       "      <td>565</td>\n",
       "      <td>2</td>\n",
       "      <td>Willy Santantines</td>\n",
       "      <td>True</td>\n",
       "    </tr>\n",
       "    <tr>\n",
       "      <th>...</th>\n",
       "      <td>...</td>\n",
       "      <td>...</td>\n",
       "      <td>...</td>\n",
       "      <td>...</td>\n",
       "      <td>...</td>\n",
       "      <td>...</td>\n",
       "      <td>...</td>\n",
       "      <td>...</td>\n",
       "      <td>...</td>\n",
       "      <td>...</td>\n",
       "      <td>...</td>\n",
       "      <td>...</td>\n",
       "      <td>...</td>\n",
       "      <td>...</td>\n",
       "    </tr>\n",
       "    <tr>\n",
       "      <th>8688</th>\n",
       "      <td>9276_01</td>\n",
       "      <td>Europa</td>\n",
       "      <td>False</td>\n",
       "      <td>A/98/P</td>\n",
       "      <td>Virgo</td>\n",
       "      <td>41</td>\n",
       "      <td>True</td>\n",
       "      <td>0</td>\n",
       "      <td>6819</td>\n",
       "      <td>0</td>\n",
       "      <td>1643</td>\n",
       "      <td>74</td>\n",
       "      <td>Gravior Noxnuther</td>\n",
       "      <td>False</td>\n",
       "    </tr>\n",
       "    <tr>\n",
       "      <th>8689</th>\n",
       "      <td>9278_01</td>\n",
       "      <td>Earth</td>\n",
       "      <td>True</td>\n",
       "      <td>G/1499/S</td>\n",
       "      <td>Cygnus</td>\n",
       "      <td>18</td>\n",
       "      <td>False</td>\n",
       "      <td>0</td>\n",
       "      <td>0</td>\n",
       "      <td>0</td>\n",
       "      <td>0</td>\n",
       "      <td>0</td>\n",
       "      <td>Kurta Mondalley</td>\n",
       "      <td>False</td>\n",
       "    </tr>\n",
       "    <tr>\n",
       "      <th>8690</th>\n",
       "      <td>9279_01</td>\n",
       "      <td>Earth</td>\n",
       "      <td>False</td>\n",
       "      <td>G/1500/S</td>\n",
       "      <td>Andromeda</td>\n",
       "      <td>26</td>\n",
       "      <td>False</td>\n",
       "      <td>0</td>\n",
       "      <td>0</td>\n",
       "      <td>1872</td>\n",
       "      <td>1</td>\n",
       "      <td>0</td>\n",
       "      <td>Fayey Connon</td>\n",
       "      <td>True</td>\n",
       "    </tr>\n",
       "    <tr>\n",
       "      <th>8691</th>\n",
       "      <td>9280_01</td>\n",
       "      <td>Europa</td>\n",
       "      <td>False</td>\n",
       "      <td>E/608/S</td>\n",
       "      <td>Virgo</td>\n",
       "      <td>32</td>\n",
       "      <td>False</td>\n",
       "      <td>0</td>\n",
       "      <td>1049</td>\n",
       "      <td>0</td>\n",
       "      <td>353</td>\n",
       "      <td>3235</td>\n",
       "      <td>Celeon Hontichre</td>\n",
       "      <td>False</td>\n",
       "    </tr>\n",
       "    <tr>\n",
       "      <th>8692</th>\n",
       "      <td>9280_02</td>\n",
       "      <td>Europa</td>\n",
       "      <td>False</td>\n",
       "      <td>E/608/S</td>\n",
       "      <td>Andromeda</td>\n",
       "      <td>44</td>\n",
       "      <td>False</td>\n",
       "      <td>126</td>\n",
       "      <td>4688</td>\n",
       "      <td>0</td>\n",
       "      <td>0</td>\n",
       "      <td>12</td>\n",
       "      <td>Propsh Hontichre</td>\n",
       "      <td>True</td>\n",
       "    </tr>\n",
       "  </tbody>\n",
       "</table>\n",
       "<p>8693 rows × 14 columns</p>\n",
       "</div>"
      ],
      "text/plain": [
       "     PassengerId HomePlanet  CryoSleep     Cabin Destination  Age    VIP  \\\n",
       "0        0001_01     Europa      False     B/0/P   Andromeda   39  False   \n",
       "1        0002_01      Earth      False     F/0/S   Andromeda   24  False   \n",
       "2        0003_01     Europa      False     A/0/S   Andromeda   58   True   \n",
       "3        0003_02     Europa      False     A/0/S   Andromeda   33  False   \n",
       "4        0004_01      Earth      False     F/1/S   Andromeda   16  False   \n",
       "...          ...        ...        ...       ...         ...  ...    ...   \n",
       "8688     9276_01     Europa      False    A/98/P       Virgo   41   True   \n",
       "8689     9278_01      Earth       True  G/1499/S      Cygnus   18  False   \n",
       "8690     9279_01      Earth      False  G/1500/S   Andromeda   26  False   \n",
       "8691     9280_01     Europa      False   E/608/S       Virgo   32  False   \n",
       "8692     9280_02     Europa      False   E/608/S   Andromeda   44  False   \n",
       "\n",
       "      RoomService  FoodCourt  ShoppingMall   Spa  VRDeck               Name  \\\n",
       "0               0          0             0     0       0    Maham Ofracculy   \n",
       "1             109          9            25   549      44       Juanna Vines   \n",
       "2              43       3576             0  6715      49      Altark Susent   \n",
       "3               0       1283           371  3329     193       Solam Susent   \n",
       "4             303         70           151   565       2  Willy Santantines   \n",
       "...           ...        ...           ...   ...     ...                ...   \n",
       "8688            0       6819             0  1643      74  Gravior Noxnuther   \n",
       "8689            0          0             0     0       0    Kurta Mondalley   \n",
       "8690            0          0          1872     1       0       Fayey Connon   \n",
       "8691            0       1049             0   353    3235   Celeon Hontichre   \n",
       "8692          126       4688             0     0      12   Propsh Hontichre   \n",
       "\n",
       "      Transported  \n",
       "0           False  \n",
       "1            True  \n",
       "2           False  \n",
       "3           False  \n",
       "4            True  \n",
       "...           ...  \n",
       "8688        False  \n",
       "8689        False  \n",
       "8690         True  \n",
       "8691        False  \n",
       "8692         True  \n",
       "\n",
       "[8693 rows x 14 columns]"
      ]
     },
     "execution_count": 2,
     "metadata": {},
     "output_type": "execute_result"
    }
   ],
   "source": [
    "## ======== YOUR CODE HERE ======== ##\n",
    "\n",
    "# Use df as the dataframe name throughout the notebook.\n",
    "# !wget https://drive.google.com/file/d/1V13ooh9LJTIp2OFdD9fvF5hPupWKbUpr/view?usp=drive_link\n",
    "# df = pd.read_csv('')\n",
    "# df.head()\n",
    "\n",
    "url='https://drive.google.com/file/d/1sbQ5WJ-KCPBrhT2YagtaARGoujCMpB8Q/view'\n",
    "url='https://drive.google.com/uc?id=' + url.split('/')[-2]\n",
    "df = pd.read_csv(url)\n",
    "df\n",
    "\n",
    "## ================================ ##"
   ]
  },
  {
   "cell_type": "markdown",
   "metadata": {
    "id": "TctF3H_SUePG"
   },
   "source": [
    "#### Check the shape of data. It should be  (8693, 14)"
   ]
  },
  {
   "cell_type": "code",
   "execution_count": 3,
   "metadata": {
    "id": "T5wuaGN7LY7M"
   },
   "outputs": [
    {
     "data": {
      "text/plain": [
       "(8693, 14)"
      ]
     },
     "execution_count": 3,
     "metadata": {},
     "output_type": "execute_result"
    }
   ],
   "source": [
    "## ======== YOUR CODE HERE ======== ##\n",
    "\n",
    "df.shape\n",
    "\n",
    "## ================================ ##"
   ]
  },
  {
   "cell_type": "markdown",
   "metadata": {
    "id": "qtkIiZmwUpDM"
   },
   "source": [
    "#### Apply describe on dataframe"
   ]
  },
  {
   "cell_type": "code",
   "execution_count": 4,
   "metadata": {
    "id": "oa9X6NTxQlzk"
   },
   "outputs": [
    {
     "data": {
      "text/html": [
       "<div>\n",
       "<style scoped>\n",
       "    .dataframe tbody tr th:only-of-type {\n",
       "        vertical-align: middle;\n",
       "    }\n",
       "\n",
       "    .dataframe tbody tr th {\n",
       "        vertical-align: top;\n",
       "    }\n",
       "\n",
       "    .dataframe thead th {\n",
       "        text-align: right;\n",
       "    }\n",
       "</style>\n",
       "<table border=\"1\" class=\"dataframe\">\n",
       "  <thead>\n",
       "    <tr style=\"text-align: right;\">\n",
       "      <th></th>\n",
       "      <th>Age</th>\n",
       "      <th>RoomService</th>\n",
       "      <th>FoodCourt</th>\n",
       "      <th>ShoppingMall</th>\n",
       "      <th>Spa</th>\n",
       "      <th>VRDeck</th>\n",
       "    </tr>\n",
       "  </thead>\n",
       "  <tbody>\n",
       "    <tr>\n",
       "      <th>count</th>\n",
       "      <td>8693.000000</td>\n",
       "      <td>8693.000000</td>\n",
       "      <td>8693.000000</td>\n",
       "      <td>8693.000000</td>\n",
       "      <td>8693.000000</td>\n",
       "      <td>8693.000000</td>\n",
       "    </tr>\n",
       "    <tr>\n",
       "      <th>mean</th>\n",
       "      <td>28.728517</td>\n",
       "      <td>220.009318</td>\n",
       "      <td>448.434027</td>\n",
       "      <td>169.572300</td>\n",
       "      <td>304.588865</td>\n",
       "      <td>298.261820</td>\n",
       "    </tr>\n",
       "    <tr>\n",
       "      <th>std</th>\n",
       "      <td>14.355438</td>\n",
       "      <td>660.519050</td>\n",
       "      <td>1595.790627</td>\n",
       "      <td>598.007164</td>\n",
       "      <td>1125.562559</td>\n",
       "      <td>1134.126417</td>\n",
       "    </tr>\n",
       "    <tr>\n",
       "      <th>min</th>\n",
       "      <td>0.000000</td>\n",
       "      <td>0.000000</td>\n",
       "      <td>0.000000</td>\n",
       "      <td>0.000000</td>\n",
       "      <td>0.000000</td>\n",
       "      <td>0.000000</td>\n",
       "    </tr>\n",
       "    <tr>\n",
       "      <th>25%</th>\n",
       "      <td>20.000000</td>\n",
       "      <td>0.000000</td>\n",
       "      <td>0.000000</td>\n",
       "      <td>0.000000</td>\n",
       "      <td>0.000000</td>\n",
       "      <td>0.000000</td>\n",
       "    </tr>\n",
       "    <tr>\n",
       "      <th>50%</th>\n",
       "      <td>27.000000</td>\n",
       "      <td>0.000000</td>\n",
       "      <td>0.000000</td>\n",
       "      <td>0.000000</td>\n",
       "      <td>0.000000</td>\n",
       "      <td>0.000000</td>\n",
       "    </tr>\n",
       "    <tr>\n",
       "      <th>75%</th>\n",
       "      <td>37.000000</td>\n",
       "      <td>41.000000</td>\n",
       "      <td>61.000000</td>\n",
       "      <td>22.000000</td>\n",
       "      <td>53.000000</td>\n",
       "      <td>40.000000</td>\n",
       "    </tr>\n",
       "    <tr>\n",
       "      <th>max</th>\n",
       "      <td>79.000000</td>\n",
       "      <td>14327.000000</td>\n",
       "      <td>29813.000000</td>\n",
       "      <td>23492.000000</td>\n",
       "      <td>22408.000000</td>\n",
       "      <td>24133.000000</td>\n",
       "    </tr>\n",
       "  </tbody>\n",
       "</table>\n",
       "</div>"
      ],
      "text/plain": [
       "               Age   RoomService     FoodCourt  ShoppingMall           Spa  \\\n",
       "count  8693.000000   8693.000000   8693.000000   8693.000000   8693.000000   \n",
       "mean     28.728517    220.009318    448.434027    169.572300    304.588865   \n",
       "std      14.355438    660.519050   1595.790627    598.007164   1125.562559   \n",
       "min       0.000000      0.000000      0.000000      0.000000      0.000000   \n",
       "25%      20.000000      0.000000      0.000000      0.000000      0.000000   \n",
       "50%      27.000000      0.000000      0.000000      0.000000      0.000000   \n",
       "75%      37.000000     41.000000     61.000000     22.000000     53.000000   \n",
       "max      79.000000  14327.000000  29813.000000  23492.000000  22408.000000   \n",
       "\n",
       "             VRDeck  \n",
       "count   8693.000000  \n",
       "mean     298.261820  \n",
       "std     1134.126417  \n",
       "min        0.000000  \n",
       "25%        0.000000  \n",
       "50%        0.000000  \n",
       "75%       40.000000  \n",
       "max    24133.000000  "
      ]
     },
     "execution_count": 4,
     "metadata": {},
     "output_type": "execute_result"
    }
   ],
   "source": [
    "## ======== YOUR CODE HERE ======== ##\n",
    "\n",
    "df.describe()\n",
    "## ================================ ##"
   ]
  },
  {
   "cell_type": "markdown",
   "metadata": {
    "id": "jtuqbR3LUsws"
   },
   "source": [
    "#### Check if there any null value in the dataset."
   ]
  },
  {
   "cell_type": "code",
   "execution_count": 5,
   "metadata": {
    "id": "NH6Ky_nqQxtE"
   },
   "outputs": [
    {
     "data": {
      "text/plain": [
       "PassengerId     0\n",
       "HomePlanet      0\n",
       "CryoSleep       0\n",
       "Cabin           0\n",
       "Destination     0\n",
       "Age             0\n",
       "VIP             0\n",
       "RoomService     0\n",
       "FoodCourt       0\n",
       "ShoppingMall    0\n",
       "Spa             0\n",
       "VRDeck          0\n",
       "Name            0\n",
       "Transported     0\n",
       "dtype: int64"
      ]
     },
     "execution_count": 5,
     "metadata": {},
     "output_type": "execute_result"
    }
   ],
   "source": [
    "## ======== YOUR CODE HERE ======== ##\n",
    "\n",
    "df.isnull().sum()\n",
    "# df.info()\n",
    "\n",
    "## ================================ ##"
   ]
  },
  {
   "cell_type": "markdown",
   "metadata": {
    "id": "XA8O-zuLU00Q"
   },
   "source": [
    "#### Number continuous and categorical features"
   ]
  },
  {
   "cell_type": "code",
   "execution_count": 6,
   "metadata": {
    "id": "bnEHaL-cUUQ4"
   },
   "outputs": [
    {
     "name": "stdout",
     "output_type": "stream",
     "text": [
      "Continous Features:  ['Age', 'RoomService', 'FoodCourt', 'ShoppingMall', 'Spa', 'VRDeck']\n",
      "No. of Continuous features:  6\n",
      "Categorical Features:  ['HomePlanet', 'CryoSleep', 'Destination', 'VIP', 'Transported', 'PassengerId', 'Cabin', 'Name']\n",
      "No. of Categorical Features:  8\n"
     ]
    }
   ],
   "source": [
    "#################################################################\n",
    "\n",
    "# Don't make mistake here. Ask in the discussion section if you are stuck. Help will be provided....\n",
    "\n",
    "#################################################################\n",
    "\n",
    "## ======== YOUR CODE HERE ======== ##\n",
    "\n",
    "continous_features = ['Age','RoomService','FoodCourt','ShoppingMall','Spa','VRDeck'] # Fill the continuous fearures inside the array\n",
    "categorical_features = ['HomePlanet','CryoSleep', 'Destination', 'VIP', 'Transported','PassengerId','Cabin','Name'] # Fill the categorical features inside the array\n",
    "\n",
    "## ======== YOUR CODE HERE ======== ##\n",
    "\n",
    "print(\"Continous Features: \", continous_features)\n",
    "print(\"No. of Continuous features: \", len(continous_features))\n",
    "\n",
    "print(\"Categorical Features: \", categorical_features)\n",
    "print(\"No. of Categorical Features: \", len(categorical_features))"
   ]
  },
  {
   "cell_type": "markdown",
   "metadata": {
    "id": "nvbf6praYa0l"
   },
   "source": [
    "#### Unique values"
   ]
  },
  {
   "cell_type": "code",
   "execution_count": 7,
   "metadata": {
    "id": "YHRaNXWuZecT"
   },
   "outputs": [
    {
     "name": "stdout",
     "output_type": "stream",
     "text": [
      "HomePlanet - 3\n",
      "\n",
      "CryoSleep - 2\n",
      "\n",
      "Destination - 3\n",
      "\n",
      "VIP - 2\n",
      "\n",
      "Transported - 2\n",
      "\n",
      "PassengerId - 8693\n",
      "\n",
      "Cabin - 6560\n",
      "\n",
      "Name - 8473\n",
      "\n"
     ]
    }
   ],
   "source": [
    "# Print the number of unique values of the categorical features\n",
    "\n",
    "## ======== YOUR CODE HERE ======== ##\n",
    "\n",
    "\n",
    "for feature in categorical_features:\n",
    "    print(f'{feature} - {len(np.unique(df[feature]))}')\n",
    "    print()\n",
    "## ======== YOUR CODE HERE ======== ##"
   ]
  },
  {
   "cell_type": "markdown",
   "metadata": {
    "id": "0oojkTXNbSsU"
   },
   "source": [
    "<code>Note: If we apply one-hot-encoding to a categorical feature with many unique values, </code>\n",
    "- Number of columns will be high\n",
    "- Time required for training a model will be high\n",
    "- We may not get usefull insights about the data\n",
    "\n",
    "<code>This is the reason we are droping the features with more unique values.</code>\n"
   ]
  },
  {
   "cell_type": "markdown",
   "metadata": {
    "id": "cDThwpZKdjKT"
   },
   "source": [
    "#### Drop the features"
   ]
  },
  {
   "cell_type": "code",
   "execution_count": 8,
   "metadata": {
    "id": "s1wMTAeJdqQb"
   },
   "outputs": [
    {
     "data": {
      "text/plain": [
       "(8693, 11)"
      ]
     },
     "execution_count": 8,
     "metadata": {},
     "output_type": "execute_result"
    }
   ],
   "source": [
    "# Drop those categorical features which have more than 25 unique values\n",
    "\n",
    "## ======== YOUR CODE HERE ======== ##\n",
    "\n",
    "df.drop(['PassengerId','Cabin','Name'], axis=1, inplace=True)\n",
    "\n",
    "## ======== YOUR CODE HERE ======== ##\n",
    "\n",
    "# Print the shape after droping the features\n",
    "# Check: Shape --> (8693, 11)\n",
    "\n",
    "## ======== YOUR CODE HERE ======== ##\n",
    "\n",
    "df.shape\n",
    "\n",
    "## ======== YOUR CODE HERE ======== ##"
   ]
  },
  {
   "cell_type": "markdown",
   "metadata": {
    "id": "k6giFKFeevim"
   },
   "source": [
    "#### One Hot Encoding"
   ]
  },
  {
   "cell_type": "code",
   "execution_count": 9,
   "metadata": {
    "id": "3BVX8hQhW8JT"
   },
   "outputs": [
    {
     "name": "stdout",
     "output_type": "stream",
     "text": [
      "(8693, 15)\n"
     ]
    },
    {
     "data": {
      "text/html": [
       "<div>\n",
       "<style scoped>\n",
       "    .dataframe tbody tr th:only-of-type {\n",
       "        vertical-align: middle;\n",
       "    }\n",
       "\n",
       "    .dataframe tbody tr th {\n",
       "        vertical-align: top;\n",
       "    }\n",
       "\n",
       "    .dataframe thead th {\n",
       "        text-align: right;\n",
       "    }\n",
       "</style>\n",
       "<table border=\"1\" class=\"dataframe\">\n",
       "  <thead>\n",
       "    <tr style=\"text-align: right;\">\n",
       "      <th></th>\n",
       "      <th>CryoSleep</th>\n",
       "      <th>Age</th>\n",
       "      <th>VIP</th>\n",
       "      <th>RoomService</th>\n",
       "      <th>FoodCourt</th>\n",
       "      <th>ShoppingMall</th>\n",
       "      <th>Spa</th>\n",
       "      <th>VRDeck</th>\n",
       "      <th>Transported</th>\n",
       "      <th>HomePlanet_Earth</th>\n",
       "      <th>HomePlanet_Europa</th>\n",
       "      <th>HomePlanet_Mars</th>\n",
       "      <th>Destination_Andromeda</th>\n",
       "      <th>Destination_Cygnus</th>\n",
       "      <th>Destination_Virgo</th>\n",
       "    </tr>\n",
       "  </thead>\n",
       "  <tbody>\n",
       "    <tr>\n",
       "      <th>0</th>\n",
       "      <td>False</td>\n",
       "      <td>39</td>\n",
       "      <td>False</td>\n",
       "      <td>0</td>\n",
       "      <td>0</td>\n",
       "      <td>0</td>\n",
       "      <td>0</td>\n",
       "      <td>0</td>\n",
       "      <td>False</td>\n",
       "      <td>False</td>\n",
       "      <td>True</td>\n",
       "      <td>False</td>\n",
       "      <td>True</td>\n",
       "      <td>False</td>\n",
       "      <td>False</td>\n",
       "    </tr>\n",
       "    <tr>\n",
       "      <th>1</th>\n",
       "      <td>False</td>\n",
       "      <td>24</td>\n",
       "      <td>False</td>\n",
       "      <td>109</td>\n",
       "      <td>9</td>\n",
       "      <td>25</td>\n",
       "      <td>549</td>\n",
       "      <td>44</td>\n",
       "      <td>True</td>\n",
       "      <td>True</td>\n",
       "      <td>False</td>\n",
       "      <td>False</td>\n",
       "      <td>True</td>\n",
       "      <td>False</td>\n",
       "      <td>False</td>\n",
       "    </tr>\n",
       "    <tr>\n",
       "      <th>2</th>\n",
       "      <td>False</td>\n",
       "      <td>58</td>\n",
       "      <td>True</td>\n",
       "      <td>43</td>\n",
       "      <td>3576</td>\n",
       "      <td>0</td>\n",
       "      <td>6715</td>\n",
       "      <td>49</td>\n",
       "      <td>False</td>\n",
       "      <td>False</td>\n",
       "      <td>True</td>\n",
       "      <td>False</td>\n",
       "      <td>True</td>\n",
       "      <td>False</td>\n",
       "      <td>False</td>\n",
       "    </tr>\n",
       "    <tr>\n",
       "      <th>3</th>\n",
       "      <td>False</td>\n",
       "      <td>33</td>\n",
       "      <td>False</td>\n",
       "      <td>0</td>\n",
       "      <td>1283</td>\n",
       "      <td>371</td>\n",
       "      <td>3329</td>\n",
       "      <td>193</td>\n",
       "      <td>False</td>\n",
       "      <td>False</td>\n",
       "      <td>True</td>\n",
       "      <td>False</td>\n",
       "      <td>True</td>\n",
       "      <td>False</td>\n",
       "      <td>False</td>\n",
       "    </tr>\n",
       "    <tr>\n",
       "      <th>4</th>\n",
       "      <td>False</td>\n",
       "      <td>16</td>\n",
       "      <td>False</td>\n",
       "      <td>303</td>\n",
       "      <td>70</td>\n",
       "      <td>151</td>\n",
       "      <td>565</td>\n",
       "      <td>2</td>\n",
       "      <td>True</td>\n",
       "      <td>True</td>\n",
       "      <td>False</td>\n",
       "      <td>False</td>\n",
       "      <td>True</td>\n",
       "      <td>False</td>\n",
       "      <td>False</td>\n",
       "    </tr>\n",
       "    <tr>\n",
       "      <th>...</th>\n",
       "      <td>...</td>\n",
       "      <td>...</td>\n",
       "      <td>...</td>\n",
       "      <td>...</td>\n",
       "      <td>...</td>\n",
       "      <td>...</td>\n",
       "      <td>...</td>\n",
       "      <td>...</td>\n",
       "      <td>...</td>\n",
       "      <td>...</td>\n",
       "      <td>...</td>\n",
       "      <td>...</td>\n",
       "      <td>...</td>\n",
       "      <td>...</td>\n",
       "      <td>...</td>\n",
       "    </tr>\n",
       "    <tr>\n",
       "      <th>8688</th>\n",
       "      <td>False</td>\n",
       "      <td>41</td>\n",
       "      <td>True</td>\n",
       "      <td>0</td>\n",
       "      <td>6819</td>\n",
       "      <td>0</td>\n",
       "      <td>1643</td>\n",
       "      <td>74</td>\n",
       "      <td>False</td>\n",
       "      <td>False</td>\n",
       "      <td>True</td>\n",
       "      <td>False</td>\n",
       "      <td>False</td>\n",
       "      <td>False</td>\n",
       "      <td>True</td>\n",
       "    </tr>\n",
       "    <tr>\n",
       "      <th>8689</th>\n",
       "      <td>True</td>\n",
       "      <td>18</td>\n",
       "      <td>False</td>\n",
       "      <td>0</td>\n",
       "      <td>0</td>\n",
       "      <td>0</td>\n",
       "      <td>0</td>\n",
       "      <td>0</td>\n",
       "      <td>False</td>\n",
       "      <td>True</td>\n",
       "      <td>False</td>\n",
       "      <td>False</td>\n",
       "      <td>False</td>\n",
       "      <td>True</td>\n",
       "      <td>False</td>\n",
       "    </tr>\n",
       "    <tr>\n",
       "      <th>8690</th>\n",
       "      <td>False</td>\n",
       "      <td>26</td>\n",
       "      <td>False</td>\n",
       "      <td>0</td>\n",
       "      <td>0</td>\n",
       "      <td>1872</td>\n",
       "      <td>1</td>\n",
       "      <td>0</td>\n",
       "      <td>True</td>\n",
       "      <td>True</td>\n",
       "      <td>False</td>\n",
       "      <td>False</td>\n",
       "      <td>True</td>\n",
       "      <td>False</td>\n",
       "      <td>False</td>\n",
       "    </tr>\n",
       "    <tr>\n",
       "      <th>8691</th>\n",
       "      <td>False</td>\n",
       "      <td>32</td>\n",
       "      <td>False</td>\n",
       "      <td>0</td>\n",
       "      <td>1049</td>\n",
       "      <td>0</td>\n",
       "      <td>353</td>\n",
       "      <td>3235</td>\n",
       "      <td>False</td>\n",
       "      <td>False</td>\n",
       "      <td>True</td>\n",
       "      <td>False</td>\n",
       "      <td>False</td>\n",
       "      <td>False</td>\n",
       "      <td>True</td>\n",
       "    </tr>\n",
       "    <tr>\n",
       "      <th>8692</th>\n",
       "      <td>False</td>\n",
       "      <td>44</td>\n",
       "      <td>False</td>\n",
       "      <td>126</td>\n",
       "      <td>4688</td>\n",
       "      <td>0</td>\n",
       "      <td>0</td>\n",
       "      <td>12</td>\n",
       "      <td>True</td>\n",
       "      <td>False</td>\n",
       "      <td>True</td>\n",
       "      <td>False</td>\n",
       "      <td>True</td>\n",
       "      <td>False</td>\n",
       "      <td>False</td>\n",
       "    </tr>\n",
       "  </tbody>\n",
       "</table>\n",
       "<p>8693 rows × 15 columns</p>\n",
       "</div>"
      ],
      "text/plain": [
       "      CryoSleep  Age    VIP  RoomService  FoodCourt  ShoppingMall   Spa  \\\n",
       "0         False   39  False            0          0             0     0   \n",
       "1         False   24  False          109          9            25   549   \n",
       "2         False   58   True           43       3576             0  6715   \n",
       "3         False   33  False            0       1283           371  3329   \n",
       "4         False   16  False          303         70           151   565   \n",
       "...         ...  ...    ...          ...        ...           ...   ...   \n",
       "8688      False   41   True            0       6819             0  1643   \n",
       "8689       True   18  False            0          0             0     0   \n",
       "8690      False   26  False            0          0          1872     1   \n",
       "8691      False   32  False            0       1049             0   353   \n",
       "8692      False   44  False          126       4688             0     0   \n",
       "\n",
       "      VRDeck  Transported  HomePlanet_Earth  HomePlanet_Europa  \\\n",
       "0          0        False             False               True   \n",
       "1         44         True              True              False   \n",
       "2         49        False             False               True   \n",
       "3        193        False             False               True   \n",
       "4          2         True              True              False   \n",
       "...      ...          ...               ...                ...   \n",
       "8688      74        False             False               True   \n",
       "8689       0        False              True              False   \n",
       "8690       0         True              True              False   \n",
       "8691    3235        False             False               True   \n",
       "8692      12         True             False               True   \n",
       "\n",
       "      HomePlanet_Mars  Destination_Andromeda  Destination_Cygnus  \\\n",
       "0               False                   True               False   \n",
       "1               False                   True               False   \n",
       "2               False                   True               False   \n",
       "3               False                   True               False   \n",
       "4               False                   True               False   \n",
       "...               ...                    ...                 ...   \n",
       "8688            False                  False               False   \n",
       "8689            False                  False                True   \n",
       "8690            False                   True               False   \n",
       "8691            False                  False               False   \n",
       "8692            False                   True               False   \n",
       "\n",
       "      Destination_Virgo  \n",
       "0                 False  \n",
       "1                 False  \n",
       "2                 False  \n",
       "3                 False  \n",
       "4                 False  \n",
       "...                 ...  \n",
       "8688               True  \n",
       "8689              False  \n",
       "8690              False  \n",
       "8691               True  \n",
       "8692              False  \n",
       "\n",
       "[8693 rows x 15 columns]"
      ]
     },
     "execution_count": 9,
     "metadata": {},
     "output_type": "execute_result"
    }
   ],
   "source": [
    "# Hint: search for get_dummies\n",
    "\n",
    "## ======== YOUR CODE HERE ======== ##\n",
    "\n",
    "df = pd.get_dummies(data=df)\n",
    "print(df.shape)\n",
    "df\n",
    "\n",
    "## ======== YOUR CODE HERE ======== ##\n",
    "\n",
    "# Check: Shape --> (8693, 15)"
   ]
  },
  {
   "cell_type": "markdown",
   "metadata": {
    "id": "9_HhXZhJjJrC"
   },
   "source": [
    "#### Changing bool columns to 0,1"
   ]
  },
  {
   "cell_type": "code",
   "execution_count": 10,
   "metadata": {
    "id": "6BGjAjk5emqP"
   },
   "outputs": [
    {
     "data": {
      "text/html": [
       "<div>\n",
       "<style scoped>\n",
       "    .dataframe tbody tr th:only-of-type {\n",
       "        vertical-align: middle;\n",
       "    }\n",
       "\n",
       "    .dataframe tbody tr th {\n",
       "        vertical-align: top;\n",
       "    }\n",
       "\n",
       "    .dataframe thead th {\n",
       "        text-align: right;\n",
       "    }\n",
       "</style>\n",
       "<table border=\"1\" class=\"dataframe\">\n",
       "  <thead>\n",
       "    <tr style=\"text-align: right;\">\n",
       "      <th></th>\n",
       "      <th>CryoSleep</th>\n",
       "      <th>Age</th>\n",
       "      <th>VIP</th>\n",
       "      <th>RoomService</th>\n",
       "      <th>FoodCourt</th>\n",
       "      <th>ShoppingMall</th>\n",
       "      <th>Spa</th>\n",
       "      <th>VRDeck</th>\n",
       "      <th>Transported</th>\n",
       "      <th>HomePlanet_Earth</th>\n",
       "      <th>HomePlanet_Europa</th>\n",
       "      <th>HomePlanet_Mars</th>\n",
       "      <th>Destination_Andromeda</th>\n",
       "      <th>Destination_Cygnus</th>\n",
       "      <th>Destination_Virgo</th>\n",
       "    </tr>\n",
       "  </thead>\n",
       "  <tbody>\n",
       "    <tr>\n",
       "      <th>0</th>\n",
       "      <td>0</td>\n",
       "      <td>39</td>\n",
       "      <td>0</td>\n",
       "      <td>0</td>\n",
       "      <td>0</td>\n",
       "      <td>0</td>\n",
       "      <td>0</td>\n",
       "      <td>0</td>\n",
       "      <td>0</td>\n",
       "      <td>0</td>\n",
       "      <td>1</td>\n",
       "      <td>0</td>\n",
       "      <td>1</td>\n",
       "      <td>0</td>\n",
       "      <td>0</td>\n",
       "    </tr>\n",
       "    <tr>\n",
       "      <th>1</th>\n",
       "      <td>0</td>\n",
       "      <td>24</td>\n",
       "      <td>0</td>\n",
       "      <td>109</td>\n",
       "      <td>9</td>\n",
       "      <td>25</td>\n",
       "      <td>549</td>\n",
       "      <td>44</td>\n",
       "      <td>1</td>\n",
       "      <td>1</td>\n",
       "      <td>0</td>\n",
       "      <td>0</td>\n",
       "      <td>1</td>\n",
       "      <td>0</td>\n",
       "      <td>0</td>\n",
       "    </tr>\n",
       "    <tr>\n",
       "      <th>2</th>\n",
       "      <td>0</td>\n",
       "      <td>58</td>\n",
       "      <td>1</td>\n",
       "      <td>43</td>\n",
       "      <td>3576</td>\n",
       "      <td>0</td>\n",
       "      <td>6715</td>\n",
       "      <td>49</td>\n",
       "      <td>0</td>\n",
       "      <td>0</td>\n",
       "      <td>1</td>\n",
       "      <td>0</td>\n",
       "      <td>1</td>\n",
       "      <td>0</td>\n",
       "      <td>0</td>\n",
       "    </tr>\n",
       "    <tr>\n",
       "      <th>3</th>\n",
       "      <td>0</td>\n",
       "      <td>33</td>\n",
       "      <td>0</td>\n",
       "      <td>0</td>\n",
       "      <td>1283</td>\n",
       "      <td>371</td>\n",
       "      <td>3329</td>\n",
       "      <td>193</td>\n",
       "      <td>0</td>\n",
       "      <td>0</td>\n",
       "      <td>1</td>\n",
       "      <td>0</td>\n",
       "      <td>1</td>\n",
       "      <td>0</td>\n",
       "      <td>0</td>\n",
       "    </tr>\n",
       "    <tr>\n",
       "      <th>4</th>\n",
       "      <td>0</td>\n",
       "      <td>16</td>\n",
       "      <td>0</td>\n",
       "      <td>303</td>\n",
       "      <td>70</td>\n",
       "      <td>151</td>\n",
       "      <td>565</td>\n",
       "      <td>2</td>\n",
       "      <td>1</td>\n",
       "      <td>1</td>\n",
       "      <td>0</td>\n",
       "      <td>0</td>\n",
       "      <td>1</td>\n",
       "      <td>0</td>\n",
       "      <td>0</td>\n",
       "    </tr>\n",
       "  </tbody>\n",
       "</table>\n",
       "</div>"
      ],
      "text/plain": [
       "   CryoSleep  Age  VIP  RoomService  FoodCourt  ShoppingMall   Spa  VRDeck  \\\n",
       "0          0   39    0            0          0             0     0       0   \n",
       "1          0   24    0          109          9            25   549      44   \n",
       "2          0   58    1           43       3576             0  6715      49   \n",
       "3          0   33    0            0       1283           371  3329     193   \n",
       "4          0   16    0          303         70           151   565       2   \n",
       "\n",
       "   Transported  HomePlanet_Earth  HomePlanet_Europa  HomePlanet_Mars  \\\n",
       "0            0                 0                  1                0   \n",
       "1            1                 1                  0                0   \n",
       "2            0                 0                  1                0   \n",
       "3            0                 0                  1                0   \n",
       "4            1                 1                  0                0   \n",
       "\n",
       "   Destination_Andromeda  Destination_Cygnus  Destination_Virgo  \n",
       "0                      1                   0                  0  \n",
       "1                      1                   0                  0  \n",
       "2                      1                   0                  0  \n",
       "3                      1                   0                  0  \n",
       "4                      1                   0                  0  "
      ]
     },
     "execution_count": 10,
     "metadata": {},
     "output_type": "execute_result"
    }
   ],
   "source": [
    "## ======== Run this code(Don't change any code)======== ##\n",
    "\n",
    "df['CryoSleep'] = df['CryoSleep'].astype(int)\n",
    "df['VIP'] = df['VIP'].astype(int)\n",
    "df['Transported'] = df['Transported'].astype(int)\n",
    "\n",
    "df['HomePlanet_Earth'] = df['HomePlanet_Earth'].astype(int)\n",
    "df['HomePlanet_Europa'] = df['HomePlanet_Europa'].astype(int)\n",
    "df['HomePlanet_Mars'] = df['HomePlanet_Mars'].astype(int)\n",
    "df['Destination_Andromeda'] = df['Destination_Andromeda'].astype(int)\n",
    "df['Destination_Cygnus'] = df['Destination_Cygnus'].astype(int)\n",
    "df['Destination_Virgo'] = df['Destination_Virgo'].astype(int)\n",
    "df['HomePlanet_Earth'] = df['HomePlanet_Earth'].astype(int)\n",
    "\n",
    "\n",
    "df.head()\n",
    "\n",
    "## ======== Run this code(Don't change any code)======== ##\n"
   ]
  },
  {
   "cell_type": "markdown",
   "metadata": {
    "id": "vz-ytNV0jRmi"
   },
   "source": [
    "#### Split the data into train and test"
   ]
  },
  {
   "cell_type": "code",
   "execution_count": 11,
   "metadata": {
    "id": "zMuBNwpWhZRy"
   },
   "outputs": [],
   "source": [
    "## ======== YOUR CODE HERE ======== ##\n",
    "\n",
    "## Test size should be 15% of the full dataset and use random state = 2022\n",
    "\n",
    "y = df['Transported']\n",
    "df.drop(['Transported'], axis=1, inplace=True)\n",
    "X = df\n",
    "\n",
    "X_train, X_test, y_train, y_test = train_test_split(X, y, test_size=0.15, random_state=2022)\n",
    "\n",
    "## ================================ ##"
   ]
  },
  {
   "cell_type": "code",
   "execution_count": 12,
   "metadata": {
    "id": "VAD29hRbjgYY"
   },
   "outputs": [
    {
     "name": "stdout",
     "output_type": "stream",
     "text": [
      "X_train: (7389, 14)\n",
      "X_test: (1304, 14)\n",
      "y_train: (7389,)\n",
      "y_test: (1304,)\n"
     ]
    }
   ],
   "source": [
    "## ======== YOUR CODE HERE ======== ##\n",
    "\n",
    "   ## Let us print the shapes:\n",
    "\n",
    "print(\"X_train:\", X_train.shape) # X_train\n",
    "print(\"X_test:\", X_test.shape) # X_test\n",
    "print(\"y_train:\", y_train.shape) # y_train\n",
    "print(\"y_test:\",y_test.shape) # y_test\n",
    "\n",
    "## ================================ ##"
   ]
  },
  {
   "cell_type": "markdown",
   "metadata": {
    "id": "bIjWDrnEjpia"
   },
   "source": [
    "#### Scale the data using Standard Scaler"
   ]
  },
  {
   "cell_type": "code",
   "execution_count": 13,
   "metadata": {
    "id": "naPlXlFhjkkI"
   },
   "outputs": [],
   "source": [
    "## Use Standard Scaler to scale the train and test data\n",
    "\n",
    "## ======== YOUR CODE HERE ======== ##\n",
    "\n",
    "scaler = StandardScaler()\n",
    "X_train_scaled = scaler.fit_transform(X_train)\n",
    "X_test_scaled = scaler.transform(X_test)\n",
    "\n",
    "## ================================ ##"
   ]
  },
  {
   "cell_type": "markdown",
   "metadata": {
    "id": "5LQ24wfSjv0c"
   },
   "source": [
    "## <b>Logistic Regression</b>\n",
    "#### Use default parameters unless mentioned"
   ]
  },
  {
   "cell_type": "code",
   "execution_count": 14,
   "metadata": {
    "id": "Q_05utrBjsEY"
   },
   "outputs": [
    {
     "data": {
      "text/html": [
       "<style>#sk-container-id-1 {color: black;background-color: white;}#sk-container-id-1 pre{padding: 0;}#sk-container-id-1 div.sk-toggleable {background-color: white;}#sk-container-id-1 label.sk-toggleable__label {cursor: pointer;display: block;width: 100%;margin-bottom: 0;padding: 0.3em;box-sizing: border-box;text-align: center;}#sk-container-id-1 label.sk-toggleable__label-arrow:before {content: \"▸\";float: left;margin-right: 0.25em;color: #696969;}#sk-container-id-1 label.sk-toggleable__label-arrow:hover:before {color: black;}#sk-container-id-1 div.sk-estimator:hover label.sk-toggleable__label-arrow:before {color: black;}#sk-container-id-1 div.sk-toggleable__content {max-height: 0;max-width: 0;overflow: hidden;text-align: left;background-color: #f0f8ff;}#sk-container-id-1 div.sk-toggleable__content pre {margin: 0.2em;color: black;border-radius: 0.25em;background-color: #f0f8ff;}#sk-container-id-1 input.sk-toggleable__control:checked~div.sk-toggleable__content {max-height: 200px;max-width: 100%;overflow: auto;}#sk-container-id-1 input.sk-toggleable__control:checked~label.sk-toggleable__label-arrow:before {content: \"▾\";}#sk-container-id-1 div.sk-estimator input.sk-toggleable__control:checked~label.sk-toggleable__label {background-color: #d4ebff;}#sk-container-id-1 div.sk-label input.sk-toggleable__control:checked~label.sk-toggleable__label {background-color: #d4ebff;}#sk-container-id-1 input.sk-hidden--visually {border: 0;clip: rect(1px 1px 1px 1px);clip: rect(1px, 1px, 1px, 1px);height: 1px;margin: -1px;overflow: hidden;padding: 0;position: absolute;width: 1px;}#sk-container-id-1 div.sk-estimator {font-family: monospace;background-color: #f0f8ff;border: 1px dotted black;border-radius: 0.25em;box-sizing: border-box;margin-bottom: 0.5em;}#sk-container-id-1 div.sk-estimator:hover {background-color: #d4ebff;}#sk-container-id-1 div.sk-parallel-item::after {content: \"\";width: 100%;border-bottom: 1px solid gray;flex-grow: 1;}#sk-container-id-1 div.sk-label:hover label.sk-toggleable__label {background-color: #d4ebff;}#sk-container-id-1 div.sk-serial::before {content: \"\";position: absolute;border-left: 1px solid gray;box-sizing: border-box;top: 0;bottom: 0;left: 50%;z-index: 0;}#sk-container-id-1 div.sk-serial {display: flex;flex-direction: column;align-items: center;background-color: white;padding-right: 0.2em;padding-left: 0.2em;position: relative;}#sk-container-id-1 div.sk-item {position: relative;z-index: 1;}#sk-container-id-1 div.sk-parallel {display: flex;align-items: stretch;justify-content: center;background-color: white;position: relative;}#sk-container-id-1 div.sk-item::before, #sk-container-id-1 div.sk-parallel-item::before {content: \"\";position: absolute;border-left: 1px solid gray;box-sizing: border-box;top: 0;bottom: 0;left: 50%;z-index: -1;}#sk-container-id-1 div.sk-parallel-item {display: flex;flex-direction: column;z-index: 1;position: relative;background-color: white;}#sk-container-id-1 div.sk-parallel-item:first-child::after {align-self: flex-end;width: 50%;}#sk-container-id-1 div.sk-parallel-item:last-child::after {align-self: flex-start;width: 50%;}#sk-container-id-1 div.sk-parallel-item:only-child::after {width: 0;}#sk-container-id-1 div.sk-dashed-wrapped {border: 1px dashed gray;margin: 0 0.4em 0.5em 0.4em;box-sizing: border-box;padding-bottom: 0.4em;background-color: white;}#sk-container-id-1 div.sk-label label {font-family: monospace;font-weight: bold;display: inline-block;line-height: 1.2em;}#sk-container-id-1 div.sk-label-container {text-align: center;}#sk-container-id-1 div.sk-container {/* jupyter's `normalize.less` sets `[hidden] { display: none; }` but bootstrap.min.css set `[hidden] { display: none !important; }` so we also need the `!important` here to be able to override the default hidden behavior on the sphinx rendered scikit-learn.org. See: https://github.com/scikit-learn/scikit-learn/issues/21755 */display: inline-block !important;position: relative;}#sk-container-id-1 div.sk-text-repr-fallback {display: none;}</style><div id=\"sk-container-id-1\" class=\"sk-top-container\"><div class=\"sk-text-repr-fallback\"><pre>LogisticRegression(random_state=2021)</pre><b>In a Jupyter environment, please rerun this cell to show the HTML representation or trust the notebook. <br />On GitHub, the HTML representation is unable to render, please try loading this page with nbviewer.org.</b></div><div class=\"sk-container\" hidden><div class=\"sk-item\"><div class=\"sk-estimator sk-toggleable\"><input class=\"sk-toggleable__control sk-hidden--visually\" id=\"sk-estimator-id-1\" type=\"checkbox\" checked><label for=\"sk-estimator-id-1\" class=\"sk-toggleable__label sk-toggleable__label-arrow\">LogisticRegression</label><div class=\"sk-toggleable__content\"><pre>LogisticRegression(random_state=2021)</pre></div></div></div></div></div>"
      ],
      "text/plain": [
       "LogisticRegression(random_state=2021)"
      ]
     },
     "execution_count": 14,
     "metadata": {},
     "output_type": "execute_result"
    }
   ],
   "source": [
    "## Use Random state = 2021 and fit the LR model\n",
    "\n",
    "## ======== YOUR CODE HERE ======== ##\n",
    "\n",
    "lr = LogisticRegression(random_state=2021)\n",
    "lr.fit(X_train_scaled, y_train)\n",
    "    \n",
    "## ================================ ##"
   ]
  },
  {
   "cell_type": "markdown",
   "metadata": {
    "id": "tTnclsr6kGzY"
   },
   "source": [
    "#### Plot confusion matrix"
   ]
  },
  {
   "cell_type": "code",
   "execution_count": 15,
   "metadata": {
    "id": "OK6afSwBj_2S"
   },
   "outputs": [
    {
     "data": {
      "text/plain": [
       "<sklearn.metrics._plot.confusion_matrix.ConfusionMatrixDisplay at 0x16d880d7e10>"
      ]
     },
     "execution_count": 15,
     "metadata": {},
     "output_type": "execute_result"
    },
    {
     "data": {
      "image/png": "[encoded data removed]",
      "text/plain": [
       "<Figure size 640x480 with 2 Axes>"
      ]
     },
     "metadata": {},
     "output_type": "display_data"
    }
   ],
   "source": [
    "## ======== YOUR CODE HERE ======== ##\n",
    "\n",
    "ConfusionMatrixDisplay.from_estimator(lr, X_test_scaled, y_test)\n",
    "\n",
    "## ================================ ##"
   ]
  },
  {
   "cell_type": "markdown",
   "metadata": {
    "id": "2CdCZHpZkdov"
   },
   "source": [
    "#### Print classification report"
   ]
  },
  {
   "cell_type": "code",
   "execution_count": 16,
   "metadata": {
    "id": "pLVPxS33kPlI"
   },
   "outputs": [
    {
     "name": "stdout",
     "output_type": "stream",
     "text": [
      "              precision    recall  f1-score   support\n",
      "\n",
      "           0       0.78      0.80      0.79       637\n",
      "           1       0.81      0.79      0.80       667\n",
      "\n",
      "    accuracy                           0.79      1304\n",
      "   macro avg       0.79      0.79      0.79      1304\n",
      "weighted avg       0.79      0.79      0.79      1304\n",
      "\n"
     ]
    }
   ],
   "source": [
    "## ======== YOUR CODE HERE ======== ##\n",
    "\n",
    "y_pred_lr = lr.predict(X_test_scaled)\n",
    "print(classification_report(y_test, y_pred_lr))\n",
    "\n",
    "## ================================ ##"
   ]
  },
  {
   "cell_type": "markdown",
   "metadata": {
    "id": "dsCHjnQxlB6d"
   },
   "source": [
    "#### Print accuracy score"
   ]
  },
  {
   "cell_type": "code",
   "execution_count": 17,
   "metadata": {
    "id": "fn-CKB9Gkn9X"
   },
   "outputs": [
    {
     "name": "stdout",
     "output_type": "stream",
     "text": [
      "accuracy : 0.7944785276073619\n"
     ]
    }
   ],
   "source": [
    "## ======== YOUR CODE HERE ======== ##\n",
    "\n",
    "print(f'accuracy : {accuracy_score(y_test, y_pred_lr)}')\n",
    "\n",
    "## ================================ ##"
   ]
  },
  {
   "cell_type": "markdown",
   "metadata": {
    "id": "GQXaQcUMlpuW"
   },
   "source": [
    "#### Print ROC-AUC score"
   ]
  },
  {
   "cell_type": "code",
   "execution_count": 18,
   "metadata": {
    "id": "peowPJH3lPQg"
   },
   "outputs": [
    {
     "name": "stdout",
     "output_type": "stream",
     "text": [
      "ROC_AUC score : 0.877197978718647\n"
     ]
    }
   ],
   "source": [
    "## ======== YOUR CODE HERE ======== ##\n",
    "\n",
    "## Note: Use predict_proba!!! Read documentation/google it\n",
    "\n",
    "X_test_predict_proba = lr.predict_proba(X_test_scaled)\n",
    "\n",
    "print(f'ROC_AUC score : {roc_auc_score(y_test ,X_test_predict_proba[:,1])}')\n",
    "\n",
    "## ================================ ##"
   ]
  },
  {
   "cell_type": "markdown",
   "metadata": {
    "id": "WxxoTYomqceD"
   },
   "source": [
    "#### Plot ROC-AUC Curve"
   ]
  },
  {
   "cell_type": "code",
   "execution_count": 19,
   "metadata": {
    "id": "pu-xnAORqhP1"
   },
   "outputs": [
    {
     "data": {
      "image/png": "[encoded data removed]",
      "text/plain": [
       "<Figure size 600x400 with 1 Axes>"
      ]
     },
     "metadata": {},
     "output_type": "display_data"
    }
   ],
   "source": [
    "## ======== YOUR CODE HERE ======== ##\n",
    "\n",
    "## Set appropriate X label, Y label and Title for the graph\n",
    "\n",
    "\n",
    "y_pred_proba = lr.predict_proba(X_test_scaled)[:, 1]\n",
    "fpr, tpr, thresholds = sklearn.metrics.roc_curve(y_test, y_pred_proba)\n",
    "\n",
    "\n",
    "plt.figure(figsize=(6, 4))\n",
    "plt.plot(fpr, tpr)\n",
    "plt.plot([0, 1], [0, 1], 'k--', linewidth=1)\n",
    "\n",
    "plt.xlabel('False Positive Rate')\n",
    "plt.ylabel('True Positive Rate')\n",
    "plt.title('ROC Curve')\n",
    "\n",
    "plt.show()\n",
    "\n",
    "## ================================ ##"
   ]
  },
  {
   "cell_type": "markdown",
   "metadata": {
    "id": "UvxDjUoNrjYN"
   },
   "source": [
    "#### Cross validation"
   ]
  },
  {
   "cell_type": "code",
   "execution_count": 20,
   "metadata": {
    "id": "Jvx57Bx_rjBn"
   },
   "outputs": [
    {
     "name": "stdout",
     "output_type": "stream",
     "text": [
      "Cross Validation score : [0.78619756 0.79364005 0.76792963 0.80243572 0.7731889 ]\n",
      "Avg. Cross Validation score : 0.7846783746815171\n"
     ]
    }
   ],
   "source": [
    "## ======== YOUR CODE HERE ======== ##\n",
    "\n",
    "## cv=5\n",
    "\n",
    "score = cross_val_score(lr, X_train_scaled, y_train, cv=5)\n",
    "\n",
    "print(f'Cross Validation score : {score}')\n",
    "print(f'Avg. Cross Validation score : {score.mean()}')\n",
    "\n",
    "## ================================ ##"
   ]
  },
  {
   "cell_type": "markdown",
   "metadata": {
    "id": "7hQ6KaXenOtN"
   },
   "source": [
    "## <b>SVM</b>\n",
    "#### Use default parameters unless mentioned"
   ]
  },
  {
   "cell_type": "code",
   "execution_count": 21,
   "metadata": {
    "id": "CpY0U9gjmia_"
   },
   "outputs": [
    {
     "data": {
      "text/html": [
       "<style>#sk-container-id-2 {color: black;background-color: white;}#sk-container-id-2 pre{padding: 0;}#sk-container-id-2 div.sk-toggleable {background-color: white;}#sk-container-id-2 label.sk-toggleable__label {cursor: pointer;display: block;width: 100%;margin-bottom: 0;padding: 0.3em;box-sizing: border-box;text-align: center;}#sk-container-id-2 label.sk-toggleable__label-arrow:before {content: \"▸\";float: left;margin-right: 0.25em;color: #696969;}#sk-container-id-2 label.sk-toggleable__label-arrow:hover:before {color: black;}#sk-container-id-2 div.sk-estimator:hover label.sk-toggleable__label-arrow:before {color: black;}#sk-container-id-2 div.sk-toggleable__content {max-height: 0;max-width: 0;overflow: hidden;text-align: left;background-color: #f0f8ff;}#sk-container-id-2 div.sk-toggleable__content pre {margin: 0.2em;color: black;border-radius: 0.25em;background-color: #f0f8ff;}#sk-container-id-2 input.sk-toggleable__control:checked~div.sk-toggleable__content {max-height: 200px;max-width: 100%;overflow: auto;}#sk-container-id-2 input.sk-toggleable__control:checked~label.sk-toggleable__label-arrow:before {content: \"▾\";}#sk-container-id-2 div.sk-estimator input.sk-toggleable__control:checked~label.sk-toggleable__label {background-color: #d4ebff;}#sk-container-id-2 div.sk-label input.sk-toggleable__control:checked~label.sk-toggleable__label {background-color: #d4ebff;}#sk-container-id-2 input.sk-hidden--visually {border: 0;clip: rect(1px 1px 1px 1px);clip: rect(1px, 1px, 1px, 1px);height: 1px;margin: -1px;overflow: hidden;padding: 0;position: absolute;width: 1px;}#sk-container-id-2 div.sk-estimator {font-family: monospace;background-color: #f0f8ff;border: 1px dotted black;border-radius: 0.25em;box-sizing: border-box;margin-bottom: 0.5em;}#sk-container-id-2 div.sk-estimator:hover {background-color: #d4ebff;}#sk-container-id-2 div.sk-parallel-item::after {content: \"\";width: 100%;border-bottom: 1px solid gray;flex-grow: 1;}#sk-container-id-2 div.sk-label:hover label.sk-toggleable__label {background-color: #d4ebff;}#sk-container-id-2 div.sk-serial::before {content: \"\";position: absolute;border-left: 1px solid gray;box-sizing: border-box;top: 0;bottom: 0;left: 50%;z-index: 0;}#sk-container-id-2 div.sk-serial {display: flex;flex-direction: column;align-items: center;background-color: white;padding-right: 0.2em;padding-left: 0.2em;position: relative;}#sk-container-id-2 div.sk-item {position: relative;z-index: 1;}#sk-container-id-2 div.sk-parallel {display: flex;align-items: stretch;justify-content: center;background-color: white;position: relative;}#sk-container-id-2 div.sk-item::before, #sk-container-id-2 div.sk-parallel-item::before {content: \"\";position: absolute;border-left: 1px solid gray;box-sizing: border-box;top: 0;bottom: 0;left: 50%;z-index: -1;}#sk-container-id-2 div.sk-parallel-item {display: flex;flex-direction: column;z-index: 1;position: relative;background-color: white;}#sk-container-id-2 div.sk-parallel-item:first-child::after {align-self: flex-end;width: 50%;}#sk-container-id-2 div.sk-parallel-item:last-child::after {align-self: flex-start;width: 50%;}#sk-container-id-2 div.sk-parallel-item:only-child::after {width: 0;}#sk-container-id-2 div.sk-dashed-wrapped {border: 1px dashed gray;margin: 0 0.4em 0.5em 0.4em;box-sizing: border-box;padding-bottom: 0.4em;background-color: white;}#sk-container-id-2 div.sk-label label {font-family: monospace;font-weight: bold;display: inline-block;line-height: 1.2em;}#sk-container-id-2 div.sk-label-container {text-align: center;}#sk-container-id-2 div.sk-container {/* jupyter's `normalize.less` sets `[hidden] { display: none; }` but bootstrap.min.css set `[hidden] { display: none !important; }` so we also need the `!important` here to be able to override the default hidden behavior on the sphinx rendered scikit-learn.org. See: https://github.com/scikit-learn/scikit-learn/issues/21755 */display: inline-block !important;position: relative;}#sk-container-id-2 div.sk-text-repr-fallback {display: none;}</style><div id=\"sk-container-id-2\" class=\"sk-top-container\"><div class=\"sk-text-repr-fallback\"><pre>SVC(C=5, probability=True, random_state=2022)</pre><b>In a Jupyter environment, please rerun this cell to show the HTML representation or trust the notebook. <br />On GitHub, the HTML representation is unable to render, please try loading this page with nbviewer.org.</b></div><div class=\"sk-container\" hidden><div class=\"sk-item\"><div class=\"sk-estimator sk-toggleable\"><input class=\"sk-toggleable__control sk-hidden--visually\" id=\"sk-estimator-id-2\" type=\"checkbox\" checked><label for=\"sk-estimator-id-2\" class=\"sk-toggleable__label sk-toggleable__label-arrow\">SVC</label><div class=\"sk-toggleable__content\"><pre>SVC(C=5, probability=True, random_state=2022)</pre></div></div></div></div></div>"
      ],
      "text/plain": [
       "SVC(C=5, probability=True, random_state=2022)"
      ]
     },
     "execution_count": 21,
     "metadata": {},
     "output_type": "execute_result"
    }
   ],
   "source": [
    "## ======== YOUR CODE HERE ======== ##\n",
    "\n",
    "## parameters: random_state = 2022, C=5, gamma='scale', kernel='rbf', probability=True\n",
    "\n",
    "svm = SVC(random_state=2022, C=5, gamma='scale', kernel='rbf', probability=True)\n",
    "svm.fit(X_train_scaled, y_train)\n",
    "\n",
    "## ================================ ##"
   ]
  },
  {
   "cell_type": "markdown",
   "metadata": {
    "id": "dnzmj8uaoXdC"
   },
   "source": [
    "#### Plot confusion matrix"
   ]
  },
  {
   "cell_type": "code",
   "execution_count": 22,
   "metadata": {
    "id": "w_82c2Y0n0ed"
   },
   "outputs": [
    {
     "data": {
      "text/plain": [
       "<sklearn.metrics._plot.confusion_matrix.ConfusionMatrixDisplay at 0x16d88cac2d0>"
      ]
     },
     "execution_count": 22,
     "metadata": {},
     "output_type": "execute_result"
    },
    {
     "data": {
      "image/png": "[encoded data removed]",
      "text/plain": [
       "<Figure size 640x480 with 2 Axes>"
      ]
     },
     "metadata": {},
     "output_type": "display_data"
    }
   ],
   "source": [
    "## ======== YOUR CODE HERE ======== ##\n",
    "\n",
    "## Use display labels as per your choice.\n",
    "\n",
    "ConfusionMatrixDisplay.from_estimator(svm, X_test_scaled, y_test)\n",
    "\n",
    "\n",
    "## ================================ ##"
   ]
  },
  {
   "cell_type": "markdown",
   "metadata": {
    "id": "rXnA65gGoi32"
   },
   "source": [
    "#### Print classification report"
   ]
  },
  {
   "cell_type": "code",
   "execution_count": 23,
   "metadata": {
    "id": "Ni3urDs2ofFu"
   },
   "outputs": [
    {
     "name": "stdout",
     "output_type": "stream",
     "text": [
      "              precision    recall  f1-score   support\n",
      "\n",
      "           0       0.80      0.79      0.80       637\n",
      "           1       0.81      0.81      0.81       667\n",
      "\n",
      "    accuracy                           0.80      1304\n",
      "   macro avg       0.80      0.80      0.80      1304\n",
      "weighted avg       0.80      0.80      0.80      1304\n",
      "\n"
     ]
    }
   ],
   "source": [
    "## ======== YOUR CODE HERE ======== ##\n",
    "\n",
    "y_pred_svm = svm.predict(X_test_scaled)\n",
    "print(classification_report(y_test, y_pred_svm))\n",
    "\n",
    "## ================================ ##"
   ]
  },
  {
   "cell_type": "markdown",
   "metadata": {
    "id": "TdNZjZ_yosP7"
   },
   "source": [
    "#### Print accuracy score"
   ]
  },
  {
   "cell_type": "code",
   "execution_count": 24,
   "metadata": {
    "id": "YycrkEZrolRo"
   },
   "outputs": [
    {
     "name": "stdout",
     "output_type": "stream",
     "text": [
      "accuracy : 0.8044478527607362\n"
     ]
    }
   ],
   "source": [
    "## ======== YOUR CODE HERE ======== ##\n",
    "\n",
    "print(f'accuracy : {accuracy_score(y_test, y_pred_svm)}')\n",
    "\n",
    "## ================================ ##"
   ]
  },
  {
   "cell_type": "markdown",
   "metadata": {
    "id": "eKN9aDzvpGnB"
   },
   "source": [
    "#### Print ROC-AUC score"
   ]
  },
  {
   "cell_type": "code",
   "execution_count": 25,
   "metadata": {
    "id": "XFvSXf3upFix"
   },
   "outputs": [
    {
     "name": "stdout",
     "output_type": "stream",
     "text": [
      "ROC_AUC score : 0.8687238013646239\n"
     ]
    }
   ],
   "source": [
    "## ======== YOUR CODE HERE ======== ##\n",
    "\n",
    "## Note: Use predict_proba!!! Read documentation/google it\n",
    "\n",
    "X_test_predict_proba_svm = svm.predict_proba(X_test_scaled)\n",
    "\n",
    "print(f'ROC_AUC score : {roc_auc_score(y_test ,X_test_predict_proba_svm[:,1])}')\n",
    "\n",
    "\n",
    "## ================================ ##"
   ]
  },
  {
   "cell_type": "markdown",
   "metadata": {
    "id": "Zfehp2mOqVQy"
   },
   "source": [
    "#### Plot ROC-AUC curve"
   ]
  },
  {
   "cell_type": "code",
   "execution_count": 26,
   "metadata": {
    "id": "Onuzz70ypaUg"
   },
   "outputs": [
    {
     "data": {
      "image/png": "[encoded data removed]",
      "text/plain": [
       "<Figure size 600x400 with 1 Axes>"
      ]
     },
     "metadata": {},
     "output_type": "display_data"
    }
   ],
   "source": [
    "## ======== YOUR CODE HERE ======== ##\n",
    "\n",
    "## Set appropriate X label, Y label and Title for the graph\n",
    "\n",
    "y_pred_proba_svm = svm.predict_proba(X_test_scaled)[:, 1]\n",
    "fpr, tpr, thresholds = sklearn.metrics.roc_curve(y_test, y_pred_proba_svm)\n",
    "\n",
    "\n",
    "plt.figure(figsize=(6, 4))\n",
    "plt.plot(fpr, tpr)\n",
    "plt.plot([0, 1], [0, 1], 'k--', linewidth=1)\n",
    "\n",
    "plt.xlabel('False Positive Rate')\n",
    "plt.ylabel('True Positive Rate')\n",
    "plt.title('ROC Curve')\n",
    "\n",
    "plt.show()\n",
    "\n",
    "\n",
    "## ================================ ##"
   ]
  },
  {
   "cell_type": "markdown",
   "metadata": {
    "id": "hA3c9iivrXNy"
   },
   "source": [
    "#### Cross validation"
   ]
  },
  {
   "cell_type": "code",
   "execution_count": 27,
   "metadata": {
    "id": "4O0OlBkXqYYr"
   },
   "outputs": [
    {
     "name": "stderr",
     "output_type": "stream",
     "text": [
      "[Parallel(n_jobs=-1)]: Using backend LokyBackend with 16 concurrent workers.\n"
     ]
    },
    {
     "name": "stdout",
     "output_type": "stream",
     "text": [
      "Cross Validation : [0.79093369 0.78755074 0.76454668 0.80514208 0.77386594]\n",
      "Avg. Cross Validation : 0.7844078303037189\n"
     ]
    },
    {
     "name": "stderr",
     "output_type": "stream",
     "text": [
      "[Parallel(n_jobs=-1)]: Done   5 out of   5 | elapsed:   17.7s finished\n"
     ]
    }
   ],
   "source": [
    "## ======== YOUR CODE HERE ======== ##\n",
    "\n",
    "## cv=5\n",
    "\n",
    "score_svm = cross_val_score(svm, X_train_scaled, y_train, cv=5, verbose=2, n_jobs=-1)\n",
    "\n",
    "print(f'Cross Validation : {score_svm}')\n",
    "print(f'Avg. Cross Validation : {score_svm.mean()}')\n",
    "\n",
    "\n",
    "## ================================ ##"
   ]
  },
  {
   "cell_type": "markdown",
   "metadata": {
    "id": "HvRyJBGxuKIE"
   },
   "source": [
    "# Congratulations! Assignment Completed!"
   ]
  }
 ],
 "metadata": {
  "colab": {
   "provenance": [
    {
     "file_id": "113MRDGaM3wS6Totk0KbLubzGgNbo9LPI",
     "timestamp": 1686508690402
    }
   ]
  },
  "kernelspec": {
   "display_name": "Python 3 (ipykernel)",
   "language": "python",
   "name": "python3"
  },
  "language_info": {
   "codemirror_mode": {
    "name": "ipython",
    "version": 3
   },
   "file_extension": ".py",
   "mimetype": "text/x-python",
   "name": "python",
   "nbconvert_exporter": "python",
   "pygments_lexer": "ipython3",
   "version": "3.11.7"
  }
 },
 "nbformat": 4,
 "nbformat_minor": 1
}
