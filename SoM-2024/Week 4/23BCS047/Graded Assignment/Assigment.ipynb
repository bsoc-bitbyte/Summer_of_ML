{
 "cells": [
  {
   "cell_type": "code",
   "execution_count": 245,
   "id": "20cf41e6-74f3-471b-8dfe-2c52ecf82838",
   "metadata": {},
   "outputs": [],
   "source": [
    "import numpy as np\n",
    "import pandas as pd\n",
    "import matplotlib.pyplot as plt\n",
    "import seaborn as sns \n",
    "\n",
    "from sklearn.linear_model import LogisticRegression\n",
    "from sklearn.svm import SVC\n",
    "\n",
    "from sklearn.metrics import confusion_matrix, ConfusionMatrixDisplay, accuracy_score, roc_auc_score, roc_curve, classification_report\n",
    "from sklearn.preprocessing import LabelEncoder, LabelBinarizer, StandardScaler\n",
    "\n",
    "from sklearn.ensemble import AdaBoostClassifier, GradientBoostingClassifier, RandomForestClassifier\n",
    "from sklearn.tree import DecisionTreeClassifier\n",
    "from sklearn.neighbors import KNeighborsClassifier\n",
    "from sklearn.naive_bayes import GaussianNB, MultinomialNB\n",
    "\n",
    "from sklearn.model_selection import train_test_split, cross_val_score\n",
    "from sklearn.model_selection import GridSearchCV, StratifiedKFold\n",
    "\n",
    "import warnings\n",
    "warnings.filterwarnings(\"ignore\")"
   ]
  },
  {
   "cell_type": "code",
   "execution_count": 276,
   "id": "cfaf807a-64e1-403a-a984-3fe7f9459d45",
   "metadata": {},
   "outputs": [
    {
     "data": {
      "text/html": [
       "<div>\n",
       "<style scoped>\n",
       "    .dataframe tbody tr th:only-of-type {\n",
       "        vertical-align: middle;\n",
       "    }\n",
       "\n",
       "    .dataframe tbody tr th {\n",
       "        vertical-align: top;\n",
       "    }\n",
       "\n",
       "    .dataframe thead th {\n",
       "        text-align: right;\n",
       "    }\n",
       "</style>\n",
       "<table border=\"1\" class=\"dataframe\">\n",
       "  <thead>\n",
       "    <tr style=\"text-align: right;\">\n",
       "      <th></th>\n",
       "      <th>PassengerId</th>\n",
       "      <th>Survived</th>\n",
       "      <th>Pclass</th>\n",
       "      <th>Name</th>\n",
       "      <th>Sex</th>\n",
       "      <th>Age</th>\n",
       "      <th>SibSp</th>\n",
       "      <th>Parch</th>\n",
       "      <th>Ticket</th>\n",
       "      <th>Fare</th>\n",
       "      <th>Cabin</th>\n",
       "      <th>Embarked</th>\n",
       "    </tr>\n",
       "  </thead>\n",
       "  <tbody>\n",
       "    <tr>\n",
       "      <th>0</th>\n",
       "      <td>1</td>\n",
       "      <td>0</td>\n",
       "      <td>3</td>\n",
       "      <td>Braund, Mr. Owen Harris</td>\n",
       "      <td>male</td>\n",
       "      <td>22.0</td>\n",
       "      <td>1</td>\n",
       "      <td>0</td>\n",
       "      <td>A/5 21171</td>\n",
       "      <td>7.2500</td>\n",
       "      <td>NaN</td>\n",
       "      <td>S</td>\n",
       "    </tr>\n",
       "    <tr>\n",
       "      <th>1</th>\n",
       "      <td>2</td>\n",
       "      <td>1</td>\n",
       "      <td>1</td>\n",
       "      <td>Cumings, Mrs. John Bradley (Florence Briggs Th...</td>\n",
       "      <td>female</td>\n",
       "      <td>38.0</td>\n",
       "      <td>1</td>\n",
       "      <td>0</td>\n",
       "      <td>PC 17599</td>\n",
       "      <td>71.2833</td>\n",
       "      <td>C85</td>\n",
       "      <td>C</td>\n",
       "    </tr>\n",
       "    <tr>\n",
       "      <th>2</th>\n",
       "      <td>3</td>\n",
       "      <td>1</td>\n",
       "      <td>3</td>\n",
       "      <td>Heikkinen, Miss. Laina</td>\n",
       "      <td>female</td>\n",
       "      <td>26.0</td>\n",
       "      <td>0</td>\n",
       "      <td>0</td>\n",
       "      <td>STON/O2. 3101282</td>\n",
       "      <td>7.9250</td>\n",
       "      <td>NaN</td>\n",
       "      <td>S</td>\n",
       "    </tr>\n",
       "    <tr>\n",
       "      <th>3</th>\n",
       "      <td>4</td>\n",
       "      <td>1</td>\n",
       "      <td>1</td>\n",
       "      <td>Futrelle, Mrs. Jacques Heath (Lily May Peel)</td>\n",
       "      <td>female</td>\n",
       "      <td>35.0</td>\n",
       "      <td>1</td>\n",
       "      <td>0</td>\n",
       "      <td>113803</td>\n",
       "      <td>53.1000</td>\n",
       "      <td>C123</td>\n",
       "      <td>S</td>\n",
       "    </tr>\n",
       "    <tr>\n",
       "      <th>4</th>\n",
       "      <td>5</td>\n",
       "      <td>0</td>\n",
       "      <td>3</td>\n",
       "      <td>Allen, Mr. William Henry</td>\n",
       "      <td>male</td>\n",
       "      <td>35.0</td>\n",
       "      <td>0</td>\n",
       "      <td>0</td>\n",
       "      <td>373450</td>\n",
       "      <td>8.0500</td>\n",
       "      <td>NaN</td>\n",
       "      <td>S</td>\n",
       "    </tr>\n",
       "  </tbody>\n",
       "</table>\n",
       "</div>"
      ],
      "text/plain": [
       "   PassengerId  Survived  Pclass  \\\n",
       "0            1         0       3   \n",
       "1            2         1       1   \n",
       "2            3         1       3   \n",
       "3            4         1       1   \n",
       "4            5         0       3   \n",
       "\n",
       "                                                Name     Sex   Age  SibSp  \\\n",
       "0                            Braund, Mr. Owen Harris    male  22.0      1   \n",
       "1  Cumings, Mrs. John Bradley (Florence Briggs Th...  female  38.0      1   \n",
       "2                             Heikkinen, Miss. Laina  female  26.0      0   \n",
       "3       Futrelle, Mrs. Jacques Heath (Lily May Peel)  female  35.0      1   \n",
       "4                           Allen, Mr. William Henry    male  35.0      0   \n",
       "\n",
       "   Parch            Ticket     Fare Cabin Embarked  \n",
       "0      0         A/5 21171   7.2500   NaN        S  \n",
       "1      0          PC 17599  71.2833   C85        C  \n",
       "2      0  STON/O2. 3101282   7.9250   NaN        S  \n",
       "3      0            113803  53.1000  C123        S  \n",
       "4      0            373450   8.0500   NaN        S  "
      ]
     },
     "execution_count": 276,
     "metadata": {},
     "output_type": "execute_result"
    }
   ],
   "source": [
    "df = pd.read_csv('titanic.csv')\n",
    "df.head()"
   ]
  },
  {
   "cell_type": "code",
   "execution_count": 277,
   "id": "f845b2ca-ad0f-46e3-85c7-074bbc46a982",
   "metadata": {},
   "outputs": [
    {
     "name": "stdout",
     "output_type": "stream",
     "text": [
      "(891, 12)\n"
     ]
    }
   ],
   "source": [
    "#Shape of the dataset\n",
    "print(df.shape)"
   ]
  },
  {
   "cell_type": "code",
   "execution_count": 278,
   "id": "ef0ea95c-8c3b-49eb-a5ce-db47b2e97b33",
   "metadata": {},
   "outputs": [
    {
     "name": "stdout",
     "output_type": "stream",
     "text": [
      "PassengerId      0\n",
      "Survived         0\n",
      "Pclass           0\n",
      "Name             0\n",
      "Sex              0\n",
      "Age            177\n",
      "SibSp            0\n",
      "Parch            0\n",
      "Ticket           0\n",
      "Fare             0\n",
      "Cabin          687\n",
      "Embarked         2\n",
      "dtype: int64\n"
     ]
    }
   ],
   "source": [
    "#Check if there is any null values in the dataset\n",
    "print(df.isnull().sum())"
   ]
  },
  {
   "cell_type": "code",
   "execution_count": 279,
   "id": "d4abcd31-0cdc-418e-87db-44d88370809e",
   "metadata": {},
   "outputs": [
    {
     "name": "stdout",
     "output_type": "stream",
     "text": [
      "Embarked Unique Values:  ['S' 'C' 'Q' nan]\n",
      "Embarked Value Counts:  Embarked\n",
      "S    644\n",
      "C    168\n",
      "Q     77\n",
      "Name: count, dtype: int64\n"
     ]
    }
   ],
   "source": [
    "#Let's see the unique values of the series having null values so that we can get some ideas about filling it\n",
    "\n",
    "print(\"Embarked Unique Values: \", df.Embarked.unique())\n",
    "print(\"Embarked Value Counts: \", df.Embarked.value_counts())\n",
    "\n",
    "#We didn't checked that for age and cabin because they vary for each passenger"
   ]
  },
  {
   "cell_type": "code",
   "execution_count": 280,
   "id": "786f6525-3812-4261-9dfb-9e6e2cd211ef",
   "metadata": {},
   "outputs": [
    {
     "data": {
      "text/plain": [
       "<Axes: >"
      ]
     },
     "execution_count": 280,
     "metadata": {},
     "output_type": "execute_result"
    },
    {
     "data": {
      "image/png": "[encoded data removed]",
      "text/plain": [
       "<Figure size 640x480 with 1 Axes>"
      ]
     },
     "metadata": {},
     "output_type": "display_data"
    }
   ],
   "source": [
    "sns.heatmap(df.isnull(),yticklabels=False,cbar=False,cmap='plasma')"
   ]
  },
  {
   "cell_type": "code",
   "execution_count": 281,
   "id": "2ee1f381-1808-4fa0-b7e7-80711672ee3b",
   "metadata": {},
   "outputs": [
    {
     "name": "stdout",
     "output_type": "stream",
     "text": [
      "count    714.000000\n",
      "mean      29.699118\n",
      "std       14.526497\n",
      "min        0.420000\n",
      "25%       20.125000\n",
      "50%       28.000000\n",
      "75%       38.000000\n",
      "max       80.000000\n",
      "Name: Age, dtype: float64\n"
     ]
    }
   ],
   "source": [
    "# Let's take some more information\n",
    "\n",
    "print(df.Age.describe())"
   ]
  },
  {
   "cell_type": "code",
   "execution_count": 282,
   "id": "d6b8f608-8019-4155-af05-2f97d10afafc",
   "metadata": {},
   "outputs": [
    {
     "data": {
      "text/plain": [
       "<Axes: xlabel='Survived', ylabel='count'>"
      ]
     },
     "execution_count": 282,
     "metadata": {},
     "output_type": "execute_result"
    },
    {
     "data": {
      "image/png": "[encoded data removed]",
      "text/plain": [
       "<Figure size 640x480 with 1 Axes>"
      ]
     },
     "metadata": {},
     "output_type": "display_data"
    }
   ],
   "source": [
    "sns.set_style('whitegrid')\n",
    "sns.countplot(x='Survived',hue='Sex',data=df,palette='RdBu_r')\n",
    "\n",
    "#From this we can infer that females survived more than the males"
   ]
  },
  {
   "cell_type": "code",
   "execution_count": 283,
   "id": "ab7f47e3-8b9a-4c2d-9126-eb99849f2991",
   "metadata": {},
   "outputs": [],
   "source": [
    "# sns.set_style('whitegrid')\n",
    "# sns.countplot(x='Survived', hue='Pclass',data=df,palette='rainbow')"
   ]
  },
  {
   "cell_type": "code",
   "execution_count": 284,
   "id": "57b35ece-a02f-494e-bf6b-10b59cbf2928",
   "metadata": {},
   "outputs": [
    {
     "data": {
      "text/plain": [
       "<seaborn.axisgrid.FacetGrid at 0x197e70e7790>"
      ]
     },
     "execution_count": 284,
     "metadata": {},
     "output_type": "execute_result"
    },
    {
     "data": {
      "image/png": "[encoded data removed]",
      "text/plain": [
       "<Figure size 500x500 with 1 Axes>"
      ]
     },
     "metadata": {},
     "output_type": "display_data"
    }
   ],
   "source": [
    "sns.displot(df['Age'].dropna(),kde=False,color='darkred',bins=40)"
   ]
  },
  {
   "cell_type": "code",
   "execution_count": 285,
   "id": "3eb9cc63-e8d1-4dfa-aaad-ec6392861c99",
   "metadata": {},
   "outputs": [
    {
     "data": {
      "text/plain": [
       "<Axes: xlabel='SibSp', ylabel='count'>"
      ]
     },
     "execution_count": 285,
     "metadata": {},
     "output_type": "execute_result"
    },
    {
     "data": {
      "image/png": "[encoded data removed]",
      "text/plain": [
       "<Figure size 640x480 with 1 Axes>"
      ]
     },
     "metadata": {},
     "output_type": "display_data"
    }
   ],
   "source": [
    "sns.countplot(x='SibSp',data=df)"
   ]
  },
  {
   "cell_type": "code",
   "execution_count": 286,
   "id": "dd0c1201-f384-411a-a846-7ce1e97edad0",
   "metadata": {},
   "outputs": [
    {
     "data": {
      "text/plain": [
       "<Axes: >"
      ]
     },
     "execution_count": 286,
     "metadata": {},
     "output_type": "execute_result"
    },
    {
     "data": {
      "image/png": "[encoded data removed]",
      "text/plain": [
       "<Figure size 1000x500 with 1 Axes>"
      ]
     },
     "metadata": {},
     "output_type": "display_data"
    }
   ],
   "source": [
    "df['Fare'].hist(color='green',bins=30,figsize=(10,5))"
   ]
  },
  {
   "cell_type": "code",
   "execution_count": 287,
   "id": "d5f0ee65-f6ef-40dc-bee8-01aafd5ac96c",
   "metadata": {},
   "outputs": [
    {
     "data": {
      "text/plain": [
       "<Axes: xlabel='Pclass', ylabel='Age'>"
      ]
     },
     "execution_count": 287,
     "metadata": {},
     "output_type": "execute_result"
    },
    {
     "data": {
      "image/png": "[encoded data removed]",
      "text/plain": [
       "<Figure size 1000x500 with 1 Axes>"
      ]
     },
     "metadata": {},
     "output_type": "display_data"
    }
   ],
   "source": [
    "# We are taking the Pclass parameter bcz mostly Pclass = 1 passengers survived and so we know thier ages. Mostly they were aged \n",
    "# people. So, in the particular passenger class we can replace the 'age' null_values with the median of the age in that particular \n",
    "# class. \n",
    "\n",
    "plt.figure(figsize=(10, 5))\n",
    "sns.boxplot(x='Pclass', y='Age',data=df,palette='winter')"
   ]
  },
  {
   "cell_type": "code",
   "execution_count": 288,
   "id": "24833be2-9c27-4c6e-b658-cb2ec1a2500f",
   "metadata": {},
   "outputs": [],
   "source": [
    "def define_age(cols):\n",
    "    Age = cols[0]\n",
    "    Pclass = cols[1]\n",
    "    \n",
    "    if pd.isnull(Age):\n",
    "\n",
    "        if Pclass == 1:\n",
    "            return 37         # Median of Pclass=1 from above boxplot \n",
    "\n",
    "        elif Pclass == 2:\n",
    "            return 29          # Median of Pclass=2 from above boxplot \n",
    "\n",
    "        else:\n",
    "            return 24         # Median of Pclass=3 from above boxplot \n",
    "\n",
    "    else:\n",
    "        return Age"
   ]
  },
  {
   "cell_type": "code",
   "execution_count": 289,
   "id": "62500cf7-3a68-4bcf-9948-d510e7bfb23f",
   "metadata": {},
   "outputs": [
    {
     "data": {
      "text/html": [
       "<div>\n",
       "<style scoped>\n",
       "    .dataframe tbody tr th:only-of-type {\n",
       "        vertical-align: middle;\n",
       "    }\n",
       "\n",
       "    .dataframe tbody tr th {\n",
       "        vertical-align: top;\n",
       "    }\n",
       "\n",
       "    .dataframe thead th {\n",
       "        text-align: right;\n",
       "    }\n",
       "</style>\n",
       "<table border=\"1\" class=\"dataframe\">\n",
       "  <thead>\n",
       "    <tr style=\"text-align: right;\">\n",
       "      <th></th>\n",
       "      <th>Survived</th>\n",
       "      <th>Pclass</th>\n",
       "      <th>Sex</th>\n",
       "      <th>Age</th>\n",
       "      <th>SibSp</th>\n",
       "      <th>Parch</th>\n",
       "      <th>Fare</th>\n",
       "      <th>Embarked</th>\n",
       "    </tr>\n",
       "  </thead>\n",
       "  <tbody>\n",
       "    <tr>\n",
       "      <th>0</th>\n",
       "      <td>0</td>\n",
       "      <td>3</td>\n",
       "      <td>male</td>\n",
       "      <td>22.0</td>\n",
       "      <td>1</td>\n",
       "      <td>0</td>\n",
       "      <td>7.2500</td>\n",
       "      <td>S</td>\n",
       "    </tr>\n",
       "    <tr>\n",
       "      <th>1</th>\n",
       "      <td>1</td>\n",
       "      <td>1</td>\n",
       "      <td>female</td>\n",
       "      <td>38.0</td>\n",
       "      <td>1</td>\n",
       "      <td>0</td>\n",
       "      <td>71.2833</td>\n",
       "      <td>C</td>\n",
       "    </tr>\n",
       "    <tr>\n",
       "      <th>2</th>\n",
       "      <td>1</td>\n",
       "      <td>3</td>\n",
       "      <td>female</td>\n",
       "      <td>26.0</td>\n",
       "      <td>0</td>\n",
       "      <td>0</td>\n",
       "      <td>7.9250</td>\n",
       "      <td>S</td>\n",
       "    </tr>\n",
       "    <tr>\n",
       "      <th>3</th>\n",
       "      <td>1</td>\n",
       "      <td>1</td>\n",
       "      <td>female</td>\n",
       "      <td>35.0</td>\n",
       "      <td>1</td>\n",
       "      <td>0</td>\n",
       "      <td>53.1000</td>\n",
       "      <td>S</td>\n",
       "    </tr>\n",
       "    <tr>\n",
       "      <th>4</th>\n",
       "      <td>0</td>\n",
       "      <td>3</td>\n",
       "      <td>male</td>\n",
       "      <td>35.0</td>\n",
       "      <td>0</td>\n",
       "      <td>0</td>\n",
       "      <td>8.0500</td>\n",
       "      <td>S</td>\n",
       "    </tr>\n",
       "  </tbody>\n",
       "</table>\n",
       "</div>"
      ],
      "text/plain": [
       "   Survived  Pclass     Sex   Age  SibSp  Parch     Fare Embarked\n",
       "0         0       3    male  22.0      1      0   7.2500        S\n",
       "1         1       1  female  38.0      1      0  71.2833        C\n",
       "2         1       3  female  26.0      0      0   7.9250        S\n",
       "3         1       1  female  35.0      1      0  53.1000        S\n",
       "4         0       3    male  35.0      0      0   8.0500        S"
      ]
     },
     "execution_count": 289,
     "metadata": {},
     "output_type": "execute_result"
    }
   ],
   "source": [
    "df['Age'] = df[['Age','Pclass']].apply(define_age,axis=1)\n",
    "\n",
    "df.dropna(subset = ['Embarked'], how='any', inplace=True)\n",
    "\n",
    "df.drop(columns=['Cabin', 'Name', 'PassengerId', 'Ticket'], axis=0, inplace=True)\n",
    "df.head()"
   ]
  },
  {
   "cell_type": "code",
   "execution_count": 290,
   "id": "8ca50121-caba-423a-9f1b-5560b750c91f",
   "metadata": {},
   "outputs": [],
   "source": [
    "# Encode categorical variables\n",
    "encoder = LabelEncoder()\n",
    "df['Sex'] = encoder.fit_transform(df['Sex'])\n",
    "df['Embarked'] = encoder.fit_transform(df['Embarked'])\n",
    "\n",
    "# Split the df dataset into training and testing sets but we will be mostly using the cross validation method\n",
    "X = df.drop('Survived', axis=1)\n",
    "y = df['Survived']\n",
    "X_train, X_test, y_train, y_test = train_test_split(X, y, test_size=0.3, random_state=42)"
   ]
  },
  {
   "cell_type": "code",
   "execution_count": 291,
   "id": "cb3c428f-492b-4c20-85c4-b4757a03a534",
   "metadata": {},
   "outputs": [
    {
     "data": {
      "text/plain": [
       "<Axes: >"
      ]
     },
     "execution_count": 291,
     "metadata": {},
     "output_type": "execute_result"
    },
    {
     "data": {
      "image/png": "[encoded data removed]",
      "text/plain": [
       "<Figure size 640x480 with 1 Axes>"
      ]
     },
     "metadata": {},
     "output_type": "display_data"
    }
   ],
   "source": [
    "sns.heatmap(df.isnull(),yticklabels=False,cbar=False,cmap='plasma')"
   ]
  },
  {
   "cell_type": "markdown",
   "id": "0a9af839-dc0b-457b-8d61-1b3307bea9e1",
   "metadata": {
    "jp-MarkdownHeadingCollapsed": true
   },
   "source": [
    "# **Random Forest**"
   ]
  },
  {
   "cell_type": "code",
   "execution_count": 270,
   "id": "90d4389c-ea4f-4270-8987-d9012dd5ca4e",
   "metadata": {},
   "outputs": [],
   "source": [
    "#Create a random forest classifier with additional hyperparameters\n",
    "rf = RandomForestClassifier(criterion='gini', \n",
    "                             n_estimators=100,   # Number of trees in the forest\n",
    "                             min_samples_split=2,  \n",
    "                             min_samples_leaf=1,\n",
    "                             max_features='auto',\n",
    "                             random_state=1)"
   ]
  },
  {
   "cell_type": "code",
   "execution_count": 271,
   "id": "122792cd-8fc8-4b7d-bdcd-ba0afba7d27b",
   "metadata": {},
   "outputs": [
    {
     "name": "stdout",
     "output_type": "stream",
     "text": [
      "Accuracy:  0.783\n",
      "Classification Report:\n",
      "              precision    recall  f1-score   support\n",
      "\n",
      "           0       0.81      0.85      0.83       167\n",
      "           1       0.73      0.67      0.70       100\n",
      "\n",
      "    accuracy                           0.78       267\n",
      "   macro avg       0.77      0.76      0.76       267\n",
      "weighted avg       0.78      0.78      0.78       267\n",
      "\n",
      "Confusion Matrix:\n",
      "[[142  25]\n",
      " [ 33  67]]\n"
     ]
    }
   ],
   "source": [
    "# Train the model\n",
    "rf_clf.fit(X_train, y_train)\n",
    "\n",
    "# Making predictions on the test set\n",
    "y_pred = rf_clf.predict(X_test)\n",
    "\n",
    "# Evaluate the model\n",
    "accuracy = accuracy_score(y_test, y_pred)\n",
    "print(f\"Accuracy: {accuracy: .3f}\")\n",
    "\n",
    "print(\"Classification Report:\")\n",
    "print(classification_report(y_test, y_pred))\n",
    "\n",
    "print(\"Confusion Matrix:\")\n",
    "print(confusion_matrix(y_test, y_pred))"
   ]
  },
  {
   "cell_type": "code",
   "execution_count": 217,
   "id": "b7d549dd-1a84-48fc-b2c4-5e86077ed4ec",
   "metadata": {},
   "outputs": [],
   "source": [
    "# Accuracy on Random Forest = 0.783"
   ]
  },
  {
   "cell_type": "markdown",
   "id": "c8b8ea24-2af4-4a13-93a6-64a261817a2f",
   "metadata": {
    "jp-MarkdownHeadingCollapsed": true
   },
   "source": [
    "# **Logistic Regression**"
   ]
  },
  {
   "cell_type": "code",
   "execution_count": 218,
   "id": "629a1193-1f13-4d6b-bf08-98f11e5359f3",
   "metadata": {},
   "outputs": [
    {
     "data": {
      "text/html": [
       "<div>\n",
       "<style scoped>\n",
       "    .dataframe tbody tr th:only-of-type {\n",
       "        vertical-align: middle;\n",
       "    }\n",
       "\n",
       "    .dataframe tbody tr th {\n",
       "        vertical-align: top;\n",
       "    }\n",
       "\n",
       "    .dataframe thead th {\n",
       "        text-align: right;\n",
       "    }\n",
       "</style>\n",
       "<table border=\"1\" class=\"dataframe\">\n",
       "  <thead>\n",
       "    <tr style=\"text-align: right;\">\n",
       "      <th></th>\n",
       "      <th>Survived</th>\n",
       "      <th>Pclass</th>\n",
       "      <th>Sex</th>\n",
       "      <th>Age</th>\n",
       "      <th>SibSp</th>\n",
       "      <th>Parch</th>\n",
       "      <th>Fare</th>\n",
       "      <th>Embarked</th>\n",
       "    </tr>\n",
       "  </thead>\n",
       "  <tbody>\n",
       "    <tr>\n",
       "      <th>0</th>\n",
       "      <td>0</td>\n",
       "      <td>3</td>\n",
       "      <td>1</td>\n",
       "      <td>22.0</td>\n",
       "      <td>1</td>\n",
       "      <td>0</td>\n",
       "      <td>7.2500</td>\n",
       "      <td>2</td>\n",
       "    </tr>\n",
       "    <tr>\n",
       "      <th>1</th>\n",
       "      <td>1</td>\n",
       "      <td>1</td>\n",
       "      <td>0</td>\n",
       "      <td>38.0</td>\n",
       "      <td>1</td>\n",
       "      <td>0</td>\n",
       "      <td>71.2833</td>\n",
       "      <td>0</td>\n",
       "    </tr>\n",
       "    <tr>\n",
       "      <th>2</th>\n",
       "      <td>1</td>\n",
       "      <td>3</td>\n",
       "      <td>0</td>\n",
       "      <td>26.0</td>\n",
       "      <td>0</td>\n",
       "      <td>0</td>\n",
       "      <td>7.9250</td>\n",
       "      <td>2</td>\n",
       "    </tr>\n",
       "    <tr>\n",
       "      <th>3</th>\n",
       "      <td>1</td>\n",
       "      <td>1</td>\n",
       "      <td>0</td>\n",
       "      <td>35.0</td>\n",
       "      <td>1</td>\n",
       "      <td>0</td>\n",
       "      <td>53.1000</td>\n",
       "      <td>2</td>\n",
       "    </tr>\n",
       "    <tr>\n",
       "      <th>4</th>\n",
       "      <td>0</td>\n",
       "      <td>3</td>\n",
       "      <td>1</td>\n",
       "      <td>35.0</td>\n",
       "      <td>0</td>\n",
       "      <td>0</td>\n",
       "      <td>8.0500</td>\n",
       "      <td>2</td>\n",
       "    </tr>\n",
       "  </tbody>\n",
       "</table>\n",
       "</div>"
      ],
      "text/plain": [
       "   Survived  Pclass  Sex   Age  SibSp  Parch     Fare  Embarked\n",
       "0         0       3    1  22.0      1      0   7.2500         2\n",
       "1         1       1    0  38.0      1      0  71.2833         0\n",
       "2         1       3    0  26.0      0      0   7.9250         2\n",
       "3         1       1    0  35.0      1      0  53.1000         2\n",
       "4         0       3    1  35.0      0      0   8.0500         2"
      ]
     },
     "execution_count": 218,
     "metadata": {},
     "output_type": "execute_result"
    }
   ],
   "source": [
    "df.head()"
   ]
  },
  {
   "cell_type": "code",
   "execution_count": 219,
   "id": "23601666-9b89-43f9-bea4-25feed00299f",
   "metadata": {},
   "outputs": [
    {
     "name": "stdout",
     "output_type": "stream",
     "text": [
      "Avg. Cross Value Score :  0.798\n"
     ]
    }
   ],
   "source": [
    "print(f\"Avg. Cross Value Score : {cross_val_score(LogisticRegression(solver='liblinear', multi_class='ovr'), X, y, cv=10).mean(): .3f}\")"
   ]
  },
  {
   "cell_type": "code",
   "execution_count": 220,
   "id": "81e68358-91f5-4341-944e-a1fad1857b8e",
   "metadata": {},
   "outputs": [],
   "source": [
    "#Avg. Cross Value on Logistic Regression = 0.798"
   ]
  },
  {
   "cell_type": "markdown",
   "id": "70a0cca1-736e-48d6-823c-1f79038d24eb",
   "metadata": {
    "jp-MarkdownHeadingCollapsed": true
   },
   "source": [
    "# **Decision Tree**"
   ]
  },
  {
   "cell_type": "code",
   "execution_count": 221,
   "id": "690a45ad-7e2e-477c-88cf-79ab8d91a1f9",
   "metadata": {},
   "outputs": [
    {
     "name": "stdout",
     "output_type": "stream",
     "text": [
      "Avg. Cross Value Score :  0.781\n"
     ]
    }
   ],
   "source": [
    "print(f\"Avg. Cross Value Score : {cross_val_score(DecisionTreeClassifier(criterion='gini'), X, y, cv=10).mean() : .3f}\")"
   ]
  },
  {
   "cell_type": "code",
   "execution_count": 222,
   "id": "4cea40ba-fd3e-4e6b-971b-a0f9420f137b",
   "metadata": {},
   "outputs": [],
   "source": [
    "#Avg. Cross Value on Decision Tree Classifier = 0.784"
   ]
  },
  {
   "cell_type": "markdown",
   "id": "bffa6310-cfe8-47dc-8a59-57414aba9b71",
   "metadata": {
    "jp-MarkdownHeadingCollapsed": true
   },
   "source": [
    "# **SVM**"
   ]
  },
  {
   "cell_type": "code",
   "execution_count": 223,
   "id": "897b5743-1f7d-4b56-a72f-19090bd16b6c",
   "metadata": {},
   "outputs": [
    {
     "name": "stdout",
     "output_type": "stream",
     "text": [
      "Avg. Cross Value Score :  0.700\n"
     ]
    }
   ],
   "source": [
    "print(f\"Avg. Cross Value Score : {cross_val_score(SVC(gamma='auto'), X, y, cv=10).mean() : .3f}\")"
   ]
  },
  {
   "cell_type": "code",
   "execution_count": 224,
   "id": "af1eaf02-8421-4ca7-9136-558c8f367581",
   "metadata": {},
   "outputs": [],
   "source": [
    "# Avg. Cross Value Score on SVM = 0.7 "
   ]
  },
  {
   "cell_type": "markdown",
   "id": "e5e68dd8-e199-4445-9ad3-2be032d0d055",
   "metadata": {
    "jp-MarkdownHeadingCollapsed": true
   },
   "source": [
    "# **KNearestNeighbor**"
   ]
  },
  {
   "cell_type": "code",
   "execution_count": 225,
   "id": "fb5fbb47-9518-4aaa-9ad0-945050695119",
   "metadata": {},
   "outputs": [],
   "source": [
    "#Here we are also need to do doing parameter tuning "
   ]
  },
  {
   "cell_type": "code",
   "execution_count": 226,
   "id": "920ce1dc-5ab0-4e4d-ad13-f8d1e4045a8c",
   "metadata": {},
   "outputs": [
    {
     "name": "stdout",
     "output_type": "stream",
     "text": [
      "Avg. Cross Val Score:  0.727\n"
     ]
    }
   ],
   "source": [
    "print(f\"Avg. Cross Val Score: {cross_val_score(KNeighborsClassifier(n_neighbors = 5, metric = 'minkowski', p = 1), X, y, cv=20).mean() : .3f}\")"
   ]
  },
  {
   "cell_type": "code",
   "execution_count": 227,
   "id": "c8333dfd-8c28-4075-a447-4191a895795f",
   "metadata": {},
   "outputs": [
    {
     "name": "stdout",
     "output_type": "stream",
     "text": [
      "Avg. Cross Val Score:  0.743\n"
     ]
    }
   ],
   "source": [
    "print(f\"Avg. Cross Val Score: {cross_val_score(KNeighborsClassifier(n_neighbors = 9, metric = 'minkowski', p = 1), X, y, cv=20).mean() : .3f}\")"
   ]
  },
  {
   "cell_type": "code",
   "execution_count": 228,
   "id": "d7a1ca88-c4a7-4427-82b8-eb86c29ff8b5",
   "metadata": {},
   "outputs": [
    {
     "name": "stdout",
     "output_type": "stream",
     "text": [
      "Avg. Cross Val Score:  0.724\n"
     ]
    }
   ],
   "source": [
    "print(f\"Avg. Cross Val Score: {cross_val_score(KNeighborsClassifier(n_neighbors = 10, metric = 'minkowski', p = 1), X, y, cv=20).mean() : .3f}\")"
   ]
  },
  {
   "cell_type": "code",
   "execution_count": 229,
   "id": "e49848b5-e350-4152-8a37-ceabcab55f11",
   "metadata": {},
   "outputs": [],
   "source": [
    "# Avg. Cross Value Score on KNN Classifier = 0.743"
   ]
  },
  {
   "cell_type": "markdown",
   "id": "cc1a7fab-f875-49be-82df-8b9b4c499185",
   "metadata": {
    "jp-MarkdownHeadingCollapsed": true
   },
   "source": [
    "# **Gaussian Naive Bayes Classifier**"
   ]
  },
  {
   "cell_type": "code",
   "execution_count": 230,
   "id": "bde41605-008f-4d9a-aec1-6c5cbf93ba0a",
   "metadata": {},
   "outputs": [
    {
     "name": "stdout",
     "output_type": "stream",
     "text": [
      "Avg. Cross Value Score:  0.789\n"
     ]
    }
   ],
   "source": [
    "print(f\"Avg. Cross Value Score: {cross_val_score(GaussianNB(), X, y, cv=5).mean() : .3f}\")"
   ]
  },
  {
   "cell_type": "code",
   "execution_count": 231,
   "id": "281c2e46-5ccc-4af8-8881-bb5fff062345",
   "metadata": {},
   "outputs": [],
   "source": [
    "#Avg. Cross Value Score of Gaussian Naive Bayes Classifier = 0.789"
   ]
  },
  {
   "cell_type": "markdown",
   "id": "cebbe878-65c7-415b-82a0-e8cceace72c4",
   "metadata": {
    "jp-MarkdownHeadingCollapsed": true
   },
   "source": [
    "# **Multinomial Naive Bayes Classifier**"
   ]
  },
  {
   "cell_type": "code",
   "execution_count": 232,
   "id": "e82a47a7-d99f-4b9d-b9f0-080eb82d6c45",
   "metadata": {},
   "outputs": [
    {
     "name": "stdout",
     "output_type": "stream",
     "text": [
      "Avg. Cross Value Score:  0.686\n"
     ]
    }
   ],
   "source": [
    "print(f\"Avg. Cross Value Score: {cross_val_score(MultinomialNB(), X, y, cv=10).mean() : .3f}\")"
   ]
  },
  {
   "cell_type": "code",
   "execution_count": 233,
   "id": "3832787e-fa92-474c-aa79-0c1c0863b0f4",
   "metadata": {},
   "outputs": [],
   "source": [
    "#Avg. Cross Value Score of Multinomial Naive Bayes Classifier = 0.686"
   ]
  },
  {
   "cell_type": "markdown",
   "id": "c4f6054a-376e-4fda-b95a-caa0108c8fcb",
   "metadata": {
    "jp-MarkdownHeadingCollapsed": true
   },
   "source": [
    "# **AdaBoost Classifier** "
   ]
  },
  {
   "cell_type": "code",
   "execution_count": 234,
   "id": "5d3f9e49-c097-4b8f-bb28-013ed36ae29b",
   "metadata": {},
   "outputs": [
    {
     "name": "stdout",
     "output_type": "stream",
     "text": [
      "Avg. Cross Value Score:  0.813\n"
     ]
    }
   ],
   "source": [
    "print(f\"Avg. Cross Value Score: {cross_val_score(AdaBoostClassifier(n_estimators=30, learning_rate=1, random_state=0), X, y, cv=10).mean() : .3f}\")"
   ]
  },
  {
   "cell_type": "code",
   "execution_count": 235,
   "id": "70953ee9-eeef-49f7-ad4d-d695c5f69c8c",
   "metadata": {},
   "outputs": [
    {
     "name": "stdout",
     "output_type": "stream",
     "text": [
      "Avg. Cross Value Score:  0.817\n"
     ]
    }
   ],
   "source": [
    "print(f\"Avg. Cross Value Score: {cross_val_score(AdaBoostClassifier(n_estimators=35, learning_rate=1, random_state=0), X, y, cv=10).mean() : .3f}\")"
   ]
  },
  {
   "cell_type": "code",
   "execution_count": 236,
   "id": "e418446d-921e-42f9-bd08-cd7dbf4d161b",
   "metadata": {},
   "outputs": [
    {
     "name": "stdout",
     "output_type": "stream",
     "text": [
      "Avg. Cross Value Score:  0.814\n"
     ]
    }
   ],
   "source": [
    "print(f\"Avg. Cross Value Score: {cross_val_score(AdaBoostClassifier(n_estimators=45, learning_rate=1, random_state=0), X, y, cv=10).mean() : .3f}\")"
   ]
  },
  {
   "cell_type": "code",
   "execution_count": 237,
   "id": "0bd9142d-0506-4457-a5f5-632854e4219c",
   "metadata": {},
   "outputs": [],
   "source": [
    "#Avg. Cross Value Score of Adaboost Classifier = 0.817"
   ]
  },
  {
   "cell_type": "markdown",
   "id": "7e1a23cc-c012-41a4-a03d-6d93de089c06",
   "metadata": {
    "jp-MarkdownHeadingCollapsed": true
   },
   "source": [
    "# **Gradient Boosting Classifier**"
   ]
  },
  {
   "cell_type": "code",
   "execution_count": 238,
   "id": "0ebf8a1f-44c8-4ffa-93f8-65b318761282",
   "metadata": {},
   "outputs": [
    {
     "name": "stdout",
     "output_type": "stream",
     "text": [
      "Avg. Cross Value Score:  0.810\n"
     ]
    }
   ],
   "source": [
    "print(f\"Avg. Cross Value Score: {cross_val_score(GradientBoostingClassifier(n_estimators=25, learning_rate=1, random_state=0), X, y, cv=10).mean() : .3f}\")"
   ]
  },
  {
   "cell_type": "code",
   "execution_count": 239,
   "id": "c5dff810-46ab-47d2-ae30-0df276fc3896",
   "metadata": {},
   "outputs": [
    {
     "name": "stdout",
     "output_type": "stream",
     "text": [
      "Avg. Cross Value Score:  0.813\n"
     ]
    }
   ],
   "source": [
    "print(f\"Avg. Cross Value Score: {cross_val_score(GradientBoostingClassifier(n_estimators=27, learning_rate=1, random_state=0), X, y, cv=10).mean() : .3f}\")"
   ]
  },
  {
   "cell_type": "code",
   "execution_count": 240,
   "id": "138f5d01-5940-4ea8-b141-42857a92a3c8",
   "metadata": {},
   "outputs": [
    {
     "name": "stdout",
     "output_type": "stream",
     "text": [
      "Avg. Cross Value Score:  0.810\n"
     ]
    }
   ],
   "source": [
    "print(f\"Avg. Cross Value Score: {cross_val_score(GradientBoostingClassifier(n_estimators=30, learning_rate=1, random_state=0), X, y, cv=10).mean() : .3f}\")"
   ]
  },
  {
   "cell_type": "code",
   "execution_count": 241,
   "id": "58b12bc4-d106-4f66-ac93-14995f23186f",
   "metadata": {},
   "outputs": [],
   "source": [
    "#Avg. Cross Value Score of Gradient Boosting Classifier = 0.813"
   ]
  },
  {
   "cell_type": "markdown",
   "id": "6ee796f2-521e-44ca-ba90-9f0c49224029",
   "metadata": {},
   "source": [
    "# **Model**"
   ]
  },
  {
   "cell_type": "code",
   "execution_count": 242,
   "id": "fa8d7308-40f6-4a7e-92bd-50f4d7f8e7b4",
   "metadata": {},
   "outputs": [],
   "source": [
    "# Since we have so many classifiers and we checked almost all the classifiers we had learnt yet, the most accurate among them is the\n",
    "# AdaBoost Classifier"
   ]
  },
  {
   "cell_type": "code",
   "execution_count": 254,
   "id": "49d5ec20-3e89-4cba-bba9-a76e5fcdd70f",
   "metadata": {},
   "outputs": [
    {
     "name": "stdout",
     "output_type": "stream",
     "text": [
      "AdaBoost Classifier Model Accuracy:   0.809\n",
      "Confusion Matrix:\n",
      "[[139  28]\n",
      " [ 23  77]]\n"
     ]
    }
   ],
   "source": [
    "# Creating adaboost classifer object\n",
    "obj = AdaBoostClassifier(n_estimators=35, learning_rate=1, random_state=0)\n",
    "\n",
    "## Train Adaboost Classifer\n",
    "model1 = obj.fit(X_train, y_train)\n",
    "\n",
    "#Predict the response for test dataset\n",
    "y_pred = model1.predict(X_test)\n",
    "\n",
    "print(f\"AdaBoost Classifier Model Accuracy:  {accuracy_score(y_test, y_pred): .3f}\")\n",
    "\n",
    "print(\"Confusion Matrix:\")\n",
    "print(confusion_matrix(y_test, y_pred))"
   ]
  },
  {
   "cell_type": "code",
   "execution_count": null,
   "id": "578c76db-b51a-489f-9447-7c497d81dec8",
   "metadata": {},
   "outputs": [],
   "source": [
    "# So, our Model is ready with an accuracy of almost 81% i.e. with an accuracy of 81% it can predict if the person has survived or not.\n",
    "\n",
    "# This week I was able to learn and explore various tough but important classifiers as compared to the previous ones. And so, I have tried exploring\n",
    "# all the classifiers except some which I need to explore more."
   ]
  }
 ],
 "metadata": {
  "kernelspec": {
   "display_name": "Python 3 (ipykernel)",
   "language": "python",
   "name": "python3"
  },
  "language_info": {
   "codemirror_mode": {
    "name": "ipython",
    "version": 3
   },
   "file_extension": ".py",
   "mimetype": "text/x-python",
   "name": "python",
   "nbconvert_exporter": "python",
   "pygments_lexer": "ipython3",
   "version": "3.11.7"
  }
 },
 "nbformat": 4,
 "nbformat_minor": 5
}
