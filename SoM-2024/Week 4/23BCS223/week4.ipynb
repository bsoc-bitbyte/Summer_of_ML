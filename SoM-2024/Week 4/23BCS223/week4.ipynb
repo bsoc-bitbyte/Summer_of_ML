{
 "cells": [
  {
   "cell_type": "markdown",
   "id": "207c778c-dbf3-4389-925c-ca514a8e56f2",
   "metadata": {},
   "source": [
    "# **Red Wine Quality Dataset**"
   ]
  },
  {
   "cell_type": "markdown",
   "id": "90ddfd46-ac34-4c5b-a3ba-56e12b017d0f",
   "metadata": {},
   "source": [
    " **Importing Important Libraries**"
   ]
  },
  {
   "cell_type": "code",
   "execution_count": 1,
   "id": "52bc7aeb-73c3-4041-8a42-ddc89ee63bae",
   "metadata": {},
   "outputs": [],
   "source": [
    "import pandas as pd\n",
    "import matplotlib.pyplot as plt\n",
    "import numpy as np\n",
    "import seaborn as sns\n",
    "from sklearn.metrics import confusion_matrix, classification_report,accuracy_score\n",
    "from sklearn.preprocessing import StandardScaler\n",
    "scaler=StandardScaler()\n",
    "from sklearn.model_selection import train_test_split\n",
    "from sklearn.model_selection import cross_val_score\n",
    "import warnings\n",
    "warnings.filterwarnings(\"ignore\")"
   ]
  },
  {
   "cell_type": "markdown",
   "id": "66e650d0-7636-4fc6-a459-c673bf8eea23",
   "metadata": {},
   "source": [
    "**Loading the wine dataset into a dataframe**"
   ]
  },
  {
   "cell_type": "code",
   "execution_count": 2,
   "id": "9000fd82-10ee-4915-997b-ef71985daa60",
   "metadata": {},
   "outputs": [
    {
     "data": {
      "text/html": [
       "<div>\n",
       "<style scoped>\n",
       "    .dataframe tbody tr th:only-of-type {\n",
       "        vertical-align: middle;\n",
       "    }\n",
       "\n",
       "    .dataframe tbody tr th {\n",
       "        vertical-align: top;\n",
       "    }\n",
       "\n",
       "    .dataframe thead th {\n",
       "        text-align: right;\n",
       "    }\n",
       "</style>\n",
       "<table border=\"1\" class=\"dataframe\">\n",
       "  <thead>\n",
       "    <tr style=\"text-align: right;\">\n",
       "      <th></th>\n",
       "      <th>fixed acidity</th>\n",
       "      <th>volatile acidity</th>\n",
       "      <th>citric acid</th>\n",
       "      <th>residual sugar</th>\n",
       "      <th>chlorides</th>\n",
       "      <th>free sulfur dioxide</th>\n",
       "      <th>total sulfur dioxide</th>\n",
       "      <th>density</th>\n",
       "      <th>pH</th>\n",
       "      <th>sulphates</th>\n",
       "      <th>alcohol</th>\n",
       "      <th>quality</th>\n",
       "    </tr>\n",
       "  </thead>\n",
       "  <tbody>\n",
       "    <tr>\n",
       "      <th>0</th>\n",
       "      <td>7.4</td>\n",
       "      <td>0.70</td>\n",
       "      <td>0.00</td>\n",
       "      <td>1.9</td>\n",
       "      <td>0.076</td>\n",
       "      <td>11.0</td>\n",
       "      <td>34.0</td>\n",
       "      <td>0.9978</td>\n",
       "      <td>3.51</td>\n",
       "      <td>0.56</td>\n",
       "      <td>9.4</td>\n",
       "      <td>5</td>\n",
       "    </tr>\n",
       "    <tr>\n",
       "      <th>1</th>\n",
       "      <td>7.8</td>\n",
       "      <td>0.88</td>\n",
       "      <td>0.00</td>\n",
       "      <td>2.6</td>\n",
       "      <td>0.098</td>\n",
       "      <td>25.0</td>\n",
       "      <td>67.0</td>\n",
       "      <td>0.9968</td>\n",
       "      <td>3.20</td>\n",
       "      <td>0.68</td>\n",
       "      <td>9.8</td>\n",
       "      <td>5</td>\n",
       "    </tr>\n",
       "    <tr>\n",
       "      <th>2</th>\n",
       "      <td>7.8</td>\n",
       "      <td>0.76</td>\n",
       "      <td>0.04</td>\n",
       "      <td>2.3</td>\n",
       "      <td>0.092</td>\n",
       "      <td>15.0</td>\n",
       "      <td>54.0</td>\n",
       "      <td>0.9970</td>\n",
       "      <td>3.26</td>\n",
       "      <td>0.65</td>\n",
       "      <td>9.8</td>\n",
       "      <td>5</td>\n",
       "    </tr>\n",
       "    <tr>\n",
       "      <th>3</th>\n",
       "      <td>11.2</td>\n",
       "      <td>0.28</td>\n",
       "      <td>0.56</td>\n",
       "      <td>1.9</td>\n",
       "      <td>0.075</td>\n",
       "      <td>17.0</td>\n",
       "      <td>60.0</td>\n",
       "      <td>0.9980</td>\n",
       "      <td>3.16</td>\n",
       "      <td>0.58</td>\n",
       "      <td>9.8</td>\n",
       "      <td>6</td>\n",
       "    </tr>\n",
       "    <tr>\n",
       "      <th>4</th>\n",
       "      <td>7.4</td>\n",
       "      <td>0.70</td>\n",
       "      <td>0.00</td>\n",
       "      <td>1.9</td>\n",
       "      <td>0.076</td>\n",
       "      <td>11.0</td>\n",
       "      <td>34.0</td>\n",
       "      <td>0.9978</td>\n",
       "      <td>3.51</td>\n",
       "      <td>0.56</td>\n",
       "      <td>9.4</td>\n",
       "      <td>5</td>\n",
       "    </tr>\n",
       "  </tbody>\n",
       "</table>\n",
       "</div>"
      ],
      "text/plain": [
       "   fixed acidity  volatile acidity  citric acid  residual sugar  chlorides  \\\n",
       "0            7.4              0.70         0.00             1.9      0.076   \n",
       "1            7.8              0.88         0.00             2.6      0.098   \n",
       "2            7.8              0.76         0.04             2.3      0.092   \n",
       "3           11.2              0.28         0.56             1.9      0.075   \n",
       "4            7.4              0.70         0.00             1.9      0.076   \n",
       "\n",
       "   free sulfur dioxide  total sulfur dioxide  density    pH  sulphates  \\\n",
       "0                 11.0                  34.0   0.9978  3.51       0.56   \n",
       "1                 25.0                  67.0   0.9968  3.20       0.68   \n",
       "2                 15.0                  54.0   0.9970  3.26       0.65   \n",
       "3                 17.0                  60.0   0.9980  3.16       0.58   \n",
       "4                 11.0                  34.0   0.9978  3.51       0.56   \n",
       "\n",
       "   alcohol  quality  \n",
       "0      9.4        5  \n",
       "1      9.8        5  \n",
       "2      9.8        5  \n",
       "3      9.8        6  \n",
       "4      9.4        5  "
      ]
     },
     "execution_count": 2,
     "metadata": {},
     "output_type": "execute_result"
    }
   ],
   "source": [
    "df = pd.read_csv('winequality-red.csv',delimiter=';')\n",
    "df.head()"
   ]
  },
  {
   "cell_type": "code",
   "execution_count": 3,
   "id": "733170f4-8ced-4571-bfa9-1c3a70eef82f",
   "metadata": {},
   "outputs": [
    {
     "data": {
      "text/plain": [
       "(1599, 12)"
      ]
     },
     "execution_count": 3,
     "metadata": {},
     "output_type": "execute_result"
    }
   ],
   "source": [
    "df.shape"
   ]
  },
  {
   "cell_type": "markdown",
   "id": "899785fb-7816-4abd-9c06-7f19aa4e8685",
   "metadata": {},
   "source": [
    "**Checking for some basic info**"
   ]
  },
  {
   "cell_type": "code",
   "execution_count": 97,
   "id": "e870d21e-a855-4c43-b26e-79e39e4c7c35",
   "metadata": {},
   "outputs": [
    {
     "data": {
      "text/plain": [
       "fixed acidity           0\n",
       "volatile acidity        0\n",
       "citric acid             0\n",
       "residual sugar          0\n",
       "chlorides               0\n",
       "free sulfur dioxide     0\n",
       "total sulfur dioxide    0\n",
       "density                 0\n",
       "pH                      0\n",
       "sulphates               0\n",
       "alcohol                 0\n",
       "quality                 0\n",
       "dtype: int64"
      ]
     },
     "execution_count": 97,
     "metadata": {},
     "output_type": "execute_result"
    }
   ],
   "source": [
    "df.isna().sum()"
   ]
  },
  {
   "cell_type": "code",
   "execution_count": 98,
   "id": "d30972dd-64a0-4ecf-9215-2f485fd784bc",
   "metadata": {},
   "outputs": [
    {
     "name": "stdout",
     "output_type": "stream",
     "text": [
      "<class 'pandas.core.frame.DataFrame'>\n",
      "RangeIndex: 1599 entries, 0 to 1598\n",
      "Data columns (total 12 columns):\n",
      " #   Column                Non-Null Count  Dtype  \n",
      "---  ------                --------------  -----  \n",
      " 0   fixed acidity         1599 non-null   float64\n",
      " 1   volatile acidity      1599 non-null   float64\n",
      " 2   citric acid           1599 non-null   float64\n",
      " 3   residual sugar        1599 non-null   float64\n",
      " 4   chlorides             1599 non-null   float64\n",
      " 5   free sulfur dioxide   1599 non-null   float64\n",
      " 6   total sulfur dioxide  1599 non-null   float64\n",
      " 7   density               1599 non-null   float64\n",
      " 8   pH                    1599 non-null   float64\n",
      " 9   sulphates             1599 non-null   float64\n",
      " 10  alcohol               1599 non-null   float64\n",
      " 11  quality               1599 non-null   int64  \n",
      "dtypes: float64(11), int64(1)\n",
      "memory usage: 150.0 KB\n"
     ]
    }
   ],
   "source": [
    "df.info()"
   ]
  },
  {
   "cell_type": "code",
   "execution_count": 99,
   "id": "137af1e7-0d89-4282-b740-8a724e71beff",
   "metadata": {},
   "outputs": [
    {
     "data": {
      "text/html": [
       "<div>\n",
       "<style scoped>\n",
       "    .dataframe tbody tr th:only-of-type {\n",
       "        vertical-align: middle;\n",
       "    }\n",
       "\n",
       "    .dataframe tbody tr th {\n",
       "        vertical-align: top;\n",
       "    }\n",
       "\n",
       "    .dataframe thead th {\n",
       "        text-align: right;\n",
       "    }\n",
       "</style>\n",
       "<table border=\"1\" class=\"dataframe\">\n",
       "  <thead>\n",
       "    <tr style=\"text-align: right;\">\n",
       "      <th></th>\n",
       "      <th>count</th>\n",
       "    </tr>\n",
       "    <tr>\n",
       "      <th>quality</th>\n",
       "      <th></th>\n",
       "    </tr>\n",
       "  </thead>\n",
       "  <tbody>\n",
       "    <tr>\n",
       "      <th>5</th>\n",
       "      <td>681</td>\n",
       "    </tr>\n",
       "    <tr>\n",
       "      <th>6</th>\n",
       "      <td>638</td>\n",
       "    </tr>\n",
       "    <tr>\n",
       "      <th>7</th>\n",
       "      <td>199</td>\n",
       "    </tr>\n",
       "    <tr>\n",
       "      <th>4</th>\n",
       "      <td>53</td>\n",
       "    </tr>\n",
       "    <tr>\n",
       "      <th>8</th>\n",
       "      <td>18</td>\n",
       "    </tr>\n",
       "    <tr>\n",
       "      <th>3</th>\n",
       "      <td>10</td>\n",
       "    </tr>\n",
       "  </tbody>\n",
       "</table>\n",
       "</div>"
      ],
      "text/plain": [
       "         count\n",
       "quality       \n",
       "5          681\n",
       "6          638\n",
       "7          199\n",
       "4           53\n",
       "8           18\n",
       "3           10"
      ]
     },
     "execution_count": 99,
     "metadata": {},
     "output_type": "execute_result"
    }
   ],
   "source": [
    "df['quality'].value_counts().sort_values(ascending=False).to_frame()"
   ]
  },
  {
   "cell_type": "markdown",
   "id": "fdfb227d-a8a2-4d06-aa34-7db0cc8a24ba",
   "metadata": {},
   "source": [
    "Since there is 6 values of  quality to make classifying simpler and get better results with our models i will reduce it to 3 categories 0,1 and 2 with the following function:"
   ]
  },
  {
   "cell_type": "code",
   "execution_count": 4,
   "id": "74f041d8-bd20-4b57-ba80-767f3cb1ff9f",
   "metadata": {},
   "outputs": [],
   "source": [
    "def new_quality_rating(rating):\n",
    "    if (rating == 3 or rating == 4):\n",
    "        return 0\n",
    "    elif (rating == 5 or rating == 6):\n",
    "        return 1\n",
    "    else:\n",
    "        return 2  "
   ]
  },
  {
   "cell_type": "code",
   "execution_count": 5,
   "id": "3048a01c-da9b-4b02-804f-64f706617527",
   "metadata": {},
   "outputs": [
    {
     "data": {
      "text/html": [
       "<div>\n",
       "<style scoped>\n",
       "    .dataframe tbody tr th:only-of-type {\n",
       "        vertical-align: middle;\n",
       "    }\n",
       "\n",
       "    .dataframe tbody tr th {\n",
       "        vertical-align: top;\n",
       "    }\n",
       "\n",
       "    .dataframe thead th {\n",
       "        text-align: right;\n",
       "    }\n",
       "</style>\n",
       "<table border=\"1\" class=\"dataframe\">\n",
       "  <thead>\n",
       "    <tr style=\"text-align: right;\">\n",
       "      <th></th>\n",
       "      <th>fixed acidity</th>\n",
       "      <th>volatile acidity</th>\n",
       "      <th>citric acid</th>\n",
       "      <th>residual sugar</th>\n",
       "      <th>chlorides</th>\n",
       "      <th>free sulfur dioxide</th>\n",
       "      <th>total sulfur dioxide</th>\n",
       "      <th>density</th>\n",
       "      <th>pH</th>\n",
       "      <th>sulphates</th>\n",
       "      <th>alcohol</th>\n",
       "      <th>quality</th>\n",
       "      <th>new_quality</th>\n",
       "    </tr>\n",
       "  </thead>\n",
       "  <tbody>\n",
       "    <tr>\n",
       "      <th>0</th>\n",
       "      <td>7.4</td>\n",
       "      <td>0.70</td>\n",
       "      <td>0.00</td>\n",
       "      <td>1.9</td>\n",
       "      <td>0.076</td>\n",
       "      <td>11.0</td>\n",
       "      <td>34.0</td>\n",
       "      <td>0.9978</td>\n",
       "      <td>3.51</td>\n",
       "      <td>0.56</td>\n",
       "      <td>9.4</td>\n",
       "      <td>5</td>\n",
       "      <td>1</td>\n",
       "    </tr>\n",
       "    <tr>\n",
       "      <th>1</th>\n",
       "      <td>7.8</td>\n",
       "      <td>0.88</td>\n",
       "      <td>0.00</td>\n",
       "      <td>2.6</td>\n",
       "      <td>0.098</td>\n",
       "      <td>25.0</td>\n",
       "      <td>67.0</td>\n",
       "      <td>0.9968</td>\n",
       "      <td>3.20</td>\n",
       "      <td>0.68</td>\n",
       "      <td>9.8</td>\n",
       "      <td>5</td>\n",
       "      <td>1</td>\n",
       "    </tr>\n",
       "    <tr>\n",
       "      <th>2</th>\n",
       "      <td>7.8</td>\n",
       "      <td>0.76</td>\n",
       "      <td>0.04</td>\n",
       "      <td>2.3</td>\n",
       "      <td>0.092</td>\n",
       "      <td>15.0</td>\n",
       "      <td>54.0</td>\n",
       "      <td>0.9970</td>\n",
       "      <td>3.26</td>\n",
       "      <td>0.65</td>\n",
       "      <td>9.8</td>\n",
       "      <td>5</td>\n",
       "      <td>1</td>\n",
       "    </tr>\n",
       "    <tr>\n",
       "      <th>3</th>\n",
       "      <td>11.2</td>\n",
       "      <td>0.28</td>\n",
       "      <td>0.56</td>\n",
       "      <td>1.9</td>\n",
       "      <td>0.075</td>\n",
       "      <td>17.0</td>\n",
       "      <td>60.0</td>\n",
       "      <td>0.9980</td>\n",
       "      <td>3.16</td>\n",
       "      <td>0.58</td>\n",
       "      <td>9.8</td>\n",
       "      <td>6</td>\n",
       "      <td>1</td>\n",
       "    </tr>\n",
       "    <tr>\n",
       "      <th>4</th>\n",
       "      <td>7.4</td>\n",
       "      <td>0.70</td>\n",
       "      <td>0.00</td>\n",
       "      <td>1.9</td>\n",
       "      <td>0.076</td>\n",
       "      <td>11.0</td>\n",
       "      <td>34.0</td>\n",
       "      <td>0.9978</td>\n",
       "      <td>3.51</td>\n",
       "      <td>0.56</td>\n",
       "      <td>9.4</td>\n",
       "      <td>5</td>\n",
       "      <td>1</td>\n",
       "    </tr>\n",
       "  </tbody>\n",
       "</table>\n",
       "</div>"
      ],
      "text/plain": [
       "   fixed acidity  volatile acidity  citric acid  residual sugar  chlorides  \\\n",
       "0            7.4              0.70         0.00             1.9      0.076   \n",
       "1            7.8              0.88         0.00             2.6      0.098   \n",
       "2            7.8              0.76         0.04             2.3      0.092   \n",
       "3           11.2              0.28         0.56             1.9      0.075   \n",
       "4            7.4              0.70         0.00             1.9      0.076   \n",
       "\n",
       "   free sulfur dioxide  total sulfur dioxide  density    pH  sulphates  \\\n",
       "0                 11.0                  34.0   0.9978  3.51       0.56   \n",
       "1                 25.0                  67.0   0.9968  3.20       0.68   \n",
       "2                 15.0                  54.0   0.9970  3.26       0.65   \n",
       "3                 17.0                  60.0   0.9980  3.16       0.58   \n",
       "4                 11.0                  34.0   0.9978  3.51       0.56   \n",
       "\n",
       "   alcohol  quality  new_quality  \n",
       "0      9.4        5            1  \n",
       "1      9.8        5            1  \n",
       "2      9.8        5            1  \n",
       "3      9.8        6            1  \n",
       "4      9.4        5            1  "
      ]
     },
     "execution_count": 5,
     "metadata": {},
     "output_type": "execute_result"
    }
   ],
   "source": [
    "df['new_quality'] = df['quality'].apply(new_quality_rating)\n",
    "df.head()"
   ]
  },
  {
   "cell_type": "code",
   "execution_count": 6,
   "id": "66550b86-ed46-4bae-b2b5-9737dcb1c9e0",
   "metadata": {},
   "outputs": [
    {
     "data": {
      "text/html": [
       "<div>\n",
       "<style scoped>\n",
       "    .dataframe tbody tr th:only-of-type {\n",
       "        vertical-align: middle;\n",
       "    }\n",
       "\n",
       "    .dataframe tbody tr th {\n",
       "        vertical-align: top;\n",
       "    }\n",
       "\n",
       "    .dataframe thead th {\n",
       "        text-align: right;\n",
       "    }\n",
       "</style>\n",
       "<table border=\"1\" class=\"dataframe\">\n",
       "  <thead>\n",
       "    <tr style=\"text-align: right;\">\n",
       "      <th></th>\n",
       "      <th>fixed acidity</th>\n",
       "      <th>volatile acidity</th>\n",
       "      <th>citric acid</th>\n",
       "      <th>residual sugar</th>\n",
       "      <th>chlorides</th>\n",
       "      <th>free sulfur dioxide</th>\n",
       "      <th>total sulfur dioxide</th>\n",
       "      <th>density</th>\n",
       "      <th>pH</th>\n",
       "      <th>sulphates</th>\n",
       "      <th>alcohol</th>\n",
       "      <th>new_quality</th>\n",
       "    </tr>\n",
       "  </thead>\n",
       "  <tbody>\n",
       "    <tr>\n",
       "      <th>0</th>\n",
       "      <td>7.4</td>\n",
       "      <td>0.70</td>\n",
       "      <td>0.00</td>\n",
       "      <td>1.9</td>\n",
       "      <td>0.076</td>\n",
       "      <td>11.0</td>\n",
       "      <td>34.0</td>\n",
       "      <td>0.9978</td>\n",
       "      <td>3.51</td>\n",
       "      <td>0.56</td>\n",
       "      <td>9.4</td>\n",
       "      <td>1</td>\n",
       "    </tr>\n",
       "    <tr>\n",
       "      <th>1</th>\n",
       "      <td>7.8</td>\n",
       "      <td>0.88</td>\n",
       "      <td>0.00</td>\n",
       "      <td>2.6</td>\n",
       "      <td>0.098</td>\n",
       "      <td>25.0</td>\n",
       "      <td>67.0</td>\n",
       "      <td>0.9968</td>\n",
       "      <td>3.20</td>\n",
       "      <td>0.68</td>\n",
       "      <td>9.8</td>\n",
       "      <td>1</td>\n",
       "    </tr>\n",
       "    <tr>\n",
       "      <th>2</th>\n",
       "      <td>7.8</td>\n",
       "      <td>0.76</td>\n",
       "      <td>0.04</td>\n",
       "      <td>2.3</td>\n",
       "      <td>0.092</td>\n",
       "      <td>15.0</td>\n",
       "      <td>54.0</td>\n",
       "      <td>0.9970</td>\n",
       "      <td>3.26</td>\n",
       "      <td>0.65</td>\n",
       "      <td>9.8</td>\n",
       "      <td>1</td>\n",
       "    </tr>\n",
       "    <tr>\n",
       "      <th>3</th>\n",
       "      <td>11.2</td>\n",
       "      <td>0.28</td>\n",
       "      <td>0.56</td>\n",
       "      <td>1.9</td>\n",
       "      <td>0.075</td>\n",
       "      <td>17.0</td>\n",
       "      <td>60.0</td>\n",
       "      <td>0.9980</td>\n",
       "      <td>3.16</td>\n",
       "      <td>0.58</td>\n",
       "      <td>9.8</td>\n",
       "      <td>1</td>\n",
       "    </tr>\n",
       "    <tr>\n",
       "      <th>4</th>\n",
       "      <td>7.4</td>\n",
       "      <td>0.70</td>\n",
       "      <td>0.00</td>\n",
       "      <td>1.9</td>\n",
       "      <td>0.076</td>\n",
       "      <td>11.0</td>\n",
       "      <td>34.0</td>\n",
       "      <td>0.9978</td>\n",
       "      <td>3.51</td>\n",
       "      <td>0.56</td>\n",
       "      <td>9.4</td>\n",
       "      <td>1</td>\n",
       "    </tr>\n",
       "  </tbody>\n",
       "</table>\n",
       "</div>"
      ],
      "text/plain": [
       "   fixed acidity  volatile acidity  citric acid  residual sugar  chlorides  \\\n",
       "0            7.4              0.70         0.00             1.9      0.076   \n",
       "1            7.8              0.88         0.00             2.6      0.098   \n",
       "2            7.8              0.76         0.04             2.3      0.092   \n",
       "3           11.2              0.28         0.56             1.9      0.075   \n",
       "4            7.4              0.70         0.00             1.9      0.076   \n",
       "\n",
       "   free sulfur dioxide  total sulfur dioxide  density    pH  sulphates  \\\n",
       "0                 11.0                  34.0   0.9978  3.51       0.56   \n",
       "1                 25.0                  67.0   0.9968  3.20       0.68   \n",
       "2                 15.0                  54.0   0.9970  3.26       0.65   \n",
       "3                 17.0                  60.0   0.9980  3.16       0.58   \n",
       "4                 11.0                  34.0   0.9978  3.51       0.56   \n",
       "\n",
       "   alcohol  new_quality  \n",
       "0      9.4            1  \n",
       "1      9.8            1  \n",
       "2      9.8            1  \n",
       "3      9.8            1  \n",
       "4      9.4            1  "
      ]
     },
     "execution_count": 6,
     "metadata": {},
     "output_type": "execute_result"
    }
   ],
   "source": [
    "df.drop(columns=['quality'],axis=1,inplace=True)\n",
    "df.head()"
   ]
  },
  {
   "cell_type": "markdown",
   "id": "4759d3a8-c0eb-43d3-a533-79cc170507c8",
   "metadata": {},
   "source": [
    "There are no null values and all the feature are continuous."
   ]
  },
  {
   "cell_type": "markdown",
   "id": "e9af72f9-b723-486c-b1c3-dae7416f9615",
   "metadata": {},
   "source": [
    "**Splitting the data into train and test**"
   ]
  },
  {
   "cell_type": "code",
   "execution_count": 7,
   "id": "a8809b55-273c-4f30-9077-d2bdd173c02b",
   "metadata": {},
   "outputs": [],
   "source": [
    "def print_score_details(clf, x_train, y_train, x_test, y_test):\n",
    "        pred = clf.predict(x_test)\n",
    "        clf_report = pd.DataFrame(classification_report(y_test, pred, output_dict=True))\n",
    "        print(\"Test Result:\\n\")        \n",
    "        print(\"Accuracy Score:\",accuracy_score(y_test, pred),\"\\n\")\n",
    "        print(\"Classification Report:\\n\",clf_report,\"\\n\")\n",
    "        print(\"Confusion Matrix:\\n\",confusion_matrix(y_test, pred),\"\\n\")"
   ]
  },
  {
   "cell_type": "code",
   "execution_count": 8,
   "id": "6a6e10c3-bc60-4f1e-a1d6-31e0ae4208d9",
   "metadata": {},
   "outputs": [],
   "source": [
    "x= df.drop(columns=['new_quality'],axis=1)\n",
    "y = df['new_quality']\n",
    "\n",
    "x_train, x_test, y_train, y_test = train_test_split(x, y, test_size=0.20, random_state=24)\n"
   ]
  },
  {
   "cell_type": "markdown",
   "id": "52b7098d-f161-4262-8074-356e186745e7",
   "metadata": {},
   "source": [
    "# **Decision Tree**"
   ]
  },
  {
   "cell_type": "code",
   "execution_count": 14,
   "id": "6f7a3a39-00b2-49db-93cb-6b9054bdf03d",
   "metadata": {},
   "outputs": [
    {
     "name": "stdout",
     "output_type": "stream",
     "text": [
      "Test Result:\n",
      "\n",
      "Accuracy Score: 0.83125 \n",
      "\n",
      "Classification Report:\n",
      "                    0           1          2  accuracy   macro avg  \\\n",
      "precision   0.250000    0.901887   0.531915   0.83125    0.561267   \n",
      "recall      0.181818    0.905303   0.555556   0.83125    0.547559   \n",
      "f1-score    0.210526    0.903592   0.543478   0.83125    0.552532   \n",
      "support    11.000000  264.000000  45.000000   0.83125  320.000000   \n",
      "\n",
      "           weighted avg  \n",
      "precision      0.827451  \n",
      "recall         0.831250  \n",
      "f1-score       0.829127  \n",
      "support      320.000000   \n",
      "\n",
      "Confusion Matrix:\n",
      " [[  2   6   3]\n",
      " [  6 239  19]\n",
      " [  0  20  25]] \n",
      "\n"
     ]
    }
   ],
   "source": [
    "from sklearn.tree import DecisionTreeClassifier\n",
    "\n",
    "tree_clf = DecisionTreeClassifier(random_state=24)\n",
    "tree_clf.fit(x_train, y_train)\n",
    "print_score_details(tree_clf, x_train, y_train, x_test, y_test)"
   ]
  },
  {
   "cell_type": "markdown",
   "id": "acee895b-a67e-4e80-835d-f9ce928889aa",
   "metadata": {},
   "source": [
    "**Hyperparameter Tuning of the Decision Tree**"
   ]
  },
  {
   "cell_type": "code",
   "execution_count": 43,
   "id": "fb159e06-d97b-4483-8c98-5c364245e8df",
   "metadata": {},
   "outputs": [
    {
     "name": "stdout",
     "output_type": "stream",
     "text": [
      "Best paramters:  {'splitter': 'best', 'min_samples_split': 2, 'criterion': 'gini'} \n",
      "\n",
      "Test Result:\n",
      "\n",
      "Accuracy Score: 0.834375 \n",
      "\n",
      "Classification Report:\n",
      "                    0           1          2  accuracy   macro avg  \\\n",
      "precision   0.222222    0.898876   0.568182  0.834375    0.563093   \n",
      "recall      0.181818    0.909091   0.555556  0.834375    0.548822   \n",
      "f1-score    0.200000    0.903955   0.561798  0.834375    0.555251   \n",
      "support    11.000000  264.000000  45.000000  0.834375  320.000000   \n",
      "\n",
      "           weighted avg  \n",
      "precision      0.829112  \n",
      "recall         0.834375  \n",
      "f1-score       0.831641  \n",
      "support      320.000000   \n",
      "\n",
      "Confusion Matrix:\n",
      " [[  2   7   2]\n",
      " [  7 240  17]\n",
      " [  0  20  25]] \n",
      "\n"
     ]
    }
   ],
   "source": [
    "from sklearn.model_selection import RandomizedSearchCV\n",
    "\n",
    "params = {\n",
    "    \"criterion\":(\"gini\",\"entropy\"), \n",
    "    \"splitter\":(\"best\", \"random\"), \n",
    "    \"min_samples_split\":[2, 3, 4,20]\n",
    "}\n",
    "tree_cv = RandomizedSearchCV(\n",
    "    tree_clf, \n",
    "    params, \n",
    "    scoring=\"f1\", \n",
    "    cv=5,\n",
    "\n",
    ")\n",
    "\n",
    "tree_cv.fit(x_train, y_train)\n",
    "best_params = tree_cv.best_params_\n",
    "print(\"Best paramters: \",best_params,\"\\n\")\n",
    "\n",
    "tree_clf = DecisionTreeClassifier(**best_params)\n",
    "tree_clf.fit(x_train, y_train)\n",
    "print_score_details(tree_clf, x_train, y_train, x_test, y_test)\n",
    "#It gives different accuracy on different executions."
   ]
  },
  {
   "cell_type": "markdown",
   "id": "63f462eb-9add-4dcd-bba2-a20c48b8e03a",
   "metadata": {},
   "source": [
    "**I'll try GridSearchCV and see if it returns different parameters**"
   ]
  },
  {
   "cell_type": "code",
   "execution_count": 136,
   "id": "16c97d58-650d-497f-95be-dd24ed7d41cf",
   "metadata": {},
   "outputs": [
    {
     "name": "stdout",
     "output_type": "stream",
     "text": [
      "Best paramters:  {'criterion': 'gini', 'min_samples_split': 2, 'splitter': 'best'} \n",
      "\n",
      "Test Result:\n",
      "\n",
      "Accuracy Score: 0.83125 \n",
      "\n",
      "Classification Report:\n",
      "                    0           1          2  accuracy   macro avg  \\\n",
      "precision   0.250000    0.911197   0.551020   0.83125    0.570739   \n",
      "recall      0.272727    0.893939   0.600000   0.83125    0.588889   \n",
      "f1-score    0.260870    0.902486   0.574468   0.83125    0.579274   \n",
      "support    11.000000  264.000000  45.000000   0.83125  320.000000   \n",
      "\n",
      "           weighted avg  \n",
      "precision      0.837818  \n",
      "recall         0.831250  \n",
      "f1-score       0.834303  \n",
      "support      320.000000   \n",
      "\n",
      "Confusion Matrix:\n",
      " [[  3   6   2]\n",
      " [  8 236  20]\n",
      " [  1  17  27]] \n",
      "\n"
     ]
    }
   ],
   "source": [
    "from sklearn.model_selection import GridSearchCV\n",
    "\n",
    "params = {\n",
    "    \"criterion\":(\"gini\",\"entropy\"), \n",
    "    \"splitter\":(\"best\", \"random\"), \n",
    "    \"min_samples_split\":[2, 4, 10] \n",
    "}\n",
    "\n",
    "\n",
    "tree_cv = GridSearchCV(\n",
    "    tree_clf, \n",
    "    params, \n",
    "    scoring=\"f1\", \n",
    "    cv=5\n",
    ") \n",
    "\n",
    "tree_cv.fit(x_train, y_train)\n",
    "best_params = tree_cv.best_params_\n",
    "print(\"Best paramters: \",best_params,\"\\n\")\n",
    "\n",
    "tree_clf = DecisionTreeClassifier(**best_params)\n",
    "tree_clf.fit(x_train, y_train)\n",
    "print_score_details(tree_clf, x_train, y_train, x_test, y_test)\n",
    "\n"
   ]
  },
  {
   "cell_type": "markdown",
   "id": "42930f84-e9fd-4594-96a8-0d6494d9961f",
   "metadata": {},
   "source": [
    "**An interesting thing that I noticed here is that when i limited the maximum depth and minimum samples leaf in the grid search the accuracy was much lesser than when i didn't in the default without tuning. When i removed the maximum depth and minimum samples leaf it improved the accuracy. I am limitting the complexity if im mentioning smaller values for these  hyperparameters but if i give a higher range it will take a lot more time to get the results using the GridSearchCV method so i removed them from my model.Although this can lead to overfitting so ill see how it is performing on the train data.**"
   ]
  },
  {
   "cell_type": "code",
   "execution_count": 137,
   "id": "b1ae16e5-3fc1-4b87-807a-304a2a440862",
   "metadata": {},
   "outputs": [
    {
     "name": "stdout",
     "output_type": "stream",
     "text": [
      "Train Result:\n",
      "\n",
      "Accuracy Score: 1.0 \n",
      "\n",
      "Classification Report:\n",
      "               0       1      2  accuracy  macro avg  weighted avg\n",
      "precision   1.0     1.0    1.0       1.0        1.0           1.0\n",
      "recall      1.0     1.0    1.0       1.0        1.0           1.0\n",
      "f1-score    1.0     1.0    1.0       1.0        1.0           1.0\n",
      "support    52.0  1055.0  172.0       1.0     1279.0        1279.0 \n",
      "\n",
      "Confusion Matrix:\n",
      " [[  52    0    0]\n",
      " [   0 1055    0]\n",
      " [   0    0  172]] \n",
      "\n"
     ]
    }
   ],
   "source": [
    "pred1 = tree_clf.predict(x_train)\n",
    "clf_report = pd.DataFrame(classification_report(y_train, pred1, output_dict=True))\n",
    "print(\"Train Result:\\n\")        \n",
    "print(\"Accuracy Score:\",accuracy_score(y_train, pred1),\"\\n\")\n",
    "print(\"Classification Report:\\n\",clf_report,\"\\n\")\n",
    "print(\"Confusion Matrix:\\n\",confusion_matrix(y_train, pred1),\"\\n\")"
   ]
  },
  {
   "cell_type": "markdown",
   "id": "1aa0ccc5-41ea-4eb0-811e-812f973d4a32",
   "metadata": {},
   "source": [
    "With minimum samples split as 2 it is giving 100 percent accuracy for trained data which means the model is overfit and has a high variance so i'll increase the value of the minimum samples split to counter it. "
   ]
  },
  {
   "cell_type": "code",
   "execution_count": 144,
   "id": "fbaee8bb-81ae-499d-b5ee-305a772166bf",
   "metadata": {},
   "outputs": [
    {
     "name": "stdout",
     "output_type": "stream",
     "text": [
      "Best paramters:  {'criterion': 'gini', 'min_samples_split': 25, 'splitter': 'best'} \n",
      "\n",
      "Test Result:\n",
      "\n",
      "Accuracy Score: 0.84375 \n",
      "\n",
      "Classification Report:\n",
      "                    0           1          2  accuracy   macro avg  \\\n",
      "precision   0.250000    0.897436   0.589744   0.84375    0.579060   \n",
      "recall      0.181818    0.928030   0.511111   0.84375    0.540320   \n",
      "f1-score    0.210526    0.912477   0.547619   0.84375    0.556874   \n",
      "support    11.000000  264.000000  45.000000   0.84375  320.000000   \n",
      "\n",
      "           weighted avg  \n",
      "precision      0.831911  \n",
      "recall         0.843750  \n",
      "f1-score       0.837039  \n",
      "support      320.000000   \n",
      "\n",
      "Confusion Matrix:\n",
      " [[  2   7   2]\n",
      " [  5 245  14]\n",
      " [  1  21  23]] \n",
      "\n"
     ]
    }
   ],
   "source": [
    "from sklearn.model_selection import GridSearchCV\n",
    "\n",
    "params = {\n",
    "    \"criterion\":(\"gini\",\"entropy\"), \n",
    "    \"splitter\":(\"best\", \"random\"), \n",
    "    \"min_samples_split\":[25,30] \n",
    "}\n",
    "\n",
    "\n",
    "tree_cv = GridSearchCV(\n",
    "    tree_clf, \n",
    "    params, \n",
    "    scoring=\"f1\", \n",
    "    cv=5\n",
    ") \n",
    "\n",
    "tree_cv.fit(x_train, y_train)\n",
    "best_params = tree_cv.best_params_\n",
    "print(\"Best paramters: \",best_params,\"\\n\")\n",
    "\n",
    "tree_clf = DecisionTreeClassifier(**best_params)\n",
    "tree_clf.fit(x_train, y_train)\n",
    "print_score_details(tree_clf, x_train, y_train, x_test, y_test)"
   ]
  },
  {
   "cell_type": "code",
   "execution_count": 145,
   "id": "c1ac9913-70f8-42cf-ade9-5d0588d0b7f2",
   "metadata": {},
   "outputs": [
    {
     "name": "stdout",
     "output_type": "stream",
     "text": [
      "Train Result:\n",
      "\n",
      "Accuracy Score: 0.910086004691165 \n",
      "\n",
      "Classification Report:\n",
      "                    0            1           2  accuracy    macro avg  \\\n",
      "precision   0.771429     0.936229    0.765432  0.910086     0.824363   \n",
      "recall      0.519231     0.960190    0.720930  0.910086     0.733450   \n",
      "f1-score    0.620690     0.948058    0.742515  0.910086     0.770421   \n",
      "support    52.000000  1055.000000  172.000000  0.910086  1279.000000   \n",
      "\n",
      "           weighted avg  \n",
      "precision      0.906560  \n",
      "recall         0.910086  \n",
      "f1-score       0.907107  \n",
      "support     1279.000000   \n",
      "\n",
      "Confusion Matrix:\n",
      " [[  27   23    2]\n",
      " [   6 1013   36]\n",
      " [   2   46  124]] \n",
      "\n"
     ]
    }
   ],
   "source": [
    "pred1 = tree_clf.predict(x_train)\n",
    "clf_report = pd.DataFrame(classification_report(y_train, pred1, output_dict=True))\n",
    "print(\"Train Result:\\n\")        \n",
    "print(\"Accuracy Score:\",accuracy_score(y_train, pred1),\"\\n\")\n",
    "print(\"Classification Report:\\n\",clf_report,\"\\n\")\n",
    "print(\"Confusion Matrix:\\n\",confusion_matrix(y_train, pred1),\"\\n\")"
   ]
  },
  {
   "cell_type": "markdown",
   "id": "fba340c6-8983-4d62-af52-75353acaa888",
   "metadata": {},
   "source": [
    "**Although the accuracy went down this means there will be lower variance in our data. I kept increasing the minimum sample split value and observed that the accuracy on the test data actually went up although the accuracy on the training data reduced. This gives a more balanced model and i adjusted the valued until the accuracy scores were comparable.**"
   ]
  },
  {
   "cell_type": "markdown",
   "id": "2b12e777-19c7-48ec-a629-45f2e79764d2",
   "metadata": {
    "jp-MarkdownHeadingCollapsed": true
   },
   "source": [
    "# **Random Forest**"
   ]
  },
  {
   "cell_type": "code",
   "execution_count": 158,
   "id": "d4fa2012-1052-461d-908a-fbb5f1e9dfeb",
   "metadata": {},
   "outputs": [
    {
     "data": {
      "text/html": [
       "<style>#sk-container-id-24 {color: black;background-color: white;}#sk-container-id-24 pre{padding: 0;}#sk-container-id-24 div.sk-toggleable {background-color: white;}#sk-container-id-24 label.sk-toggleable__label {cursor: pointer;display: block;width: 100%;margin-bottom: 0;padding: 0.3em;box-sizing: border-box;text-align: center;}#sk-container-id-24 label.sk-toggleable__label-arrow:before {content: \"▸\";float: left;margin-right: 0.25em;color: #696969;}#sk-container-id-24 label.sk-toggleable__label-arrow:hover:before {color: black;}#sk-container-id-24 div.sk-estimator:hover label.sk-toggleable__label-arrow:before {color: black;}#sk-container-id-24 div.sk-toggleable__content {max-height: 0;max-width: 0;overflow: hidden;text-align: left;background-color: #f0f8ff;}#sk-container-id-24 div.sk-toggleable__content pre {margin: 0.2em;color: black;border-radius: 0.25em;background-color: #f0f8ff;}#sk-container-id-24 input.sk-toggleable__control:checked~div.sk-toggleable__content {max-height: 200px;max-width: 100%;overflow: auto;}#sk-container-id-24 input.sk-toggleable__control:checked~label.sk-toggleable__label-arrow:before {content: \"▾\";}#sk-container-id-24 div.sk-estimator input.sk-toggleable__control:checked~label.sk-toggleable__label {background-color: #d4ebff;}#sk-container-id-24 div.sk-label input.sk-toggleable__control:checked~label.sk-toggleable__label {background-color: #d4ebff;}#sk-container-id-24 input.sk-hidden--visually {border: 0;clip: rect(1px 1px 1px 1px);clip: rect(1px, 1px, 1px, 1px);height: 1px;margin: -1px;overflow: hidden;padding: 0;position: absolute;width: 1px;}#sk-container-id-24 div.sk-estimator {font-family: monospace;background-color: #f0f8ff;border: 1px dotted black;border-radius: 0.25em;box-sizing: border-box;margin-bottom: 0.5em;}#sk-container-id-24 div.sk-estimator:hover {background-color: #d4ebff;}#sk-container-id-24 div.sk-parallel-item::after {content: \"\";width: 100%;border-bottom: 1px solid gray;flex-grow: 1;}#sk-container-id-24 div.sk-label:hover label.sk-toggleable__label {background-color: #d4ebff;}#sk-container-id-24 div.sk-serial::before {content: \"\";position: absolute;border-left: 1px solid gray;box-sizing: border-box;top: 0;bottom: 0;left: 50%;z-index: 0;}#sk-container-id-24 div.sk-serial {display: flex;flex-direction: column;align-items: center;background-color: white;padding-right: 0.2em;padding-left: 0.2em;position: relative;}#sk-container-id-24 div.sk-item {position: relative;z-index: 1;}#sk-container-id-24 div.sk-parallel {display: flex;align-items: stretch;justify-content: center;background-color: white;position: relative;}#sk-container-id-24 div.sk-item::before, #sk-container-id-24 div.sk-parallel-item::before {content: \"\";position: absolute;border-left: 1px solid gray;box-sizing: border-box;top: 0;bottom: 0;left: 50%;z-index: -1;}#sk-container-id-24 div.sk-parallel-item {display: flex;flex-direction: column;z-index: 1;position: relative;background-color: white;}#sk-container-id-24 div.sk-parallel-item:first-child::after {align-self: flex-end;width: 50%;}#sk-container-id-24 div.sk-parallel-item:last-child::after {align-self: flex-start;width: 50%;}#sk-container-id-24 div.sk-parallel-item:only-child::after {width: 0;}#sk-container-id-24 div.sk-dashed-wrapped {border: 1px dashed gray;margin: 0 0.4em 0.5em 0.4em;box-sizing: border-box;padding-bottom: 0.4em;background-color: white;}#sk-container-id-24 div.sk-label label {font-family: monospace;font-weight: bold;display: inline-block;line-height: 1.2em;}#sk-container-id-24 div.sk-label-container {text-align: center;}#sk-container-id-24 div.sk-container {/* jupyter's `normalize.less` sets `[hidden] { display: none; }` but bootstrap.min.css set `[hidden] { display: none !important; }` so we also need the `!important` here to be able to override the default hidden behavior on the sphinx rendered scikit-learn.org. See: https://github.com/scikit-learn/scikit-learn/issues/21755 */display: inline-block !important;position: relative;}#sk-container-id-24 div.sk-text-repr-fallback {display: none;}</style><div id=\"sk-container-id-24\" class=\"sk-top-container\"><div class=\"sk-text-repr-fallback\"><pre>RandomForestClassifier(n_estimators=300)</pre><b>In a Jupyter environment, please rerun this cell to show the HTML representation or trust the notebook. <br />On GitHub, the HTML representation is unable to render, please try loading this page with nbviewer.org.</b></div><div class=\"sk-container\" hidden><div class=\"sk-item\"><div class=\"sk-estimator sk-toggleable\"><input class=\"sk-toggleable__control sk-hidden--visually\" id=\"sk-estimator-id-24\" type=\"checkbox\" checked><label for=\"sk-estimator-id-24\" class=\"sk-toggleable__label sk-toggleable__label-arrow\">RandomForestClassifier</label><div class=\"sk-toggleable__content\"><pre>RandomForestClassifier(n_estimators=300)</pre></div></div></div></div></div>"
      ],
      "text/plain": [
       "RandomForestClassifier(n_estimators=300)"
      ]
     },
     "execution_count": 158,
     "metadata": {},
     "output_type": "execute_result"
    }
   ],
   "source": [
    "from sklearn.ensemble import RandomForestClassifier\n",
    "\n",
    "rf_clf = RandomForestClassifier(n_estimators=300)\n",
    "rf_clf.fit(x_train, y_train)"
   ]
  },
  {
   "cell_type": "code",
   "execution_count": 162,
   "id": "1c04b02c-64a6-49ab-b310-4d809600a4d9",
   "metadata": {},
   "outputs": [
    {
     "name": "stdout",
     "output_type": "stream",
     "text": [
      "Test Result:\n",
      "\n",
      "Accuracy Score: 0.865625 \n",
      "\n",
      "Classification Report:\n",
      "               0           1          2  accuracy   macro avg  weighted avg\n",
      "precision   0.0    0.879725   0.724138  0.865625    0.534621      0.827605\n",
      "recall      0.0    0.969697   0.466667  0.865625    0.478788      0.865625\n",
      "f1-score    0.0    0.922523   0.567568  0.865625    0.496697      0.840895\n",
      "support    11.0  264.000000  45.000000  0.865625  320.000000    320.000000 \n",
      "\n",
      "Confusion Matrix:\n",
      " [[  0  11   0]\n",
      " [  0 256   8]\n",
      " [  0  24  21]] \n",
      "\n"
     ]
    }
   ],
   "source": [
    "print_score_details(rf_clf, x_train, y_train, x_test, y_test)"
   ]
  },
  {
   "cell_type": "markdown",
   "id": "65e74aaa-82d8-466e-8d7b-32b3e7390825",
   "metadata": {},
   "source": [
    "**Hyperparameter Tuning with RandomizedSearchCV**"
   ]
  },
  {
   "cell_type": "code",
   "execution_count": 167,
   "id": "720ea976-5fb2-47ab-ae7b-4e1c915d693d",
   "metadata": {},
   "outputs": [
    {
     "name": "stdout",
     "output_type": "stream",
     "text": [
      "Best paramters:  {'min_samples_split': 40, 'min_samples_leaf': 10, 'max_features': 5, 'max_depth': 15, 'bootstrap': True} \n",
      "\n",
      "Test Result:\n",
      "\n",
      "Accuracy Score: 0.840625 \n",
      "\n",
      "Classification Report:\n",
      "               0           1          2  accuracy   macro avg  weighted avg\n",
      "precision   0.0    0.851485   0.647059  0.840625    0.499515      0.793468\n",
      "recall      0.0    0.977273   0.244444  0.840625    0.407239      0.840625\n",
      "f1-score    0.0    0.910053   0.354839  0.840625    0.421631      0.800693\n",
      "support    11.0  264.000000  45.000000  0.840625  320.000000    320.000000 \n",
      "\n",
      "Confusion Matrix:\n",
      " [[  0  11   0]\n",
      " [  0 258   6]\n",
      " [  0  34  11]] \n",
      "\n"
     ]
    }
   ],
   "source": [
    "max_features = [5,7]\n",
    "max_depth = [10,15,20,40]\n",
    "min_samples_split = [10,30,40]\n",
    "min_samples_leaf = [2, 10]\n",
    "bootstrap = [True, False]\n",
    "\n",
    "random_grid = {\n",
    "    'max_features': max_features,\n",
    "    'max_depth': max_depth, \n",
    "    'min_samples_split': min_samples_split,\n",
    "    'min_samples_leaf': min_samples_leaf, \n",
    "    'bootstrap': bootstrap\n",
    "}\n",
    "\n",
    "rf_cv = RandomizedSearchCV(\n",
    "    estimator=rf_clf, \n",
    "    scoring=\"f1\",\n",
    "    param_distributions=random_grid, \n",
    "    n_iter=20,\n",
    "    cv=5, \n",
    "    \n",
    ")\n",
    "\n",
    "rf_cv.fit(x_train, y_train)\n",
    "rf_best_params = rf_cv.best_params_\n",
    "print(\"Best paramters: \",rf_best_params,\"\\n\")\n",
    "\n",
    "rf_clf = RandomForestClassifier(**rf_best_params)\n",
    "rf_clf.fit(x_train, y_train)\n",
    "\n",
    "print_score_details(rf_clf, x_train, y_train, x_test, y_test)"
   ]
  },
  {
   "cell_type": "code",
   "execution_count": 168,
   "id": "1e7d98eb-93e0-45b8-b8aa-c59887de82f2",
   "metadata": {},
   "outputs": [
    {
     "name": "stdout",
     "output_type": "stream",
     "text": [
      "Train Result:\n",
      "\n",
      "Accuracy Score: 0.870992963252541 \n",
      "\n",
      "Classification Report:\n",
      "               0            1           2  accuracy    macro avg  weighted avg\n",
      "precision   0.0     0.875211    0.817204  0.870993     0.564138      0.831827\n",
      "recall      0.0     0.983886    0.441860  0.870993     0.475249      0.870993\n",
      "f1-score    0.0     0.926372    0.573585  0.870993     0.499986      0.841266\n",
      "support    52.0  1055.000000  172.000000  0.870993  1279.000000   1279.000000 \n",
      "\n",
      "Confusion Matrix:\n",
      " [[   0   52    0]\n",
      " [   0 1038   17]\n",
      " [   0   96   76]] \n",
      "\n"
     ]
    }
   ],
   "source": [
    "pred2 = rf_clf.predict(x_train)\n",
    "clf_report = pd.DataFrame(classification_report(y_train, pred2, output_dict=True))\n",
    "print(\"Train Result:\\n\")        \n",
    "print(\"Accuracy Score:\",accuracy_score(y_train, pred2),\"\\n\")\n",
    "print(\"Classification Report:\\n\",clf_report,\"\\n\")\n",
    "print(\"Confusion Matrix:\\n\",confusion_matrix(y_train, pred2),\"\\n\")"
   ]
  },
  {
   "cell_type": "markdown",
   "id": "afb46f10-dfe9-416e-a7f2-8e573d707d82",
   "metadata": {},
   "source": [
    "*The accuracy of both the train and test data are comparable so the model is not overfit.*"
   ]
  },
  {
   "cell_type": "markdown",
   "id": "3a49b5e5-8bc7-445d-9d6f-a9cca96fa3f5",
   "metadata": {
    "jp-MarkdownHeadingCollapsed": true
   },
   "source": [
    "# **Adaboost**"
   ]
  },
  {
   "cell_type": "code",
   "execution_count": 213,
   "id": "d979e72a-08ad-4a0b-b010-34f310594360",
   "metadata": {},
   "outputs": [
    {
     "data": {
      "text/html": [
       "<style>#sk-container-id-35 {color: black;background-color: white;}#sk-container-id-35 pre{padding: 0;}#sk-container-id-35 div.sk-toggleable {background-color: white;}#sk-container-id-35 label.sk-toggleable__label {cursor: pointer;display: block;width: 100%;margin-bottom: 0;padding: 0.3em;box-sizing: border-box;text-align: center;}#sk-container-id-35 label.sk-toggleable__label-arrow:before {content: \"▸\";float: left;margin-right: 0.25em;color: #696969;}#sk-container-id-35 label.sk-toggleable__label-arrow:hover:before {color: black;}#sk-container-id-35 div.sk-estimator:hover label.sk-toggleable__label-arrow:before {color: black;}#sk-container-id-35 div.sk-toggleable__content {max-height: 0;max-width: 0;overflow: hidden;text-align: left;background-color: #f0f8ff;}#sk-container-id-35 div.sk-toggleable__content pre {margin: 0.2em;color: black;border-radius: 0.25em;background-color: #f0f8ff;}#sk-container-id-35 input.sk-toggleable__control:checked~div.sk-toggleable__content {max-height: 200px;max-width: 100%;overflow: auto;}#sk-container-id-35 input.sk-toggleable__control:checked~label.sk-toggleable__label-arrow:before {content: \"▾\";}#sk-container-id-35 div.sk-estimator input.sk-toggleable__control:checked~label.sk-toggleable__label {background-color: #d4ebff;}#sk-container-id-35 div.sk-label input.sk-toggleable__control:checked~label.sk-toggleable__label {background-color: #d4ebff;}#sk-container-id-35 input.sk-hidden--visually {border: 0;clip: rect(1px 1px 1px 1px);clip: rect(1px, 1px, 1px, 1px);height: 1px;margin: -1px;overflow: hidden;padding: 0;position: absolute;width: 1px;}#sk-container-id-35 div.sk-estimator {font-family: monospace;background-color: #f0f8ff;border: 1px dotted black;border-radius: 0.25em;box-sizing: border-box;margin-bottom: 0.5em;}#sk-container-id-35 div.sk-estimator:hover {background-color: #d4ebff;}#sk-container-id-35 div.sk-parallel-item::after {content: \"\";width: 100%;border-bottom: 1px solid gray;flex-grow: 1;}#sk-container-id-35 div.sk-label:hover label.sk-toggleable__label {background-color: #d4ebff;}#sk-container-id-35 div.sk-serial::before {content: \"\";position: absolute;border-left: 1px solid gray;box-sizing: border-box;top: 0;bottom: 0;left: 50%;z-index: 0;}#sk-container-id-35 div.sk-serial {display: flex;flex-direction: column;align-items: center;background-color: white;padding-right: 0.2em;padding-left: 0.2em;position: relative;}#sk-container-id-35 div.sk-item {position: relative;z-index: 1;}#sk-container-id-35 div.sk-parallel {display: flex;align-items: stretch;justify-content: center;background-color: white;position: relative;}#sk-container-id-35 div.sk-item::before, #sk-container-id-35 div.sk-parallel-item::before {content: \"\";position: absolute;border-left: 1px solid gray;box-sizing: border-box;top: 0;bottom: 0;left: 50%;z-index: -1;}#sk-container-id-35 div.sk-parallel-item {display: flex;flex-direction: column;z-index: 1;position: relative;background-color: white;}#sk-container-id-35 div.sk-parallel-item:first-child::after {align-self: flex-end;width: 50%;}#sk-container-id-35 div.sk-parallel-item:last-child::after {align-self: flex-start;width: 50%;}#sk-container-id-35 div.sk-parallel-item:only-child::after {width: 0;}#sk-container-id-35 div.sk-dashed-wrapped {border: 1px dashed gray;margin: 0 0.4em 0.5em 0.4em;box-sizing: border-box;padding-bottom: 0.4em;background-color: white;}#sk-container-id-35 div.sk-label label {font-family: monospace;font-weight: bold;display: inline-block;line-height: 1.2em;}#sk-container-id-35 div.sk-label-container {text-align: center;}#sk-container-id-35 div.sk-container {/* jupyter's `normalize.less` sets `[hidden] { display: none; }` but bootstrap.min.css set `[hidden] { display: none !important; }` so we also need the `!important` here to be able to override the default hidden behavior on the sphinx rendered scikit-learn.org. See: https://github.com/scikit-learn/scikit-learn/issues/21755 */display: inline-block !important;position: relative;}#sk-container-id-35 div.sk-text-repr-fallback {display: none;}</style><div id=\"sk-container-id-35\" class=\"sk-top-container\"><div class=\"sk-text-repr-fallback\"><pre>AdaBoostClassifier(learning_rate=0.01, n_estimators=100, random_state=24)</pre><b>In a Jupyter environment, please rerun this cell to show the HTML representation or trust the notebook. <br />On GitHub, the HTML representation is unable to render, please try loading this page with nbviewer.org.</b></div><div class=\"sk-container\" hidden><div class=\"sk-item\"><div class=\"sk-estimator sk-toggleable\"><input class=\"sk-toggleable__control sk-hidden--visually\" id=\"sk-estimator-id-35\" type=\"checkbox\" checked><label for=\"sk-estimator-id-35\" class=\"sk-toggleable__label sk-toggleable__label-arrow\">AdaBoostClassifier</label><div class=\"sk-toggleable__content\"><pre>AdaBoostClassifier(learning_rate=0.01, n_estimators=100, random_state=24)</pre></div></div></div></div></div>"
      ],
      "text/plain": [
       "AdaBoostClassifier(learning_rate=0.01, n_estimators=100, random_state=24)"
      ]
     },
     "execution_count": 213,
     "metadata": {},
     "output_type": "execute_result"
    }
   ],
   "source": [
    "from sklearn.ensemble import AdaBoostClassifier\n",
    "\n",
    "ab_clf = AdaBoostClassifier(n_estimators=100, learning_rate=0.01, random_state=24)\n",
    "ab_clf.fit(x_train,y_train)"
   ]
  },
  {
   "cell_type": "code",
   "execution_count": 215,
   "id": "9558fc52-f658-4b89-95a8-c5cfa6043d22",
   "metadata": {},
   "outputs": [
    {
     "name": "stdout",
     "output_type": "stream",
     "text": [
      "Test Result:\n",
      "\n",
      "Accuracy Score: 0.825 \n",
      "\n",
      "Classification Report:\n",
      "               0          1     2  accuracy   macro avg  weighted avg\n",
      "precision   0.0    0.82500   0.0     0.825    0.275000      0.680625\n",
      "recall      0.0    1.00000   0.0     0.825    0.333333      0.825000\n",
      "f1-score    0.0    0.90411   0.0     0.825    0.301370      0.745890\n",
      "support    11.0  264.00000  45.0     0.825  320.000000    320.000000 \n",
      "\n",
      "Confusion Matrix:\n",
      " [[  0  11   0]\n",
      " [  0 264   0]\n",
      " [  0  45   0]] \n",
      "\n"
     ]
    }
   ],
   "source": [
    "print_score_details(ab_clf, x_train, y_train, x_test, y_test)"
   ]
  },
  {
   "cell_type": "code",
   "execution_count": 216,
   "id": "f0d85391-10b7-431a-a174-c299d538c82b",
   "metadata": {},
   "outputs": [
    {
     "name": "stdout",
     "output_type": "stream",
     "text": [
      "Best paramters:  {'learning_rate': 0.001, 'n_estimators': 100} \n",
      "\n"
     ]
    }
   ],
   "source": [
    "ab_grid = {\n",
    "    \"learning_rate\":[0.001,0.01, 0.1],\n",
    "    \"n_estimators\":[100,500,700,1000]\n",
    "}\n",
    "ab_clf = AdaBoostClassifier(random_state=24)\n",
    "\n",
    "ab_cv = GridSearchCV(\n",
    "    ab_clf, \n",
    "    ab_grid,\n",
    "    scoring=\"f1\",\n",
    "    cv=5\n",
    ")\n",
    "\n",
    "ab_cv.fit(x_train, y_train)\n",
    "ab_best_params = ab_cv.best_params_\n",
    "print(\"Best paramters: \",ab_best_params,\"\\n\")\n",
    "\n"
   ]
  },
  {
   "cell_type": "code",
   "execution_count": 217,
   "id": "e3cdd918-2768-40b9-b77f-24027b23dc6f",
   "metadata": {},
   "outputs": [
    {
     "name": "stdout",
     "output_type": "stream",
     "text": [
      "Test Result:\n",
      "\n",
      "Accuracy Score: 0.825 \n",
      "\n",
      "Classification Report:\n",
      "               0          1     2  accuracy   macro avg  weighted avg\n",
      "precision   0.0    0.82500   0.0     0.825    0.275000      0.680625\n",
      "recall      0.0    1.00000   0.0     0.825    0.333333      0.825000\n",
      "f1-score    0.0    0.90411   0.0     0.825    0.301370      0.745890\n",
      "support    11.0  264.00000  45.0     0.825  320.000000    320.000000 \n",
      "\n",
      "Confusion Matrix:\n",
      " [[  0  11   0]\n",
      " [  0 264   0]\n",
      " [  0  45   0]] \n",
      "\n"
     ]
    }
   ],
   "source": [
    "ab_clf = AdaBoostClassifier(**ab_best_params)\n",
    "ab_clf.fit(x_train, y_train)\n",
    "\n",
    "print_score_details(ab_clf, x_train, y_train, x_test, y_test)"
   ]
  },
  {
   "cell_type": "markdown",
   "id": "65006d6c-690b-4234-88c6-6da4c5643db8",
   "metadata": {},
   "source": [
    "#  **XGBoost**"
   ]
  },
  {
   "cell_type": "code",
   "execution_count": 268,
   "id": "9026f07e-0377-404a-aea1-1e1c3f90b1d5",
   "metadata": {},
   "outputs": [
    {
     "name": "stdout",
     "output_type": "stream",
     "text": [
      "XGBClassifier(base_score=None, booster=None, callbacks=None,\n",
      "              colsample_bylevel=None, colsample_bynode=None,\n",
      "              colsample_bytree=None, early_stopping_rounds=None,\n",
      "              enable_categorical=False, eval_metric=None, feature_types=None,\n",
      "              gamma=None, gpu_id=None, grow_policy=None, importance_type=None,\n",
      "              interaction_constraints=None, learning_rate=0.05, max_bin=None,\n",
      "              max_cat_threshold=None, max_cat_to_onehot=None,\n",
      "              max_delta_step=None, max_depth=None, max_leaves=None,\n",
      "              min_child_weight=None, missing=nan, monotone_constraints=None,\n",
      "              n_estimators=500, n_jobs=None, num_parallel_tree=None,\n",
      "              objective='multi:softprob', predictor=None, ...)\n"
     ]
    }
   ],
   "source": [
    "from xgboost import XGBRegressor\n",
    "from xgboost.sklearn import XGBClassifier\n",
    "\n",
    "xg_clf = XGBClassifier(n_estimators=500,learning_rate=0.05)\n",
    "xg_clf.fit(x_train, y_train)\n",
    "print(xg_clf)"
   ]
  },
  {
   "cell_type": "code",
   "execution_count": 269,
   "id": "e1bf7e1d-9745-4ec3-9eed-dfd609414fea",
   "metadata": {},
   "outputs": [
    {
     "name": "stdout",
     "output_type": "stream",
     "text": [
      "Test Result:\n",
      "\n",
      "Accuracy Score: 0.88125 \n",
      "\n",
      "Classification Report:\n",
      "                    0           1          2  accuracy   macro avg  \\\n",
      "precision   0.200000    0.903571   0.800000   0.88125    0.634524   \n",
      "recall      0.090909    0.958333   0.622222   0.88125    0.557155   \n",
      "f1-score    0.125000    0.930147   0.700000   0.88125    0.585049   \n",
      "support    11.000000  264.000000  45.000000   0.88125  320.000000   \n",
      "\n",
      "           weighted avg  \n",
      "precision      0.864821  \n",
      "recall         0.881250  \n",
      "f1-score       0.870106  \n",
      "support      320.000000   \n",
      "\n",
      "Confusion Matrix:\n",
      " [[  1  10   0]\n",
      " [  4 253   7]\n",
      " [  0  17  28]] \n",
      "\n"
     ]
    }
   ],
   "source": [
    "print_score_details(xg_clf, x_train, y_train, x_test, y_test)"
   ]
  },
  {
   "cell_type": "code",
   "execution_count": 270,
   "id": "3096d5da-935a-46cd-92dd-9abf98b99b3b",
   "metadata": {},
   "outputs": [
    {
     "name": "stdout",
     "output_type": "stream",
     "text": [
      "Train Result:\n",
      "\n",
      "Accuracy Score: 1.0 \n",
      "\n",
      "Classification Report:\n",
      "               0       1      2  accuracy  macro avg  weighted avg\n",
      "precision   1.0     1.0    1.0       1.0        1.0           1.0\n",
      "recall      1.0     1.0    1.0       1.0        1.0           1.0\n",
      "f1-score    1.0     1.0    1.0       1.0        1.0           1.0\n",
      "support    52.0  1055.0  172.0       1.0     1279.0        1279.0 \n",
      "\n",
      "Confusion Matrix:\n",
      " [[  52    0    0]\n",
      " [   0 1055    0]\n",
      " [   0    0  172]] \n",
      "\n"
     ]
    }
   ],
   "source": [
    "pred3 = xg_clf.predict(x_train)\n",
    "clf_report = pd.DataFrame(classification_report(y_train, pred3, output_dict=True))\n",
    "print(\"Train Result:\\n\")        \n",
    "print(\"Accuracy Score:\",accuracy_score(y_train, pred3),\"\\n\")\n",
    "print(\"Classification Report:\\n\",clf_report,\"\\n\")\n",
    "print(\"Confusion Matrix:\\n\",confusion_matrix(y_train, pred3),\"\\n\")"
   ]
  },
  {
   "cell_type": "code",
   "execution_count": 271,
   "id": "5a0378e8-2859-4a74-8e4a-68d7fd8c8cf0",
   "metadata": {},
   "outputs": [
    {
     "data": {
      "text/plain": [
       "array([0.83125  , 0.8625   , 0.81875  , 0.79375  , 0.83125  , 0.8      ,\n",
       "       0.80625  , 0.81875  , 0.8      , 0.8490566])"
      ]
     },
     "execution_count": 271,
     "metadata": {},
     "output_type": "execute_result"
    }
   ],
   "source": [
    "results = cross_val_score(xg_clf, x, y, cv=10)\n",
    "results"
   ]
  },
  {
   "cell_type": "markdown",
   "id": "37def5d7-6f61-4276-b316-0c5c3bd80091",
   "metadata": {},
   "source": [
    "**Without any hyperparameter tuning the model is giving good accuracy on the test data but the accuracy score  on training data is 100 percent indicating that the model is overfit.**"
   ]
  },
  {
   "cell_type": "markdown",
   "id": "9df85e35-3e0a-4850-8cd0-24badb08449e",
   "metadata": {},
   "source": [
    "**Hyperparameter Tuning of XGBoost**"
   ]
  },
  {
   "cell_type": "code",
   "execution_count": 259,
   "id": "dfe42a17-3e1d-4aa4-a76f-b13ebfa44244",
   "metadata": {},
   "outputs": [
    {
     "name": "stdout",
     "output_type": "stream",
     "text": [
      "Best paramters:  {'n_estimators': 100, 'max_depth': 5, 'learning_rate': 0.01} \n",
      "\n"
     ]
    }
   ],
   "source": [
    "xg_grid = {\n",
    "    \"learning_rate\":[0.01, 0.05, 0.1],\n",
    "    \"n_estimators\":[100,500,1000],\n",
    "    \"max_depth\":[5,10]\n",
    "}\n",
    "xg_clf = XGBClassifier()\n",
    "\n",
    "xg_cv = RandomizedSearchCV(\n",
    "    xg_clf, \n",
    "    xg_grid,\n",
    "    scoring=\"f1\",\n",
    "    n_iter=20,\n",
    "    cv=5\n",
    ")\n",
    "\n",
    "xg_cv.fit(x_train, y_train)\n",
    "xg_best_params = xg_cv.best_params_\n",
    "print(\"Best paramters: \",xg_best_params,\"\\n\")"
   ]
  },
  {
   "cell_type": "code",
   "execution_count": 260,
   "id": "31a26e7e-245c-4a9b-9c9e-94012bff9661",
   "metadata": {},
   "outputs": [
    {
     "name": "stdout",
     "output_type": "stream",
     "text": [
      "Test Result:\n",
      "\n",
      "Accuracy Score: 0.840625 \n",
      "\n",
      "Classification Report:\n",
      "                    0           1          2  accuracy   macro avg  \\\n",
      "precision   0.500000    0.858586   0.619048  0.840625    0.659211   \n",
      "recall      0.090909    0.965909   0.288889  0.840625    0.448569   \n",
      "f1-score    0.153846    0.909091   0.393939  0.840625    0.485625   \n",
      "support    11.000000  264.000000  45.000000  0.840625  320.000000   \n",
      "\n",
      "           weighted avg  \n",
      "precision      0.812574  \n",
      "recall         0.840625  \n",
      "f1-score       0.810686  \n",
      "support      320.000000   \n",
      "\n",
      "Confusion Matrix:\n",
      " [[  1  10   0]\n",
      " [  1 255   8]\n",
      " [  0  32  13]] \n",
      "\n"
     ]
    }
   ],
   "source": [
    "xg_clf = XGBClassifier(**xg_best_params)\n",
    "xg_clf.fit(x_train, y_train)\n",
    "\n",
    "print_score_details(xg_clf, x_train, y_train, x_test, y_test)"
   ]
  },
  {
   "cell_type": "code",
   "execution_count": 261,
   "id": "77966dca-7fa4-4410-b797-a93777a3407f",
   "metadata": {},
   "outputs": [
    {
     "name": "stdout",
     "output_type": "stream",
     "text": [
      "Train Result:\n",
      "\n",
      "Accuracy Score: 0.9132134480062549 \n",
      "\n",
      "Classification Report:\n",
      "                0            1           2  accuracy    macro avg  weighted avg\n",
      "precision   1.00     0.911867    0.916667  0.913213     0.942845      0.916096\n",
      "recall      0.25     0.990521    0.639535  0.913213     0.626685      0.913213\n",
      "f1-score    0.40     0.949568    0.753425  0.913213     0.700998      0.900847\n",
      "support    52.00  1055.000000  172.000000  0.913213  1279.000000   1279.000000 \n",
      "\n",
      "Confusion Matrix:\n",
      " [[  13   39    0]\n",
      " [   0 1045   10]\n",
      " [   0   62  110]] \n",
      "\n"
     ]
    }
   ],
   "source": [
    "pred3 = xg_clf.predict(x_train)\n",
    "clf_report = pd.DataFrame(classification_report(y_train, pred3, output_dict=True))\n",
    "print(\"Train Result:\\n\")        \n",
    "print(\"Accuracy Score:\",accuracy_score(y_train, pred3),\"\\n\")\n",
    "print(\"Classification Report:\\n\",clf_report,\"\\n\")\n",
    "print(\"Confusion Matrix:\\n\",confusion_matrix(y_train, pred3),\"\\n\")"
   ]
  },
  {
   "cell_type": "markdown",
   "id": "3abe7c42-abfd-4415-a0df-873d87457e53",
   "metadata": {},
   "source": [
    "**Although the accuracy has lowered of the testing data it is closer to the training accuracy indicating the model is not overfit and thus has lower variance.**"
   ]
  },
  {
   "cell_type": "markdown",
   "id": "12761de2-cbb9-4aed-a6a1-24544e281473",
   "metadata": {},
   "source": [
    "**Cross Validation**"
   ]
  },
  {
   "cell_type": "code",
   "execution_count": 262,
   "id": "c8a2cb3d-2ddd-49f2-a36c-9850fa5c92cb",
   "metadata": {},
   "outputs": [
    {
     "data": {
      "text/plain": [
       "array([0.80625  , 0.84375  , 0.825    , 0.8125   , 0.8625   , 0.8375   ,\n",
       "       0.7625   , 0.85     , 0.81875  , 0.8427673])"
      ]
     },
     "execution_count": 262,
     "metadata": {},
     "output_type": "execute_result"
    }
   ],
   "source": [
    "#kfold = KFold(n_splits=10, random_state=7)\n",
    "results = cross_val_score(xg_clf, x, y, cv=10)\n",
    "results"
   ]
  },
  {
   "cell_type": "markdown",
   "id": "e53ef037-0419-47d3-a3fb-edb28bbcf50a",
   "metadata": {},
   "source": [
    "**This model has by far given the best results**"
   ]
  },
  {
   "cell_type": "markdown",
   "id": "6cf5ac32-8d11-4d87-a4a3-5bbd927af8fa",
   "metadata": {},
   "source": [
    "# **K Nearest Neighbors**"
   ]
  },
  {
   "cell_type": "code",
   "execution_count": 75,
   "id": "c4e643c5-0a6c-4843-a78a-12ac966e7ae0",
   "metadata": {},
   "outputs": [],
   "source": [
    "from sklearn.neighbors import KNeighborsClassifier\n",
    "knn_clf = KNeighborsClassifier(n_neighbors = 8)"
   ]
  },
  {
   "cell_type": "code",
   "execution_count": 76,
   "id": "ba7c2fc8-a703-4dde-9755-db6ca160ee2d",
   "metadata": {},
   "outputs": [
    {
     "data": {
      "text/html": [
       "<style>#sk-container-id-13 {color: black;background-color: white;}#sk-container-id-13 pre{padding: 0;}#sk-container-id-13 div.sk-toggleable {background-color: white;}#sk-container-id-13 label.sk-toggleable__label {cursor: pointer;display: block;width: 100%;margin-bottom: 0;padding: 0.3em;box-sizing: border-box;text-align: center;}#sk-container-id-13 label.sk-toggleable__label-arrow:before {content: \"▸\";float: left;margin-right: 0.25em;color: #696969;}#sk-container-id-13 label.sk-toggleable__label-arrow:hover:before {color: black;}#sk-container-id-13 div.sk-estimator:hover label.sk-toggleable__label-arrow:before {color: black;}#sk-container-id-13 div.sk-toggleable__content {max-height: 0;max-width: 0;overflow: hidden;text-align: left;background-color: #f0f8ff;}#sk-container-id-13 div.sk-toggleable__content pre {margin: 0.2em;color: black;border-radius: 0.25em;background-color: #f0f8ff;}#sk-container-id-13 input.sk-toggleable__control:checked~div.sk-toggleable__content {max-height: 200px;max-width: 100%;overflow: auto;}#sk-container-id-13 input.sk-toggleable__control:checked~label.sk-toggleable__label-arrow:before {content: \"▾\";}#sk-container-id-13 div.sk-estimator input.sk-toggleable__control:checked~label.sk-toggleable__label {background-color: #d4ebff;}#sk-container-id-13 div.sk-label input.sk-toggleable__control:checked~label.sk-toggleable__label {background-color: #d4ebff;}#sk-container-id-13 input.sk-hidden--visually {border: 0;clip: rect(1px 1px 1px 1px);clip: rect(1px, 1px, 1px, 1px);height: 1px;margin: -1px;overflow: hidden;padding: 0;position: absolute;width: 1px;}#sk-container-id-13 div.sk-estimator {font-family: monospace;background-color: #f0f8ff;border: 1px dotted black;border-radius: 0.25em;box-sizing: border-box;margin-bottom: 0.5em;}#sk-container-id-13 div.sk-estimator:hover {background-color: #d4ebff;}#sk-container-id-13 div.sk-parallel-item::after {content: \"\";width: 100%;border-bottom: 1px solid gray;flex-grow: 1;}#sk-container-id-13 div.sk-label:hover label.sk-toggleable__label {background-color: #d4ebff;}#sk-container-id-13 div.sk-serial::before {content: \"\";position: absolute;border-left: 1px solid gray;box-sizing: border-box;top: 0;bottom: 0;left: 50%;z-index: 0;}#sk-container-id-13 div.sk-serial {display: flex;flex-direction: column;align-items: center;background-color: white;padding-right: 0.2em;padding-left: 0.2em;position: relative;}#sk-container-id-13 div.sk-item {position: relative;z-index: 1;}#sk-container-id-13 div.sk-parallel {display: flex;align-items: stretch;justify-content: center;background-color: white;position: relative;}#sk-container-id-13 div.sk-item::before, #sk-container-id-13 div.sk-parallel-item::before {content: \"\";position: absolute;border-left: 1px solid gray;box-sizing: border-box;top: 0;bottom: 0;left: 50%;z-index: -1;}#sk-container-id-13 div.sk-parallel-item {display: flex;flex-direction: column;z-index: 1;position: relative;background-color: white;}#sk-container-id-13 div.sk-parallel-item:first-child::after {align-self: flex-end;width: 50%;}#sk-container-id-13 div.sk-parallel-item:last-child::after {align-self: flex-start;width: 50%;}#sk-container-id-13 div.sk-parallel-item:only-child::after {width: 0;}#sk-container-id-13 div.sk-dashed-wrapped {border: 1px dashed gray;margin: 0 0.4em 0.5em 0.4em;box-sizing: border-box;padding-bottom: 0.4em;background-color: white;}#sk-container-id-13 div.sk-label label {font-family: monospace;font-weight: bold;display: inline-block;line-height: 1.2em;}#sk-container-id-13 div.sk-label-container {text-align: center;}#sk-container-id-13 div.sk-container {/* jupyter's `normalize.less` sets `[hidden] { display: none; }` but bootstrap.min.css set `[hidden] { display: none !important; }` so we also need the `!important` here to be able to override the default hidden behavior on the sphinx rendered scikit-learn.org. See: https://github.com/scikit-learn/scikit-learn/issues/21755 */display: inline-block !important;position: relative;}#sk-container-id-13 div.sk-text-repr-fallback {display: none;}</style><div id=\"sk-container-id-13\" class=\"sk-top-container\"><div class=\"sk-text-repr-fallback\"><pre>KNeighborsClassifier(n_neighbors=8)</pre><b>In a Jupyter environment, please rerun this cell to show the HTML representation or trust the notebook. <br />On GitHub, the HTML representation is unable to render, please try loading this page with nbviewer.org.</b></div><div class=\"sk-container\" hidden><div class=\"sk-item\"><div class=\"sk-estimator sk-toggleable\"><input class=\"sk-toggleable__control sk-hidden--visually\" id=\"sk-estimator-id-13\" type=\"checkbox\" checked><label for=\"sk-estimator-id-13\" class=\"sk-toggleable__label sk-toggleable__label-arrow\">KNeighborsClassifier</label><div class=\"sk-toggleable__content\"><pre>KNeighborsClassifier(n_neighbors=8)</pre></div></div></div></div></div>"
      ],
      "text/plain": [
       "KNeighborsClassifier(n_neighbors=8)"
      ]
     },
     "execution_count": 76,
     "metadata": {},
     "output_type": "execute_result"
    }
   ],
   "source": [
    "knn_clf.fit(x_train, y_train)"
   ]
  },
  {
   "cell_type": "code",
   "execution_count": 77,
   "id": "69771af8-9e00-4caa-8769-4b13425f6c20",
   "metadata": {},
   "outputs": [
    {
     "name": "stdout",
     "output_type": "stream",
     "text": [
      "Test Result:\n",
      "\n",
      "Accuracy Score: 0.80625 \n",
      "\n",
      "Classification Report:\n",
      "               0           1          2  accuracy   macro avg  weighted avg\n",
      "precision   0.0    0.825806   0.200000   0.80625    0.341935      0.709415\n",
      "recall      0.0    0.969697   0.044444   0.80625    0.338047      0.806250\n",
      "f1-score    0.0    0.891986   0.072727   0.80625    0.321571      0.746116\n",
      "support    11.0  264.000000  45.000000   0.80625  320.000000    320.000000 \n",
      "\n",
      "Confusion Matrix:\n",
      " [[  0  11   0]\n",
      " [  0 256   8]\n",
      " [  0  43   2]] \n",
      "\n"
     ]
    }
   ],
   "source": [
    "print_score_details(knn_clf, x_train, y_train, x_test, y_test)"
   ]
  },
  {
   "cell_type": "code",
   "execution_count": 78,
   "id": "bb7c4bea-a104-45a6-bc26-b599e5a3e114",
   "metadata": {},
   "outputs": [
    {
     "name": "stdout",
     "output_type": "stream",
     "text": [
      "Train Result:\n",
      "\n",
      "Accuracy Score: 0.8522283033620016 \n",
      "\n",
      "Classification Report:\n",
      "               0            1           2  accuracy    macro avg  weighted avg\n",
      "precision   0.0     0.859867    0.757143  0.852228     0.539003      0.811094\n",
      "recall      0.0     0.982938    0.308140  0.852228     0.430359      0.852228\n",
      "f1-score    0.0     0.917293    0.438017  0.852228     0.451770      0.815546\n",
      "support    52.0  1055.000000  172.000000  0.852228  1279.000000   1279.000000 \n",
      "\n",
      "Confusion Matrix:\n",
      " [[   0   51    1]\n",
      " [   2 1037   16]\n",
      " [   1  118   53]] \n",
      "\n"
     ]
    }
   ],
   "source": [
    "pred4 = knn_clf.predict(x_train)\n",
    "clf_report = pd.DataFrame(classification_report(y_train, pred4, output_dict=True))\n",
    "print(\"Train Result:\\n\")        \n",
    "print(\"Accuracy Score:\",accuracy_score(y_train, pred4),\"\\n\")\n",
    "print(\"Classification Report:\\n\",clf_report,\"\\n\")\n",
    "print(\"Confusion Matrix:\\n\",confusion_matrix(y_train, pred4),\"\\n\")"
   ]
  },
  {
   "cell_type": "markdown",
   "id": "96507f6e-8102-41bb-87f6-9767a4dde976",
   "metadata": {},
   "source": [
    "**Cross Validation**"
   ]
  },
  {
   "cell_type": "code",
   "execution_count": 80,
   "id": "451041f0-6aa4-4ac7-bcc5-08404ff0953e",
   "metadata": {},
   "outputs": [
    {
     "data": {
      "text/plain": [
       "array([0.8125    , 0.80625   , 0.81875   , 0.78125   , 0.85      ,\n",
       "       0.80625   , 0.76875   , 0.80625   , 0.8375    , 0.82389937])"
      ]
     },
     "execution_count": 80,
     "metadata": {},
     "output_type": "execute_result"
    }
   ],
   "source": [
    "results = cross_val_score(knn_clf, x, y, cv=10)\n",
    "results"
   ]
  },
  {
   "cell_type": "markdown",
   "id": "060b8fd8-4155-4c39-a636-8049861ea991",
   "metadata": {},
   "source": [
    "**Hyperparameter Tuning(GridSearchCV)**"
   ]
  },
  {
   "cell_type": "code",
   "execution_count": 81,
   "id": "c847935e-5702-4bf6-97b3-424c820f4f72",
   "metadata": {},
   "outputs": [
    {
     "name": "stdout",
     "output_type": "stream",
     "text": [
      "Best paramters:  {'metric': 'minkowski', 'n_neighbors': 5, 'weights': 'uniform'} \n",
      "\n"
     ]
    }
   ],
   "source": [
    "from sklearn.model_selection import GridSearchCV\n",
    "knn_grid = {\n",
    "    \"n_neighbors\" : [5,7,8,9,11,13,15],\n",
    "    \"weights\" : ['uniform','distance'],\n",
    "    \"metric\" : ['minkowski','euclidean','manhattan']\n",
    "}\n",
    "knn_clf = KNeighborsClassifier()\n",
    "\n",
    "knn_cv = GridSearchCV(\n",
    "    knn_clf, \n",
    "    knn_grid,\n",
    "    scoring=\"f1\",\n",
    "    cv=5\n",
    ")\n",
    "\n",
    "knn_cv.fit(x_train, y_train)\n",
    "knn_best_params = knn_cv.best_params_\n",
    "print(\"Best paramters: \",knn_best_params,\"\\n\")"
   ]
  },
  {
   "cell_type": "code",
   "execution_count": 82,
   "id": "c8edb8cb-8334-4003-94d8-98072a600ac6",
   "metadata": {},
   "outputs": [
    {
     "name": "stdout",
     "output_type": "stream",
     "text": [
      "Test Result:\n",
      "\n",
      "Accuracy Score: 0.79375 \n",
      "\n",
      "Classification Report:\n",
      "               0           1          2  accuracy   macro avg  weighted avg\n",
      "precision   0.0    0.837838   0.250000   0.79375    0.362613      0.726372\n",
      "recall      0.0    0.939394   0.133333   0.79375    0.357576      0.793750\n",
      "f1-score    0.0    0.885714   0.173913   0.79375    0.353209      0.755171\n",
      "support    11.0  264.000000  45.000000   0.79375  320.000000    320.000000 \n",
      "\n",
      "Confusion Matrix:\n",
      " [[  0   9   2]\n",
      " [  0 248  16]\n",
      " [  0  39   6]] \n",
      "\n"
     ]
    }
   ],
   "source": [
    "knn_clf = KNeighborsClassifier(**knn_best_params)\n",
    "knn_clf.fit(x_train, y_train)\n",
    "\n",
    "print_score_details(knn_clf, x_train, y_train, x_test, y_test)"
   ]
  },
  {
   "cell_type": "code",
   "execution_count": 83,
   "id": "0b4e38ea-2671-4d9b-b731-cef15c39dcd7",
   "metadata": {},
   "outputs": [
    {
     "name": "stdout",
     "output_type": "stream",
     "text": [
      "Train Result:\n",
      "\n",
      "Accuracy Score: 0.8795934323690383 \n",
      "\n",
      "Classification Report:\n",
      "                    0            1           2  accuracy    macro avg  \\\n",
      "precision   0.538462     0.892268    0.791304  0.879593     0.740678   \n",
      "recall      0.134615     0.973460    0.529070  0.879593     0.545715   \n",
      "f1-score    0.215385     0.931097    0.634146  0.879593     0.593543   \n",
      "support    52.000000  1055.000000  172.000000  0.879593  1279.000000   \n",
      "\n",
      "           weighted avg  \n",
      "precision      0.864305  \n",
      "recall         0.879593  \n",
      "f1-score       0.862065  \n",
      "support     1279.000000   \n",
      "\n",
      "Confusion Matrix:\n",
      " [[   7   45    0]\n",
      " [   4 1027   24]\n",
      " [   2   79   91]] \n",
      "\n"
     ]
    }
   ],
   "source": [
    "pred4 = knn_clf.predict(x_train)\n",
    "clf_report = pd.DataFrame(classification_report(y_train, pred4, output_dict=True))\n",
    "print(\"Train Result:\\n\")        \n",
    "print(\"Accuracy Score:\",accuracy_score(y_train, pred4),\"\\n\")\n",
    "print(\"Classification Report:\\n\",clf_report,\"\\n\")\n",
    "print(\"Confusion Matrix:\\n\",confusion_matrix(y_train, pred4),\"\\n\")"
   ]
  },
  {
   "cell_type": "markdown",
   "id": "3fc0f764-479d-4242-ae83-ff1f11425a21",
   "metadata": {},
   "source": [
    "**Cross Validation**"
   ]
  },
  {
   "cell_type": "markdown",
   "id": "6a5a8397-36ff-4a77-a24b-494381fac08e",
   "metadata": {},
   "source": [
    "results = cross_val_score(knn_clf, x, y, cv=10)\n",
    "results"
   ]
  },
  {
   "cell_type": "markdown",
   "id": "05f9f61d-cead-4043-885e-052e7461ac80",
   "metadata": {},
   "source": [
    "**Principle Component Analysis(PCA)**"
   ]
  },
  {
   "cell_type": "code",
   "execution_count": 129,
   "id": "c6816d6c-88d5-48a5-8d7d-f038d003353c",
   "metadata": {},
   "outputs": [],
   "source": [
    "from sklearn.decomposition import PCA\n",
    "pca = PCA(n_components=11)\n",
    "x_scaled=scaler.fit_transform(x)\n",
    "#fit PCA model to data\n",
    "pca_fit = pca.fit(x_scaled)"
   ]
  },
  {
   "cell_type": "markdown",
   "id": "09c9562c-efd3-46ae-a309-976dcf33e8b9",
   "metadata": {},
   "source": [
    "**Scree Plot to see variance distribution**"
   ]
  },
  {
   "cell_type": "code",
   "execution_count": 130,
   "id": "2d0e4df2-b8b5-443c-ae03-365fbbf48e72",
   "metadata": {},
   "outputs": [
    {
     "data": {
      "image/png": "[encoded data removed]",
      "text/plain": [
       "<Figure size 640x480 with 1 Axes>"
      ]
     },
     "metadata": {},
     "output_type": "display_data"
    }
   ],
   "source": [
    "\n",
    "PC_values = np.arange(pca.n_components_) \n",
    "plt.plot(PC_values, pca.explained_variance_ratio_, 'o-', color='blue')\n",
    "plt.title('Scree Plot')\n",
    "plt.xlabel('Principal Component')\n",
    "plt.ylabel('Variance Explained')\n",
    "plt.show()"
   ]
  },
  {
   "cell_type": "code",
   "execution_count": 131,
   "id": "81390db1-c72b-4aca-a005-0b0a1125ec81",
   "metadata": {},
   "outputs": [
    {
     "data": {
      "text/plain": [
       "array([0.28173931, 0.1750827 , 0.1409585 , 0.11029387, 0.08720837,\n",
       "       0.05996439, 0.05307193, 0.03845061, 0.0313311 , 0.01648483,\n",
       "       0.00541439])"
      ]
     },
     "execution_count": 131,
     "metadata": {},
     "output_type": "execute_result"
    }
   ],
   "source": [
    "pca.explained_variance_ratio_"
   ]
  },
  {
   "cell_type": "markdown",
   "id": "af41a34e-fb32-4bc5-b68c-8527361721a0",
   "metadata": {},
   "source": [
    "**Using features so that  75 percent variance is retained**"
   ]
  },
  {
   "cell_type": "code",
   "execution_count": 157,
   "id": "7b495b6b-ae7b-423c-98d4-906644a2031c",
   "metadata": {},
   "outputs": [
    {
     "data": {
      "text/plain": [
       "(1599, 5)"
      ]
     },
     "execution_count": 157,
     "metadata": {},
     "output_type": "execute_result"
    }
   ],
   "source": [
    "from sklearn.decomposition import PCA\n",
    "pca = PCA(0.75)\n",
    "x_pca = pca.fit_transform(x_scaled)\n",
    "x_pca.shape"
   ]
  },
  {
   "cell_type": "code",
   "execution_count": 158,
   "id": "04004fe1-faa3-4546-be63-11006f8214b7",
   "metadata": {},
   "outputs": [
    {
     "data": {
      "text/plain": [
       "5"
      ]
     },
     "execution_count": 158,
     "metadata": {},
     "output_type": "execute_result"
    }
   ],
   "source": [
    "pca.n_components_"
   ]
  },
  {
   "cell_type": "code",
   "execution_count": 159,
   "id": "4aa536d6-c21a-400b-81ce-63cdef1f2777",
   "metadata": {},
   "outputs": [],
   "source": [
    "X_train_pca, X_test_pca, y_train_pca, y_test_pca = train_test_split(x_pca, y, test_size=0.2, random_state=30)"
   ]
  },
  {
   "cell_type": "code",
   "execution_count": 169,
   "id": "76fd4f22-3a8c-43e6-880c-1d66b9e95c75",
   "metadata": {},
   "outputs": [
    {
     "data": {
      "text/html": [
       "<style>#sk-container-id-19 {color: black;background-color: white;}#sk-container-id-19 pre{padding: 0;}#sk-container-id-19 div.sk-toggleable {background-color: white;}#sk-container-id-19 label.sk-toggleable__label {cursor: pointer;display: block;width: 100%;margin-bottom: 0;padding: 0.3em;box-sizing: border-box;text-align: center;}#sk-container-id-19 label.sk-toggleable__label-arrow:before {content: \"▸\";float: left;margin-right: 0.25em;color: #696969;}#sk-container-id-19 label.sk-toggleable__label-arrow:hover:before {color: black;}#sk-container-id-19 div.sk-estimator:hover label.sk-toggleable__label-arrow:before {color: black;}#sk-container-id-19 div.sk-toggleable__content {max-height: 0;max-width: 0;overflow: hidden;text-align: left;background-color: #f0f8ff;}#sk-container-id-19 div.sk-toggleable__content pre {margin: 0.2em;color: black;border-radius: 0.25em;background-color: #f0f8ff;}#sk-container-id-19 input.sk-toggleable__control:checked~div.sk-toggleable__content {max-height: 200px;max-width: 100%;overflow: auto;}#sk-container-id-19 input.sk-toggleable__control:checked~label.sk-toggleable__label-arrow:before {content: \"▾\";}#sk-container-id-19 div.sk-estimator input.sk-toggleable__control:checked~label.sk-toggleable__label {background-color: #d4ebff;}#sk-container-id-19 div.sk-label input.sk-toggleable__control:checked~label.sk-toggleable__label {background-color: #d4ebff;}#sk-container-id-19 input.sk-hidden--visually {border: 0;clip: rect(1px 1px 1px 1px);clip: rect(1px, 1px, 1px, 1px);height: 1px;margin: -1px;overflow: hidden;padding: 0;position: absolute;width: 1px;}#sk-container-id-19 div.sk-estimator {font-family: monospace;background-color: #f0f8ff;border: 1px dotted black;border-radius: 0.25em;box-sizing: border-box;margin-bottom: 0.5em;}#sk-container-id-19 div.sk-estimator:hover {background-color: #d4ebff;}#sk-container-id-19 div.sk-parallel-item::after {content: \"\";width: 100%;border-bottom: 1px solid gray;flex-grow: 1;}#sk-container-id-19 div.sk-label:hover label.sk-toggleable__label {background-color: #d4ebff;}#sk-container-id-19 div.sk-serial::before {content: \"\";position: absolute;border-left: 1px solid gray;box-sizing: border-box;top: 0;bottom: 0;left: 50%;z-index: 0;}#sk-container-id-19 div.sk-serial {display: flex;flex-direction: column;align-items: center;background-color: white;padding-right: 0.2em;padding-left: 0.2em;position: relative;}#sk-container-id-19 div.sk-item {position: relative;z-index: 1;}#sk-container-id-19 div.sk-parallel {display: flex;align-items: stretch;justify-content: center;background-color: white;position: relative;}#sk-container-id-19 div.sk-item::before, #sk-container-id-19 div.sk-parallel-item::before {content: \"\";position: absolute;border-left: 1px solid gray;box-sizing: border-box;top: 0;bottom: 0;left: 50%;z-index: -1;}#sk-container-id-19 div.sk-parallel-item {display: flex;flex-direction: column;z-index: 1;position: relative;background-color: white;}#sk-container-id-19 div.sk-parallel-item:first-child::after {align-self: flex-end;width: 50%;}#sk-container-id-19 div.sk-parallel-item:last-child::after {align-self: flex-start;width: 50%;}#sk-container-id-19 div.sk-parallel-item:only-child::after {width: 0;}#sk-container-id-19 div.sk-dashed-wrapped {border: 1px dashed gray;margin: 0 0.4em 0.5em 0.4em;box-sizing: border-box;padding-bottom: 0.4em;background-color: white;}#sk-container-id-19 div.sk-label label {font-family: monospace;font-weight: bold;display: inline-block;line-height: 1.2em;}#sk-container-id-19 div.sk-label-container {text-align: center;}#sk-container-id-19 div.sk-container {/* jupyter's `normalize.less` sets `[hidden] { display: none; }` but bootstrap.min.css set `[hidden] { display: none !important; }` so we also need the `!important` here to be able to override the default hidden behavior on the sphinx rendered scikit-learn.org. See: https://github.com/scikit-learn/scikit-learn/issues/21755 */display: inline-block !important;position: relative;}#sk-container-id-19 div.sk-text-repr-fallback {display: none;}</style><div id=\"sk-container-id-19\" class=\"sk-top-container\"><div class=\"sk-text-repr-fallback\"><pre>KNeighborsClassifier(n_neighbors=8)</pre><b>In a Jupyter environment, please rerun this cell to show the HTML representation or trust the notebook. <br />On GitHub, the HTML representation is unable to render, please try loading this page with nbviewer.org.</b></div><div class=\"sk-container\" hidden><div class=\"sk-item\"><div class=\"sk-estimator sk-toggleable\"><input class=\"sk-toggleable__control sk-hidden--visually\" id=\"sk-estimator-id-19\" type=\"checkbox\" checked><label for=\"sk-estimator-id-19\" class=\"sk-toggleable__label sk-toggleable__label-arrow\">KNeighborsClassifier</label><div class=\"sk-toggleable__content\"><pre>KNeighborsClassifier(n_neighbors=8)</pre></div></div></div></div></div>"
      ],
      "text/plain": [
       "KNeighborsClassifier(n_neighbors=8)"
      ]
     },
     "execution_count": 169,
     "metadata": {},
     "output_type": "execute_result"
    }
   ],
   "source": [
    "from sklearn.neighbors import KNeighborsClassifier\n",
    "knn_clf = KNeighborsClassifier(n_neighbors=8)\n",
    "knn_clf.fit(X_train_pca, y_train_pca)"
   ]
  },
  {
   "cell_type": "code",
   "execution_count": 170,
   "id": "f144e8fa-1693-4e8e-b00d-ca948796a0e0",
   "metadata": {},
   "outputs": [
    {
     "name": "stdout",
     "output_type": "stream",
     "text": [
      "Test Result:\n",
      "\n",
      "Accuracy Score: 0.83125 \n",
      "\n",
      "Classification Report:\n",
      "               0           1          2  accuracy   macro avg  weighted avg\n",
      "precision   0.0    0.856655   0.576923   0.83125    0.477859      0.777108\n",
      "recall      0.0    0.958015   0.357143   0.83125    0.438386      0.831250\n",
      "f1-score    0.0    0.904505   0.441176   0.83125    0.448560      0.798467\n",
      "support    16.0  262.000000  42.000000   0.83125  320.000000    320.000000 \n",
      "\n",
      "Confusion Matrix:\n",
      " [[  0  15   1]\n",
      " [  1 251  10]\n",
      " [  0  27  15]] \n",
      "\n"
     ]
    }
   ],
   "source": [
    "print_score_details(knn_clf, X_train_pca, y_train_pca, X_test_pca, y_test_pca)"
   ]
  },
  {
   "cell_type": "code",
   "execution_count": 171,
   "id": "a827c704-20e2-4c0b-bd07-1b79d5db7c78",
   "metadata": {},
   "outputs": [
    {
     "name": "stdout",
     "output_type": "stream",
     "text": [
      "Train Result:\n",
      "\n",
      "Accuracy Score: 0.8631743549648163 \n",
      "\n",
      "Classification Report:\n",
      "               0            1           2  accuracy    macro avg  weighted avg\n",
      "precision   0.0     0.823632    0.086957  0.749023     0.303529      0.692569\n",
      "recall      0.0     0.896878    0.057143  0.749023     0.318007      0.749023\n",
      "f1-score    0.0     0.858696    0.068966  0.749023     0.309220      0.719085\n",
      "support    47.0  1057.000000  175.000000  0.749023  1279.000000   1279.000000 \n",
      "\n",
      "Confusion Matrix:\n",
      " [[   1   46    0]\n",
      " [   2 1034   21]\n",
      " [   0  106   69]] \n",
      "\n"
     ]
    }
   ],
   "source": [
    "pred5 = knn_clf.predict(X_train_pca)\n",
    "clf_report = pd.DataFrame(classification_report(y_train_pca, pred4, output_dict=True))\n",
    "print(\"Train Result:\\n\")        \n",
    "print(\"Accuracy Score:\",accuracy_score(y_train_pca, pred5),\"\\n\")\n",
    "print(\"Classification Report:\\n\",clf_report,\"\\n\")\n",
    "print(\"Confusion Matrix:\\n\",confusion_matrix(y_train, pred5),\"\\n\")"
   ]
  },
  {
   "cell_type": "markdown",
   "id": "88506163-0b76-4450-bc51-d8fd876e0292",
   "metadata": {},
   "source": [
    "**It is observed that using PCA i could reduce the number of features used to build the model could be reduced to 5 from 11 and it increased model accuracy on Test data without overfitting as the train and test accuracy is comparable.**"
   ]
  },
  {
   "cell_type": "markdown",
   "id": "451461ac-6b30-4d88-9b4f-90b6584353d9",
   "metadata": {},
   "source": [
    "**As a conclusion XGBoost worked the best with this dataset.**"
   ]
  },
  {
   "cell_type": "code",
   "execution_count": null,
   "id": "258d8ae6-f774-40f0-b6b3-e85c5afd864d",
   "metadata": {},
   "outputs": [],
   "source": []
  }
 ],
 "metadata": {
  "kernelspec": {
   "display_name": "Python 3 (ipykernel)",
   "language": "python",
   "name": "python3"
  },
  "language_info": {
   "codemirror_mode": {
    "name": "ipython",
    "version": 3
   },
   "file_extension": ".py",
   "mimetype": "text/x-python",
   "name": "python",
   "nbconvert_exporter": "python",
   "pygments_lexer": "ipython3",
   "version": "3.11.7"
  }
 },
 "nbformat": 4,
 "nbformat_minor": 5
}
