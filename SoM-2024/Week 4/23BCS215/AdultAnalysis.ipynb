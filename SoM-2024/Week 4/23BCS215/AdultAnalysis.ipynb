{
  "cells": [
    {
      "cell_type": "code",
      "execution_count": 1,
      "metadata": {
        "id": "FJ3Ijnh-IXKR"
      },
      "outputs": [],
      "source": [
        "import pandas as pd\n",
        "import numpy as np\n",
        "import matplotlib.pyplot as plt\n",
        "%matplotlib inline\n",
        "import seaborn as sns"
      ]
    },
    {
      "cell_type": "code",
      "execution_count": 2,
      "metadata": {
        "id": "aHWzfFXOcjB1"
      },
      "outputs": [],
      "source": [
        "df =pd.read_csv('adult.csv' , na_values='?' ,encoding='latin1')"
      ]
    },
    {
      "cell_type": "code",
      "execution_count": 3,
      "metadata": {
        "colab": {
          "base_uri": "https://localhost:8080/",
          "height": 295
        },
        "id": "89Fo9-V7dKvl",
        "outputId": "df080c8c-ac71-43fa-9626-f2655fbcfe5e"
      },
      "outputs": [
        {
          "output_type": "execute_result",
          "data": {
            "text/plain": [
              "   age workclass  fnlwgt     education  education.num marital.status  \\\n",
              "0   90       NaN   77053       HS-grad              9        Widowed   \n",
              "1   82   Private  132870       HS-grad              9        Widowed   \n",
              "2   66       NaN  186061  Some-college             10        Widowed   \n",
              "3   54   Private  140359       7th-8th              4       Divorced   \n",
              "4   41   Private  264663  Some-college             10      Separated   \n",
              "\n",
              "          occupation   relationship   race     sex  capital.gain  \\\n",
              "0                NaN  Not-in-family  White  Female             0   \n",
              "1    Exec-managerial  Not-in-family  White  Female             0   \n",
              "2                NaN      Unmarried  Black  Female             0   \n",
              "3  Machine-op-inspct      Unmarried  White  Female             0   \n",
              "4     Prof-specialty      Own-child  White  Female             0   \n",
              "\n",
              "   capital.loss  hours.per.week native.country income  \n",
              "0          4356              40  United-States  <=50K  \n",
              "1          4356              18  United-States  <=50K  \n",
              "2          4356              40  United-States  <=50K  \n",
              "3          3900              40  United-States  <=50K  \n",
              "4          3900              40  United-States  <=50K  "
            ],
            "text/html": [
              "\n",
              "  <div id=\"df-bffad23a-6761-42ff-997b-0729b0634f5d\" class=\"colab-df-container\">\n",
              "    <div>\n",
              "<style scoped>\n",
              "    .dataframe tbody tr th:only-of-type {\n",
              "        vertical-align: middle;\n",
              "    }\n",
              "\n",
              "    .dataframe tbody tr th {\n",
              "        vertical-align: top;\n",
              "    }\n",
              "\n",
              "    .dataframe thead th {\n",
              "        text-align: right;\n",
              "    }\n",
              "</style>\n",
              "<table border=\"1\" class=\"dataframe\">\n",
              "  <thead>\n",
              "    <tr style=\"text-align: right;\">\n",
              "      <th></th>\n",
              "      <th>age</th>\n",
              "      <th>workclass</th>\n",
              "      <th>fnlwgt</th>\n",
              "      <th>education</th>\n",
              "      <th>education.num</th>\n",
              "      <th>marital.status</th>\n",
              "      <th>occupation</th>\n",
              "      <th>relationship</th>\n",
              "      <th>race</th>\n",
              "      <th>sex</th>\n",
              "      <th>capital.gain</th>\n",
              "      <th>capital.loss</th>\n",
              "      <th>hours.per.week</th>\n",
              "      <th>native.country</th>\n",
              "      <th>income</th>\n",
              "    </tr>\n",
              "  </thead>\n",
              "  <tbody>\n",
              "    <tr>\n",
              "      <th>0</th>\n",
              "      <td>90</td>\n",
              "      <td>NaN</td>\n",
              "      <td>77053</td>\n",
              "      <td>HS-grad</td>\n",
              "      <td>9</td>\n",
              "      <td>Widowed</td>\n",
              "      <td>NaN</td>\n",
              "      <td>Not-in-family</td>\n",
              "      <td>White</td>\n",
              "      <td>Female</td>\n",
              "      <td>0</td>\n",
              "      <td>4356</td>\n",
              "      <td>40</td>\n",
              "      <td>United-States</td>\n",
              "      <td>&lt;=50K</td>\n",
              "    </tr>\n",
              "    <tr>\n",
              "      <th>1</th>\n",
              "      <td>82</td>\n",
              "      <td>Private</td>\n",
              "      <td>132870</td>\n",
              "      <td>HS-grad</td>\n",
              "      <td>9</td>\n",
              "      <td>Widowed</td>\n",
              "      <td>Exec-managerial</td>\n",
              "      <td>Not-in-family</td>\n",
              "      <td>White</td>\n",
              "      <td>Female</td>\n",
              "      <td>0</td>\n",
              "      <td>4356</td>\n",
              "      <td>18</td>\n",
              "      <td>United-States</td>\n",
              "      <td>&lt;=50K</td>\n",
              "    </tr>\n",
              "    <tr>\n",
              "      <th>2</th>\n",
              "      <td>66</td>\n",
              "      <td>NaN</td>\n",
              "      <td>186061</td>\n",
              "      <td>Some-college</td>\n",
              "      <td>10</td>\n",
              "      <td>Widowed</td>\n",
              "      <td>NaN</td>\n",
              "      <td>Unmarried</td>\n",
              "      <td>Black</td>\n",
              "      <td>Female</td>\n",
              "      <td>0</td>\n",
              "      <td>4356</td>\n",
              "      <td>40</td>\n",
              "      <td>United-States</td>\n",
              "      <td>&lt;=50K</td>\n",
              "    </tr>\n",
              "    <tr>\n",
              "      <th>3</th>\n",
              "      <td>54</td>\n",
              "      <td>Private</td>\n",
              "      <td>140359</td>\n",
              "      <td>7th-8th</td>\n",
              "      <td>4</td>\n",
              "      <td>Divorced</td>\n",
              "      <td>Machine-op-inspct</td>\n",
              "      <td>Unmarried</td>\n",
              "      <td>White</td>\n",
              "      <td>Female</td>\n",
              "      <td>0</td>\n",
              "      <td>3900</td>\n",
              "      <td>40</td>\n",
              "      <td>United-States</td>\n",
              "      <td>&lt;=50K</td>\n",
              "    </tr>\n",
              "    <tr>\n",
              "      <th>4</th>\n",
              "      <td>41</td>\n",
              "      <td>Private</td>\n",
              "      <td>264663</td>\n",
              "      <td>Some-college</td>\n",
              "      <td>10</td>\n",
              "      <td>Separated</td>\n",
              "      <td>Prof-specialty</td>\n",
              "      <td>Own-child</td>\n",
              "      <td>White</td>\n",
              "      <td>Female</td>\n",
              "      <td>0</td>\n",
              "      <td>3900</td>\n",
              "      <td>40</td>\n",
              "      <td>United-States</td>\n",
              "      <td>&lt;=50K</td>\n",
              "    </tr>\n",
              "  </tbody>\n",
              "</table>\n",
              "</div>\n",
              "    <div class=\"colab-df-buttons\">\n",
              "\n",
              "  <div class=\"colab-df-container\">\n",
              "    <button class=\"colab-df-convert\" onclick=\"convertToInteractive('df-bffad23a-6761-42ff-997b-0729b0634f5d')\"\n",
              "            title=\"Convert this dataframe to an interactive table.\"\n",
              "            style=\"display:none;\">\n",
              "\n",
              "  <svg xmlns=\"http://www.w3.org/2000/svg\" height=\"24px\" viewBox=\"0 -960 960 960\">\n",
              "    <path d=\"M120-120v-720h720v720H120Zm60-500h600v-160H180v160Zm220 220h160v-160H400v160Zm0 220h160v-160H400v160ZM180-400h160v-160H180v160Zm440 0h160v-160H620v160ZM180-180h160v-160H180v160Zm440 0h160v-160H620v160Z\"/>\n",
              "  </svg>\n",
              "    </button>\n",
              "\n",
              "  <style>\n",
              "    .colab-df-container {\n",
              "      display:flex;\n",
              "      gap: 12px;\n",
              "    }\n",
              "\n",
              "    .colab-df-convert {\n",
              "      background-color: #E8F0FE;\n",
              "      border: none;\n",
              "      border-radius: 50%;\n",
              "      cursor: pointer;\n",
              "      display: none;\n",
              "      fill: #1967D2;\n",
              "      height: 32px;\n",
              "      padding: 0 0 0 0;\n",
              "      width: 32px;\n",
              "    }\n",
              "\n",
              "    .colab-df-convert:hover {\n",
              "      background-color: #E2EBFA;\n",
              "      box-shadow: 0px 1px 2px rgba(60, 64, 67, 0.3), 0px 1px 3px 1px rgba(60, 64, 67, 0.15);\n",
              "      fill: #174EA6;\n",
              "    }\n",
              "\n",
              "    .colab-df-buttons div {\n",
              "      margin-bottom: 4px;\n",
              "    }\n",
              "\n",
              "    [theme=dark] .colab-df-convert {\n",
              "      background-color: #3B4455;\n",
              "      fill: #D2E3FC;\n",
              "    }\n",
              "\n",
              "    [theme=dark] .colab-df-convert:hover {\n",
              "      background-color: #434B5C;\n",
              "      box-shadow: 0px 1px 3px 1px rgba(0, 0, 0, 0.15);\n",
              "      filter: drop-shadow(0px 1px 2px rgba(0, 0, 0, 0.3));\n",
              "      fill: #FFFFFF;\n",
              "    }\n",
              "  </style>\n",
              "\n",
              "    <script>\n",
              "      const buttonEl =\n",
              "        document.querySelector('#df-bffad23a-6761-42ff-997b-0729b0634f5d button.colab-df-convert');\n",
              "      buttonEl.style.display =\n",
              "        google.colab.kernel.accessAllowed ? 'block' : 'none';\n",
              "\n",
              "      async function convertToInteractive(key) {\n",
              "        const element = document.querySelector('#df-bffad23a-6761-42ff-997b-0729b0634f5d');\n",
              "        const dataTable =\n",
              "          await google.colab.kernel.invokeFunction('convertToInteractive',\n",
              "                                                    [key], {});\n",
              "        if (!dataTable) return;\n",
              "\n",
              "        const docLinkHtml = 'Like what you see? Visit the ' +\n",
              "          '<a target=\"_blank\" href=https://colab.research.google.com/notebooks/data_table.ipynb>data table notebook</a>'\n",
              "          + ' to learn more about interactive tables.';\n",
              "        element.innerHTML = '';\n",
              "        dataTable['output_type'] = 'display_data';\n",
              "        await google.colab.output.renderOutput(dataTable, element);\n",
              "        const docLink = document.createElement('div');\n",
              "        docLink.innerHTML = docLinkHtml;\n",
              "        element.appendChild(docLink);\n",
              "      }\n",
              "    </script>\n",
              "  </div>\n",
              "\n",
              "\n",
              "<div id=\"df-70a3c5d8-a373-4a82-8212-c4bf1b1ff101\">\n",
              "  <button class=\"colab-df-quickchart\" onclick=\"quickchart('df-70a3c5d8-a373-4a82-8212-c4bf1b1ff101')\"\n",
              "            title=\"Suggest charts\"\n",
              "            style=\"display:none;\">\n",
              "\n",
              "<svg xmlns=\"http://www.w3.org/2000/svg\" height=\"24px\"viewBox=\"0 0 24 24\"\n",
              "     width=\"24px\">\n",
              "    <g>\n",
              "        <path d=\"M19 3H5c-1.1 0-2 .9-2 2v14c0 1.1.9 2 2 2h14c1.1 0 2-.9 2-2V5c0-1.1-.9-2-2-2zM9 17H7v-7h2v7zm4 0h-2V7h2v10zm4 0h-2v-4h2v4z\"/>\n",
              "    </g>\n",
              "</svg>\n",
              "  </button>\n",
              "\n",
              "<style>\n",
              "  .colab-df-quickchart {\n",
              "      --bg-color: #E8F0FE;\n",
              "      --fill-color: #1967D2;\n",
              "      --hover-bg-color: #E2EBFA;\n",
              "      --hover-fill-color: #174EA6;\n",
              "      --disabled-fill-color: #AAA;\n",
              "      --disabled-bg-color: #DDD;\n",
              "  }\n",
              "\n",
              "  [theme=dark] .colab-df-quickchart {\n",
              "      --bg-color: #3B4455;\n",
              "      --fill-color: #D2E3FC;\n",
              "      --hover-bg-color: #434B5C;\n",
              "      --hover-fill-color: #FFFFFF;\n",
              "      --disabled-bg-color: #3B4455;\n",
              "      --disabled-fill-color: #666;\n",
              "  }\n",
              "\n",
              "  .colab-df-quickchart {\n",
              "    background-color: var(--bg-color);\n",
              "    border: none;\n",
              "    border-radius: 50%;\n",
              "    cursor: pointer;\n",
              "    display: none;\n",
              "    fill: var(--fill-color);\n",
              "    height: 32px;\n",
              "    padding: 0;\n",
              "    width: 32px;\n",
              "  }\n",
              "\n",
              "  .colab-df-quickchart:hover {\n",
              "    background-color: var(--hover-bg-color);\n",
              "    box-shadow: 0 1px 2px rgba(60, 64, 67, 0.3), 0 1px 3px 1px rgba(60, 64, 67, 0.15);\n",
              "    fill: var(--button-hover-fill-color);\n",
              "  }\n",
              "\n",
              "  .colab-df-quickchart-complete:disabled,\n",
              "  .colab-df-quickchart-complete:disabled:hover {\n",
              "    background-color: var(--disabled-bg-color);\n",
              "    fill: var(--disabled-fill-color);\n",
              "    box-shadow: none;\n",
              "  }\n",
              "\n",
              "  .colab-df-spinner {\n",
              "    border: 2px solid var(--fill-color);\n",
              "    border-color: transparent;\n",
              "    border-bottom-color: var(--fill-color);\n",
              "    animation:\n",
              "      spin 1s steps(1) infinite;\n",
              "  }\n",
              "\n",
              "  @keyframes spin {\n",
              "    0% {\n",
              "      border-color: transparent;\n",
              "      border-bottom-color: var(--fill-color);\n",
              "      border-left-color: var(--fill-color);\n",
              "    }\n",
              "    20% {\n",
              "      border-color: transparent;\n",
              "      border-left-color: var(--fill-color);\n",
              "      border-top-color: var(--fill-color);\n",
              "    }\n",
              "    30% {\n",
              "      border-color: transparent;\n",
              "      border-left-color: var(--fill-color);\n",
              "      border-top-color: var(--fill-color);\n",
              "      border-right-color: var(--fill-color);\n",
              "    }\n",
              "    40% {\n",
              "      border-color: transparent;\n",
              "      border-right-color: var(--fill-color);\n",
              "      border-top-color: var(--fill-color);\n",
              "    }\n",
              "    60% {\n",
              "      border-color: transparent;\n",
              "      border-right-color: var(--fill-color);\n",
              "    }\n",
              "    80% {\n",
              "      border-color: transparent;\n",
              "      border-right-color: var(--fill-color);\n",
              "      border-bottom-color: var(--fill-color);\n",
              "    }\n",
              "    90% {\n",
              "      border-color: transparent;\n",
              "      border-bottom-color: var(--fill-color);\n",
              "    }\n",
              "  }\n",
              "</style>\n",
              "\n",
              "  <script>\n",
              "    async function quickchart(key) {\n",
              "      const quickchartButtonEl =\n",
              "        document.querySelector('#' + key + ' button');\n",
              "      quickchartButtonEl.disabled = true;  // To prevent multiple clicks.\n",
              "      quickchartButtonEl.classList.add('colab-df-spinner');\n",
              "      try {\n",
              "        const charts = await google.colab.kernel.invokeFunction(\n",
              "            'suggestCharts', [key], {});\n",
              "      } catch (error) {\n",
              "        console.error('Error during call to suggestCharts:', error);\n",
              "      }\n",
              "      quickchartButtonEl.classList.remove('colab-df-spinner');\n",
              "      quickchartButtonEl.classList.add('colab-df-quickchart-complete');\n",
              "    }\n",
              "    (() => {\n",
              "      let quickchartButtonEl =\n",
              "        document.querySelector('#df-70a3c5d8-a373-4a82-8212-c4bf1b1ff101 button');\n",
              "      quickchartButtonEl.style.display =\n",
              "        google.colab.kernel.accessAllowed ? 'block' : 'none';\n",
              "    })();\n",
              "  </script>\n",
              "</div>\n",
              "\n",
              "    </div>\n",
              "  </div>\n"
            ],
            "application/vnd.google.colaboratory.intrinsic+json": {
              "type": "dataframe",
              "variable_name": "df",
              "summary": "{\n  \"name\": \"df\",\n  \"rows\": 32561,\n  \"fields\": [\n    {\n      \"column\": \"age\",\n      \"properties\": {\n        \"dtype\": \"number\",\n        \"std\": 13,\n        \"min\": 17,\n        \"max\": 90,\n        \"num_unique_values\": 73,\n        \"samples\": [\n          41,\n          80,\n          61\n        ],\n        \"semantic_type\": \"\",\n        \"description\": \"\"\n      }\n    },\n    {\n      \"column\": \"workclass\",\n      \"properties\": {\n        \"dtype\": \"category\",\n        \"num_unique_values\": 8,\n        \"samples\": [\n          \"State-gov\",\n          \"Local-gov\",\n          \"Private\"\n        ],\n        \"semantic_type\": \"\",\n        \"description\": \"\"\n      }\n    },\n    {\n      \"column\": \"fnlwgt\",\n      \"properties\": {\n        \"dtype\": \"number\",\n        \"std\": 105549,\n        \"min\": 12285,\n        \"max\": 1484705,\n        \"num_unique_values\": 21648,\n        \"samples\": [\n          269687,\n          156542,\n          100295\n        ],\n        \"semantic_type\": \"\",\n        \"description\": \"\"\n      }\n    },\n    {\n      \"column\": \"education\",\n      \"properties\": {\n        \"dtype\": \"category\",\n        \"num_unique_values\": 16,\n        \"samples\": [\n          \"HS-grad\",\n          \"Some-college\",\n          \"Prof-school\"\n        ],\n        \"semantic_type\": \"\",\n        \"description\": \"\"\n      }\n    },\n    {\n      \"column\": \"education.num\",\n      \"properties\": {\n        \"dtype\": \"number\",\n        \"std\": 2,\n        \"min\": 1,\n        \"max\": 16,\n        \"num_unique_values\": 16,\n        \"samples\": [\n          9,\n          10,\n          15\n        ],\n        \"semantic_type\": \"\",\n        \"description\": \"\"\n      }\n    },\n    {\n      \"column\": \"marital.status\",\n      \"properties\": {\n        \"dtype\": \"category\",\n        \"num_unique_values\": 7,\n        \"samples\": [\n          \"Widowed\",\n          \"Divorced\",\n          \"Married-spouse-absent\"\n        ],\n        \"semantic_type\": \"\",\n        \"description\": \"\"\n      }\n    },\n    {\n      \"column\": \"occupation\",\n      \"properties\": {\n        \"dtype\": \"category\",\n        \"num_unique_values\": 14,\n        \"samples\": [\n          \"Farming-fishing\",\n          \"Protective-serv\",\n          \"Exec-managerial\"\n        ],\n        \"semantic_type\": \"\",\n        \"description\": \"\"\n      }\n    },\n    {\n      \"column\": \"relationship\",\n      \"properties\": {\n        \"dtype\": \"category\",\n        \"num_unique_values\": 6,\n        \"samples\": [\n          \"Not-in-family\",\n          \"Unmarried\",\n          \"Wife\"\n        ],\n        \"semantic_type\": \"\",\n        \"description\": \"\"\n      }\n    },\n    {\n      \"column\": \"race\",\n      \"properties\": {\n        \"dtype\": \"category\",\n        \"num_unique_values\": 5,\n        \"samples\": [\n          \"Black\",\n          \"Amer-Indian-Eskimo\",\n          \"Asian-Pac-Islander\"\n        ],\n        \"semantic_type\": \"\",\n        \"description\": \"\"\n      }\n    },\n    {\n      \"column\": \"sex\",\n      \"properties\": {\n        \"dtype\": \"category\",\n        \"num_unique_values\": 2,\n        \"samples\": [\n          \"Male\",\n          \"Female\"\n        ],\n        \"semantic_type\": \"\",\n        \"description\": \"\"\n      }\n    },\n    {\n      \"column\": \"capital.gain\",\n      \"properties\": {\n        \"dtype\": \"number\",\n        \"std\": 7385,\n        \"min\": 0,\n        \"max\": 99999,\n        \"num_unique_values\": 119,\n        \"samples\": [\n          3887,\n          2329\n        ],\n        \"semantic_type\": \"\",\n        \"description\": \"\"\n      }\n    },\n    {\n      \"column\": \"capital.loss\",\n      \"properties\": {\n        \"dtype\": \"number\",\n        \"std\": 402,\n        \"min\": 0,\n        \"max\": 4356,\n        \"num_unique_values\": 92,\n        \"samples\": [\n          1980,\n          2258\n        ],\n        \"semantic_type\": \"\",\n        \"description\": \"\"\n      }\n    },\n    {\n      \"column\": \"hours.per.week\",\n      \"properties\": {\n        \"dtype\": \"number\",\n        \"std\": 12,\n        \"min\": 1,\n        \"max\": 99,\n        \"num_unique_values\": 94,\n        \"samples\": [\n          34,\n          80\n        ],\n        \"semantic_type\": \"\",\n        \"description\": \"\"\n      }\n    },\n    {\n      \"column\": \"native.country\",\n      \"properties\": {\n        \"dtype\": \"category\",\n        \"num_unique_values\": 41,\n        \"samples\": [\n          \"Peru\",\n          \"Poland\"\n        ],\n        \"semantic_type\": \"\",\n        \"description\": \"\"\n      }\n    },\n    {\n      \"column\": \"income\",\n      \"properties\": {\n        \"dtype\": \"category\",\n        \"num_unique_values\": 2,\n        \"samples\": [\n          \">50K\",\n          \"<=50K\"\n        ],\n        \"semantic_type\": \"\",\n        \"description\": \"\"\n      }\n    }\n  ]\n}"
            }
          },
          "metadata": {},
          "execution_count": 3
        }
      ],
      "source": [
        "df.head()"
      ]
    },
    {
      "cell_type": "code",
      "execution_count": 4,
      "metadata": {
        "colab": {
          "base_uri": "https://localhost:8080/"
        },
        "id": "b1v7SmfKdL2R",
        "outputId": "e686af39-4bd2-4674-8fc7-bda16330bf9a"
      },
      "outputs": [
        {
          "output_type": "execute_result",
          "data": {
            "text/plain": [
              "(32561, 15)"
            ]
          },
          "metadata": {},
          "execution_count": 4
        }
      ],
      "source": [
        "df.shape"
      ]
    },
    {
      "cell_type": "code",
      "execution_count": 5,
      "metadata": {
        "colab": {
          "base_uri": "https://localhost:8080/"
        },
        "id": "H0nJLGDNdcJ_",
        "outputId": "cee86a8e-60f1-4b70-a840-fc2cde1af999"
      },
      "outputs": [
        {
          "output_type": "stream",
          "name": "stdout",
          "text": [
            "<class 'pandas.core.frame.DataFrame'>\n",
            "RangeIndex: 32561 entries, 0 to 32560\n",
            "Data columns (total 15 columns):\n",
            " #   Column          Non-Null Count  Dtype \n",
            "---  ------          --------------  ----- \n",
            " 0   age             32561 non-null  int64 \n",
            " 1   workclass       30725 non-null  object\n",
            " 2   fnlwgt          32561 non-null  int64 \n",
            " 3   education       32561 non-null  object\n",
            " 4   education.num   32561 non-null  int64 \n",
            " 5   marital.status  32561 non-null  object\n",
            " 6   occupation      30718 non-null  object\n",
            " 7   relationship    32561 non-null  object\n",
            " 8   race            32561 non-null  object\n",
            " 9   sex             32561 non-null  object\n",
            " 10  capital.gain    32561 non-null  int64 \n",
            " 11  capital.loss    32561 non-null  int64 \n",
            " 12  hours.per.week  32561 non-null  int64 \n",
            " 13  native.country  31978 non-null  object\n",
            " 14  income          32561 non-null  object\n",
            "dtypes: int64(6), object(9)\n",
            "memory usage: 3.7+ MB\n"
          ]
        }
      ],
      "source": [
        "df.info()"
      ]
    },
    {
      "cell_type": "code",
      "execution_count": 6,
      "metadata": {
        "colab": {
          "base_uri": "https://localhost:8080/"
        },
        "id": "hJ_iiH_ndlMZ",
        "outputId": "69928095-7f7e-47b8-9ff0-c0edd6ccb282"
      },
      "outputs": [
        {
          "output_type": "execute_result",
          "data": {
            "text/plain": [
              "age                  0\n",
              "workclass         1836\n",
              "fnlwgt               0\n",
              "education            0\n",
              "education.num        0\n",
              "marital.status       0\n",
              "occupation        1843\n",
              "relationship         0\n",
              "race                 0\n",
              "sex                  0\n",
              "capital.gain         0\n",
              "capital.loss         0\n",
              "hours.per.week       0\n",
              "native.country     583\n",
              "income               0\n",
              "dtype: int64"
            ]
          },
          "metadata": {},
          "execution_count": 6
        }
      ],
      "source": [
        "df.isnull().sum()"
      ]
    },
    {
      "cell_type": "code",
      "source": [
        "numeric_df = df.select_dtypes(include=['int64', 'float64'])\n",
        "# numeric_df.corr()\n",
        "plt.figure(figsize=(8,8))\n",
        "sns.heatmap(numeric_df.corr() , annot=True , cmap='Greens'  , square=True , fmt='.2f' ,cbar=True ,\n",
        "            annot_kws={'size':6})"
      ],
      "metadata": {
        "colab": {
          "base_uri": "https://localhost:8080/",
          "height": 731
        },
        "id": "o03G1PJZbf80",
        "outputId": "4345996e-b3de-4db2-fe73-24de16fff0da"
      },
      "execution_count": 56,
      "outputs": [
        {
          "output_type": "execute_result",
          "data": {
            "text/plain": [
              "<Axes: >"
            ]
          },
          "metadata": {},
          "execution_count": 56
        },
        {
          "output_type": "display_data",
          "data": {
            "text/plain": [
              "<Figure size 800x800 with 2 Axes>"
            ],
            "image/png": "[encoded data removed]"
          },
          "metadata": {}
        }
      ]
    },
    {
      "cell_type": "markdown",
      "metadata": {
        "id": "mt-FiicWyY9n"
      },
      "source": [
        "## Data Preprocessing"
      ]
    },
    {
      "cell_type": "code",
      "execution_count": 7,
      "metadata": {
        "colab": {
          "base_uri": "https://localhost:8080/"
        },
        "id": "s69DNHhgdmbH",
        "outputId": "7fba8cbc-821f-4e6a-9d63-662e8f3b650e"
      },
      "outputs": [
        {
          "output_type": "stream",
          "name": "stdout",
          "text": [
            "workclass 8\n",
            "education 16\n",
            "marital.status 7\n",
            "occupation 14\n",
            "relationship 6\n",
            "race 5\n",
            "sex 2\n",
            "native.country 41\n",
            "income 2\n"
          ]
        }
      ],
      "source": [
        "cat_cols=[]\n",
        "low_card_cols=[]\n",
        "high_card_cols=[]\n",
        "for col in df.columns:\n",
        "  if(df[col].dtype=='object'):\n",
        "    cat_cols.append(col)\n",
        "    if(df[col].nunique()<=5):\n",
        "      low_card_cols.append(col)\n",
        "    else:\n",
        "      high_card_cols.append(col)\n",
        "\n",
        "for i in range(len(cat_cols)):\n",
        "  print(cat_cols[i] , df[cat_cols[i]].nunique())\n",
        "low_card_cols.remove('income')"
      ]
    },
    {
      "cell_type": "code",
      "execution_count": 8,
      "metadata": {
        "colab": {
          "base_uri": "https://localhost:8080/"
        },
        "id": "Ih44GZEfdyvu",
        "outputId": "0469dbdd-31c6-4b4d-cfd6-a38353993e99"
      },
      "outputs": [
        {
          "output_type": "execute_result",
          "data": {
            "text/plain": [
              "native.country\n",
              "United-States                 29170\n",
              "Mexico                          643\n",
              "Philippines                     198\n",
              "Germany                         137\n",
              "Canada                          121\n",
              "Puerto-Rico                     114\n",
              "El-Salvador                     106\n",
              "India                           100\n",
              "Cuba                             95\n",
              "England                          90\n",
              "Jamaica                          81\n",
              "South                            80\n",
              "China                            75\n",
              "Italy                            73\n",
              "Dominican-Republic               70\n",
              "Vietnam                          67\n",
              "Guatemala                        64\n",
              "Japan                            62\n",
              "Poland                           60\n",
              "Columbia                         59\n",
              "Taiwan                           51\n",
              "Haiti                            44\n",
              "Iran                             43\n",
              "Portugal                         37\n",
              "Nicaragua                        34\n",
              "Peru                             31\n",
              "Greece                           29\n",
              "France                           29\n",
              "Ecuador                          28\n",
              "Ireland                          24\n",
              "Hong                             20\n",
              "Trinadad&Tobago                  19\n",
              "Cambodia                         19\n",
              "Thailand                         18\n",
              "Laos                             18\n",
              "Yugoslavia                       16\n",
              "Outlying-US(Guam-USVI-etc)       14\n",
              "Hungary                          13\n",
              "Honduras                         13\n",
              "Scotland                         12\n",
              "Holand-Netherlands                1\n",
              "Name: count, dtype: int64"
            ]
          },
          "metadata": {},
          "execution_count": 8
        }
      ],
      "source": [
        "df['native.country'].value_counts()"
      ]
    },
    {
      "cell_type": "markdown",
      "metadata": {
        "id": "1jwyAGC0euic"
      },
      "source": [
        "There's is an imbalance in native.country column , with around 89.6% entries having same value United-States. More over there are many uniques values in it , which makes it difficult to encode.We will drop this column for now."
      ]
    },
    {
      "cell_type": "code",
      "execution_count": 9,
      "metadata": {
        "id": "gEUXP2imeh45"
      },
      "outputs": [],
      "source": [
        "df.drop('native.country' , axis='columns' , inplace=True)"
      ]
    },
    {
      "cell_type": "code",
      "execution_count": 10,
      "metadata": {
        "id": "VuKIXZgDfKuT"
      },
      "outputs": [],
      "source": [
        "nominal_cols=high_card_cols\n",
        "nominal_cols.remove('education')\n",
        "nominal_cols.remove('native.country')"
      ]
    },
    {
      "cell_type": "code",
      "execution_count": 11,
      "metadata": {
        "id": "m80_ZX_OgyYd"
      },
      "outputs": [],
      "source": [
        "ordinal_cols=['education']"
      ]
    },
    {
      "cell_type": "code",
      "execution_count": 12,
      "metadata": {
        "id": "fNzKA3kXpaga"
      },
      "outputs": [],
      "source": [
        "df.drop(24917 , axis=0 , inplace=True)"
      ]
    },
    {
      "cell_type": "code",
      "execution_count": 13,
      "metadata": {
        "id": "uZqa-Cs9iBc0"
      },
      "outputs": [],
      "source": [
        "from sklearn.model_selection import train_test_split\n",
        "X=df.drop('income' , axis='columns')\n",
        "y=df['income']\n",
        "X_train , X_test ,y_train , y_test =train_test_split(X , y, test_size=0.2 , random_state=42)"
      ]
    },
    {
      "cell_type": "markdown",
      "source": [
        "In columns like education ordering matters because a particular level is higher /lower than other.So we will go for ordinal encoding\n",
        "\n",
        "For others with low cardinality one hot encoding is feasible.\n",
        "\n",
        "But for columns with high cardinality we just label encode the columns"
      ],
      "metadata": {
        "id": "Ofk4UnSkZeRa"
      }
    },
    {
      "cell_type": "code",
      "execution_count": 14,
      "metadata": {
        "colab": {
          "base_uri": "https://localhost:8080/"
        },
        "id": "FrFlZZWFhcZl",
        "outputId": "59a4a676-d7c5-4f3a-e957-028e681a4ae0"
      },
      "outputs": [
        {
          "output_type": "stream",
          "name": "stderr",
          "text": [
            "/usr/local/lib/python3.10/dist-packages/sklearn/preprocessing/_encoders.py:868: FutureWarning: `sparse` was renamed to `sparse_output` in version 1.2 and will be removed in 1.4. `sparse_output` is ignored unless you leave `sparse` to its default value.\n",
            "  warnings.warn(\n"
          ]
        }
      ],
      "source": [
        "from sklearn.preprocessing import LabelEncoder , OrdinalEncoder , OneHotEncoder\n",
        "label=LabelEncoder()\n",
        "ordinal=OrdinalEncoder()\n",
        "oneHot=OneHotEncoder(sparse=False , drop='first')\n",
        "\n",
        "X_train_scaled=X_train\n",
        "X_train_scaled[ordinal_cols]=ordinal.fit_transform(X_train[ordinal_cols])\n",
        "X_test_scaled=X_test\n",
        "X_test_scaled[ordinal_cols]=ordinal.transform(X_test[ordinal_cols])\n",
        "for col in nominal_cols:\n",
        "  X_train_scaled[col]=label.fit_transform(X_train_scaled[col])\n",
        "  X_test_scaled[col]=label.transform(X_test_scaled[col])\n",
        "\n",
        "X_train_encoded=oneHot.fit_transform(X_train_scaled[low_card_cols])\n",
        "X_train_df=pd.DataFrame(X_train_encoded ,columns=oneHot.get_feature_names_out(low_card_cols))\n",
        "X_train_final = X_train_scaled.drop(columns=low_card_cols).reset_index(drop=True)\n",
        "X_train_final = pd.concat([X_train_final, X_train_df], axis=1)\n"
      ]
    },
    {
      "cell_type": "code",
      "execution_count": 15,
      "metadata": {
        "id": "h3dPZp0DmZKD"
      },
      "outputs": [],
      "source": [
        "X_test_encoded=oneHot.transform(X_test_scaled[low_card_cols])\n",
        "X_test_df=pd.DataFrame(X_test_encoded ,columns=oneHot.get_feature_names_out(low_card_cols))\n",
        "X_test_final = X_test_scaled.drop(columns=low_card_cols).reset_index(drop=True)\n",
        "X_test_final = pd.concat([X_test_final, X_test_df], axis='columns')"
      ]
    },
    {
      "cell_type": "code",
      "execution_count": 16,
      "metadata": {
        "id": "mor9tTFkik3I"
      },
      "outputs": [],
      "source": [
        "X_train=X_train_final\n",
        "X_test=X_test_final"
      ]
    },
    {
      "cell_type": "code",
      "execution_count": 17,
      "metadata": {
        "id": "BMtTE4YWoYCA"
      },
      "outputs": [],
      "source": [
        "X_train.dropna(inplace=True)\n",
        "# Just one row , hours per week is missing"
      ]
    },
    {
      "cell_type": "code",
      "execution_count": 18,
      "metadata": {
        "id": "xudB8A5epQox"
      },
      "outputs": [],
      "source": [
        "label=LabelEncoder()\n",
        "y_train=label.fit_transform(y_train)\n",
        "y_test=label.transform(y_test)"
      ]
    },
    {
      "cell_type": "markdown",
      "metadata": {
        "id": "gHfj-SCVoNzK"
      },
      "source": [
        "## Decision Trees"
      ]
    },
    {
      "cell_type": "code",
      "execution_count": 55,
      "metadata": {
        "id": "vtr6qC3kkn4u"
      },
      "outputs": [],
      "source": [
        "\n",
        "accuracy_dict={}\n",
        "f1_scores={}\n",
        "roc_auc_scores={}"
      ]
    },
    {
      "cell_type": "markdown",
      "source": [
        "We create dictionaries to store scores of different models , this will help us to conclude which model performs well."
      ],
      "metadata": {
        "id": "zlB4oibRaBjP"
      }
    },
    {
      "cell_type": "code",
      "execution_count": 20,
      "metadata": {
        "id": "LoXBSDshoRoz"
      },
      "outputs": [],
      "source": [
        "\n",
        "from sklearn.metrics import accuracy_score , confusion_matrix , classification_report , f1_score ,roc_auc_score\n",
        "def evaluate_model(model):\n",
        "  y_pred=model.predict(X_test)\n",
        "  y_prob=model.predict_proba(X_test)[: , 1]\n",
        "  y_pred_train=model.predict(X_train)\n",
        "  clf_report = pd.DataFrame(classification_report(y_test , y_pred ,output_dict=True ))\n",
        "  print(f\"Accuracy Score Test: {accuracy_score(y_test, y_pred) * 100:.2f}%\")\n",
        "  print(\"_______________________________________________\")\n",
        "  print(f\"Accuracy Score Train: {accuracy_score(y_train, y_pred_train) * 100:.2f}%\")\n",
        "  print(\"_______________________________________________\")\n",
        "  print(f\"CLASSIFICATION REPORT:\\n{clf_report}\")\n",
        "  print(\"_______________________________________________\")\n",
        "  cm=confusion_matrix(y_test, y_pred)\n",
        "  sns.heatmap(cm ,annot=True , cbar=False , yticklabels=False)\n",
        "  acc=accuracy_score(y_test, y_pred) * 100\n",
        "  f1=f1_score(y_test , y_pred)*100\n",
        "  roc_auc=roc_auc_score(y_test , y_prob)*100\n",
        "  return acc , f1 , roc_auc"
      ]
    },
    {
      "cell_type": "code",
      "execution_count": 21,
      "metadata": {
        "colab": {
          "base_uri": "https://localhost:8080/",
          "height": 74
        },
        "id": "PaJOyJ3roTbU",
        "outputId": "57b149d8-5519-4d3b-d32d-10f86d315204"
      },
      "outputs": [
        {
          "output_type": "execute_result",
          "data": {
            "text/plain": [
              "DecisionTreeClassifier(random_state=0)"
            ],
            "text/html": [
              "<style>#sk-container-id-1 {color: black;background-color: white;}#sk-container-id-1 pre{padding: 0;}#sk-container-id-1 div.sk-toggleable {background-color: white;}#sk-container-id-1 label.sk-toggleable__label {cursor: pointer;display: block;width: 100%;margin-bottom: 0;padding: 0.3em;box-sizing: border-box;text-align: center;}#sk-container-id-1 label.sk-toggleable__label-arrow:before {content: \"▸\";float: left;margin-right: 0.25em;color: #696969;}#sk-container-id-1 label.sk-toggleable__label-arrow:hover:before {color: black;}#sk-container-id-1 div.sk-estimator:hover label.sk-toggleable__label-arrow:before {color: black;}#sk-container-id-1 div.sk-toggleable__content {max-height: 0;max-width: 0;overflow: hidden;text-align: left;background-color: #f0f8ff;}#sk-container-id-1 div.sk-toggleable__content pre {margin: 0.2em;color: black;border-radius: 0.25em;background-color: #f0f8ff;}#sk-container-id-1 input.sk-toggleable__control:checked~div.sk-toggleable__content {max-height: 200px;max-width: 100%;overflow: auto;}#sk-container-id-1 input.sk-toggleable__control:checked~label.sk-toggleable__label-arrow:before {content: \"▾\";}#sk-container-id-1 div.sk-estimator input.sk-toggleable__control:checked~label.sk-toggleable__label {background-color: #d4ebff;}#sk-container-id-1 div.sk-label input.sk-toggleable__control:checked~label.sk-toggleable__label {background-color: #d4ebff;}#sk-container-id-1 input.sk-hidden--visually {border: 0;clip: rect(1px 1px 1px 1px);clip: rect(1px, 1px, 1px, 1px);height: 1px;margin: -1px;overflow: hidden;padding: 0;position: absolute;width: 1px;}#sk-container-id-1 div.sk-estimator {font-family: monospace;background-color: #f0f8ff;border: 1px dotted black;border-radius: 0.25em;box-sizing: border-box;margin-bottom: 0.5em;}#sk-container-id-1 div.sk-estimator:hover {background-color: #d4ebff;}#sk-container-id-1 div.sk-parallel-item::after {content: \"\";width: 100%;border-bottom: 1px solid gray;flex-grow: 1;}#sk-container-id-1 div.sk-label:hover label.sk-toggleable__label {background-color: #d4ebff;}#sk-container-id-1 div.sk-serial::before {content: \"\";position: absolute;border-left: 1px solid gray;box-sizing: border-box;top: 0;bottom: 0;left: 50%;z-index: 0;}#sk-container-id-1 div.sk-serial {display: flex;flex-direction: column;align-items: center;background-color: white;padding-right: 0.2em;padding-left: 0.2em;position: relative;}#sk-container-id-1 div.sk-item {position: relative;z-index: 1;}#sk-container-id-1 div.sk-parallel {display: flex;align-items: stretch;justify-content: center;background-color: white;position: relative;}#sk-container-id-1 div.sk-item::before, #sk-container-id-1 div.sk-parallel-item::before {content: \"\";position: absolute;border-left: 1px solid gray;box-sizing: border-box;top: 0;bottom: 0;left: 50%;z-index: -1;}#sk-container-id-1 div.sk-parallel-item {display: flex;flex-direction: column;z-index: 1;position: relative;background-color: white;}#sk-container-id-1 div.sk-parallel-item:first-child::after {align-self: flex-end;width: 50%;}#sk-container-id-1 div.sk-parallel-item:last-child::after {align-self: flex-start;width: 50%;}#sk-container-id-1 div.sk-parallel-item:only-child::after {width: 0;}#sk-container-id-1 div.sk-dashed-wrapped {border: 1px dashed gray;margin: 0 0.4em 0.5em 0.4em;box-sizing: border-box;padding-bottom: 0.4em;background-color: white;}#sk-container-id-1 div.sk-label label {font-family: monospace;font-weight: bold;display: inline-block;line-height: 1.2em;}#sk-container-id-1 div.sk-label-container {text-align: center;}#sk-container-id-1 div.sk-container {/* jupyter's `normalize.less` sets `[hidden] { display: none; }` but bootstrap.min.css set `[hidden] { display: none !important; }` so we also need the `!important` here to be able to override the default hidden behavior on the sphinx rendered scikit-learn.org. See: https://github.com/scikit-learn/scikit-learn/issues/21755 */display: inline-block !important;position: relative;}#sk-container-id-1 div.sk-text-repr-fallback {display: none;}</style><div id=\"sk-container-id-1\" class=\"sk-top-container\"><div class=\"sk-text-repr-fallback\"><pre>DecisionTreeClassifier(random_state=0)</pre><b>In a Jupyter environment, please rerun this cell to show the HTML representation or trust the notebook. <br />On GitHub, the HTML representation is unable to render, please try loading this page with nbviewer.org.</b></div><div class=\"sk-container\" hidden><div class=\"sk-item\"><div class=\"sk-estimator sk-toggleable\"><input class=\"sk-toggleable__control sk-hidden--visually\" id=\"sk-estimator-id-1\" type=\"checkbox\" checked><label for=\"sk-estimator-id-1\" class=\"sk-toggleable__label sk-toggleable__label-arrow\">DecisionTreeClassifier</label><div class=\"sk-toggleable__content\"><pre>DecisionTreeClassifier(random_state=0)</pre></div></div></div></div></div>"
            ]
          },
          "metadata": {},
          "execution_count": 21
        }
      ],
      "source": [
        "from sklearn.tree import DecisionTreeClassifier\n",
        "tree_clf=DecisionTreeClassifier(random_state=0)\n",
        "tree_clf.fit(X_train , y_train)"
      ]
    },
    {
      "cell_type": "code",
      "execution_count": 22,
      "metadata": {
        "colab": {
          "base_uri": "https://localhost:8080/",
          "height": 621
        },
        "id": "Zuqc8wyGoVUe",
        "outputId": "481a431a-2f38-4abf-8287-4c252cfe3e90"
      },
      "outputs": [
        {
          "output_type": "stream",
          "name": "stdout",
          "text": [
            "Accuracy Score Test: 80.84%\n",
            "_______________________________________________\n",
            "Accuracy Score Train: 100.00%\n",
            "_______________________________________________\n",
            "CLASSIFICATION REPORT:\n",
            "                     0            1  accuracy    macro avg  weighted avg\n",
            "precision     0.877758     0.590070  0.808354     0.733914      0.810121\n",
            "recall        0.870709     0.605487  0.808354     0.738098      0.808354\n",
            "f1-score      0.874219     0.597679  0.808354     0.735949      0.809203\n",
            "support    4981.000000  1531.000000  0.808354  6512.000000   6512.000000\n",
            "_______________________________________________\n"
          ]
        },
        {
          "output_type": "display_data",
          "data": {
            "text/plain": [
              "<Figure size 640x480 with 1 Axes>"
            ],
            "image/png": "[encoded data removed]"
          },
          "metadata": {}
        }
      ],
      "source": [
        "acc , f1 , roc_auc=evaluate_model(tree_clf)\n",
        "accuracy_dict['Tree']=acc\n",
        "f1_scores['Tree']=f1\n",
        "roc_auc_scores['Tree']=roc_auc"
      ]
    },
    {
      "cell_type": "markdown",
      "metadata": {
        "id": "QTk4ilZzqD36"
      },
      "source": [
        "##Decision Tree Hyper Parameter Tuning\n"
      ]
    },
    {
      "cell_type": "code",
      "execution_count": 23,
      "metadata": {
        "colab": {
          "base_uri": "https://localhost:8080/"
        },
        "id": "yTx6ekV5qHGs",
        "outputId": "fe6044ed-e0cf-47ee-fbac-d3338de15a27"
      },
      "outputs": [
        {
          "output_type": "stream",
          "name": "stdout",
          "text": [
            "Fitting 5 folds for each of 4332 candidates, totalling 21660 fits\n",
            "Best paramters: {'criterion': 'gini', 'max_depth': 10, 'min_samples_leaf': 13, 'min_samples_split': 2, 'splitter': 'best'})\n"
          ]
        }
      ],
      "source": [
        "from sklearn.model_selection import GridSearchCV , RandomizedSearchCV\n",
        "\n",
        "params={\n",
        "    \"criterion\":['gini' , 'entropy'], #function used to check the quality of split\n",
        "    \"splitter\":['best', 'random'], #strategy used for splitting\n",
        "    \"max_depth\":list(range(1,20)), # max depth of the tree\n",
        "    # default = None\n",
        "    \"min_samples_split\":[2,3,4],\n",
        "    \"min_samples_leaf\":list(range(1,20)),\n",
        "}\n",
        "\n",
        "tree_clf=DecisionTreeClassifier(random_state=0)\n",
        "tree_cv=GridSearchCV(\n",
        "    tree_clf ,\n",
        "    params ,\n",
        "    scoring='f1',\n",
        "    cv=5,\n",
        "    verbose=1\n",
        ")\n",
        "\n",
        "tree_cv.fit(X_train , y_train)\n",
        "best_parameters=tree_cv.best_params_\n",
        "print(f\"Best paramters: {best_parameters})\")"
      ]
    },
    {
      "cell_type": "code",
      "execution_count": 24,
      "metadata": {
        "colab": {
          "base_uri": "https://localhost:8080/",
          "height": 621
        },
        "id": "iETPAsAypsT-",
        "outputId": "5772d788-8f37-4480-d394-99601e7e9e06"
      },
      "outputs": [
        {
          "output_type": "stream",
          "name": "stdout",
          "text": [
            "Accuracy Score Test: 85.43%\n",
            "_______________________________________________\n",
            "Accuracy Score Train: 86.54%\n",
            "_______________________________________________\n",
            "CLASSIFICATION REPORT:\n",
            "                     0            1  accuracy    macro avg  weighted avg\n",
            "precision     0.881963     0.735818  0.854269     0.808891      0.847604\n",
            "recall        0.934551     0.593076  0.854269     0.763814      0.854269\n",
            "f1-score      0.907496     0.656781  0.854269     0.782139      0.848552\n",
            "support    4981.000000  1531.000000  0.854269  6512.000000   6512.000000\n",
            "_______________________________________________\n"
          ]
        },
        {
          "output_type": "display_data",
          "data": {
            "text/plain": [
              "<Figure size 640x480 with 1 Axes>"
            ],
            "image/png": "[encoded data removed]"
          },
          "metadata": {}
        }
      ],
      "source": [
        "tree_clf_tuned=DecisionTreeClassifier(**best_parameters)\n",
        "tree_clf_tuned.fit(X_train , y_train)\n",
        "acc , f1 , roc_auc=evaluate_model(tree_clf_tuned)\n",
        "accuracy_dict['Tree_tuned']=acc\n",
        "f1_scores['Tree_tuned']=f1\n",
        "roc_auc_scores['Tree_tuned']=roc_auc\n",
        "\n",
        "# Parameter tuning helped us to reduce overfitting"
      ]
    },
    {
      "cell_type": "markdown",
      "metadata": {
        "id": "5eKYF-j9qQlb"
      },
      "source": [
        "## RandomForestClassifier"
      ]
    },
    {
      "cell_type": "code",
      "execution_count": 25,
      "metadata": {
        "colab": {
          "base_uri": "https://localhost:8080/",
          "height": 621
        },
        "id": "blR8HniLqTWC",
        "outputId": "44f04318-066f-48b6-c85f-c01b4361350e"
      },
      "outputs": [
        {
          "output_type": "stream",
          "name": "stdout",
          "text": [
            "Accuracy Score Test: 85.04%\n",
            "_______________________________________________\n",
            "Accuracy Score Train: 99.99%\n",
            "_______________________________________________\n",
            "CLASSIFICATION REPORT:\n",
            "                     0            1  accuracy    macro avg  weighted avg\n",
            "precision     0.884180     0.714726   0.85043     0.799453      0.844341\n",
            "recall        0.925718     0.605487   0.85043     0.765602      0.850430\n",
            "f1-score      0.904472     0.655587   0.85043     0.780030      0.845958\n",
            "support    4981.000000  1531.000000   0.85043  6512.000000   6512.000000\n",
            "_______________________________________________\n"
          ]
        },
        {
          "output_type": "display_data",
          "data": {
            "text/plain": [
              "<Figure size 640x480 with 1 Axes>"
            ],
            "image/png": "[encoded data removed]"
          },
          "metadata": {}
        }
      ],
      "source": [
        "from sklearn.ensemble import RandomForestClassifier\n",
        "rf_clf=RandomForestClassifier(n_estimators=100 ,random_state=0)\n",
        "rf_clf.fit(X_train,y_train)\n",
        "acc , f1 , roc_auc=evaluate_model(rf_clf)\n",
        "accuracy_dict['RandomForest']=acc\n",
        "f1_scores['RandomForest']=f1\n",
        "roc_auc_scores['RandomForest']=roc_auc"
      ]
    },
    {
      "cell_type": "markdown",
      "metadata": {
        "id": "fsMRr9EaqXwS"
      },
      "source": [
        "## RandomForest Hyperparameter tuning"
      ]
    },
    {
      "cell_type": "code",
      "execution_count": 26,
      "metadata": {
        "colab": {
          "base_uri": "https://localhost:8080/"
        },
        "id": "HMf6VyqTqPGK",
        "outputId": "7d51271d-763f-4d58-fe2f-48bbab13f81b"
      },
      "outputs": [
        {
          "output_type": "stream",
          "name": "stdout",
          "text": [
            "Fitting 3 folds for each of 10 candidates, totalling 30 fits\n",
            "Best parameters: {'n_estimators': 500, 'min_samples_split': 5, 'min_samples_leaf': 2, 'max_features': 'sqrt', 'max_depth': None, 'bootstrap': True}\n"
          ]
        }
      ],
      "source": [
        "from sklearn.model_selection import GridSearchCV , RandomizedSearchCV\n",
        "from sklearn.ensemble import RandomForestClassifier\n",
        "\n",
        "params_grid = {\n",
        "    'n_estimators': [100, 500, 1000],\n",
        "    # No of trees\n",
        "    'max_features': ['log2', 'sqrt'],\n",
        "    'max_depth': [2, 5 , None],\n",
        "    'min_samples_split': [2, 5, 10],\n",
        "    'min_samples_leaf': [2, 4, 10],\n",
        "    'bootstrap': [True, False]\n",
        "    # decides whether to use a bootstraped sample for training, generating a tree or to use entire dataset\n",
        "}\n",
        "\n",
        "rf_clf=RandomForestClassifier(random_state=0)\n",
        "rf_cv=RandomizedSearchCV(\n",
        "    rf_clf ,\n",
        "    params_grid ,\n",
        "    scoring='f1',\n",
        "    cv=3,\n",
        "    verbose=1,\n",
        "    n_jobs=-1,\n",
        "    random_state=1,\n",
        ")\n",
        "\n",
        "rf_cv.fit(X_train , y_train)\n",
        "best_params_rf=rf_cv.best_params_\n",
        "print(f\"Best parameters: {best_params_rf}\")"
      ]
    },
    {
      "cell_type": "code",
      "execution_count": 27,
      "metadata": {
        "colab": {
          "base_uri": "https://localhost:8080/",
          "height": 621
        },
        "id": "3RclmZlrqeq-",
        "outputId": "0cc239d3-3c58-4359-f216-f067e6d8c087"
      },
      "outputs": [
        {
          "output_type": "stream",
          "name": "stdout",
          "text": [
            "Accuracy Score Test: 86.12%\n",
            "_______________________________________________\n",
            "Accuracy Score Train: 94.17%\n",
            "_______________________________________________\n",
            "CLASSIFICATION REPORT:\n",
            "                     0            1  accuracy    macro avg  weighted avg\n",
            "precision     0.886445     0.753436  0.861179     0.819941      0.855174\n",
            "recall        0.938767     0.608752  0.861179     0.773760      0.861179\n",
            "f1-score      0.911856     0.673410  0.861179     0.792633      0.855797\n",
            "support    4981.000000  1531.000000  0.861179  6512.000000   6512.000000\n",
            "_______________________________________________\n"
          ]
        },
        {
          "output_type": "display_data",
          "data": {
            "text/plain": [
              "<Figure size 640x480 with 1 Axes>"
            ],
            "image/png": "[encoded data removed]"
          },
          "metadata": {}
        }
      ],
      "source": [
        "rf_clf_tuned = RandomForestClassifier(**best_params_rf,random_state=0)\n",
        "rf_clf_tuned.fit(X_train, y_train)\n",
        "acc , f1 , roc_auc=evaluate_model(rf_clf_tuned)\n",
        "accuracy_dict['RF-Tuned']=acc\n",
        "f1_scores['RF-Tuned']=f1\n",
        "roc_auc_scores['RF-Tuned']=roc_auc"
      ]
    },
    {
      "cell_type": "markdown",
      "metadata": {
        "id": "8kqDmrsaqh5J"
      },
      "source": [
        "## Boosting Techniques"
      ]
    },
    {
      "cell_type": "markdown",
      "metadata": {
        "id": "BJcGRXbCqpoh"
      },
      "source": [
        "a) XGBoost"
      ]
    },
    {
      "cell_type": "code",
      "execution_count": 28,
      "metadata": {
        "colab": {
          "base_uri": "https://localhost:8080/",
          "height": 621
        },
        "id": "IKZDmzxEql60",
        "outputId": "43e9f9f4-cceb-4e83-c45b-db229f0b9a6c"
      },
      "outputs": [
        {
          "output_type": "stream",
          "name": "stdout",
          "text": [
            "Accuracy Score Test: 86.89%\n",
            "_______________________________________________\n",
            "Accuracy Score Train: 90.83%\n",
            "_______________________________________________\n",
            "CLASSIFICATION REPORT:\n",
            "                     0            1  accuracy    macro avg  weighted avg\n",
            "precision     0.896141     0.759785  0.868857     0.827963      0.864083\n",
            "recall        0.937161     0.646636  0.868857     0.791899      0.868857\n",
            "f1-score      0.916192     0.698659  0.868857     0.807426      0.865049\n",
            "support    4981.000000  1531.000000  0.868857  6512.000000   6512.000000\n",
            "_______________________________________________\n"
          ]
        },
        {
          "output_type": "display_data",
          "data": {
            "text/plain": [
              "<Figure size 640x480 with 1 Axes>"
            ],
            "image/png": "[encoded data removed]"
          },
          "metadata": {}
        }
      ],
      "source": [
        "from xgboost import XGBClassifier\n",
        "xgb_model=XGBClassifier(random_state=0)\n",
        "xgb_model.fit(X_train , y_train)\n",
        "acc, f1 , roc_auc=evaluate_model(xgb_model)\n",
        "accuracy_dict['xgb']=acc\n",
        "f1_scores['xgb']=f1\n",
        "roc_auc_scores['xgb']=roc_auc"
      ]
    },
    {
      "cell_type": "code",
      "execution_count": 29,
      "metadata": {
        "colab": {
          "base_uri": "https://localhost:8080/",
          "height": 621
        },
        "id": "Zg2Q6xwcqkTo",
        "outputId": "04a41de5-f423-4a44-9648-6e2b85f20b15"
      },
      "outputs": [
        {
          "output_type": "stream",
          "name": "stdout",
          "text": [
            "Accuracy Score Test: 86.79%\n",
            "_______________________________________________\n",
            "Accuracy Score Train: 91.83%\n",
            "_______________________________________________\n",
            "CLASSIFICATION REPORT:\n",
            "                     0            1  accuracy    macro avg  weighted avg\n",
            "precision     0.896174     0.755912  0.867936     0.826043      0.863198\n",
            "recall        0.935756     0.647289  0.867936     0.791523      0.867936\n",
            "f1-score      0.915537     0.697396  0.867936     0.806467      0.864251\n",
            "support    4981.000000  1531.000000  0.867936  6512.000000   6512.000000\n",
            "_______________________________________________\n"
          ]
        },
        {
          "output_type": "display_data",
          "data": {
            "text/plain": [
              "<Figure size 640x480 with 1 Axes>"
            ],
            "image/png": "[encoded data removed]"
          },
          "metadata": {}
        }
      ],
      "source": [
        "# Parameter tuning\n",
        "xgb_model_tuned=XGBClassifier(n_estimators=1000, learning_rate=0.05 ,random_state=0)\n",
        "xgb_model_tuned.fit(X_train , y_train)\n",
        "acc ,f1, roc_auc=evaluate_model(xgb_model_tuned)\n",
        "accuracy_dict['xgb_tuned']=acc\n",
        "f1_scores['xgb_tuned']=f1\n",
        "roc_auc_scores['xgb_tuned']=roc_auc"
      ]
    },
    {
      "cell_type": "code",
      "execution_count": 30,
      "metadata": {
        "id": "9GnkAgnJqgUZ"
      },
      "outputs": [],
      "source": [
        "# ignore warnings\n",
        "import warnings\n",
        "warnings.filterwarnings(\"ignore\")"
      ]
    },
    {
      "cell_type": "markdown",
      "metadata": {
        "id": "ao7YWC1CqxTT"
      },
      "source": [
        "## b) LightGBM"
      ]
    },
    {
      "cell_type": "code",
      "execution_count": 31,
      "metadata": {
        "colab": {
          "base_uri": "https://localhost:8080/",
          "height": 621
        },
        "id": "9MW0cEkZq132",
        "outputId": "b9fc85a6-3bd4-4329-cc17-d222994158d3"
      },
      "outputs": [
        {
          "output_type": "stream",
          "name": "stdout",
          "text": [
            "Accuracy Score Test: 87.22%\n",
            "_______________________________________________\n",
            "Accuracy Score Train: 89.04%\n",
            "_______________________________________________\n",
            "CLASSIFICATION REPORT:\n",
            "                     0            1  accuracy    macro avg  weighted avg\n",
            "precision     0.894467     0.778931  0.872236     0.836699      0.867304\n",
            "recall        0.944389     0.637492  0.872236     0.790940      0.872236\n",
            "f1-score      0.918750     0.701149  0.872236     0.809950      0.867591\n",
            "support    4981.000000  1531.000000  0.872236  6512.000000   6512.000000\n",
            "_______________________________________________\n"
          ]
        },
        {
          "output_type": "display_data",
          "data": {
            "text/plain": [
              "<Figure size 640x480 with 1 Axes>"
            ],
            "image/png": "[encoded data removed]"
          },
          "metadata": {}
        }
      ],
      "source": [
        "import lightgbm as lgb\n",
        "lgb_clf=lgb.LGBMClassifier(random_state=0,verbose=-1)\n",
        "lgb_clf.fit(X_train , y_train)\n",
        "acc , f1 , roc_auc=evaluate_model(lgb_clf)\n",
        "accuracy_dict['lgb']=acc\n",
        "f1_scores['lgb']=f1\n",
        "roc_auc_scores['lgb']=roc_auc"
      ]
    },
    {
      "cell_type": "code",
      "execution_count": 32,
      "metadata": {
        "colab": {
          "base_uri": "https://localhost:8080/",
          "height": 621
        },
        "id": "VX3kS-fOq3Yc",
        "outputId": "85320b85-d041-4081-9a4c-26ef30fb2b9e"
      },
      "outputs": [
        {
          "output_type": "stream",
          "name": "stdout",
          "text": [
            "Accuracy Score Test: 86.69%\n",
            "_______________________________________________\n",
            "Accuracy Score Train: 93.63%\n",
            "_______________________________________________\n",
            "CLASSIFICATION REPORT:\n",
            "                     0            1  accuracy    macro avg  weighted avg\n",
            "precision     0.894818     0.754992  0.866861     0.824905      0.861944\n",
            "recall        0.935957     0.642064  0.866861     0.789010      0.866861\n",
            "f1-score      0.914925     0.693964  0.866861     0.804444      0.862976\n",
            "support    4981.000000  1531.000000  0.866861  6512.000000   6512.000000\n",
            "_______________________________________________\n"
          ]
        },
        {
          "output_type": "display_data",
          "data": {
            "text/plain": [
              "<Figure size 640x480 with 1 Axes>"
            ],
            "image/png": "[encoded data removed]"
          },
          "metadata": {}
        }
      ],
      "source": [
        "params={\n",
        "    'learning_rate':0.05,\n",
        "     'num_boost_round':1000,\n",
        "}\n",
        "\n",
        "lgb_clf_tuned=lgb.LGBMClassifier(**params,random_state=0 , verbose=-1)\n",
        "lgb_clf_tuned.fit(X_train , y_train)\n",
        "\n",
        "acc , f1 , roc_auc=evaluate_model(lgb_clf_tuned)\n",
        "accuracy_dict['lgb_tuned']=acc\n",
        "f1_scores['lgb_tuned']=f1\n",
        "roc_auc_scores['lgb_tuned']=roc_auc"
      ]
    },
    {
      "cell_type": "markdown",
      "metadata": {
        "id": "D1Lr-R-Nq7E0"
      },
      "source": [
        "## c) Adaboost"
      ]
    },
    {
      "cell_type": "code",
      "execution_count": 33,
      "metadata": {
        "colab": {
          "base_uri": "https://localhost:8080/",
          "height": 621
        },
        "id": "BnUry60rq90h",
        "outputId": "7320fc9c-86c0-4e2d-ddab-d523b63b9277"
      },
      "outputs": [
        {
          "output_type": "stream",
          "name": "stdout",
          "text": [
            "Accuracy Score Test: 79.55%\n",
            "_______________________________________________\n",
            "Accuracy Score Train: 79.04%\n",
            "_______________________________________________\n",
            "CLASSIFICATION REPORT:\n",
            "                     0            1  accuracy    macro avg  weighted avg\n",
            "precision     0.789282     0.985366  0.795455     0.887324      0.835382\n",
            "recall        0.999398     0.131940  0.795455     0.565669      0.795455\n",
            "f1-score      0.881999     0.232719  0.795455     0.557359      0.729350\n",
            "support    4981.000000  1531.000000  0.795455  6512.000000   6512.000000\n",
            "_______________________________________________\n"
          ]
        },
        {
          "output_type": "display_data",
          "data": {
            "text/plain": [
              "<Figure size 640x480 with 1 Axes>"
            ],
            "image/png": "[encoded data removed]"
          },
          "metadata": {}
        }
      ],
      "source": [
        "from sklearn.ensemble import AdaBoostClassifier\n",
        "abc = AdaBoostClassifier(n_estimators=100 , learning_rate=0.01 ,random_state=0)\n",
        "ada_clf=abc.fit(X_train  , y_train)\n",
        "acc , f1 , roc=evaluate_model(ada_clf)\n",
        "accuracy_dict['Adaboost']=acc\n",
        "f1_scores['Adaboost']=f1\n",
        "roc_auc_scores['Adaboost']=roc_auc"
      ]
    },
    {
      "cell_type": "markdown",
      "metadata": {
        "id": "bw1EgxOwrCl8"
      },
      "source": [
        "## KNN"
      ]
    },
    {
      "cell_type": "code",
      "execution_count": 35,
      "metadata": {
        "id": "iAuAgTtxrD5K"
      },
      "outputs": [],
      "source": [
        "# Scaling values\n",
        "from sklearn.preprocessing import StandardScaler\n",
        "\n",
        "sc=StandardScaler()\n",
        "X_train=sc.fit_transform(X_train)\n",
        "X_test=sc.transform(X_test)"
      ]
    },
    {
      "cell_type": "code",
      "execution_count": 36,
      "metadata": {
        "id": "qF7arTR3rFe3",
        "colab": {
          "base_uri": "https://localhost:8080/",
          "height": 74
        },
        "outputId": "02571a7d-3e6e-4fea-e3a6-627d3133d2b1"
      },
      "outputs": [
        {
          "output_type": "execute_result",
          "data": {
            "text/plain": [
              "KNeighborsClassifier()"
            ],
            "text/html": [
              "<style>#sk-container-id-2 {color: black;background-color: white;}#sk-container-id-2 pre{padding: 0;}#sk-container-id-2 div.sk-toggleable {background-color: white;}#sk-container-id-2 label.sk-toggleable__label {cursor: pointer;display: block;width: 100%;margin-bottom: 0;padding: 0.3em;box-sizing: border-box;text-align: center;}#sk-container-id-2 label.sk-toggleable__label-arrow:before {content: \"▸\";float: left;margin-right: 0.25em;color: #696969;}#sk-container-id-2 label.sk-toggleable__label-arrow:hover:before {color: black;}#sk-container-id-2 div.sk-estimator:hover label.sk-toggleable__label-arrow:before {color: black;}#sk-container-id-2 div.sk-toggleable__content {max-height: 0;max-width: 0;overflow: hidden;text-align: left;background-color: #f0f8ff;}#sk-container-id-2 div.sk-toggleable__content pre {margin: 0.2em;color: black;border-radius: 0.25em;background-color: #f0f8ff;}#sk-container-id-2 input.sk-toggleable__control:checked~div.sk-toggleable__content {max-height: 200px;max-width: 100%;overflow: auto;}#sk-container-id-2 input.sk-toggleable__control:checked~label.sk-toggleable__label-arrow:before {content: \"▾\";}#sk-container-id-2 div.sk-estimator input.sk-toggleable__control:checked~label.sk-toggleable__label {background-color: #d4ebff;}#sk-container-id-2 div.sk-label input.sk-toggleable__control:checked~label.sk-toggleable__label {background-color: #d4ebff;}#sk-container-id-2 input.sk-hidden--visually {border: 0;clip: rect(1px 1px 1px 1px);clip: rect(1px, 1px, 1px, 1px);height: 1px;margin: -1px;overflow: hidden;padding: 0;position: absolute;width: 1px;}#sk-container-id-2 div.sk-estimator {font-family: monospace;background-color: #f0f8ff;border: 1px dotted black;border-radius: 0.25em;box-sizing: border-box;margin-bottom: 0.5em;}#sk-container-id-2 div.sk-estimator:hover {background-color: #d4ebff;}#sk-container-id-2 div.sk-parallel-item::after {content: \"\";width: 100%;border-bottom: 1px solid gray;flex-grow: 1;}#sk-container-id-2 div.sk-label:hover label.sk-toggleable__label {background-color: #d4ebff;}#sk-container-id-2 div.sk-serial::before {content: \"\";position: absolute;border-left: 1px solid gray;box-sizing: border-box;top: 0;bottom: 0;left: 50%;z-index: 0;}#sk-container-id-2 div.sk-serial {display: flex;flex-direction: column;align-items: center;background-color: white;padding-right: 0.2em;padding-left: 0.2em;position: relative;}#sk-container-id-2 div.sk-item {position: relative;z-index: 1;}#sk-container-id-2 div.sk-parallel {display: flex;align-items: stretch;justify-content: center;background-color: white;position: relative;}#sk-container-id-2 div.sk-item::before, #sk-container-id-2 div.sk-parallel-item::before {content: \"\";position: absolute;border-left: 1px solid gray;box-sizing: border-box;top: 0;bottom: 0;left: 50%;z-index: -1;}#sk-container-id-2 div.sk-parallel-item {display: flex;flex-direction: column;z-index: 1;position: relative;background-color: white;}#sk-container-id-2 div.sk-parallel-item:first-child::after {align-self: flex-end;width: 50%;}#sk-container-id-2 div.sk-parallel-item:last-child::after {align-self: flex-start;width: 50%;}#sk-container-id-2 div.sk-parallel-item:only-child::after {width: 0;}#sk-container-id-2 div.sk-dashed-wrapped {border: 1px dashed gray;margin: 0 0.4em 0.5em 0.4em;box-sizing: border-box;padding-bottom: 0.4em;background-color: white;}#sk-container-id-2 div.sk-label label {font-family: monospace;font-weight: bold;display: inline-block;line-height: 1.2em;}#sk-container-id-2 div.sk-label-container {text-align: center;}#sk-container-id-2 div.sk-container {/* jupyter's `normalize.less` sets `[hidden] { display: none; }` but bootstrap.min.css set `[hidden] { display: none !important; }` so we also need the `!important` here to be able to override the default hidden behavior on the sphinx rendered scikit-learn.org. See: https://github.com/scikit-learn/scikit-learn/issues/21755 */display: inline-block !important;position: relative;}#sk-container-id-2 div.sk-text-repr-fallback {display: none;}</style><div id=\"sk-container-id-2\" class=\"sk-top-container\"><div class=\"sk-text-repr-fallback\"><pre>KNeighborsClassifier()</pre><b>In a Jupyter environment, please rerun this cell to show the HTML representation or trust the notebook. <br />On GitHub, the HTML representation is unable to render, please try loading this page with nbviewer.org.</b></div><div class=\"sk-container\" hidden><div class=\"sk-item\"><div class=\"sk-estimator sk-toggleable\"><input class=\"sk-toggleable__control sk-hidden--visually\" id=\"sk-estimator-id-2\" type=\"checkbox\" checked><label for=\"sk-estimator-id-2\" class=\"sk-toggleable__label sk-toggleable__label-arrow\">KNeighborsClassifier</label><div class=\"sk-toggleable__content\"><pre>KNeighborsClassifier()</pre></div></div></div></div></div>"
            ]
          },
          "metadata": {},
          "execution_count": 36
        }
      ],
      "source": [
        "from sklearn.neighbors import KNeighborsClassifier\n",
        "clf_knn=KNeighborsClassifier(n_neighbors = 5, metric = 'minkowski', p = 2 )\n",
        "clf_knn.fit(X_train , y_train)"
      ]
    },
    {
      "cell_type": "code",
      "execution_count": 37,
      "metadata": {
        "id": "YpKvW_TyrG-N",
        "colab": {
          "base_uri": "https://localhost:8080/",
          "height": 621
        },
        "outputId": "fb5f43fb-f058-413a-c6a9-d05017f5a230"
      },
      "outputs": [
        {
          "output_type": "stream",
          "name": "stdout",
          "text": [
            "Accuracy Score Test: 82.69%\n",
            "_______________________________________________\n",
            "Accuracy Score Train: 87.83%\n",
            "_______________________________________________\n",
            "CLASSIFICATION REPORT:\n",
            "                     0            1  accuracy    macro avg  weighted avg\n",
            "precision     0.873160     0.649852  0.826935     0.761506      0.820659\n",
            "recall        0.905240     0.572175  0.826935     0.738707      0.826935\n",
            "f1-score      0.888911     0.608545  0.826935     0.748728      0.822995\n",
            "support    4981.000000  1531.000000  0.826935  6512.000000   6512.000000\n",
            "_______________________________________________\n"
          ]
        },
        {
          "output_type": "display_data",
          "data": {
            "text/plain": [
              "<Figure size 640x480 with 1 Axes>"
            ],
            "image/png": "[encoded data removed]"
          },
          "metadata": {}
        }
      ],
      "source": [
        "acc , f1 , roc_auc=evaluate_model(clf_knn)\n",
        "accuracy_dict['knn']=acc\n",
        "f1_scores['knn']=f1\n",
        "roc_auc_scores['knn']=roc_auc"
      ]
    },
    {
      "cell_type": "code",
      "execution_count": 51,
      "metadata": {
        "id": "oU_UwA92rBby"
      },
      "outputs": [],
      "source": [
        "def evaluate_metric_diff_models(metric_dict):\n",
        "  sorted_metric_dict=dict(sorted(metric_dict.items(), key=lambda item: item[1], reverse=True))\n",
        "  keys = list(sorted_metric_dict.keys())\n",
        "  values = list(sorted_metric_dict.values())\n",
        "  df = pd.DataFrame({'Keys': keys, 'Values': values})\n",
        "\n",
        "  # Create the bar plot\n",
        "  plt.figure(figsize=(10, 6))\n",
        "  sns.barplot(x='Keys', y='Values', data=df , palette='mako')\n",
        "  plt.xlabel('Different Models')\n",
        "  plt.xticks(rotation=45)\n",
        "  plt.ylabel('Values')\n",
        "  plt.title('Histogram from Highest to Lowest Values')\n",
        "  print(keys[0], values[0])\n",
        "  plt.show()"
      ]
    },
    {
      "cell_type": "code",
      "execution_count": 52,
      "metadata": {
        "id": "_YEWUXXwrL02",
        "colab": {
          "base_uri": "https://localhost:8080/",
          "height": 622
        },
        "outputId": "895f6914-8d96-42c9-9741-d8c4e68e6b66"
      },
      "outputs": [
        {
          "output_type": "stream",
          "name": "stdout",
          "text": [
            "lgb 87.22358722358723\n"
          ]
        },
        {
          "output_type": "display_data",
          "data": {
            "text/plain": [
              "<Figure size 1000x600 with 1 Axes>"
            ],
            "image/png": "[encoded data removed]"
          },
          "metadata": {}
        }
      ],
      "source": [
        "evaluate_metric_diff_models(accuracy_dict)"
      ]
    },
    {
      "cell_type": "code",
      "execution_count": 53,
      "metadata": {
        "id": "8z4-i9fArNjz",
        "colab": {
          "base_uri": "https://localhost:8080/",
          "height": 622
        },
        "outputId": "773e86e7-78d2-4683-967c-50ea00ac2c90"
      },
      "outputs": [
        {
          "output_type": "stream",
          "name": "stdout",
          "text": [
            "lgb 70.11494252873564\n"
          ]
        },
        {
          "output_type": "display_data",
          "data": {
            "text/plain": [
              "<Figure size 1000x600 with 1 Axes>"
            ],
            "image/png": "[encoded data removed]"
          },
          "metadata": {}
        }
      ],
      "source": [
        "evaluate_metric_diff_models(f1_scores)"
      ]
    },
    {
      "cell_type": "code",
      "execution_count": 54,
      "metadata": {
        "id": "_PvOaB0FrPNE",
        "colab": {
          "base_uri": "https://localhost:8080/",
          "height": 622
        },
        "outputId": "9322b2c8-10b1-4900-c4b2-fb1b4c3055e0"
      },
      "outputs": [
        {
          "output_type": "stream",
          "name": "stdout",
          "text": [
            "lgb 92.61625266804188\n"
          ]
        },
        {
          "output_type": "display_data",
          "data": {
            "text/plain": [
              "<Figure size 1000x600 with 1 Axes>"
            ],
            "image/png": "[encoded data removed]"
          },
          "metadata": {}
        }
      ],
      "source": [
        "evaluate_metric_diff_models(roc_auc_scores)\n",
        "\n",
        "# roc_auc_score for lgb is 0.92 close to 1\n",
        "# Its distinguishes classes well"
      ]
    },
    {
      "cell_type": "markdown",
      "source": [
        "From the above graphs its quite clear that lgb perform really good on Adult dataset, Same is the case with xgb\n",
        "With large datasets like adult adaboost and decision tree turn out to be less effective."
      ],
      "metadata": {
        "id": "pCjQVZBdYRYI"
      }
    },
    {
      "cell_type": "code",
      "source": [],
      "metadata": {
        "id": "ECbf0AmWX2Np"
      },
      "execution_count": null,
      "outputs": []
    }
  ],
  "metadata": {
    "colab": {
      "provenance": []
    },
    "kernelspec": {
      "display_name": "Python 3",
      "name": "python3"
    },
    "language_info": {
      "name": "python"
    }
  },
  "nbformat": 4,
  "nbformat_minor": 0
}