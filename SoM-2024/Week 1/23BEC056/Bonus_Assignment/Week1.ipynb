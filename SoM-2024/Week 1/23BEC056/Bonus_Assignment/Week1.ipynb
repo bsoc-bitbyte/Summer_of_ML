{
 "cells": [
  {
   "cell_type": "markdown",
   "metadata": {},
   "source": [
    "### 1) Start by importing all important libraries\n",
    "For eg, \"import numpy as np\""
   ]
  },
  {
   "cell_type": "code",
   "execution_count": null,
   "metadata": {},
   "outputs": [],
   "source": [
    "#your code here\n",
    "import pandas as pd\n",
    "import numpy as np\n",
    "import matplotlib.pyplot as plt\n",
    "import seaborn as sns"
   ]
  },
  {
   "cell_type": "markdown",
   "metadata": {},
   "source": [
    "### 2) Read the csv file and assign it to a variable ."
   ]
  },
  {
   "cell_type": "code",
   "execution_count": null,
   "metadata": {},
   "outputs": [],
   "source": [
    "#your code here\n",
    "data=pd.read_csv(\"/content/drive/MyDrive/W1_Pokemon.csv\")\n"
   ]
  },
  {
   "cell_type": "code",
   "execution_count": null,
   "metadata": {},
   "outputs": [
    {
     "name": "stdout",
     "output_type": "stream",
     "text": [
      "Mounted at /content/drive\n"
     ]
    }
   ],
   "source": [
    "from google.colab import drive\n",
    "drive.mount('/content/drive')"
   ]
  },
  {
   "cell_type": "markdown",
   "metadata": {},
   "source": [
    "\n",
    "## ***Bonus Questions***\n",
    "## Here are some bonus questions that you can try further !\n",
    "\n",
    "### These questions are UNGRADED, and are given as an extra exercise."
   ]
  },
  {
   "cell_type": "markdown",
   "metadata": {},
   "source": [
    "### Which pokemon has the highest combined value of Attack and Sp. Atk ?"
   ]
  },
  {
   "cell_type": "code",
   "execution_count": null,
   "metadata": {},
   "outputs": [
    {
     "data": {
      "text/plain": [
       "360"
      ]
     },
     "metadata": {},
     "output_type": "display_data"
    }
   ],
   "source": [
    "#your code here\n",
    "\n",
    "#data[\"Attack\"] + data[\"Sp. Atk\"] will calculate sum of Attack and Sp. Attack\n",
    "#max will print maximum value\n",
    "max(data[\"Attack\"] + data[\"Sp. Atk\"])"
   ]
  },
  {
   "cell_type": "markdown",
   "metadata": {},
   "source": [
    "### Which type of legendary pokemons are the most common?"
   ]
  },
  {
   "cell_type": "code",
   "execution_count": null,
   "metadata": {},
   "outputs": [
    {
     "data": {
      "application/vnd.google.colaboratory.intrinsic+json": {
       "type": "string"
      },
      "text/plain": [
       "'Water'"
      ]
     },
     "metadata": {},
     "output_type": "display_data"
    }
   ],
   "source": [
    "#your code here\n",
    "\n",
    "#Intialised variables\n",
    "max = 0\n",
    "mostCommonType = \" \"\n",
    "\n",
    "for type1 in data[\"Type 1\"]:\n",
    "  count = 0\n",
    "\n",
    "  #For every type calculating number of rows having either Type 1 or Type 2 as type1\n",
    "  #Then subtracting those rows where both Type 1 and Type 2 are equal to type as they were counted twice\n",
    "  count = len(data[data[\"Type 1\"] == type1]) + len(data[data[\"Type 2\"] == type1]) - len(data[(data[\"Type 2\"] == type1) & (data[\"Type 1\"] == type1)])\n",
    "\n",
    "  #Acquiring maximum value\n",
    "  if(max < count):\n",
    "    #If an element have more frequency then the prior ones then its frequency is stored in max for further comparsion\n",
    "    max = count\n",
    "\n",
    "    #If an element have more frequency then the prior ones then the type of elemnet is stored in mostCommonType\n",
    "    mostCommonType = type1\n",
    "\n",
    "mostCommonType\n"
   ]
  },
  {
   "cell_type": "markdown",
   "metadata": {},
   "source": [
    "### How many generation-3, non-legendary pokemons have higher HP than the weakest generation-6, legendary pokemon?"
   ]
  },
  {
   "cell_type": "code",
   "execution_count": null,
   "metadata": {},
   "outputs": [
    {
     "data": {
      "text/plain": [
       "95"
      ]
     },
     "metadata": {},
     "output_type": "display_data"
    }
   ],
   "source": [
    "#your code here\n",
    "\n",
    "#Obtain value of minimum HP Generation-6 Legendary pokemon\n",
    "weakestgen6 = data[(data[\"Legendary\"] == True)].HP.min()\n",
    "\n",
    "#Obtain number of rows fulfilling all the  conditions\n",
    "requiredDataSet = len(data[(data[\"Legendary\"] == False) & (data[\"Generation\"] == 3) & (data[\"HP\"] > weakestgen6)])\n",
    "requiredDataSet"
   ]
  },
  {
   "cell_type": "markdown",
   "metadata": {},
   "source": [
    "### Print out the third slowest pokemon(s) in the dataset."
   ]
  },
  {
   "cell_type": "code",
   "execution_count": null,
   "metadata": {},
   "outputs": [
    {
     "data": {
      "text/plain": [
       "10"
      ]
     },
     "metadata": {},
     "output_type": "display_data"
    }
   ],
   "source": [
    "#your code here\n",
    "\n",
    "#nsmallest returns the first n rows ordered by columns in ascending order.\n",
    "#Here will sort data according to speed and return first 3 rows\n",
    "#iloc[-1] returns last row of a given dataset, here it will third row\n",
    "data.Speed.nsmallest(3).iloc[-1]"
   ]
  },
  {
   "cell_type": "markdown",
   "metadata": {},
   "source": [
    "### Which pokemon type has the highest average HP?"
   ]
  },
  {
   "cell_type": "code",
   "execution_count": null,
   "metadata": {},
   "outputs": [
    {
     "data": {
      "application/vnd.google.colaboratory.intrinsic+json": {
       "type": "string"
      },
      "text/plain": [
       "'Water'"
      ]
     },
     "metadata": {},
     "output_type": "display_data"
    }
   ],
   "source": [
    "#your code here\n",
    "maxavg = 0\n",
    "avg = 0\n",
    "highestAvgType = \"\"\n",
    "for type1 in data[\"Type 1\"]:\n",
    "\n",
    "  #For every type calculating number of rows having either Type 1 or Type 2 as type1\n",
    "  #Then subtracting those rows where both Type 1 and Type 2 are equal to type as they were counted twice\n",
    "  count = len(data[data[\"Type 1\"] == type1]) + len(data[data[\"Type 2\"] == type1])- len(data[(data[\"Type 2\"] == type1) & (data[\"Type 1\"] == type1)])\n",
    "\n",
    "  #data[data[\"Type 1\"] == type1].HP.sum() = sum of all the HP having Type 1 equal to type1 and similarily with Type 2\n",
    "    #Then subtracting those values of HP where both Type 1 and Type 2 are equal to type1 as they were counted twice\n",
    "  avg = (data[data[\"Type 1\"] == type1].HP.sum() + data[data[\"Type 2\"] == type1].HP.sum()) - data[(data[\"Type 2\"] == type1) & (data[\"Type 1\"] == type1)].HP.sum()/ count\n",
    "\n",
    "  #finding Maximum average\n",
    "  if(maxavg < avg):\n",
    "    maxavg = avg\n",
    "\n",
    "    #if certain type of element have higher average then alot its tyoe to  highestAvgType\n",
    "    highestAvgType = type1\n",
    "highestAvgType"
   ]
  }
 ],
 "metadata": {
  "language_info": {
   "name": "python"
  }
 },
 "nbformat": 4,
 "nbformat_minor": 2
}
