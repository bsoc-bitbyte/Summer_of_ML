{
  "cells": [
    {
      "cell_type": "markdown",
      "metadata": {
        "id": "BVS91IxrmlZa"
      },
      "source": [
        "# Summer Analytics 2022 - Basic Data Analysis"
      ]
    },
    {
      "cell_type": "markdown",
      "metadata": {
        "id": "h5RsCZqvmlZg"
      },
      "source": [
        "- #### Welcome to your second assignment, on basic data analysis!\n",
        "- #### This Assignment is ungraded\n",
        "\n",
        "\n",
        "\n"
      ]
    },
    {
      "cell_type": "markdown",
      "metadata": {
        "id": "KI7i51VOmlZh"
      },
      "source": [
        "### 1) Import Pandas and Numpy"
      ]
    },
    {
      "cell_type": "code",
      "execution_count": 1,
      "metadata": {
        "id": "W7bzVDGemlZh"
      },
      "outputs": [],
      "source": [
        "import pandas as pd\n",
        "import numpy as np"
      ]
    },
    {
      "cell_type": "markdown",
      "metadata": {
        "id": "79TqQiQVmlZi"
      },
      "source": [
        "### 2) Import the dataset and  Assign it to a variable called Chipo\n",
        "\n",
        "#### Import the dataset from\n",
        "https://github.com/justmarkham/pandas-videos/blob/master/data/chipotle.tsv\n",
        "\n",
        "#### REMEMBER: It is a .tsv file , you will have to do some research on how to read .tsv files first!"
      ]
    },
    {
      "cell_type": "code",
      "execution_count": 2,
      "metadata": {
        "id": "wD3SElRSmlZi"
      },
      "outputs": [
        {
          "data": {
            "text/html": [
              "<div>\n",
              "<style scoped>\n",
              "    .dataframe tbody tr th:only-of-type {\n",
              "        vertical-align: middle;\n",
              "    }\n",
              "\n",
              "    .dataframe tbody tr th {\n",
              "        vertical-align: top;\n",
              "    }\n",
              "\n",
              "    .dataframe thead th {\n",
              "        text-align: right;\n",
              "    }\n",
              "</style>\n",
              "<table border=\"1\" class=\"dataframe\">\n",
              "  <thead>\n",
              "    <tr style=\"text-align: right;\">\n",
              "      <th></th>\n",
              "      <th>order_id</th>\n",
              "      <th>quantity</th>\n",
              "      <th>item_name</th>\n",
              "      <th>choice_description</th>\n",
              "      <th>item_price</th>\n",
              "    </tr>\n",
              "  </thead>\n",
              "  <tbody>\n",
              "    <tr>\n",
              "      <th>0</th>\n",
              "      <td>1</td>\n",
              "      <td>1</td>\n",
              "      <td>Chips and Fresh Tomato Salsa</td>\n",
              "      <td>NaN</td>\n",
              "      <td>$2.39</td>\n",
              "    </tr>\n",
              "    <tr>\n",
              "      <th>1</th>\n",
              "      <td>1</td>\n",
              "      <td>1</td>\n",
              "      <td>Izze</td>\n",
              "      <td>[Clementine]</td>\n",
              "      <td>$3.39</td>\n",
              "    </tr>\n",
              "    <tr>\n",
              "      <th>2</th>\n",
              "      <td>1</td>\n",
              "      <td>1</td>\n",
              "      <td>Nantucket Nectar</td>\n",
              "      <td>[Apple]</td>\n",
              "      <td>$3.39</td>\n",
              "    </tr>\n",
              "    <tr>\n",
              "      <th>3</th>\n",
              "      <td>1</td>\n",
              "      <td>1</td>\n",
              "      <td>Chips and Tomatillo-Green Chili Salsa</td>\n",
              "      <td>NaN</td>\n",
              "      <td>$2.39</td>\n",
              "    </tr>\n",
              "    <tr>\n",
              "      <th>4</th>\n",
              "      <td>2</td>\n",
              "      <td>2</td>\n",
              "      <td>Chicken Bowl</td>\n",
              "      <td>[Tomatillo-Red Chili Salsa (Hot), [Black Beans...</td>\n",
              "      <td>$16.98</td>\n",
              "    </tr>\n",
              "  </tbody>\n",
              "</table>\n",
              "</div>"
            ],
            "text/plain": [
              "   order_id  quantity                              item_name  \\\n",
              "0         1         1           Chips and Fresh Tomato Salsa   \n",
              "1         1         1                                   Izze   \n",
              "2         1         1                       Nantucket Nectar   \n",
              "3         1         1  Chips and Tomatillo-Green Chili Salsa   \n",
              "4         2         2                           Chicken Bowl   \n",
              "\n",
              "                                  choice_description item_price  \n",
              "0                                                NaN     $2.39   \n",
              "1                                       [Clementine]     $3.39   \n",
              "2                                            [Apple]     $3.39   \n",
              "3                                                NaN     $2.39   \n",
              "4  [Tomatillo-Red Chili Salsa (Hot), [Black Beans...    $16.98   "
            ]
          },
          "execution_count": 2,
          "metadata": {},
          "output_type": "execute_result"
        }
      ],
      "source": [
        "df = pd.read_csv('chipotle.tsv', sep='\\t')\n",
        "df.head()"
      ]
    },
    {
      "cell_type": "markdown",
      "metadata": {
        "id": "R7CI2qVumlZi"
      },
      "source": [
        "### 3) See the first 10 entries"
      ]
    },
    {
      "cell_type": "code",
      "execution_count": 3,
      "metadata": {
        "id": "of9AsfcqmlZj",
        "scrolled": false
      },
      "outputs": [
        {
          "data": {
            "text/html": [
              "<div>\n",
              "<style scoped>\n",
              "    .dataframe tbody tr th:only-of-type {\n",
              "        vertical-align: middle;\n",
              "    }\n",
              "\n",
              "    .dataframe tbody tr th {\n",
              "        vertical-align: top;\n",
              "    }\n",
              "\n",
              "    .dataframe thead th {\n",
              "        text-align: right;\n",
              "    }\n",
              "</style>\n",
              "<table border=\"1\" class=\"dataframe\">\n",
              "  <thead>\n",
              "    <tr style=\"text-align: right;\">\n",
              "      <th></th>\n",
              "      <th>order_id</th>\n",
              "      <th>quantity</th>\n",
              "      <th>item_name</th>\n",
              "      <th>choice_description</th>\n",
              "      <th>item_price</th>\n",
              "    </tr>\n",
              "  </thead>\n",
              "  <tbody>\n",
              "    <tr>\n",
              "      <th>0</th>\n",
              "      <td>1</td>\n",
              "      <td>1</td>\n",
              "      <td>Chips and Fresh Tomato Salsa</td>\n",
              "      <td>NaN</td>\n",
              "      <td>$2.39</td>\n",
              "    </tr>\n",
              "    <tr>\n",
              "      <th>1</th>\n",
              "      <td>1</td>\n",
              "      <td>1</td>\n",
              "      <td>Izze</td>\n",
              "      <td>[Clementine]</td>\n",
              "      <td>$3.39</td>\n",
              "    </tr>\n",
              "    <tr>\n",
              "      <th>2</th>\n",
              "      <td>1</td>\n",
              "      <td>1</td>\n",
              "      <td>Nantucket Nectar</td>\n",
              "      <td>[Apple]</td>\n",
              "      <td>$3.39</td>\n",
              "    </tr>\n",
              "    <tr>\n",
              "      <th>3</th>\n",
              "      <td>1</td>\n",
              "      <td>1</td>\n",
              "      <td>Chips and Tomatillo-Green Chili Salsa</td>\n",
              "      <td>NaN</td>\n",
              "      <td>$2.39</td>\n",
              "    </tr>\n",
              "    <tr>\n",
              "      <th>4</th>\n",
              "      <td>2</td>\n",
              "      <td>2</td>\n",
              "      <td>Chicken Bowl</td>\n",
              "      <td>[Tomatillo-Red Chili Salsa (Hot), [Black Beans...</td>\n",
              "      <td>$16.98</td>\n",
              "    </tr>\n",
              "    <tr>\n",
              "      <th>5</th>\n",
              "      <td>3</td>\n",
              "      <td>1</td>\n",
              "      <td>Chicken Bowl</td>\n",
              "      <td>[Fresh Tomato Salsa (Mild), [Rice, Cheese, Sou...</td>\n",
              "      <td>$10.98</td>\n",
              "    </tr>\n",
              "    <tr>\n",
              "      <th>6</th>\n",
              "      <td>3</td>\n",
              "      <td>1</td>\n",
              "      <td>Side of Chips</td>\n",
              "      <td>NaN</td>\n",
              "      <td>$1.69</td>\n",
              "    </tr>\n",
              "    <tr>\n",
              "      <th>7</th>\n",
              "      <td>4</td>\n",
              "      <td>1</td>\n",
              "      <td>Steak Burrito</td>\n",
              "      <td>[Tomatillo Red Chili Salsa, [Fajita Vegetables...</td>\n",
              "      <td>$11.75</td>\n",
              "    </tr>\n",
              "    <tr>\n",
              "      <th>8</th>\n",
              "      <td>4</td>\n",
              "      <td>1</td>\n",
              "      <td>Steak Soft Tacos</td>\n",
              "      <td>[Tomatillo Green Chili Salsa, [Pinto Beans, Ch...</td>\n",
              "      <td>$9.25</td>\n",
              "    </tr>\n",
              "    <tr>\n",
              "      <th>9</th>\n",
              "      <td>5</td>\n",
              "      <td>1</td>\n",
              "      <td>Steak Burrito</td>\n",
              "      <td>[Fresh Tomato Salsa, [Rice, Black Beans, Pinto...</td>\n",
              "      <td>$9.25</td>\n",
              "    </tr>\n",
              "  </tbody>\n",
              "</table>\n",
              "</div>"
            ],
            "text/plain": [
              "   order_id  quantity                              item_name  \\\n",
              "0         1         1           Chips and Fresh Tomato Salsa   \n",
              "1         1         1                                   Izze   \n",
              "2         1         1                       Nantucket Nectar   \n",
              "3         1         1  Chips and Tomatillo-Green Chili Salsa   \n",
              "4         2         2                           Chicken Bowl   \n",
              "5         3         1                           Chicken Bowl   \n",
              "6         3         1                          Side of Chips   \n",
              "7         4         1                          Steak Burrito   \n",
              "8         4         1                       Steak Soft Tacos   \n",
              "9         5         1                          Steak Burrito   \n",
              "\n",
              "                                  choice_description item_price  \n",
              "0                                                NaN     $2.39   \n",
              "1                                       [Clementine]     $3.39   \n",
              "2                                            [Apple]     $3.39   \n",
              "3                                                NaN     $2.39   \n",
              "4  [Tomatillo-Red Chili Salsa (Hot), [Black Beans...    $16.98   \n",
              "5  [Fresh Tomato Salsa (Mild), [Rice, Cheese, Sou...    $10.98   \n",
              "6                                                NaN     $1.69   \n",
              "7  [Tomatillo Red Chili Salsa, [Fajita Vegetables...    $11.75   \n",
              "8  [Tomatillo Green Chili Salsa, [Pinto Beans, Ch...     $9.25   \n",
              "9  [Fresh Tomato Salsa, [Rice, Black Beans, Pinto...     $9.25   "
            ]
          },
          "execution_count": 3,
          "metadata": {},
          "output_type": "execute_result"
        }
      ],
      "source": [
        "df[df.index < 10]"
      ]
    },
    {
      "cell_type": "markdown",
      "metadata": {
        "id": "0rBhn2qZmlZj"
      },
      "source": [
        "### 4) What is the number of observations in the dataset?"
      ]
    },
    {
      "cell_type": "code",
      "execution_count": 4,
      "metadata": {
        "id": "-1SC1x2dmlZj"
      },
      "outputs": [
        {
          "data": {
            "text/plain": [
              "4622"
            ]
          },
          "execution_count": 4,
          "metadata": {},
          "output_type": "execute_result"
        }
      ],
      "source": [
        "df.shape[0]"
      ]
    },
    {
      "cell_type": "markdown",
      "metadata": {
        "id": "j7RaUNL7mlZj"
      },
      "source": [
        "### 5) What is the number of columns in the dataset?"
      ]
    },
    {
      "cell_type": "code",
      "execution_count": 5,
      "metadata": {
        "id": "iHObV4jBmlZk"
      },
      "outputs": [
        {
          "data": {
            "text/plain": [
              "5"
            ]
          },
          "execution_count": 5,
          "metadata": {},
          "output_type": "execute_result"
        }
      ],
      "source": [
        "df.shape[1]"
      ]
    },
    {
      "cell_type": "markdown",
      "metadata": {
        "id": "PhUt_caomlZk"
      },
      "source": [
        "### 6) Print the name of all the columns."
      ]
    },
    {
      "cell_type": "code",
      "execution_count": 6,
      "metadata": {
        "id": "mOZSqJtimlZk"
      },
      "outputs": [
        {
          "data": {
            "text/plain": [
              "Index(['order_id', 'quantity', 'item_name', 'choice_description',\n",
              "       'item_price'],\n",
              "      dtype='object')"
            ]
          },
          "execution_count": 6,
          "metadata": {},
          "output_type": "execute_result"
        }
      ],
      "source": [
        "df.columns"
      ]
    },
    {
      "cell_type": "markdown",
      "metadata": {
        "id": "ZvJrCW4RmlZk"
      },
      "source": [
        "### 7) Which was the most-ordered item?"
      ]
    },
    {
      "cell_type": "code",
      "execution_count": 7,
      "metadata": {
        "id": "ToRjoQ4KmlZk"
      },
      "outputs": [
        {
          "data": {
            "text/plain": [
              "'Chicken Bowl'"
            ]
          },
          "execution_count": 7,
          "metadata": {},
          "output_type": "execute_result"
        }
      ],
      "source": [
        "df['item_name'].value_counts().idxmax()"
      ]
    },
    {
      "cell_type": "markdown",
      "metadata": {
        "id": "OJqo6oGFmlZl"
      },
      "source": [
        "### 8) For the most-ordered item, how many items were ordered?"
      ]
    },
    {
      "cell_type": "code",
      "execution_count": 8,
      "metadata": {
        "id": "e80jObKAmlZl"
      },
      "outputs": [
        {
          "name": "stderr",
          "output_type": "stream",
          "text": [
            "/var/folders/ym/p6gqd77937bbw378sk66yjpm0000gn/T/ipykernel_8573/615108995.py:1: FutureWarning: Series.__getitem__ treating keys as positions is deprecated. In a future version, integer keys will always be treated as labels (consistent with DataFrame behavior). To access a value by position, use `ser.iloc[pos]`\n",
            "  df['item_name'].value_counts()[0]\n"
          ]
        },
        {
          "data": {
            "text/plain": [
              "726"
            ]
          },
          "execution_count": 8,
          "metadata": {},
          "output_type": "execute_result"
        }
      ],
      "source": [
        "df['item_name'].value_counts()[0]"
      ]
    },
    {
      "cell_type": "markdown",
      "metadata": {
        "id": "djD1uMajmlZl"
      },
      "source": [
        "### 9) What was the most ordered item in the choice_description column?"
      ]
    },
    {
      "cell_type": "code",
      "execution_count": 9,
      "metadata": {
        "id": "udGSOJ7UmlZl"
      },
      "outputs": [
        {
          "data": {
            "text/plain": [
              "'[Diet Coke]'"
            ]
          },
          "execution_count": 9,
          "metadata": {},
          "output_type": "execute_result"
        }
      ],
      "source": [
        "df['choice_description'].value_counts().idxmax()"
      ]
    },
    {
      "cell_type": "markdown",
      "metadata": {
        "id": "dJwiFc_umlZm"
      },
      "source": [
        "### 10) How many items were ordered in total?"
      ]
    },
    {
      "cell_type": "code",
      "execution_count": 10,
      "metadata": {
        "id": "TnDdqj2kmlZm"
      },
      "outputs": [
        {
          "data": {
            "text/plain": [
              "1044"
            ]
          },
          "execution_count": 10,
          "metadata": {},
          "output_type": "execute_result"
        }
      ],
      "source": [
        "len(df['choice_description'].unique())"
      ]
    },
    {
      "cell_type": "markdown",
      "metadata": {
        "id": "b6jd11bYmlZm"
      },
      "source": [
        "### 11) Turn the item price into a float"
      ]
    },
    {
      "cell_type": "code",
      "execution_count": 11,
      "metadata": {
        "id": "dd0ivpj8mlZm"
      },
      "outputs": [
        {
          "data": {
            "text/plain": [
              "0     2.39\n",
              "1     3.39\n",
              "2     3.39\n",
              "3     2.39\n",
              "4    16.98\n",
              "Name: item_price, dtype: float64"
            ]
          },
          "execution_count": 11,
          "metadata": {},
          "output_type": "execute_result"
        }
      ],
      "source": [
        "def convert_price(x):\n",
        "  if isinstance(x, str) and x.startswith('$'):\n",
        "    return float(x[1:])\n",
        "  else:\n",
        "    return x\n",
        "\n",
        "df['item_price'] = df['item_price'].apply(convert_price)\n",
        "\n",
        "df['item_price'].head()"
      ]
    },
    {
      "cell_type": "markdown",
      "metadata": {
        "id": "DRETO0SGmlZm"
      },
      "source": [
        "### 12) How much was the revenue for the period in the dataset?\n",
        "#### Revenue will be the sum of quantity * item_price!"
      ]
    },
    {
      "cell_type": "code",
      "execution_count": 12,
      "metadata": {
        "id": "3kIogdd7mlZm"
      },
      "outputs": [
        {
          "data": {
            "text/plain": [
              "39237.02"
            ]
          },
          "execution_count": 12,
          "metadata": {},
          "output_type": "execute_result"
        }
      ],
      "source": [
        "sum(df.quantity*df.item_price)"
      ]
    },
    {
      "cell_type": "markdown",
      "metadata": {
        "id": "963tji0amlZn"
      },
      "source": [
        "### 13) How many orders were made in the period?"
      ]
    },
    {
      "cell_type": "code",
      "execution_count": 13,
      "metadata": {
        "id": "3nytKBUgmlZn"
      },
      "outputs": [
        {
          "data": {
            "text/plain": [
              "1834"
            ]
          },
          "execution_count": 13,
          "metadata": {},
          "output_type": "execute_result"
        }
      ],
      "source": [
        "len(df.order_id.unique())"
      ]
    },
    {
      "cell_type": "markdown",
      "metadata": {
        "id": "lU71tTXJmlZn"
      },
      "source": [
        "### 14) What is the average revenue amount per order?"
      ]
    },
    {
      "cell_type": "code",
      "execution_count": 14,
      "metadata": {
        "id": "MwzvsBoLmlZn"
      },
      "outputs": [
        {
          "data": {
            "text/plain": [
              "18.811428571428568"
            ]
          },
          "execution_count": 14,
          "metadata": {},
          "output_type": "execute_result"
        }
      ],
      "source": [
        "df.groupby('order_id')['item_price'].sum().mean()"
      ]
    },
    {
      "cell_type": "markdown",
      "metadata": {
        "id": "HALZkMKvmlZn"
      },
      "source": [
        "### 15) How many different items are sold?"
      ]
    },
    {
      "cell_type": "code",
      "execution_count": 15,
      "metadata": {
        "id": "CFO7KOwQmlZo"
      },
      "outputs": [
        {
          "data": {
            "text/plain": [
              "50"
            ]
          },
          "execution_count": 15,
          "metadata": {},
          "output_type": "execute_result"
        }
      ],
      "source": [
        "len(df['item_name'].unique())"
      ]
    }
  ],
  "metadata": {
    "anaconda-cloud": {},
    "colab": {
      "provenance": []
    },
    "kernelspec": {
      "display_name": "Python 3",
      "language": "python",
      "name": "python3"
    },
    "language_info": {
      "codemirror_mode": {
        "name": "ipython",
        "version": 3
      },
      "file_extension": ".py",
      "mimetype": "text/x-python",
      "name": "python",
      "nbconvert_exporter": "python",
      "pygments_lexer": "ipython3",
      "version": "3.12.0"
    }
  },
  "nbformat": 4,
  "nbformat_minor": 0
}
