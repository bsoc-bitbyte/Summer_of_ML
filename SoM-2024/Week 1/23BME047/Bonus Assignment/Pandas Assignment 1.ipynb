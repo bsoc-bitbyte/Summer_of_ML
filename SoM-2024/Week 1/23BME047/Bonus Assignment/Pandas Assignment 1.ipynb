{
  "cells": [
    {
      "cell_type": "markdown",
      "metadata": {
        "id": "CxXzaNoXfwUJ"
      },
      "source": [
        "# Summer Analytics 2022 - Basic Data Analysis"
      ]
    },
    {
      "cell_type": "markdown",
      "metadata": {
        "id": "nxWE-b8zfwUK"
      },
      "source": [
        "- ####  Welcome to your first assignment, on basic data analysis!\n",
        "- #### This Assignment is ungraded"
      ]
    },
    {
      "cell_type": "markdown",
      "metadata": {
        "id": "yWGAv8OCfwUL"
      },
      "source": [
        "\n",
        "\n",
        "### 1) Import Pandas\n"
      ]
    },
    {
      "cell_type": "code",
      "execution_count": 1,
      "metadata": {
        "id": "r_V1kJdBfwUM"
      },
      "outputs": [],
      "source": [
        "import pandas as pd"
      ]
    },
    {
      "cell_type": "markdown",
      "metadata": {
        "id": "gu0-Jo1MfwUP"
      },
      "source": [
        "### 2) Import the dataset and  Assign it to a variable called users and use the 'user_id' as index\n",
        "\n",
        "Use the following dataset\n",
        "https://raw.githubusercontent.com/justmarkham/DAT8/master/data/u.user\n"
      ]
    },
    {
      "cell_type": "code",
      "source": [
        "users = pd.read_csv('https://raw.githubusercontent.com/justmarkham/DAT8/master/data/u.user',sep = '|' )"
      ],
      "metadata": {
        "id": "_yhh54L0iQ0h"
      },
      "execution_count": 12,
      "outputs": []
    },
    {
      "cell_type": "code",
      "source": [
        "users.set_index('user_id',inplace=True)"
      ],
      "metadata": {
        "id": "citblZUzxvuA"
      },
      "execution_count": 16,
      "outputs": []
    },
    {
      "cell_type": "markdown",
      "metadata": {
        "id": "bn5j2_SyfwUT"
      },
      "source": [
        "### 3) Display the first 25 entries"
      ]
    },
    {
      "cell_type": "code",
      "execution_count": 18,
      "metadata": {
        "id": "y_cwbh67fwUT",
        "scrolled": true,
        "colab": {
          "base_uri": "https://localhost:8080/"
        },
        "outputId": "7bc0d9f6-a287-4848-92e6-352943e8fdc4"
      },
      "outputs": [
        {
          "output_type": "stream",
          "name": "stdout",
          "text": [
            "         age gender     occupation zip_code\n",
            "user_id                                    \n",
            "1         24      M     technician    85711\n",
            "2         53      F          other    94043\n",
            "3         23      M         writer    32067\n",
            "4         24      M     technician    43537\n",
            "5         33      F          other    15213\n",
            "6         42      M      executive    98101\n",
            "7         57      M  administrator    91344\n",
            "8         36      M  administrator    05201\n",
            "9         29      M        student    01002\n",
            "10        53      M         lawyer    90703\n",
            "11        39      F          other    30329\n",
            "12        28      F          other    06405\n",
            "13        47      M       educator    29206\n",
            "14        45      M      scientist    55106\n",
            "15        49      F       educator    97301\n",
            "16        21      M  entertainment    10309\n",
            "17        30      M     programmer    06355\n",
            "18        35      F          other    37212\n",
            "19        40      M      librarian    02138\n",
            "20        42      F      homemaker    95660\n",
            "21        26      M         writer    30068\n",
            "22        25      M         writer    40206\n",
            "23        30      F         artist    48197\n",
            "24        21      F         artist    94533\n",
            "25        39      M       engineer    55107\n"
          ]
        }
      ],
      "source": [
        "print(users.head(25))"
      ]
    },
    {
      "cell_type": "markdown",
      "metadata": {
        "id": "2y6oxoOBfwUW"
      },
      "source": [
        "### 4) Display the last 10 entries"
      ]
    },
    {
      "cell_type": "code",
      "execution_count": 19,
      "metadata": {
        "id": "84_xuhDTfwUW",
        "scrolled": true,
        "colab": {
          "base_uri": "https://localhost:8080/"
        },
        "outputId": "3c37b3c1-cd50-45f0-c56c-ecf7579a92f7"
      },
      "outputs": [
        {
          "output_type": "stream",
          "name": "stdout",
          "text": [
            "         age gender     occupation zip_code\n",
            "user_id                                    \n",
            "934       61      M       engineer    22902\n",
            "935       42      M         doctor    66221\n",
            "936       24      M          other    32789\n",
            "937       48      M       educator    98072\n",
            "938       38      F     technician    55038\n",
            "939       26      F        student    33319\n",
            "940       32      M  administrator    02215\n",
            "941       20      M        student    97229\n",
            "942       48      F      librarian    78209\n",
            "943       22      M        student    77841\n"
          ]
        }
      ],
      "source": [
        "print(users.tail(10))"
      ]
    },
    {
      "cell_type": "markdown",
      "metadata": {
        "id": "Wx7r17UDfwUY"
      },
      "source": [
        "### 5) What is the number of observations in the dataset?"
      ]
    },
    {
      "cell_type": "code",
      "execution_count": 20,
      "metadata": {
        "id": "d6OITIKHfwUZ",
        "colab": {
          "base_uri": "https://localhost:8080/"
        },
        "outputId": "faf91e73-6916-4c08-bab3-50bb3becf64d"
      },
      "outputs": [
        {
          "output_type": "stream",
          "name": "stdout",
          "text": [
            "943\n"
          ]
        }
      ],
      "source": [
        "print(len(users))"
      ]
    },
    {
      "cell_type": "markdown",
      "metadata": {
        "id": "hNq4eoivfwUb"
      },
      "source": [
        "### 6) What is the number of columns in the dataset, also print the name of all the columns?"
      ]
    },
    {
      "cell_type": "code",
      "execution_count": 21,
      "metadata": {
        "id": "g5_iU0H9fwUc",
        "colab": {
          "base_uri": "https://localhost:8080/"
        },
        "outputId": "32e3f059-7cf2-4873-cd20-7aabd03fd38d"
      },
      "outputs": [
        {
          "output_type": "stream",
          "name": "stdout",
          "text": [
            "4\n",
            "Index(['age', 'gender', 'occupation', 'zip_code'], dtype='object')\n"
          ]
        }
      ],
      "source": [
        "print(len(users.columns))\n",
        "print(users.columns)"
      ]
    },
    {
      "cell_type": "markdown",
      "metadata": {
        "id": "bP3u6VGcfwUf"
      },
      "source": [
        "### 7) What is the data type of each column?"
      ]
    },
    {
      "cell_type": "code",
      "execution_count": 22,
      "metadata": {
        "id": "japfxWKbfwUf",
        "colab": {
          "base_uri": "https://localhost:8080/"
        },
        "outputId": "189e1f08-d51a-47d7-9130-15e994c6e830"
      },
      "outputs": [
        {
          "output_type": "stream",
          "name": "stdout",
          "text": [
            "age            int64\n",
            "gender        object\n",
            "occupation    object\n",
            "zip_code      object\n",
            "dtype: object\n"
          ]
        }
      ],
      "source": [
        "print(users.dtypes)"
      ]
    },
    {
      "cell_type": "markdown",
      "metadata": {
        "id": "LIsXSDs-fwUh"
      },
      "source": [
        "### 8) Print only the occupation column"
      ]
    },
    {
      "cell_type": "code",
      "execution_count": 23,
      "metadata": {
        "id": "Ulku9hfzfwUi",
        "colab": {
          "base_uri": "https://localhost:8080/"
        },
        "outputId": "dd0ad2fb-8593-4615-aee8-16f38087a5fd"
      },
      "outputs": [
        {
          "output_type": "stream",
          "name": "stdout",
          "text": [
            "user_id\n",
            "1         technician\n",
            "2              other\n",
            "3             writer\n",
            "4         technician\n",
            "5              other\n",
            "           ...      \n",
            "939          student\n",
            "940    administrator\n",
            "941          student\n",
            "942        librarian\n",
            "943          student\n",
            "Name: occupation, Length: 943, dtype: object\n"
          ]
        }
      ],
      "source": [
        "print(users['occupation'])"
      ]
    },
    {
      "cell_type": "markdown",
      "metadata": {
        "id": "1ojuqydxfwUk"
      },
      "source": [
        "### 9) How many different occupations are in this dataset?\n"
      ]
    },
    {
      "cell_type": "code",
      "execution_count": 24,
      "metadata": {
        "id": "D65-WzYqfwUk",
        "colab": {
          "base_uri": "https://localhost:8080/"
        },
        "outputId": "34a4047b-c271-4cd0-ea6b-6a5943cbb3df"
      },
      "outputs": [
        {
          "output_type": "stream",
          "name": "stdout",
          "text": [
            "21\n"
          ]
        }
      ],
      "source": [
        "print(len(users['occupation'].unique()))"
      ]
    },
    {
      "cell_type": "markdown",
      "metadata": {
        "id": "ZP567e47fwUo"
      },
      "source": [
        "### 10) What is the most frequent occupation?"
      ]
    },
    {
      "cell_type": "code",
      "execution_count": 26,
      "metadata": {
        "id": "lugu7KprfwUp",
        "colab": {
          "base_uri": "https://localhost:8080/"
        },
        "outputId": "26f3ca91-a72c-434c-df3f-a3b3a9647c99"
      },
      "outputs": [
        {
          "output_type": "stream",
          "name": "stdout",
          "text": [
            "0    student\n",
            "Name: occupation, dtype: object\n"
          ]
        }
      ],
      "source": [
        "print(users['occupation'].mode())"
      ]
    },
    {
      "cell_type": "markdown",
      "metadata": {
        "id": "FaqznF2AfwUr"
      },
      "source": [
        "### 11) Summarize the DataFrame."
      ]
    },
    {
      "cell_type": "code",
      "execution_count": 29,
      "metadata": {
        "id": "jH3rLBmafwUr",
        "colab": {
          "base_uri": "https://localhost:8080/"
        },
        "outputId": "358f5282-790d-46cb-9a55-475284872119"
      },
      "outputs": [
        {
          "output_type": "stream",
          "name": "stdout",
          "text": [
            "<class 'pandas.core.frame.DataFrame'>\n",
            "Index: 943 entries, 1 to 943\n",
            "Data columns (total 4 columns):\n",
            " #   Column      Non-Null Count  Dtype \n",
            "---  ------      --------------  ----- \n",
            " 0   age         943 non-null    int64 \n",
            " 1   gender      943 non-null    object\n",
            " 2   occupation  943 non-null    object\n",
            " 3   zip_code    943 non-null    object\n",
            "dtypes: int64(1), object(3)\n",
            "memory usage: 36.8+ KB\n",
            "None\n",
            "              age\n",
            "count  943.000000\n",
            "mean    34.051962\n",
            "std     12.192740\n",
            "min      7.000000\n",
            "25%     25.000000\n",
            "50%     31.000000\n",
            "75%     43.000000\n",
            "max     73.000000\n"
          ]
        }
      ],
      "source": [
        "print(users.info())\n",
        "print(users.describe())"
      ]
    },
    {
      "cell_type": "markdown",
      "metadata": {
        "id": "niaRW1iyfwUu"
      },
      "source": [
        "### 12) Summarize only the occupation column"
      ]
    },
    {
      "cell_type": "code",
      "execution_count": 30,
      "metadata": {
        "id": "mkY5TxdRfwUu",
        "colab": {
          "base_uri": "https://localhost:8080/"
        },
        "outputId": "b11daaec-ee50-4862-a01b-120d5b4c1318"
      },
      "outputs": [
        {
          "output_type": "stream",
          "name": "stdout",
          "text": [
            "count         943\n",
            "unique         21\n",
            "top       student\n",
            "freq          196\n",
            "Name: occupation, dtype: object\n"
          ]
        }
      ],
      "source": [
        "print(users['occupation'].describe())"
      ]
    },
    {
      "cell_type": "markdown",
      "metadata": {
        "id": "HsTTIOSLfwUw"
      },
      "source": [
        "### 13) What is the mean age of users?"
      ]
    },
    {
      "cell_type": "code",
      "execution_count": 31,
      "metadata": {
        "id": "o4T-vE3mfwUx",
        "colab": {
          "base_uri": "https://localhost:8080/"
        },
        "outputId": "85bebd01-ad45-4db7-960e-9d6a45d3f83e"
      },
      "outputs": [
        {
          "output_type": "stream",
          "name": "stdout",
          "text": [
            "34.05196182396607\n"
          ]
        }
      ],
      "source": [
        "print(users['age'].mean())"
      ]
    },
    {
      "cell_type": "markdown",
      "metadata": {
        "id": "PVcsEzdFfwUz"
      },
      "source": [
        "### 14) What is the age with least occurrence?"
      ]
    },
    {
      "cell_type": "code",
      "execution_count": 34,
      "metadata": {
        "id": "VX5lp_RyfwUz",
        "colab": {
          "base_uri": "https://localhost:8080/"
        },
        "outputId": "0a3d3d85-68d4-42c0-fc33-d234b7e74847"
      },
      "outputs": [
        {
          "output_type": "stream",
          "name": "stdout",
          "text": [
            "7\n"
          ]
        }
      ],
      "source": [
        "print(users['age'].min())"
      ]
    }
  ],
  "metadata": {
    "anaconda-cloud": {},
    "colab": {
      "provenance": []
    },
    "kernelspec": {
      "display_name": "Python 3",
      "language": "python",
      "name": "python3"
    },
    "language_info": {
      "codemirror_mode": {
        "name": "ipython",
        "version": 3
      },
      "file_extension": ".py",
      "mimetype": "text/x-python",
      "name": "python",
      "nbconvert_exporter": "python",
      "pygments_lexer": "ipython3",
      "version": "3.7.4"
    }
  },
  "nbformat": 4,
  "nbformat_minor": 0
}