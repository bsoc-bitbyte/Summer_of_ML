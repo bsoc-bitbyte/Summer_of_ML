{
  "cells": [
    {
      "cell_type": "markdown",
      "metadata": {
        "id": "lV7ZG3lKzB-d"
      },
      "source": [
        "# Week-1 Assignment"
      ]
    },
    {
      "cell_type": "markdown",
      "metadata": {
        "id": "qEfkWhXPJvbv"
      },
      "source": [
        "# **Gotta catch 'em all !**"
      ]
    },
    {
      "cell_type": "markdown",
      "metadata": {
        "id": "gbWSJqiBJ11G"
      },
      "source": [
        "![download.jpg](data:image/jpeg;base64,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)"
      ]
    },
    {
      "cell_type": "markdown",
      "metadata": {
        "id": "rLK_mGZlJ_Y_"
      },
      "source": [
        "**Welcome to your first graded assignment! Hope that you are excited to implement and test everything you have learnt up until now. The dataset which you'll use includes information about Pokemons.**\n",
        "\n",
        "**We have got an interesting set of questions for you to get a basic understanding of pandas and data visualization libraries. GOOD LUCK!**\n",
        "\n",
        "\n",
        "***Let's get started with importing numpy, pandas, seaborn and matplotlib!***\n",
        "\n",
        "Note - matplotlib should be imported with the command :\n",
        "\n",
        " `import matplotlib.pyplot as plt`"
      ]
    },
    {
      "cell_type": "markdown",
      "metadata": {
        "id": "3urmJxE7KKVj"
      },
      "source": [
        "### 1) Start by importing all important libraries\n",
        "For eg, \"import numpy as np\""
      ]
    },
    {
      "cell_type": "code",
      "execution_count": 1,
      "metadata": {
        "id": "2kLDKA3bKGMD"
      },
      "outputs": [],
      "source": [
        "#your code here\n",
        "import numpy as np\n",
        "import pandas as pd\n",
        "import matplotlib.pyplot as plt\n",
        "import seaborn as sns"
      ]
    },
    {
      "cell_type": "markdown",
      "metadata": {
        "id": "0bpXri-3KVei"
      },
      "source": [
        "### 2) Read the csv file and assign it to a variable ."
      ]
    },
    {
      "cell_type": "code",
      "execution_count": 2,
      "metadata": {
        "colab": {
          "base_uri": "https://localhost:8080/",
          "height": 370
        },
        "id": "XwzSYh42Kdej",
        "outputId": "87939eec-e02e-4869-a4c6-da284f75b48d"
      },
      "outputs": [
        {
          "data": {
            "text/html": [
              "<div>\n",
              "<style scoped>\n",
              "    .dataframe tbody tr th:only-of-type {\n",
              "        vertical-align: middle;\n",
              "    }\n",
              "\n",
              "    .dataframe tbody tr th {\n",
              "        vertical-align: top;\n",
              "    }\n",
              "\n",
              "    .dataframe thead th {\n",
              "        text-align: right;\n",
              "    }\n",
              "</style>\n",
              "<table border=\"1\" class=\"dataframe\">\n",
              "  <thead>\n",
              "    <tr style=\"text-align: right;\">\n",
              "      <th></th>\n",
              "      <th>#</th>\n",
              "      <th>Name</th>\n",
              "      <th>Type 1</th>\n",
              "      <th>Type 2</th>\n",
              "      <th>Total</th>\n",
              "      <th>HP</th>\n",
              "      <th>Attack</th>\n",
              "      <th>Defense</th>\n",
              "      <th>Sp. Atk</th>\n",
              "      <th>Sp. Def</th>\n",
              "      <th>Speed</th>\n",
              "      <th>Generation</th>\n",
              "      <th>Legendary</th>\n",
              "    </tr>\n",
              "  </thead>\n",
              "  <tbody>\n",
              "    <tr>\n",
              "      <th>0</th>\n",
              "      <td>1</td>\n",
              "      <td>Bulbasaur</td>\n",
              "      <td>Grass</td>\n",
              "      <td>Poison</td>\n",
              "      <td>318</td>\n",
              "      <td>45</td>\n",
              "      <td>49</td>\n",
              "      <td>49</td>\n",
              "      <td>65</td>\n",
              "      <td>65</td>\n",
              "      <td>45</td>\n",
              "      <td>1</td>\n",
              "      <td>False</td>\n",
              "    </tr>\n",
              "    <tr>\n",
              "      <th>1</th>\n",
              "      <td>2</td>\n",
              "      <td>Ivysaur</td>\n",
              "      <td>Grass</td>\n",
              "      <td>Poison</td>\n",
              "      <td>405</td>\n",
              "      <td>60</td>\n",
              "      <td>62</td>\n",
              "      <td>63</td>\n",
              "      <td>80</td>\n",
              "      <td>80</td>\n",
              "      <td>60</td>\n",
              "      <td>1</td>\n",
              "      <td>False</td>\n",
              "    </tr>\n",
              "    <tr>\n",
              "      <th>2</th>\n",
              "      <td>3</td>\n",
              "      <td>Venusaur</td>\n",
              "      <td>Grass</td>\n",
              "      <td>Poison</td>\n",
              "      <td>525</td>\n",
              "      <td>80</td>\n",
              "      <td>82</td>\n",
              "      <td>83</td>\n",
              "      <td>100</td>\n",
              "      <td>100</td>\n",
              "      <td>80</td>\n",
              "      <td>1</td>\n",
              "      <td>False</td>\n",
              "    </tr>\n",
              "    <tr>\n",
              "      <th>3</th>\n",
              "      <td>3</td>\n",
              "      <td>VenusaurMega Venusaur</td>\n",
              "      <td>Grass</td>\n",
              "      <td>Poison</td>\n",
              "      <td>625</td>\n",
              "      <td>80</td>\n",
              "      <td>100</td>\n",
              "      <td>123</td>\n",
              "      <td>122</td>\n",
              "      <td>120</td>\n",
              "      <td>80</td>\n",
              "      <td>1</td>\n",
              "      <td>False</td>\n",
              "    </tr>\n",
              "    <tr>\n",
              "      <th>4</th>\n",
              "      <td>4</td>\n",
              "      <td>Charmander</td>\n",
              "      <td>Fire</td>\n",
              "      <td>NaN</td>\n",
              "      <td>309</td>\n",
              "      <td>39</td>\n",
              "      <td>52</td>\n",
              "      <td>43</td>\n",
              "      <td>60</td>\n",
              "      <td>50</td>\n",
              "      <td>65</td>\n",
              "      <td>1</td>\n",
              "      <td>False</td>\n",
              "    </tr>\n",
              "    <tr>\n",
              "      <th>...</th>\n",
              "      <td>...</td>\n",
              "      <td>...</td>\n",
              "      <td>...</td>\n",
              "      <td>...</td>\n",
              "      <td>...</td>\n",
              "      <td>...</td>\n",
              "      <td>...</td>\n",
              "      <td>...</td>\n",
              "      <td>...</td>\n",
              "      <td>...</td>\n",
              "      <td>...</td>\n",
              "      <td>...</td>\n",
              "      <td>...</td>\n",
              "    </tr>\n",
              "    <tr>\n",
              "      <th>795</th>\n",
              "      <td>719</td>\n",
              "      <td>Diancie</td>\n",
              "      <td>Rock</td>\n",
              "      <td>Fairy</td>\n",
              "      <td>600</td>\n",
              "      <td>50</td>\n",
              "      <td>100</td>\n",
              "      <td>150</td>\n",
              "      <td>100</td>\n",
              "      <td>150</td>\n",
              "      <td>50</td>\n",
              "      <td>6</td>\n",
              "      <td>True</td>\n",
              "    </tr>\n",
              "    <tr>\n",
              "      <th>796</th>\n",
              "      <td>719</td>\n",
              "      <td>DiancieMega Diancie</td>\n",
              "      <td>Rock</td>\n",
              "      <td>Fairy</td>\n",
              "      <td>700</td>\n",
              "      <td>50</td>\n",
              "      <td>160</td>\n",
              "      <td>110</td>\n",
              "      <td>160</td>\n",
              "      <td>110</td>\n",
              "      <td>110</td>\n",
              "      <td>6</td>\n",
              "      <td>True</td>\n",
              "    </tr>\n",
              "    <tr>\n",
              "      <th>797</th>\n",
              "      <td>720</td>\n",
              "      <td>HoopaHoopa Confined</td>\n",
              "      <td>Psychic</td>\n",
              "      <td>Ghost</td>\n",
              "      <td>600</td>\n",
              "      <td>80</td>\n",
              "      <td>110</td>\n",
              "      <td>60</td>\n",
              "      <td>150</td>\n",
              "      <td>130</td>\n",
              "      <td>70</td>\n",
              "      <td>6</td>\n",
              "      <td>True</td>\n",
              "    </tr>\n",
              "    <tr>\n",
              "      <th>798</th>\n",
              "      <td>720</td>\n",
              "      <td>HoopaHoopa Unbound</td>\n",
              "      <td>Psychic</td>\n",
              "      <td>Dark</td>\n",
              "      <td>680</td>\n",
              "      <td>80</td>\n",
              "      <td>160</td>\n",
              "      <td>60</td>\n",
              "      <td>170</td>\n",
              "      <td>130</td>\n",
              "      <td>80</td>\n",
              "      <td>6</td>\n",
              "      <td>True</td>\n",
              "    </tr>\n",
              "    <tr>\n",
              "      <th>799</th>\n",
              "      <td>721</td>\n",
              "      <td>Volcanion</td>\n",
              "      <td>Fire</td>\n",
              "      <td>Water</td>\n",
              "      <td>600</td>\n",
              "      <td>80</td>\n",
              "      <td>110</td>\n",
              "      <td>120</td>\n",
              "      <td>130</td>\n",
              "      <td>90</td>\n",
              "      <td>70</td>\n",
              "      <td>6</td>\n",
              "      <td>True</td>\n",
              "    </tr>\n",
              "  </tbody>\n",
              "</table>\n",
              "<p>800 rows × 13 columns</p>\n",
              "</div>"
            ],
            "text/plain": [
              "       #                   Name   Type 1  Type 2  Total  HP  Attack  Defense  \\\n",
              "0      1              Bulbasaur    Grass  Poison    318  45      49       49   \n",
              "1      2                Ivysaur    Grass  Poison    405  60      62       63   \n",
              "2      3               Venusaur    Grass  Poison    525  80      82       83   \n",
              "3      3  VenusaurMega Venusaur    Grass  Poison    625  80     100      123   \n",
              "4      4             Charmander     Fire     NaN    309  39      52       43   \n",
              "..   ...                    ...      ...     ...    ...  ..     ...      ...   \n",
              "795  719                Diancie     Rock   Fairy    600  50     100      150   \n",
              "796  719    DiancieMega Diancie     Rock   Fairy    700  50     160      110   \n",
              "797  720    HoopaHoopa Confined  Psychic   Ghost    600  80     110       60   \n",
              "798  720     HoopaHoopa Unbound  Psychic    Dark    680  80     160       60   \n",
              "799  721              Volcanion     Fire   Water    600  80     110      120   \n",
              "\n",
              "     Sp. Atk  Sp. Def  Speed  Generation  Legendary  \n",
              "0         65       65     45           1      False  \n",
              "1         80       80     60           1      False  \n",
              "2        100      100     80           1      False  \n",
              "3        122      120     80           1      False  \n",
              "4         60       50     65           1      False  \n",
              "..       ...      ...    ...         ...        ...  \n",
              "795      100      150     50           6       True  \n",
              "796      160      110    110           6       True  \n",
              "797      150      130     70           6       True  \n",
              "798      170      130     80           6       True  \n",
              "799      130       90     70           6       True  \n",
              "\n",
              "[800 rows x 13 columns]"
            ]
          },
          "execution_count": 2,
          "metadata": {},
          "output_type": "execute_result"
        }
      ],
      "source": [
        "#your code here\n",
        "import pandas as pd\n",
        "df=pd.read_csv(r\"C:\\Users\\munni\\Downloads\\W1_Pokemon.csv\")\n",
        "df\n",
        "\n"
      ]
    },
    {
      "cell_type": "markdown",
      "metadata": {
        "id": "K72xx38QKeRU"
      },
      "source": [
        "### 3) Display shape of dataframe\n",
        "Expected Output - (800, 13)"
      ]
    },
    {
      "cell_type": "code",
      "execution_count": 3,
      "metadata": {
        "id": "YPqY3euIKoCk"
      },
      "outputs": [
        {
          "data": {
            "text/plain": [
              "(800, 13)"
            ]
          },
          "execution_count": 3,
          "metadata": {},
          "output_type": "execute_result"
        }
      ],
      "source": [
        "#your code here\n",
        "df.shape"
      ]
    },
    {
      "cell_type": "markdown",
      "metadata": {
        "id": "qJm2x6TMKolc"
      },
      "source": [
        "### 4) Print all columns of dataframe\n",
        "Return an array containing names of all the columns."
      ]
    },
    {
      "cell_type": "code",
      "execution_count": 4,
      "metadata": {
        "id": "ocVSOb3kKvQV"
      },
      "outputs": [
        {
          "data": {
            "text/plain": [
              "Index(['#', 'Name', 'Type 1', 'Type 2', 'Total', 'HP', 'Attack', 'Defense',\n",
              "       'Sp. Atk', 'Sp. Def', 'Speed', 'Generation', 'Legendary'],\n",
              "      dtype='object')"
            ]
          },
          "execution_count": 4,
          "metadata": {},
          "output_type": "execute_result"
        }
      ],
      "source": [
        "#your code here\n",
        "df.columns"
      ]
    },
    {
      "cell_type": "markdown",
      "metadata": {
        "id": "HE0-ugnfKvl9"
      },
      "source": [
        "### 5) Remove the column '#' and update the dataframe."
      ]
    },
    {
      "cell_type": "code",
      "execution_count": 5,
      "metadata": {
        "id": "xU-1sxGCK7UF"
      },
      "outputs": [
        {
          "data": {
            "text/html": [
              "<div>\n",
              "<style scoped>\n",
              "    .dataframe tbody tr th:only-of-type {\n",
              "        vertical-align: middle;\n",
              "    }\n",
              "\n",
              "    .dataframe tbody tr th {\n",
              "        vertical-align: top;\n",
              "    }\n",
              "\n",
              "    .dataframe thead th {\n",
              "        text-align: right;\n",
              "    }\n",
              "</style>\n",
              "<table border=\"1\" class=\"dataframe\">\n",
              "  <thead>\n",
              "    <tr style=\"text-align: right;\">\n",
              "      <th></th>\n",
              "      <th>Name</th>\n",
              "      <th>Type 1</th>\n",
              "      <th>Type 2</th>\n",
              "      <th>Total</th>\n",
              "      <th>HP</th>\n",
              "      <th>Attack</th>\n",
              "      <th>Defense</th>\n",
              "      <th>Sp. Atk</th>\n",
              "      <th>Sp. Def</th>\n",
              "      <th>Speed</th>\n",
              "      <th>Generation</th>\n",
              "      <th>Legendary</th>\n",
              "    </tr>\n",
              "  </thead>\n",
              "  <tbody>\n",
              "    <tr>\n",
              "      <th>0</th>\n",
              "      <td>Bulbasaur</td>\n",
              "      <td>Grass</td>\n",
              "      <td>Poison</td>\n",
              "      <td>318</td>\n",
              "      <td>45</td>\n",
              "      <td>49</td>\n",
              "      <td>49</td>\n",
              "      <td>65</td>\n",
              "      <td>65</td>\n",
              "      <td>45</td>\n",
              "      <td>1</td>\n",
              "      <td>False</td>\n",
              "    </tr>\n",
              "    <tr>\n",
              "      <th>1</th>\n",
              "      <td>Ivysaur</td>\n",
              "      <td>Grass</td>\n",
              "      <td>Poison</td>\n",
              "      <td>405</td>\n",
              "      <td>60</td>\n",
              "      <td>62</td>\n",
              "      <td>63</td>\n",
              "      <td>80</td>\n",
              "      <td>80</td>\n",
              "      <td>60</td>\n",
              "      <td>1</td>\n",
              "      <td>False</td>\n",
              "    </tr>\n",
              "    <tr>\n",
              "      <th>2</th>\n",
              "      <td>Venusaur</td>\n",
              "      <td>Grass</td>\n",
              "      <td>Poison</td>\n",
              "      <td>525</td>\n",
              "      <td>80</td>\n",
              "      <td>82</td>\n",
              "      <td>83</td>\n",
              "      <td>100</td>\n",
              "      <td>100</td>\n",
              "      <td>80</td>\n",
              "      <td>1</td>\n",
              "      <td>False</td>\n",
              "    </tr>\n",
              "    <tr>\n",
              "      <th>3</th>\n",
              "      <td>VenusaurMega Venusaur</td>\n",
              "      <td>Grass</td>\n",
              "      <td>Poison</td>\n",
              "      <td>625</td>\n",
              "      <td>80</td>\n",
              "      <td>100</td>\n",
              "      <td>123</td>\n",
              "      <td>122</td>\n",
              "      <td>120</td>\n",
              "      <td>80</td>\n",
              "      <td>1</td>\n",
              "      <td>False</td>\n",
              "    </tr>\n",
              "    <tr>\n",
              "      <th>4</th>\n",
              "      <td>Charmander</td>\n",
              "      <td>Fire</td>\n",
              "      <td>NaN</td>\n",
              "      <td>309</td>\n",
              "      <td>39</td>\n",
              "      <td>52</td>\n",
              "      <td>43</td>\n",
              "      <td>60</td>\n",
              "      <td>50</td>\n",
              "      <td>65</td>\n",
              "      <td>1</td>\n",
              "      <td>False</td>\n",
              "    </tr>\n",
              "    <tr>\n",
              "      <th>...</th>\n",
              "      <td>...</td>\n",
              "      <td>...</td>\n",
              "      <td>...</td>\n",
              "      <td>...</td>\n",
              "      <td>...</td>\n",
              "      <td>...</td>\n",
              "      <td>...</td>\n",
              "      <td>...</td>\n",
              "      <td>...</td>\n",
              "      <td>...</td>\n",
              "      <td>...</td>\n",
              "      <td>...</td>\n",
              "    </tr>\n",
              "    <tr>\n",
              "      <th>795</th>\n",
              "      <td>Diancie</td>\n",
              "      <td>Rock</td>\n",
              "      <td>Fairy</td>\n",
              "      <td>600</td>\n",
              "      <td>50</td>\n",
              "      <td>100</td>\n",
              "      <td>150</td>\n",
              "      <td>100</td>\n",
              "      <td>150</td>\n",
              "      <td>50</td>\n",
              "      <td>6</td>\n",
              "      <td>True</td>\n",
              "    </tr>\n",
              "    <tr>\n",
              "      <th>796</th>\n",
              "      <td>DiancieMega Diancie</td>\n",
              "      <td>Rock</td>\n",
              "      <td>Fairy</td>\n",
              "      <td>700</td>\n",
              "      <td>50</td>\n",
              "      <td>160</td>\n",
              "      <td>110</td>\n",
              "      <td>160</td>\n",
              "      <td>110</td>\n",
              "      <td>110</td>\n",
              "      <td>6</td>\n",
              "      <td>True</td>\n",
              "    </tr>\n",
              "    <tr>\n",
              "      <th>797</th>\n",
              "      <td>HoopaHoopa Confined</td>\n",
              "      <td>Psychic</td>\n",
              "      <td>Ghost</td>\n",
              "      <td>600</td>\n",
              "      <td>80</td>\n",
              "      <td>110</td>\n",
              "      <td>60</td>\n",
              "      <td>150</td>\n",
              "      <td>130</td>\n",
              "      <td>70</td>\n",
              "      <td>6</td>\n",
              "      <td>True</td>\n",
              "    </tr>\n",
              "    <tr>\n",
              "      <th>798</th>\n",
              "      <td>HoopaHoopa Unbound</td>\n",
              "      <td>Psychic</td>\n",
              "      <td>Dark</td>\n",
              "      <td>680</td>\n",
              "      <td>80</td>\n",
              "      <td>160</td>\n",
              "      <td>60</td>\n",
              "      <td>170</td>\n",
              "      <td>130</td>\n",
              "      <td>80</td>\n",
              "      <td>6</td>\n",
              "      <td>True</td>\n",
              "    </tr>\n",
              "    <tr>\n",
              "      <th>799</th>\n",
              "      <td>Volcanion</td>\n",
              "      <td>Fire</td>\n",
              "      <td>Water</td>\n",
              "      <td>600</td>\n",
              "      <td>80</td>\n",
              "      <td>110</td>\n",
              "      <td>120</td>\n",
              "      <td>130</td>\n",
              "      <td>90</td>\n",
              "      <td>70</td>\n",
              "      <td>6</td>\n",
              "      <td>True</td>\n",
              "    </tr>\n",
              "  </tbody>\n",
              "</table>\n",
              "<p>800 rows × 12 columns</p>\n",
              "</div>"
            ],
            "text/plain": [
              "                      Name   Type 1  Type 2  Total  HP  Attack  Defense  \\\n",
              "0                Bulbasaur    Grass  Poison    318  45      49       49   \n",
              "1                  Ivysaur    Grass  Poison    405  60      62       63   \n",
              "2                 Venusaur    Grass  Poison    525  80      82       83   \n",
              "3    VenusaurMega Venusaur    Grass  Poison    625  80     100      123   \n",
              "4               Charmander     Fire     NaN    309  39      52       43   \n",
              "..                     ...      ...     ...    ...  ..     ...      ...   \n",
              "795                Diancie     Rock   Fairy    600  50     100      150   \n",
              "796    DiancieMega Diancie     Rock   Fairy    700  50     160      110   \n",
              "797    HoopaHoopa Confined  Psychic   Ghost    600  80     110       60   \n",
              "798     HoopaHoopa Unbound  Psychic    Dark    680  80     160       60   \n",
              "799              Volcanion     Fire   Water    600  80     110      120   \n",
              "\n",
              "     Sp. Atk  Sp. Def  Speed  Generation  Legendary  \n",
              "0         65       65     45           1      False  \n",
              "1         80       80     60           1      False  \n",
              "2        100      100     80           1      False  \n",
              "3        122      120     80           1      False  \n",
              "4         60       50     65           1      False  \n",
              "..       ...      ...    ...         ...        ...  \n",
              "795      100      150     50           6       True  \n",
              "796      160      110    110           6       True  \n",
              "797      150      130     70           6       True  \n",
              "798      170      130     80           6       True  \n",
              "799      130       90     70           6       True  \n",
              "\n",
              "[800 rows x 12 columns]"
            ]
          },
          "execution_count": 5,
          "metadata": {},
          "output_type": "execute_result"
        }
      ],
      "source": [
        "#your code here\n",
        "import pandas as pd\n",
        "df=pd.read_csv(r\"C:\\Users\\munni\\Downloads\\W1_Pokemon.csv\")\n",
        "\n",
        "df.drop(df.columns[0] , axis = 1 , inplace = True)\n",
        "df\n"
      ]
    },
    {
      "cell_type": "markdown",
      "metadata": {
        "id": "N9I30I5CK8NN"
      },
      "source": [
        "### 6) Set the 'Name' column as the index of dataframe"
      ]
    },
    {
      "cell_type": "code",
      "execution_count": 6,
      "metadata": {
        "id": "x9bxYl1nLCvE"
      },
      "outputs": [
        {
          "data": {
            "text/html": [
              "<div>\n",
              "<style scoped>\n",
              "    .dataframe tbody tr th:only-of-type {\n",
              "        vertical-align: middle;\n",
              "    }\n",
              "\n",
              "    .dataframe tbody tr th {\n",
              "        vertical-align: top;\n",
              "    }\n",
              "\n",
              "    .dataframe thead th {\n",
              "        text-align: right;\n",
              "    }\n",
              "</style>\n",
              "<table border=\"1\" class=\"dataframe\">\n",
              "  <thead>\n",
              "    <tr style=\"text-align: right;\">\n",
              "      <th></th>\n",
              "      <th>#</th>\n",
              "      <th>Type 1</th>\n",
              "      <th>Type 2</th>\n",
              "      <th>Total</th>\n",
              "      <th>HP</th>\n",
              "      <th>Attack</th>\n",
              "      <th>Defense</th>\n",
              "      <th>Sp. Atk</th>\n",
              "      <th>Sp. Def</th>\n",
              "      <th>Speed</th>\n",
              "      <th>Generation</th>\n",
              "      <th>Legendary</th>\n",
              "    </tr>\n",
              "    <tr>\n",
              "      <th>Name</th>\n",
              "      <th></th>\n",
              "      <th></th>\n",
              "      <th></th>\n",
              "      <th></th>\n",
              "      <th></th>\n",
              "      <th></th>\n",
              "      <th></th>\n",
              "      <th></th>\n",
              "      <th></th>\n",
              "      <th></th>\n",
              "      <th></th>\n",
              "      <th></th>\n",
              "    </tr>\n",
              "  </thead>\n",
              "  <tbody>\n",
              "    <tr>\n",
              "      <th>Bulbasaur</th>\n",
              "      <td>1</td>\n",
              "      <td>Grass</td>\n",
              "      <td>Poison</td>\n",
              "      <td>318</td>\n",
              "      <td>45</td>\n",
              "      <td>49</td>\n",
              "      <td>49</td>\n",
              "      <td>65</td>\n",
              "      <td>65</td>\n",
              "      <td>45</td>\n",
              "      <td>1</td>\n",
              "      <td>False</td>\n",
              "    </tr>\n",
              "    <tr>\n",
              "      <th>Ivysaur</th>\n",
              "      <td>2</td>\n",
              "      <td>Grass</td>\n",
              "      <td>Poison</td>\n",
              "      <td>405</td>\n",
              "      <td>60</td>\n",
              "      <td>62</td>\n",
              "      <td>63</td>\n",
              "      <td>80</td>\n",
              "      <td>80</td>\n",
              "      <td>60</td>\n",
              "      <td>1</td>\n",
              "      <td>False</td>\n",
              "    </tr>\n",
              "    <tr>\n",
              "      <th>Venusaur</th>\n",
              "      <td>3</td>\n",
              "      <td>Grass</td>\n",
              "      <td>Poison</td>\n",
              "      <td>525</td>\n",
              "      <td>80</td>\n",
              "      <td>82</td>\n",
              "      <td>83</td>\n",
              "      <td>100</td>\n",
              "      <td>100</td>\n",
              "      <td>80</td>\n",
              "      <td>1</td>\n",
              "      <td>False</td>\n",
              "    </tr>\n",
              "    <tr>\n",
              "      <th>VenusaurMega Venusaur</th>\n",
              "      <td>3</td>\n",
              "      <td>Grass</td>\n",
              "      <td>Poison</td>\n",
              "      <td>625</td>\n",
              "      <td>80</td>\n",
              "      <td>100</td>\n",
              "      <td>123</td>\n",
              "      <td>122</td>\n",
              "      <td>120</td>\n",
              "      <td>80</td>\n",
              "      <td>1</td>\n",
              "      <td>False</td>\n",
              "    </tr>\n",
              "    <tr>\n",
              "      <th>Charmander</th>\n",
              "      <td>4</td>\n",
              "      <td>Fire</td>\n",
              "      <td>NaN</td>\n",
              "      <td>309</td>\n",
              "      <td>39</td>\n",
              "      <td>52</td>\n",
              "      <td>43</td>\n",
              "      <td>60</td>\n",
              "      <td>50</td>\n",
              "      <td>65</td>\n",
              "      <td>1</td>\n",
              "      <td>False</td>\n",
              "    </tr>\n",
              "    <tr>\n",
              "      <th>...</th>\n",
              "      <td>...</td>\n",
              "      <td>...</td>\n",
              "      <td>...</td>\n",
              "      <td>...</td>\n",
              "      <td>...</td>\n",
              "      <td>...</td>\n",
              "      <td>...</td>\n",
              "      <td>...</td>\n",
              "      <td>...</td>\n",
              "      <td>...</td>\n",
              "      <td>...</td>\n",
              "      <td>...</td>\n",
              "    </tr>\n",
              "    <tr>\n",
              "      <th>Diancie</th>\n",
              "      <td>719</td>\n",
              "      <td>Rock</td>\n",
              "      <td>Fairy</td>\n",
              "      <td>600</td>\n",
              "      <td>50</td>\n",
              "      <td>100</td>\n",
              "      <td>150</td>\n",
              "      <td>100</td>\n",
              "      <td>150</td>\n",
              "      <td>50</td>\n",
              "      <td>6</td>\n",
              "      <td>True</td>\n",
              "    </tr>\n",
              "    <tr>\n",
              "      <th>DiancieMega Diancie</th>\n",
              "      <td>719</td>\n",
              "      <td>Rock</td>\n",
              "      <td>Fairy</td>\n",
              "      <td>700</td>\n",
              "      <td>50</td>\n",
              "      <td>160</td>\n",
              "      <td>110</td>\n",
              "      <td>160</td>\n",
              "      <td>110</td>\n",
              "      <td>110</td>\n",
              "      <td>6</td>\n",
              "      <td>True</td>\n",
              "    </tr>\n",
              "    <tr>\n",
              "      <th>HoopaHoopa Confined</th>\n",
              "      <td>720</td>\n",
              "      <td>Psychic</td>\n",
              "      <td>Ghost</td>\n",
              "      <td>600</td>\n",
              "      <td>80</td>\n",
              "      <td>110</td>\n",
              "      <td>60</td>\n",
              "      <td>150</td>\n",
              "      <td>130</td>\n",
              "      <td>70</td>\n",
              "      <td>6</td>\n",
              "      <td>True</td>\n",
              "    </tr>\n",
              "    <tr>\n",
              "      <th>HoopaHoopa Unbound</th>\n",
              "      <td>720</td>\n",
              "      <td>Psychic</td>\n",
              "      <td>Dark</td>\n",
              "      <td>680</td>\n",
              "      <td>80</td>\n",
              "      <td>160</td>\n",
              "      <td>60</td>\n",
              "      <td>170</td>\n",
              "      <td>130</td>\n",
              "      <td>80</td>\n",
              "      <td>6</td>\n",
              "      <td>True</td>\n",
              "    </tr>\n",
              "    <tr>\n",
              "      <th>Volcanion</th>\n",
              "      <td>721</td>\n",
              "      <td>Fire</td>\n",
              "      <td>Water</td>\n",
              "      <td>600</td>\n",
              "      <td>80</td>\n",
              "      <td>110</td>\n",
              "      <td>120</td>\n",
              "      <td>130</td>\n",
              "      <td>90</td>\n",
              "      <td>70</td>\n",
              "      <td>6</td>\n",
              "      <td>True</td>\n",
              "    </tr>\n",
              "  </tbody>\n",
              "</table>\n",
              "<p>800 rows × 12 columns</p>\n",
              "</div>"
            ],
            "text/plain": [
              "                         #   Type 1  Type 2  Total  HP  Attack  Defense  \\\n",
              "Name                                                                      \n",
              "Bulbasaur                1    Grass  Poison    318  45      49       49   \n",
              "Ivysaur                  2    Grass  Poison    405  60      62       63   \n",
              "Venusaur                 3    Grass  Poison    525  80      82       83   \n",
              "VenusaurMega Venusaur    3    Grass  Poison    625  80     100      123   \n",
              "Charmander               4     Fire     NaN    309  39      52       43   \n",
              "...                    ...      ...     ...    ...  ..     ...      ...   \n",
              "Diancie                719     Rock   Fairy    600  50     100      150   \n",
              "DiancieMega Diancie    719     Rock   Fairy    700  50     160      110   \n",
              "HoopaHoopa Confined    720  Psychic   Ghost    600  80     110       60   \n",
              "HoopaHoopa Unbound     720  Psychic    Dark    680  80     160       60   \n",
              "Volcanion              721     Fire   Water    600  80     110      120   \n",
              "\n",
              "                       Sp. Atk  Sp. Def  Speed  Generation  Legendary  \n",
              "Name                                                                   \n",
              "Bulbasaur                   65       65     45           1      False  \n",
              "Ivysaur                     80       80     60           1      False  \n",
              "Venusaur                   100      100     80           1      False  \n",
              "VenusaurMega Venusaur      122      120     80           1      False  \n",
              "Charmander                  60       50     65           1      False  \n",
              "...                        ...      ...    ...         ...        ...  \n",
              "Diancie                    100      150     50           6       True  \n",
              "DiancieMega Diancie        160      110    110           6       True  \n",
              "HoopaHoopa Confined        150      130     70           6       True  \n",
              "HoopaHoopa Unbound         170      130     80           6       True  \n",
              "Volcanion                  130       90     70           6       True  \n",
              "\n",
              "[800 rows x 12 columns]"
            ]
          },
          "execution_count": 6,
          "metadata": {},
          "output_type": "execute_result"
        }
      ],
      "source": [
        "#your code here\n",
        "import pandas as pd\n",
        "df=pd.read_csv(r\"C:\\Users\\munni\\Downloads\\W1_Pokemon.csv\")\n",
        "\n",
        "df.set_index(df.columns[1],inplace=True)\n",
        "df\n",
        "\n"
      ]
    },
    {
      "cell_type": "markdown",
      "metadata": {
        "id": "04L2giwTLElt"
      },
      "source": [
        "###  7) Print a list of all the unique Type-1 powers"
      ]
    },
    {
      "cell_type": "code",
      "execution_count": 7,
      "metadata": {
        "id": "Svgs2agDLYxt"
      },
      "outputs": [
        {
          "data": {
            "text/plain": [
              "array(['Grass', 'Fire', 'Water', 'Bug', 'Normal', 'Poison', 'Electric',\n",
              "       'Ground', 'Fairy', 'Fighting', 'Psychic', 'Rock', 'Ghost', 'Ice',\n",
              "       'Dragon', 'Dark', 'Steel', 'Flying'], dtype=object)"
            ]
          },
          "execution_count": 7,
          "metadata": {},
          "output_type": "execute_result"
        }
      ],
      "source": [
        "#your code here\n",
        "import pandas as pd\n",
        "df=pd.read_csv(r\"C:\\Users\\munni\\Downloads\\W1_Pokemon.csv\")\n",
        "df['Type 1'].unique()\n",
        "\n"
      ]
    },
    {
      "cell_type": "markdown",
      "metadata": {
        "id": "68YuzJ5zXJAx"
      },
      "source": [
        " 8) Create a column which contains the Type 1 and Type 2 abilities of pokemons, seperated with a '+'' sign. Also, display the no. of pokemons that have type-1 power as 'Psychic' and type 2 power as 'Flying' using this new column."
      ]
    },
    {
      "cell_type": "code",
      "execution_count": 8,
      "metadata": {
        "id": "igpYFRjLXLiZ"
      },
      "outputs": [
        {
          "name": "stdout",
          "output_type": "stream",
          "text": [
            "Number of Pokémon with Type 1 as 'Psychic' and Type 2 as 'Flying': 6\n"
          ]
        }
      ],
      "source": [
        "#your code here\n",
        "import pandas as pd\n",
        "df=pd.read_csv(r\"C:\\Users\\munni\\Downloads\\W1_Pokemon.csv\")\n",
        "df['Type 1+2'] = df['Type 1'] + '+' + df['Type 2'].fillna('')\n",
        "count_psychic_flying = df[(df['Type 1'] == 'Psychic') & (df['Type 2'] == 'Flying')].shape[0]\n",
        "print(f\"Number of Pokémon with Type 1 as 'Psychic' and Type 2 as 'Flying': {count_psychic_flying}\")\n",
        "\n",
        "\n"
      ]
    },
    {
      "cell_type": "markdown",
      "metadata": {
        "id": "0uujLHgHLbVO"
      },
      "source": [
        "## GRADED Questions (To be answered in the quiz)\n",
        "### Try to retrieve some information from the data and answer the questions below . BEST OF LUCK !!"
      ]
    },
    {
      "cell_type": "markdown",
      "metadata": {
        "id": "SR7p7NhNU2vy"
      },
      "source": [
        " 1. How many pokemons have 'Mega' in their name?"
      ]
    },
    {
      "cell_type": "code",
      "execution_count": 9,
      "metadata": {
        "id": "Jj4cUag7WZYB"
      },
      "outputs": [
        {
          "name": "stdout",
          "output_type": "stream",
          "text": [
            "49\n"
          ]
        }
      ],
      "source": [
        "#your code here\n",
        "import pandas as pd\n",
        "df=pd.read_csv(r\"C:\\Users\\munni\\Downloads\\W1_Pokemon.csv\")\n",
        "a = df[df['Name'].str.contains('Mega')].shape[0]\n",
        "print(a)\n"
      ]
    },
    {
      "cell_type": "markdown",
      "metadata": {
        "id": "yL9loV4IWZwp"
      },
      "source": [
        "### 2. What is the standard deviation of Sp. Def. in the dataset ?"
      ]
    },
    {
      "cell_type": "code",
      "execution_count": 10,
      "metadata": {
        "id": "WjOwyU89WlwR"
      },
      "outputs": [
        {
          "name": "stdout",
          "output_type": "stream",
          "text": [
            "27.82891579711746\n"
          ]
        }
      ],
      "source": [
        "#your code here\n",
        "import pandas as pd\n",
        "df=pd.read_csv(r\"C:\\Users\\munni\\Downloads\\W1_Pokemon.csv\")\n",
        "a=df['Sp. Def'].std()\n",
        "print(a)\n"
      ]
    },
    {
      "cell_type": "markdown",
      "metadata": {
        "id": "PfUPj9e7Wmkx"
      },
      "source": [
        " 3. What percentage (upto 3 decimal places) of pokemons are legendary ?"
      ]
    },
    {
      "cell_type": "code",
      "execution_count": 11,
      "metadata": {},
      "outputs": [
        {
          "name": "stdout",
          "output_type": "stream",
          "text": [
            "8.125\n"
          ]
        }
      ],
      "source": [
        "a = df.shape[0]\n",
        "b = df[df['Legendary'] == True].shape[0]\n",
        "c = (b / a) * 100\n",
        "print(c)\n"
      ]
    },
    {
      "cell_type": "code",
      "execution_count": null,
      "metadata": {},
      "outputs": [],
      "source": []
    },
    {
      "cell_type": "code",
      "execution_count": 12,
      "metadata": {
        "id": "Qoy0rPpUW2lp"
      },
      "outputs": [],
      "source": [
        "#your code here\n"
      ]
    },
    {
      "cell_type": "markdown",
      "metadata": {
        "id": "0IqKY_vvW216"
      },
      "source": [
        "### 4. Name the pokemon(s) with Maximum Defense."
      ]
    },
    {
      "cell_type": "code",
      "execution_count": 13,
      "metadata": {
        "id": "ZsUW7kZzXeKR"
      },
      "outputs": [
        {
          "name": "stdout",
          "output_type": "stream",
          "text": [
            "230\n"
          ]
        }
      ],
      "source": [
        "#your code here\n",
        "import pandas as pd\n",
        "df=pd.read_csv(r\"C:\\Users\\munni\\Downloads\\W1_Pokemon.csv\")\n",
        "a=df['Defense'].max()\n",
        "print(a)"
      ]
    },
    {
      "cell_type": "markdown",
      "metadata": {
        "id": "Ds33LC6dXema"
      },
      "source": [
        "### 5. Which poison pokemon has the strongest attack ?"
      ]
    },
    {
      "cell_type": "code",
      "execution_count": 14,
      "metadata": {
        "id": "TRy2Tb_GXqcp"
      },
      "outputs": [
        {
          "name": "stdout",
          "output_type": "stream",
          "text": [
            "#                                15\n",
            "Name          BeedrillMega Beedrill\n",
            "Type 1                          Bug\n",
            "Type 2                       Poison\n",
            "Total                           495\n",
            "HP                               65\n",
            "Attack                          150\n",
            "Defense                          40\n",
            "Sp. Atk                          15\n",
            "Sp. Def                          80\n",
            "Speed                           145\n",
            "Generation                        1\n",
            "Legendary                     False\n",
            "Name: 19, dtype: object\n"
          ]
        }
      ],
      "source": [
        "#your code here\n",
        "import pandas as pd \n",
        "df=pd.read_csv(r\"C:\\Users\\munni\\Downloads\\W1_Pokemon.csv\")\n",
        "a = df[(df['Type 1'] == 'Poison') | (df['Type 2'] == 'Poison')]\n",
        "b = a.loc[a['Attack'].idxmax()]\n",
        "print(b)\n",
        "\n",
        "\n"
      ]
    },
    {
      "cell_type": "markdown",
      "metadata": {
        "id": "ate8hMAkYCph"
      },
      "source": [
        " 6. Using seaborn make different types of plots, observe the trend and answer the questions given in the form."
      ]
    },
    {
      "cell_type": "code",
      "execution_count": 15,
      "metadata": {
        "id": "pbBwBWxGZhAz"
      },
      "outputs": [
        {
          "data": {
            "image/png": "[encoded data removed]",
            "text/plain": [
              "<Figure size 1000x600 with 1 Axes>"
            ]
          },
          "metadata": {},
          "output_type": "display_data"
        }
      ],
      "source": [
        "#your code here\n",
        "import pandas as pd\n",
        "import seaborn as sns\n",
        "import matplotlib.pyplot as plt\n",
        "df=pd.read_csv(r\"C:\\Users\\munni\\Downloads\\W1_Pokemon.csv\")\n",
        "plt.figure(figsize=(10, 6))\n",
        "sns.histplot(df['Attack'], kde=True)\n",
        "plt.title('Distribution of Attacks')\n",
        "plt.xlabel('Attack')\n",
        "plt.ylabel('Frequency')\n",
        "plt.show()\n",
        "\n",
        "\n",
        "\n"
      ]
    },
    {
      "cell_type": "code",
      "execution_count": 16,
      "metadata": {
        "id": "2AUlwkPaZhb6"
      },
      "outputs": [
        {
          "data": {
            "image/png": "[encoded data removed]",
            "text/plain": [
              "<Figure size 1000x600 with 1 Axes>"
            ]
          },
          "metadata": {},
          "output_type": "display_data"
        }
      ],
      "source": [
        "#your code here\n",
        "import pandas as pd\n",
        "import seaborn as sns\n",
        "import matplotlib.pyplot as plt\n",
        "plt.figure(figsize=(10, 6))\n",
        "sns.scatterplot(data=df, x='Attack', y='Defense', hue='Legendary', style='Legendary')\n",
        "plt.title('Attack vs. Defense')\n",
        "plt.xlabel('Attack')\n",
        "plt.ylabel('Defense')\n",
        "plt.show()\n"
      ]
    },
    {
      "cell_type": "code",
      "execution_count": 17,
      "metadata": {
        "id": "CVeZfGhiZhs5"
      },
      "outputs": [
        {
          "data": {
            "image/png": "[encoded data removed]",
            "text/plain": [
              "<Figure size 1400x800 with 1 Axes>"
            ]
          },
          "metadata": {},
          "output_type": "display_data"
        }
      ],
      "source": [
        "#your code here\n",
        "import pandas as pd\n",
        "import seaborn as sns\n",
        "import matplotlib.pyplot as plt\n",
        "plt.figure(figsize=(14, 8))\n",
        "sns.boxplot(data=df, x='Type 1', y='Attack')\n",
        "plt.title('Attack Stats by Primary Type')\n",
        "plt.xlabel('Primary Type')\n",
        "plt.ylabel('Attack')\n",
        "plt.xticks(rotation=45)\n",
        "plt.show()\n",
        "\n"
      ]
    },
    {
      "cell_type": "markdown",
      "metadata": {
        "id": "bJD_71DtXqu5"
      },
      "source": [
        "### 7. Which is the second fastest non-legendary 'Ghost' type pokemon from 4th generation ?"
      ]
    },
    {
      "cell_type": "code",
      "execution_count": 18,
      "metadata": {
        "id": "9zPGLRAtYCRB"
      },
      "outputs": [
        {
          "ename": "KeyError",
          "evalue": "'Height'",
          "output_type": "error",
          "traceback": [
            "\u001b[1;31m---------------------------------------------------------------------------\u001b[0m",
            "\u001b[1;31mKeyError\u001b[0m                                  Traceback (most recent call last)",
            "\u001b[1;32m~\\AppData\\Local\\Temp\\ipykernel_9816\\3500239089.py\u001b[0m in \u001b[0;36m?\u001b[1;34m()\u001b[0m\n\u001b[0;32m      3\u001b[0m \u001b[0mdf\u001b[0m\u001b[1;33m=\u001b[0m\u001b[0mpd\u001b[0m\u001b[1;33m.\u001b[0m\u001b[0mread_csv\u001b[0m\u001b[1;33m(\u001b[0m\u001b[1;34mr\"C:\\Users\\munni\\Downloads\\W1_Pokemon.csv\"\u001b[0m\u001b[1;33m)\u001b[0m\u001b[1;33m\u001b[0m\u001b[1;33m\u001b[0m\u001b[0m\n\u001b[0;32m      4\u001b[0m a = df[((df['Type 1'] == 'Ghost') | (df['Type 2'] == 'Ghost')) &\n\u001b[0;32m      5\u001b[0m        \u001b[1;33m(\u001b[0m\u001b[0mdf\u001b[0m\u001b[1;33m[\u001b[0m\u001b[1;34m'Generation'\u001b[0m\u001b[1;33m]\u001b[0m \u001b[1;33m==\u001b[0m \u001b[1;36m4\u001b[0m\u001b[1;33m)\u001b[0m \u001b[1;33m&\u001b[0m\u001b[1;33m\u001b[0m\u001b[1;33m\u001b[0m\u001b[0m\n\u001b[0;32m      6\u001b[0m        \u001b[1;33m(\u001b[0m\u001b[0mdf\u001b[0m\u001b[1;33m[\u001b[0m\u001b[1;34m'Legendary'\u001b[0m\u001b[1;33m]\u001b[0m \u001b[1;33m==\u001b[0m \u001b[1;32mFalse\u001b[0m\u001b[1;33m)\u001b[0m\u001b[1;33m]\u001b[0m\u001b[1;33m\u001b[0m\u001b[1;33m\u001b[0m\u001b[0m\n\u001b[1;32m----> 7\u001b[1;33m \u001b[0mb\u001b[0m \u001b[1;33m=\u001b[0m \u001b[0ma\u001b[0m\u001b[1;33m.\u001b[0m\u001b[0msort_values\u001b[0m\u001b[1;33m(\u001b[0m\u001b[0mby\u001b[0m\u001b[1;33m=\u001b[0m\u001b[1;34m'Height'\u001b[0m\u001b[1;33m,\u001b[0m \u001b[0mascending\u001b[0m\u001b[1;33m=\u001b[0m\u001b[1;32mFalse\u001b[0m\u001b[1;33m)\u001b[0m\u001b[1;33m\u001b[0m\u001b[1;33m\u001b[0m\u001b[0m\n\u001b[0m\u001b[0;32m      8\u001b[0m \u001b[0mc\u001b[0m \u001b[1;33m=\u001b[0m \u001b[0mb\u001b[0m\u001b[1;33m.\u001b[0m\u001b[0miloc\u001b[0m\u001b[1;33m[\u001b[0m\u001b[1;36m1\u001b[0m\u001b[1;33m]\u001b[0m\u001b[1;33m\u001b[0m\u001b[1;33m\u001b[0m\u001b[0m\n\u001b[0;32m      9\u001b[0m \u001b[0mprint\u001b[0m\u001b[1;33m(\u001b[0m\u001b[0mc\u001b[0m\u001b[1;33m)\u001b[0m\u001b[1;33m\u001b[0m\u001b[1;33m\u001b[0m\u001b[0m\n\u001b[0;32m     10\u001b[0m \u001b[1;33m\u001b[0m\u001b[0m\n",
            "\u001b[1;32m~\\AppData\\Roaming\\Python\\Python312\\site-packages\\pandas\\core\\frame.py\u001b[0m in \u001b[0;36m?\u001b[1;34m(self, by, axis, ascending, inplace, kind, na_position, ignore_index, key)\u001b[0m\n\u001b[0;32m   7185\u001b[0m             \u001b[1;33m)\u001b[0m\u001b[1;33m\u001b[0m\u001b[1;33m\u001b[0m\u001b[0m\n\u001b[0;32m   7186\u001b[0m         \u001b[1;32melif\u001b[0m \u001b[0mlen\u001b[0m\u001b[1;33m(\u001b[0m\u001b[0mby\u001b[0m\u001b[1;33m)\u001b[0m\u001b[1;33m:\u001b[0m\u001b[1;33m\u001b[0m\u001b[1;33m\u001b[0m\u001b[0m\n\u001b[0;32m   7187\u001b[0m             \u001b[1;31m# len(by) == 1\u001b[0m\u001b[1;33m\u001b[0m\u001b[1;33m\u001b[0m\u001b[0m\n\u001b[0;32m   7188\u001b[0m \u001b[1;33m\u001b[0m\u001b[0m\n\u001b[1;32m-> 7189\u001b[1;33m             \u001b[0mk\u001b[0m \u001b[1;33m=\u001b[0m \u001b[0mself\u001b[0m\u001b[1;33m.\u001b[0m\u001b[0m_get_label_or_level_values\u001b[0m\u001b[1;33m(\u001b[0m\u001b[0mby\u001b[0m\u001b[1;33m[\u001b[0m\u001b[1;36m0\u001b[0m\u001b[1;33m]\u001b[0m\u001b[1;33m,\u001b[0m \u001b[0maxis\u001b[0m\u001b[1;33m=\u001b[0m\u001b[0maxis\u001b[0m\u001b[1;33m)\u001b[0m\u001b[1;33m\u001b[0m\u001b[1;33m\u001b[0m\u001b[0m\n\u001b[0m\u001b[0;32m   7190\u001b[0m \u001b[1;33m\u001b[0m\u001b[0m\n\u001b[0;32m   7191\u001b[0m             \u001b[1;31m# need to rewrap column in Series to apply key function\u001b[0m\u001b[1;33m\u001b[0m\u001b[1;33m\u001b[0m\u001b[0m\n\u001b[0;32m   7192\u001b[0m             \u001b[1;32mif\u001b[0m \u001b[0mkey\u001b[0m \u001b[1;32mis\u001b[0m \u001b[1;32mnot\u001b[0m \u001b[1;32mNone\u001b[0m\u001b[1;33m:\u001b[0m\u001b[1;33m\u001b[0m\u001b[1;33m\u001b[0m\u001b[0m\n",
            "\u001b[1;32m~\\AppData\\Roaming\\Python\\Python312\\site-packages\\pandas\\core\\generic.py\u001b[0m in \u001b[0;36m?\u001b[1;34m(self, key, axis)\u001b[0m\n\u001b[0;32m   1907\u001b[0m             \u001b[0mvalues\u001b[0m \u001b[1;33m=\u001b[0m \u001b[0mself\u001b[0m\u001b[1;33m.\u001b[0m\u001b[0mxs\u001b[0m\u001b[1;33m(\u001b[0m\u001b[0mkey\u001b[0m\u001b[1;33m,\u001b[0m \u001b[0maxis\u001b[0m\u001b[1;33m=\u001b[0m\u001b[0mother_axes\u001b[0m\u001b[1;33m[\u001b[0m\u001b[1;36m0\u001b[0m\u001b[1;33m]\u001b[0m\u001b[1;33m)\u001b[0m\u001b[1;33m.\u001b[0m\u001b[0m_values\u001b[0m\u001b[1;33m\u001b[0m\u001b[1;33m\u001b[0m\u001b[0m\n\u001b[0;32m   1908\u001b[0m         \u001b[1;32melif\u001b[0m \u001b[0mself\u001b[0m\u001b[1;33m.\u001b[0m\u001b[0m_is_level_reference\u001b[0m\u001b[1;33m(\u001b[0m\u001b[0mkey\u001b[0m\u001b[1;33m,\u001b[0m \u001b[0maxis\u001b[0m\u001b[1;33m=\u001b[0m\u001b[0maxis\u001b[0m\u001b[1;33m)\u001b[0m\u001b[1;33m:\u001b[0m\u001b[1;33m\u001b[0m\u001b[1;33m\u001b[0m\u001b[0m\n\u001b[0;32m   1909\u001b[0m             \u001b[0mvalues\u001b[0m \u001b[1;33m=\u001b[0m \u001b[0mself\u001b[0m\u001b[1;33m.\u001b[0m\u001b[0maxes\u001b[0m\u001b[1;33m[\u001b[0m\u001b[0maxis\u001b[0m\u001b[1;33m]\u001b[0m\u001b[1;33m.\u001b[0m\u001b[0mget_level_values\u001b[0m\u001b[1;33m(\u001b[0m\u001b[0mkey\u001b[0m\u001b[1;33m)\u001b[0m\u001b[1;33m.\u001b[0m\u001b[0m_values\u001b[0m\u001b[1;33m\u001b[0m\u001b[1;33m\u001b[0m\u001b[0m\n\u001b[0;32m   1910\u001b[0m         \u001b[1;32melse\u001b[0m\u001b[1;33m:\u001b[0m\u001b[1;33m\u001b[0m\u001b[1;33m\u001b[0m\u001b[0m\n\u001b[1;32m-> 1911\u001b[1;33m             \u001b[1;32mraise\u001b[0m \u001b[0mKeyError\u001b[0m\u001b[1;33m(\u001b[0m\u001b[0mkey\u001b[0m\u001b[1;33m)\u001b[0m\u001b[1;33m\u001b[0m\u001b[1;33m\u001b[0m\u001b[0m\n\u001b[0m\u001b[0;32m   1912\u001b[0m \u001b[1;33m\u001b[0m\u001b[0m\n\u001b[0;32m   1913\u001b[0m         \u001b[1;31m# Check for duplicates\u001b[0m\u001b[1;33m\u001b[0m\u001b[1;33m\u001b[0m\u001b[0m\n\u001b[0;32m   1914\u001b[0m         \u001b[1;32mif\u001b[0m \u001b[0mvalues\u001b[0m\u001b[1;33m.\u001b[0m\u001b[0mndim\u001b[0m \u001b[1;33m>\u001b[0m \u001b[1;36m1\u001b[0m\u001b[1;33m:\u001b[0m\u001b[1;33m\u001b[0m\u001b[1;33m\u001b[0m\u001b[0m\n",
            "\u001b[1;31mKeyError\u001b[0m: 'Height'"
          ]
        }
      ],
      "source": [
        "#your code here\n",
        "import pandas as pd \n",
        "df=pd.read_csv(r\"C:\\Users\\munni\\Downloads\\W1_Pokemon.csv\")\n",
        "a = df[((df['Type 1'] == 'Ghost') | (df['Type 2'] == 'Ghost')) &\n",
        "       (df['Generation'] == 4) & \n",
        "       (df['Legendary'] == False)]\n",
        "b = a.sort_values(by='Height', ascending=False)\n",
        "c = b.iloc[1]\n",
        "print(c)\n",
        "\n",
        " \n",
        "\n"
      ]
    },
    {
      "cell_type": "markdown",
      "metadata": {
        "id": "j8IP_iLPZkji"
      },
      "source": [
        " 8. How many non-legendary pokemons have stronger defence but weaker attack than Charizard?"
      ]
    },
    {
      "cell_type": "code",
      "execution_count": null,
      "metadata": {
        "id": "RuQjMFP7cWsK"
      },
      "outputs": [
        {
          "name": "stdout",
          "output_type": "stream",
          "text": [
            "116\n"
          ]
        }
      ],
      "source": [
        "#your code here\n",
        "import pandas as pd \n",
        "df=pd.read_csv(r\"C:\\Users\\munni\\Downloads\\W1_Pokemon.csv\")\n",
        "charizard_stats = df[df['Name'] == 'Charizard'][['Attack', 'Defense']].iloc[0]\n",
        "charizard_attack = charizard_stats['Attack']\n",
        "charizard_defense = charizard_stats['Defense']\n",
        "\n",
        "filtered_pokemon = df[(df['Legendary'] == False) & \n",
        "                      (df['Defense'] > charizard_defense) & \n",
        "                      (df['Attack'] < charizard_attack)]\n",
        "count_filtered_pokemon = filtered_pokemon.shape[0]\n",
        "print(count_filtered_pokemon)\n"
      ]
    },
    {
      "cell_type": "markdown",
      "metadata": {
        "id": "ihbDgfEwZ_Rx"
      },
      "source": [
        "\n",
        "## ***Bonus Questions***\n",
        "## Here are some bonus questions that you can try further !\n",
        "\n",
        "### These questions are UNGRADED, and are given as an extra exercise."
      ]
    },
    {
      "cell_type": "markdown",
      "metadata": {
        "id": "xTFgCWtqdZSi"
      },
      "source": [
        " Which pokemon has the highest combined value of Attack and Sp. Atk ?"
      ]
    },
    {
      "cell_type": "code",
      "execution_count": null,
      "metadata": {
        "id": "BMLOKdEQdg_J"
      },
      "outputs": [
        {
          "name": "stdout",
          "output_type": "stream",
          "text": [
            "#                                          384\n",
            "Name                     RayquazaMega Rayquaza\n",
            "Type 1                                  Dragon\n",
            "Type 2                                  Flying\n",
            "Total                                      780\n",
            "HP                                         105\n",
            "Attack                                     180\n",
            "Defense                                    100\n",
            "Sp. Atk                                    180\n",
            "Sp. Def                                    100\n",
            "Speed                                      115\n",
            "Generation                                   3\n",
            "Legendary                                 True\n",
            "Attack_SpAtk_Combined                      360\n",
            "Name: 426, dtype: object\n"
          ]
        }
      ],
      "source": [
        "#your code here\n",
        "import pandas as pd \n",
        "df=pd.read_csv(r\"C:\\Users\\munni\\Downloads\\W1_Pokemon.csv\")\n",
        "df['Attack_SpAtk_Combined'] = df['Attack'] + df['Sp. Atk']\n",
        "highest_combined_pokemon = df.loc[df['Attack_SpAtk_Combined'].idxmax()]\n",
        "print(highest_combined_pokemon)\n"
      ]
    },
    {
      "cell_type": "markdown",
      "metadata": {
        "id": "0nJ76FFIeTKq"
      },
      "source": [
        " Which type of legendary pokemons are the most common?"
      ]
    },
    {
      "cell_type": "code",
      "execution_count": null,
      "metadata": {
        "id": "e6XecJLkeUmK"
      },
      "outputs": [
        {
          "name": "stdout",
          "output_type": "stream",
          "text": [
            "19.0\n"
          ]
        }
      ],
      "source": [
        "#your code here\n",
        "import pandas as pd \n",
        "df=pd.read_csv(r\"C:\\Users\\munni\\Downloads\\W1_Pokemon.csv\")\n",
        "a = df[df['Legendary'] == True]\n",
        "type_counts = a['Type 1'].value_counts() + a['Type 2'].value_counts()\n",
        "most_common_type = type_counts.idxmax()\n",
        "most_common_count = type_counts.max()\n",
        "print(most_common_count)\n"
      ]
    },
    {
      "cell_type": "code",
      "execution_count": null,
      "metadata": {},
      "outputs": [],
      "source": []
    },
    {
      "cell_type": "markdown",
      "metadata": {
        "id": "TyyKAFLGdHtx"
      },
      "source": [
        " How many generation-3, non-legendary pokemons have higher HP than the weakest generation-6, legendary pokemon?"
      ]
    },
    {
      "cell_type": "code",
      "execution_count": null,
      "metadata": {
        "id": "wvcifD48dYsC"
      },
      "outputs": [
        {
          "name": "stdout",
          "output_type": "stream",
          "text": [
            "95\n"
          ]
        }
      ],
      "source": [
        "#your code here\n",
        "import pandas as pd \n",
        "df=pd.read_csv(r\"C:\\Users\\munni\\Downloads\\W1_Pokemon.csv\")\n",
        "a = df[(df['Generation'] == 6) & (df['Legendary'] == True)]\n",
        "b = a['HP'].min()\n",
        "c = df[(df['Generation'] == 3) & (df['Legendary'] == False)]\n",
        "stronger_hp_count = c[c['HP'] > b].shape[0]\n",
        "print(stronger_hp_count)\n"
      ]
    },
    {
      "cell_type": "markdown",
      "metadata": {
        "id": "p1uR1Aeld73z"
      },
      "source": [
        " Print out the third slowest pokemon(s) in the dataset."
      ]
    },
    {
      "cell_type": "code",
      "execution_count": null,
      "metadata": {
        "id": "M5pMhQOldiFC"
      },
      "outputs": [
        {
          "name": "stdout",
          "output_type": "stream",
          "text": [
            "#                   597\n",
            "Name          Ferroseed\n",
            "Type 1            Grass\n",
            "Type 2            Steel\n",
            "Total               305\n",
            "HP                   44\n",
            "Attack               50\n",
            "Defense              91\n",
            "Sp. Atk              24\n",
            "Sp. Def              86\n",
            "Speed                10\n",
            "Generation            5\n",
            "Legendary         False\n",
            "Name: 658, dtype: object\n"
          ]
        }
      ],
      "source": [
        "#your code here\n",
        "sorted_df = df.sort_values(by='Speed')\n",
        "third_slowest = sorted_df.iloc[2]\n",
        "print(third_slowest)\n",
        "\n"
      ]
    },
    {
      "cell_type": "markdown",
      "metadata": {
        "id": "XlouMVO2eOhy"
      },
      "source": [
        " Which pokemon type has the highest average HP?"
      ]
    },
    {
      "cell_type": "code",
      "execution_count": null,
      "metadata": {
        "id": "ju2a0YAWeiCq"
      },
      "outputs": [
        {
          "name": "stdout",
          "output_type": "stream",
          "text": [
            "Type 1     Dragon\n",
            "HP        83.3125\n",
            "Name: 2, dtype: object\n"
          ]
        }
      ],
      "source": [
        "#your code here\n",
        "a = df.groupby(['Type 1'])['HP'].mean().reset_index()\n",
        "b = a.loc[a['HP'].idxmax()]\n",
        "print(b)\n",
        "\n",
        "\n"
      ]
    }
  ],
  "metadata": {
    "colab": {
      "provenance": []
    },
    "kernelspec": {
      "display_name": "Python 3",
      "language": "python",
      "name": "python3"
    },
    "language_info": {
      "codemirror_mode": {
        "name": "ipython",
        "version": 3
      },
      "file_extension": ".py",
      "mimetype": "text/x-python",
      "name": "python",
      "nbconvert_exporter": "python",
      "pygments_lexer": "ipython3",
      "version": "3.12.3"
    }
  },
  "nbformat": 4,
  "nbformat_minor": 0
}
